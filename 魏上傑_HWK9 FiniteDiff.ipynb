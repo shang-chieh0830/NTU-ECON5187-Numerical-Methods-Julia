{
 "cells": [
  {
   "cell_type": "markdown",
   "id": "66794400",
   "metadata": {},
   "source": [
    "# Homework\n",
    "\n",
    "Consider the following function:\n",
    "\n",
    "\\begin{align}\n",
    " f(x) = \\log(x)\\times \\exp\\left[-\\frac{1}{2}\\left(\\frac{x-\\mu}{\\sigma}\\right)^2 \\right].\n",
    "\\end{align}\n",
    "\n",
    "Let's assume $\\mu=1.5$ and $\\sigma=2$. "
   ]
  },
  {
   "cell_type": "markdown",
   "id": "21e873fb",
   "metadata": {},
   "source": [
    "### Write a numerical finite differentiation program using the forward difference formula. \n",
    "#### Calculate the derivative of $f(x)$ at $x=1.2$ using various values of $h$, including Nash's formula. Which one is the best?\n"
   ]
  },
  {
   "cell_type": "code",
   "execution_count": 1,
   "id": "3c35e4db",
   "metadata": {},
   "outputs": [
    {
     "data": {
      "text/latex": [
       "$$ \\begin{equation}\n",
       "\\frac{e^{ - 0.125 \\left( -1.5 + x \\right)^{2}}}{x} - 0.25 \\left( -1.5 + x \\right) \\log\\left( x \\right) e^{ - 0.125 \\left( -1.5 + x \\right)^{2}}\n",
       "\\end{equation}\n",
       " $$"
      ],
      "text/plain": [
       "exp(-0.125((x - 1.5)^2)) / x - 0.25(x - 1.5)*log(x)*exp(-0.125((x - 1.5)^2))"
      ]
     },
     "metadata": {},
     "output_type": "display_data"
    }
   ],
   "source": [
    "using Symbolics\n",
    "\n",
    "@variables x\n",
    "\n",
    "μ=1.5\n",
    "σ=2\n",
    "\n",
    "f(x) =log(x)*exp(-0.5*((x-μ)/σ)^2)\n",
    "\n",
    "Symbolics.derivative(f(x),x) |> display"
   ]
  },
  {
   "cell_type": "code",
   "execution_count": 4,
   "id": "5c50e5d5",
   "metadata": {},
   "outputs": [
    {
     "data": {
      "text/plain": [
       "13×3 Matrix{Float64}:\n",
       " 0.0001000000000000  0.8375016596362528  -0.0000303558984849\n",
       " 0.0000100000000000  0.8375289798911999  -0.0000030356435378\n",
       " 0.0000010000000000  0.8375317118725079  -0.0000003036622298\n",
       " 0.0000001000000000  0.8375319854314611  -0.0000000301032765\n",
       " 0.0000000178813937  0.8375320107051233  -0.0000000048296144\n",
       " 0.0000000149011612  0.8375320099294186  -0.0000000056053191\n",
       " 0.0000000100000000  0.8375320076359216  -0.0000000078988160\n",
       " 0.0000000010000000  0.8375320714737455   0.0000000559390079\n",
       " 0.0000000001000000  0.8375319882070187  -0.0000000273277190\n",
       " 0.0000000000100000  0.8375300453167256  -0.0000019702180121\n",
       " 0.0000000000010000  0.8376077609284494   0.0000757453937117\n",
       " 0.0000000000001000  0.8365530490550555  -0.0009789664796822\n",
       " 0.0000000000000100  0.8354428260304303  -0.0020891895043074"
      ]
     },
     "execution_count": 4,
     "metadata": {},
     "output_type": "execute_result"
    }
   ],
   "source": [
    "using Printf \n",
    "Base.show(io::IO, f::Float64) = @printf(io, \"%.16f\", f) \n",
    "\n",
    "μ=1.5\n",
    "σ=2\n",
    "x0 = 1.2\n",
    "\n",
    "f(x) =log(x)*exp(-0.5*((x-μ)/σ)^2)\n",
    "f_d1_true(x) =(1/x)*exp(-0.5*((x-μ)/σ)^2)+log(x)*exp(-0.5*((x-μ)/σ)^2)*(-(x-μ)/σ)*(1/σ)\n",
    "f_d1_forward(x, h) = (f.(x .+h) .- f.(x)) ./h\n",
    "f_d1_forward_error(x, h) = f_d1_forward(x,h) .- f_d1_true(x)\n",
    "\n",
    "\n",
    "ϵ = sqrt(eps(one(eltype(1.0))))  # square-root of machine precision\n",
    "\n",
    "h(x0)=ϵ*(abs(x0)+ϵ) # Nash formula\n",
    "\n",
    "h_list = [1e-4, 1e-5, 1e-6, 1e-7, h(x0), ϵ, 1e-8, 1e-9, 1e-10, 1e-11, 1e-12, 1e-13, 1e-14]\n",
    "\n",
    "function test1(x, grid)\n",
    "    res = zeros(length(grid),3)\n",
    "    res[:,1] = grid\n",
    "    res[:,2] = f_d1_forward(x, grid)\n",
    "    res[:,3] = f_d1_forward_error(x, grid)   \n",
    "    return res   \n",
    "end   \n",
    "\n",
    "test1(x0, h_list) \n",
    "\n",
    "\n"
   ]
  },
  {
   "cell_type": "markdown",
   "id": "13ef14de",
   "metadata": {},
   "source": [
    "From above, we can see that Nash's formula is the best."
   ]
  },
  {
   "cell_type": "markdown",
   "id": "2280680c",
   "metadata": {},
   "source": [
    "### Write a numerical finite differentiation program using the central difference formula. \n",
    "#### Calculate the derivative of $f(x)$ at $x=1.2$ using various values of $h$, including Nash's formula. Which one is the best?"
   ]
  },
  {
   "cell_type": "code",
   "execution_count": 3,
   "id": "14335518",
   "metadata": {},
   "outputs": [
    {
     "data": {
      "text/plain": [
       "13×3 Matrix{Float64}:\n",
       " 0.0001000000000000  0.8375320156933652   0.0000000001586276\n",
       " 0.0000100000000000  0.8375320155434850   0.0000000000087473\n",
       " 0.0000010000000000  0.8375320156572830   0.0000000001225453\n",
       " 0.0000001000000000  0.8375320142972598  -0.0000000012374779\n",
       " 0.0000000178813937  0.8375320153617360  -0.0000000001730016\n",
       " 0.0000000149011612  0.8375320155173540  -0.0000000000173837\n",
       " 0.0000000100000000  0.8375320104114792  -0.0000000051232585\n",
       " 0.0000000010000000  0.8375320714737455   0.0000000559390079\n",
       " 0.0000000001000000  0.8375322657627748   0.0000002502280372\n",
       " 0.0000000000100000  0.8375328208742872   0.0000008053395495\n",
       " 0.0000000000010000  0.8375800053528337   0.0000479898180961\n",
       " 0.0000000000001000  0.8368306048112117  -0.0007014107235259\n",
       " 0.0000000000000100  0.8520961713998076   0.0145641558650700"
      ]
     },
     "execution_count": 3,
     "metadata": {},
     "output_type": "execute_result"
    }
   ],
   "source": [
    "using Printf \n",
    "Base.show(io::IO, f::Float64) = @printf(io, \"%.16f\", f) \n",
    "\n",
    "μ=1.5\n",
    "σ=2\n",
    "x0 = 1.2\n",
    "\n",
    "f(x) =log(x)*exp(-0.5*((x-μ)/σ)^2)\n",
    "f_d1_true(x) =(1/x)*exp(-0.5*((x-μ)/σ)^2)+log(x)*exp(-0.5*((x-μ)/σ)^2)*(-(x-μ)/σ)*(1/σ)\n",
    "f_d1_central(x, h) = (f.(x .+ h./2) .- f.(x.- h./2)) ./h\n",
    "f_d1_central_error(x, h) = f_d1_central(x,h) .- f_d1_true(x)\n",
    "\n",
    "\n",
    "ϵ = sqrt(eps(one(eltype(1.0))))  # square-root of machine precision\n",
    "\n",
    "h(x0)=ϵ*(abs(x0)+ϵ) # Nash formula\n",
    "\n",
    "h_list = [1e-4, 1e-5, 1e-6, 1e-7, h(x0), ϵ, 1e-8, 1e-9, 1e-10, 1e-11, 1e-12, 1e-13, 1e-14]\n",
    "\n",
    "function test2(x, grid)\n",
    "    res = zeros(length(grid),3)\n",
    "    res[:,1] = grid\n",
    "    res[:,2] = f_d1_central(x, grid)\n",
    "    res[:,3] = f_d1_central_error(x, grid)   \n",
    "    return res   \n",
    "end   \n",
    "\n",
    "test2(x0, h_list) "
   ]
  },
  {
   "cell_type": "markdown",
   "id": "6f4db8cd",
   "metadata": {},
   "source": [
    "From above, we can see h=1e-5 gives the best result."
   ]
  },
  {
   "cell_type": "markdown",
   "id": "36970d21",
   "metadata": {},
   "source": [
    "### Use Julia's package `FiniteDifferences` to compute the derivative of $f(x)$ at $x=1.2$. "
   ]
  },
  {
   "cell_type": "code",
   "execution_count": 5,
   "id": "1d5454b3",
   "metadata": {},
   "outputs": [
    {
     "name": "stdout",
     "output_type": "stream",
     "text": [
      "julia_finite_error = -0.0000000000000497\n",
      "julia_AD_error = 0.0000000000000000\n",
      "ForwardDiff.derivative(f, x0) = 0.8375320155347377\n",
      "(central_fdm(5, 1))(f, x0) = 0.8375320155346879\n"
     ]
    },
    {
     "data": {
      "text/plain": [
       "0.8375320155346879"
      ]
     },
     "execution_count": 5,
     "metadata": {},
     "output_type": "execute_result"
    }
   ],
   "source": [
    "using FiniteDifferences, ForwardDiff\n",
    "\n",
    "julia_finite_error = central_fdm(5, 1)(f, x0) - f_d1_true(x0)  # numerical derivatives\n",
    "@show julia_finite_error\n",
    "\n",
    "julia_AD_error = ForwardDiff.derivative(f, x0) - f_d1_true(x0)  # automatic differentiation gives exact answer\n",
    "@show julia_AD_error\n",
    "\n",
    "@show ForwardDiff.derivative(f, x0)\n",
    "@show central_fdm(5, 1)(f, x0)"
   ]
  }
 ],
 "metadata": {
  "@webio": {
   "lastCommId": null,
   "lastKernelId": null
  },
  "kernelspec": {
   "display_name": "Julia 1.7.2",
   "language": "julia",
   "name": "julia-1.7"
  },
  "language_info": {
   "file_extension": ".jl",
   "mimetype": "application/julia",
   "name": "julia",
   "version": "1.7.2"
  },
  "toc": {
   "base_numbering": 1,
   "nav_menu": {},
   "number_sections": true,
   "sideBar": true,
   "skip_h1_title": false,
   "title_cell": "Table of Contents",
   "title_sidebar": "Contents",
   "toc_cell": false,
   "toc_position": {},
   "toc_section_display": true,
   "toc_window_display": false
  }
 },
 "nbformat": 4,
 "nbformat_minor": 5
}
