{
 "cells": [
  {
   "cell_type": "markdown",
   "id": "ec46693a",
   "metadata": {},
   "source": [
    "### column major\n",
    "reference:\n",
    " - https://docs.julialang.org/en/v1/manual/performance-tips/ \n",
    " - http://notepad.yehyeh.net/Content/DS/CH03/3.php\n",
    " - https://www.youtube.com/watch?v=2KsvAa5zJt8&list=PLvOO0btloRnvVQXtKOi33mdJS9-5khJM3&index=5"
   ]
  },
  {
   "cell_type": "code",
   "execution_count": 4,
   "id": "27761bb1",
   "metadata": {},
   "outputs": [
    {
     "data": {
      "text/plain": [
       "3×3 Matrix{Int64}:\n",
       " 211424784  283033680    1\n",
       " 211424272  182386696   -1\n",
       " 182386696  182386696  257"
      ]
     },
     "execution_count": 4,
     "metadata": {},
     "output_type": "execute_result"
    }
   ],
   "source": [
    "x = [1, 2, 3]\n",
    "inds = axes(x, 1)\n",
    "out = similar(Array{Int64}, inds, inds)\n",
    "#out[:,1]=x"
   ]
  },
  {
   "cell_type": "code",
   "execution_count": 2,
   "id": "888480c5",
   "metadata": {},
   "outputs": [
    {
     "data": {
      "text/plain": [
       "3×3 Matrix{Int64}:\n",
       "          1           2         3\n",
       " 1955589008  1955601696        -1\n",
       " 1955589392   182386696  16777473"
      ]
     },
     "execution_count": 2,
     "metadata": {},
     "output_type": "execute_result"
    }
   ],
   "source": [
    "# copy_rows(跳著填)\n",
    "out[1,:]=x\n",
    "out"
   ]
  },
  {
   "cell_type": "code",
   "execution_count": 5,
   "id": "1bed8f6f",
   "metadata": {},
   "outputs": [
    {
     "data": {
      "text/plain": [
       "3×3 Matrix{Int64}:\n",
       " 1  283033680    1\n",
       " 2  182386696   -1\n",
       " 3  182386696  257"
      ]
     },
     "execution_count": 5,
     "metadata": {},
     "output_type": "execute_result"
    }
   ],
   "source": [
    "# copy_cols(順著填)\n",
    "out[:,1]=x\n",
    "out"
   ]
  },
  {
   "cell_type": "markdown",
   "id": "67c8c589",
   "metadata": {},
   "source": [
    "### document sample"
   ]
  },
  {
   "cell_type": "code",
   "execution_count": 7,
   "id": "21f9b890",
   "metadata": {},
   "outputs": [
    {
     "data": {
      "text/plain": [
       "copy_row_col (generic function with 1 method)"
      ]
     },
     "execution_count": 7,
     "metadata": {},
     "output_type": "execute_result"
    }
   ],
   "source": [
    "function copy_cols(x::Vector{T}) where T\n",
    "    inds = axes(x, 1)\n",
    "    out = similar(Array{T}, inds, inds)\n",
    "    for i = inds\n",
    "        out[:, i] = x\n",
    "    end\n",
    "    return out\n",
    "end\n",
    "\n",
    "function copy_rows(x::Vector{T}) where T\n",
    "    inds = axes(x, 1)\n",
    "    out = similar(Array{T}, inds, inds)\n",
    "    for i = inds\n",
    "        out[i, :] = x\n",
    "    end\n",
    "    return out\n",
    "end\n",
    "\n",
    "function copy_col_row(x::Vector{T}) where T\n",
    "    inds = axes(x, 1)\n",
    "    out = similar(Array{T}, inds, inds)\n",
    "    for col = inds, row = inds\n",
    "        out[row, col] = x[row]\n",
    "    end\n",
    "    return out\n",
    "end\n",
    "\n",
    "function copy_row_col(x::Vector{T}) where T\n",
    "    inds = axes(x, 1)\n",
    "    out = similar(Array{T}, inds, inds)\n",
    "    for row = inds, col = inds\n",
    "        out[row, col] = x[col]\n",
    "    end\n",
    "    return out\n",
    "end"
   ]
  },
  {
   "cell_type": "code",
   "execution_count": 8,
   "id": "34b5c42e",
   "metadata": {},
   "outputs": [
    {
     "name": "stdout",
     "output_type": "stream",
     "text": [
      "copy_cols: 0.5352118\n",
      "copy_rows: 3.4392248\n",
      "copy_col_row: 0.6265804\n",
      "copy_row_col: 3.3198177\n"
     ]
    }
   ],
   "source": [
    "x = randn(10000);\n",
    "fmt(f) = println(rpad(string(f)*\": \", 10, ' '), @elapsed f(x))\n",
    "map(fmt, [copy_cols, copy_rows, copy_col_row, copy_row_col]);"
   ]
  },
  {
   "cell_type": "markdown",
   "id": "5221c216",
   "metadata": {},
   "source": [
    "### homework 1.1 "
   ]
  },
  {
   "cell_type": "code",
   "execution_count": 2,
   "id": "01c825c6",
   "metadata": {},
   "outputs": [
    {
     "data": {
      "text/plain": [
       "test2 (generic function with 1 method)"
      ]
     },
     "execution_count": 2,
     "metadata": {},
     "output_type": "execute_result"
    }
   ],
   "source": [
    "A = [1 1; 1 -1]\n",
    "B = A^7 - 3*A\n",
    "# println(B)\n",
    "\n",
    "# row_col\n",
    "function test1()\n",
    "    Ans = 0\n",
    "    for i ∈ axes(B,1), j ∈ axes(B,2)\n",
    "        Ans = Ans + B[i,j]\n",
    "    end\n",
    "    println(Ans)\n",
    "end\n",
    "\n",
    "# col_row\n",
    "function test2()\n",
    "    Ans = 0\n",
    "    for j ∈ axes(B,2), i ∈ axes(B,1)\n",
    "        Ans = Ans + B[i,j]\n",
    "    end\n",
    "    println(Ans)\n",
    "end"
   ]
  },
  {
   "cell_type": "code",
   "execution_count": 15,
   "id": "eaef08d5",
   "metadata": {},
   "outputs": [
    {
     "name": "stdout",
     "output_type": "stream",
     "text": [
      "10\n",
      "10\n",
      "(t1, t2) = (0.0004593, 0.0004267)\n"
     ]
    },
    {
     "data": {
      "text/plain": [
       "(0.0004593, 0.0004267)"
      ]
     },
     "execution_count": 15,
     "metadata": {},
     "output_type": "execute_result"
    }
   ],
   "source": [
    "t1 = @elapsed test1()\n",
    "t2 = @elapsed test2()\n",
    "\n",
    "@show (t1, t2)\n",
    "\n",
    "# 計時可用 BenchmarkTools 套件，結果會更穩定"
   ]
  }
 ],
 "metadata": {
  "kernelspec": {
   "display_name": "Julia 1.7.2",
   "language": "julia",
   "name": "julia-1.7"
  },
  "language_info": {
   "file_extension": ".jl",
   "mimetype": "application/julia",
   "name": "julia",
   "version": "1.7.2"
  }
 },
 "nbformat": 4,
 "nbformat_minor": 5
}
