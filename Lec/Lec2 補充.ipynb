{
 "cells": [
  {
   "cell_type": "markdown",
   "id": "4a425b6f",
   "metadata": {},
   "source": [
    "# vector_matrix_array"
   ]
  },
  {
   "cell_type": "markdown",
   "id": "09a790b6",
   "metadata": {},
   "source": [
    "- An arrays in Julia is a collection of elts.\n",
    "- 1Darray: vector (1 index for size)\n",
    "- 2Darray: matrix (2 indicies for size)\n",
    "- n-D array: this is possible too"
   ]
  },
  {
   "cell_type": "code",
   "execution_count": 2,
   "id": "e3d8f0ad",
   "metadata": {},
   "outputs": [
    {
     "data": {
      "text/plain": [
       "(3,)"
      ]
     },
     "execution_count": 2,
     "metadata": {},
     "output_type": "execute_result"
    }
   ],
   "source": [
    "a1=[1,2,3] # a vector\n",
    "size(a1)"
   ]
  },
  {
   "cell_type": "code",
   "execution_count": 5,
   "id": "ea5dd6b5",
   "metadata": {},
   "outputs": [
    {
     "data": {
      "text/plain": [
       "(3,)"
      ]
     },
     "execution_count": 5,
     "metadata": {},
     "output_type": "execute_result"
    }
   ],
   "source": [
    "a2=[1;2;3] # the same vector\n",
    "size(a2)"
   ]
  },
  {
   "cell_type": "code",
   "execution_count": 6,
   "id": "34a2ab5a",
   "metadata": {},
   "outputs": [
    {
     "data": {
      "text/plain": [
       "true"
      ]
     },
     "execution_count": 6,
     "metadata": {},
     "output_type": "execute_result"
    }
   ],
   "source": [
    "a1==a2"
   ]
  },
  {
   "cell_type": "code",
   "execution_count": 7,
   "id": "55e42596",
   "metadata": {},
   "outputs": [
    {
     "data": {
      "text/plain": [
       "(3, 1)"
      ]
     },
     "execution_count": 7,
     "metadata": {},
     "output_type": "execute_result"
    }
   ],
   "source": [
    "a3=reshape(a1, length(a1), 1) #convert vector to matrix\n",
    "#reshape(vector, row, col)\n",
    "\n",
    "size(a3)"
   ]
  },
  {
   "cell_type": "code",
   "execution_count": 8,
   "id": "2803fa57",
   "metadata": {},
   "outputs": [
    {
     "data": {
      "text/plain": [
       "false"
      ]
     },
     "execution_count": 8,
     "metadata": {},
     "output_type": "execute_result"
    }
   ],
   "source": [
    "a1==a3 #not equal, b/c one is vector, another is matrix"
   ]
  },
  {
   "cell_type": "code",
   "execution_count": 9,
   "id": "3703e69c",
   "metadata": {},
   "outputs": [
    {
     "ename": "LoadError",
     "evalue": "MethodError: no method matching size(::Tuple{Int64, Int64, Int64})\n\u001b[0mClosest candidates are:\n\u001b[0m  size(::Tuple, \u001b[91m::Integer\u001b[39m) at /Applications/Julia-1.7.app/Contents/Resources/julia/share/julia/base/tuple.jl:27\n\u001b[0m  size(\u001b[91m::Union{LinearAlgebra.Adjoint{T, var\"#s859\"}, LinearAlgebra.Transpose{T, var\"#s859\"}} where {T, var\"#s859\"<:(AbstractVector)}\u001b[39m) at /Applications/Julia-1.7.app/Contents/Resources/julia/share/julia/stdlib/v1.7/LinearAlgebra/src/adjtrans.jl:172\n\u001b[0m  size(\u001b[91m::Union{LinearAlgebra.Adjoint{T, var\"#s859\"}, LinearAlgebra.Transpose{T, var\"#s859\"}} where {T, var\"#s859\"<:(AbstractMatrix)}\u001b[39m) at /Applications/Julia-1.7.app/Contents/Resources/julia/share/julia/stdlib/v1.7/LinearAlgebra/src/adjtrans.jl:173\n\u001b[0m  ...",
     "output_type": "error",
     "traceback": [
      "MethodError: no method matching size(::Tuple{Int64, Int64, Int64})\n\u001b[0mClosest candidates are:\n\u001b[0m  size(::Tuple, \u001b[91m::Integer\u001b[39m) at /Applications/Julia-1.7.app/Contents/Resources/julia/share/julia/base/tuple.jl:27\n\u001b[0m  size(\u001b[91m::Union{LinearAlgebra.Adjoint{T, var\"#s859\"}, LinearAlgebra.Transpose{T, var\"#s859\"}} where {T, var\"#s859\"<:(AbstractVector)}\u001b[39m) at /Applications/Julia-1.7.app/Contents/Resources/julia/share/julia/stdlib/v1.7/LinearAlgebra/src/adjtrans.jl:172\n\u001b[0m  size(\u001b[91m::Union{LinearAlgebra.Adjoint{T, var\"#s859\"}, LinearAlgebra.Transpose{T, var\"#s859\"}} where {T, var\"#s859\"<:(AbstractMatrix)}\u001b[39m) at /Applications/Julia-1.7.app/Contents/Resources/julia/share/julia/stdlib/v1.7/LinearAlgebra/src/adjtrans.jl:173\n\u001b[0m  ...",
      "",
      "Stacktrace:",
      " [1] top-level scope",
      "   @ In[9]:2"
     ]
    }
   ],
   "source": [
    "b1=(1,2,3)\n",
    "size(b1) #doesn't work for tuple"
   ]
  },
  {
   "cell_type": "code",
   "execution_count": 10,
   "id": "39ca805c",
   "metadata": {},
   "outputs": [
    {
     "data": {
      "text/plain": [
       "(2, 2)"
      ]
     },
     "execution_count": 10,
     "metadata": {},
     "output_type": "execute_result"
    }
   ],
   "source": [
    "a4=[1 2 \n",
    "    3 4]  # 2x2 matrix\n",
    "\n",
    "size(a4)"
   ]
  },
  {
   "cell_type": "code",
   "execution_count": 13,
   "id": "4c8271fd",
   "metadata": {},
   "outputs": [
    {
     "data": {
      "text/plain": [
       "(2, 2)"
      ]
     },
     "execution_count": 13,
     "metadata": {},
     "output_type": "execute_result"
    }
   ],
   "source": [
    "a4′=[1 2 ; 3 4]\n",
    "size(a4′)   # \\prime + TAB"
   ]
  },
  {
   "cell_type": "code",
   "execution_count": 14,
   "id": "1f7332e9",
   "metadata": {},
   "outputs": [
    {
     "data": {
      "text/plain": [
       "true"
      ]
     },
     "execution_count": 14,
     "metadata": {},
     "output_type": "execute_result"
    }
   ],
   "source": [
    "a4==a4′"
   ]
  },
  {
   "cell_type": "markdown",
   "id": "030c7ee8",
   "metadata": {},
   "source": [
    "# basic operations for arrays"
   ]
  },
  {
   "cell_type": "code",
   "execution_count": 17,
   "id": "639fef66",
   "metadata": {},
   "outputs": [
    {
     "ename": "LoadError",
     "evalue": "MethodError: no method matching +(::Int64, ::Vector{Int64})\nFor element-wise addition, use broadcasting with dot syntax: scalar .+ array\n\u001b[0mClosest candidates are:\n\u001b[0m  +(::Any, ::Any, \u001b[91m::Any\u001b[39m, \u001b[91m::Any...\u001b[39m) at /Applications/Julia-1.7.app/Contents/Resources/julia/share/julia/base/operators.jl:655\n\u001b[0m  +(::T, \u001b[91m::T\u001b[39m) where T<:Union{Int128, Int16, Int32, Int64, Int8, UInt128, UInt16, UInt32, UInt64, UInt8} at /Applications/Julia-1.7.app/Contents/Resources/julia/share/julia/base/int.jl:87\n\u001b[0m  +(::Union{Int16, Int32, Int64, Int8}, \u001b[91m::BigInt\u001b[39m) at /Applications/Julia-1.7.app/Contents/Resources/julia/share/julia/base/gmp.jl:535\n\u001b[0m  ...",
     "output_type": "error",
     "traceback": [
      "MethodError: no method matching +(::Int64, ::Vector{Int64})\nFor element-wise addition, use broadcasting with dot syntax: scalar .+ array\n\u001b[0mClosest candidates are:\n\u001b[0m  +(::Any, ::Any, \u001b[91m::Any\u001b[39m, \u001b[91m::Any...\u001b[39m) at /Applications/Julia-1.7.app/Contents/Resources/julia/share/julia/base/operators.jl:655\n\u001b[0m  +(::T, \u001b[91m::T\u001b[39m) where T<:Union{Int128, Int16, Int32, Int64, Int8, UInt128, UInt16, UInt32, UInt64, UInt8} at /Applications/Julia-1.7.app/Contents/Resources/julia/share/julia/base/int.jl:87\n\u001b[0m  +(::Union{Int16, Int32, Int64, Int8}, \u001b[91m::BigInt\u001b[39m) at /Applications/Julia-1.7.app/Contents/Resources/julia/share/julia/base/gmp.jl:535\n\u001b[0m  ...",
      "",
      "Stacktrace:",
      " [1] top-level scope",
      "   @ In[17]:1"
     ]
    }
   ],
   "source": [
    "1+a1 #doen't work"
   ]
  },
  {
   "cell_type": "code",
   "execution_count": 18,
   "id": "5394acc8",
   "metadata": {},
   "outputs": [
    {
     "data": {
      "text/plain": [
       "3-element Vector{Int64}:\n",
       " 2\n",
       " 3\n",
       " 4"
      ]
     },
     "execution_count": 18,
     "metadata": {},
     "output_type": "execute_result"
    }
   ],
   "source": [
    "1 .+a1  # work, elt by elt"
   ]
  },
  {
   "cell_type": "code",
   "execution_count": 19,
   "id": "20135c04",
   "metadata": {},
   "outputs": [
    {
     "ename": "LoadError",
     "evalue": "syntax: invalid syntax \"1.+\"; add space(s) to clarify",
     "output_type": "error",
     "traceback": [
      "syntax: invalid syntax \"1.+\"; add space(s) to clarify",
      "",
      "Stacktrace:",
      " [1] top-level scope",
      "   @ In[19]:1"
     ]
    }
   ],
   "source": [
    "1.+ a1 # doesn't work"
   ]
  },
  {
   "cell_type": "code",
   "execution_count": 20,
   "id": "55ef7a5d",
   "metadata": {},
   "outputs": [
    {
     "data": {
      "text/plain": [
       "3-element Vector{Int64}:\n",
       " 2\n",
       " 4\n",
       " 6"
      ]
     },
     "execution_count": 20,
     "metadata": {},
     "output_type": "execute_result"
    }
   ],
   "source": [
    "a1 + a2  # work, b/c dim match"
   ]
  },
  {
   "cell_type": "code",
   "execution_count": 21,
   "id": "2f2b8f09",
   "metadata": {},
   "outputs": [
    {
     "data": {
      "text/plain": [
       "3-element Vector{Int64}:\n",
       " 2\n",
       " 4\n",
       " 6"
      ]
     },
     "execution_count": 21,
     "metadata": {},
     "output_type": "execute_result"
    }
   ],
   "source": [
    "a1 .+ a2"
   ]
  },
  {
   "cell_type": "markdown",
   "id": "3011628c",
   "metadata": {},
   "source": [
    "# about random numbers"
   ]
  },
  {
   "cell_type": "code",
   "execution_count": 22,
   "id": "f7bb34ba",
   "metadata": {},
   "outputs": [
    {
     "data": {
      "text/plain": [
       "3-element Vector{Float64}:\n",
       " 0.17852189751082337\n",
       " 0.4283667578011102\n",
       " 0.03672088438190346"
      ]
     },
     "execution_count": 22,
     "metadata": {},
     "output_type": "execute_result"
    }
   ],
   "source": [
    "c1=rand(3) # a vector of 3 random numbers"
   ]
  },
  {
   "cell_type": "code",
   "execution_count": 23,
   "id": "d275ddd7",
   "metadata": {},
   "outputs": [
    {
     "data": {
      "text/plain": [
       "3×1 Matrix{Float64}:\n",
       " 0.5897732139932872\n",
       " 0.5440733114525008\n",
       " 0.5107275645795162"
      ]
     },
     "execution_count": 23,
     "metadata": {},
     "output_type": "execute_result"
    }
   ],
   "source": [
    "c2=rand(3,1) # a 3x1 matrix"
   ]
  },
  {
   "cell_type": "code",
   "execution_count": 26,
   "id": "dbb6d9a6",
   "metadata": {},
   "outputs": [
    {
     "name": "stdout",
     "output_type": "stream",
     "text": [
      "c3 = [0.32018269515620323, 0.938582363311554, 0.5501748910470424]\n",
      "c4 = [0.32018269515620323; 0.938582363311554; 0.5501748910470424;;]\n"
     ]
    },
    {
     "data": {
      "text/plain": [
       "3×1 Matrix{Float64}:\n",
       " 0.32018269515620323\n",
       " 0.938582363311554\n",
       " 0.5501748910470424"
      ]
     },
     "execution_count": 26,
     "metadata": {},
     "output_type": "execute_result"
    }
   ],
   "source": [
    "using Random\n",
    "c3= rand(Xoshiro(12), 3) #vector\n",
    "c4= rand(Xoshiro(12), 3,1) # martix\n",
    "\n",
    "@show c3   \n",
    "@show c4"
   ]
  },
  {
   "cell_type": "code",
   "execution_count": 25,
   "id": "c61a862f",
   "metadata": {},
   "outputs": [
    {
     "data": {
      "text/plain": [
       "false"
      ]
     },
     "execution_count": 25,
     "metadata": {},
     "output_type": "execute_result"
    }
   ],
   "source": [
    "c3==c4 #c3 c4 look the same; but different data type"
   ]
  },
  {
   "cell_type": "markdown",
   "id": "ba388c68",
   "metadata": {},
   "source": [
    "- Many Julia fcns are type-dependent\n",
    "- Some fcns accpet vectors, some accept matrix\n",
    "- Incorrect types may result in errors"
   ]
  },
  {
   "cell_type": "markdown",
   "id": "bd62aa2f",
   "metadata": {},
   "source": [
    "# About Function"
   ]
  },
  {
   "cell_type": "code",
   "execution_count": 28,
   "id": "7b9095ea",
   "metadata": {},
   "outputs": [],
   "source": [
    "using Random"
   ]
  },
  {
   "cell_type": "code",
   "execution_count": 29,
   "id": "63be22e9",
   "metadata": {},
   "outputs": [
    {
     "data": {
      "text/plain": [
       "\"I love the class!\""
      ]
     },
     "metadata": {},
     "output_type": "display_data"
    }
   ],
   "source": [
    "function test1()\n",
    "    display(\"I love the class!\")\n",
    "end\n",
    "\n",
    "test1()"
   ]
  },
  {
   "cell_type": "markdown",
   "id": "95de2a43",
   "metadata": {},
   "source": [
    "## function with return"
   ]
  },
  {
   "cell_type": "code",
   "execution_count": 33,
   "id": "d430acfc",
   "metadata": {},
   "outputs": [
    {
     "data": {
      "text/plain": [
       "3-element Vector{Float64}:\n",
       " 0.43099004788742246\n",
       " 0.7915918214761433\n",
       " 0.8189843197384166"
      ]
     },
     "execution_count": 33,
     "metadata": {},
     "output_type": "execute_result"
    }
   ],
   "source": [
    "function test2()\n",
    "    vec1 = rand(3)  # U(0,1)\n",
    "    vec2 = vec1*2   # U(0,2)\n",
    "    vec3=vec2 .- 1  # U(-1,1)\n",
    "    return vec3\n",
    "end\n",
    "\n",
    "res = test2()"
   ]
  },
  {
   "cell_type": "markdown",
   "id": "93448341",
   "metadata": {},
   "source": [
    "## adding options"
   ]
  },
  {
   "cell_type": "code",
   "execution_count": 34,
   "id": "9c06f00c",
   "metadata": {},
   "outputs": [
    {
     "data": {
      "text/plain": [
       "1-element Vector{Float64}:\n",
       " -0.7241685779655845"
      ]
     },
     "execution_count": 34,
     "metadata": {},
     "output_type": "execute_result"
    }
   ],
   "source": [
    "function test3(N=1, a=1, b=1)\n",
    "    vec1 = rand(N)    # U(0,1)\n",
    "    vec2 = vec1*a     # U(0,2)\n",
    "    vec3 = vec2 .- b  # U(-1,1)\n",
    "    return vec3\n",
    "end\n",
    "\n",
    "\n",
    "res = test3(3,2,1)\n",
    "res = test3() # use default value"
   ]
  },
  {
   "cell_type": "markdown",
   "id": "90d00f2b",
   "metadata": {},
   "source": [
    "- See if the mean is expected"
   ]
  },
  {
   "cell_type": "code",
   "execution_count": 35,
   "id": "e0762d34",
   "metadata": {},
   "outputs": [
    {
     "name": "stdout",
     "output_type": "stream",
     "text": [
      "mean(res1) = 0.0007484560937989949\n"
     ]
    },
    {
     "data": {
      "text/plain": [
       "0.0007484560937989949"
      ]
     },
     "execution_count": 35,
     "metadata": {},
     "output_type": "execute_result"
    }
   ],
   "source": [
    "using Statistics\n",
    "res1 = test3(10000, 2, 1)\n",
    "@show mean(res1)"
   ]
  },
  {
   "cell_type": "markdown",
   "id": "6d7199b3",
   "metadata": {},
   "source": [
    "- making options more intuitive\n",
    "- `;`之前看位置 `;`之後看名稱"
   ]
  },
  {
   "cell_type": "code",
   "execution_count": 36,
   "id": "2cfadf82",
   "metadata": {},
   "outputs": [
    {
     "ename": "LoadError",
     "evalue": "MethodError: no method matching test3(::Int64, ::Int64; N=3)\n\u001b[0mClosest candidates are:\n\u001b[0m  test3(::Any, ::Any) at In[34]:1\u001b[91m got unsupported keyword argument \"N\"\u001b[39m\n\u001b[0m  test3(::Any, ::Any, \u001b[91m::Any\u001b[39m) at In[34]:1\u001b[91m got unsupported keyword argument \"N\"\u001b[39m\n\u001b[0m  test3(::Any) at In[34]:1\u001b[91m got unsupported keyword argument \"N\"\u001b[39m",
     "output_type": "error",
     "traceback": [
      "MethodError: no method matching test3(::Int64, ::Int64; N=3)\n\u001b[0mClosest candidates are:\n\u001b[0m  test3(::Any, ::Any) at In[34]:1\u001b[91m got unsupported keyword argument \"N\"\u001b[39m\n\u001b[0m  test3(::Any, ::Any, \u001b[91m::Any\u001b[39m) at In[34]:1\u001b[91m got unsupported keyword argument \"N\"\u001b[39m\n\u001b[0m  test3(::Any) at In[34]:1\u001b[91m got unsupported keyword argument \"N\"\u001b[39m",
      "",
      "Stacktrace:",
      " [1] top-level scope",
      "   @ In[36]:1"
     ]
    }
   ],
   "source": [
    "test3(N=3, 2, 1) # doesn't work"
   ]
  },
  {
   "cell_type": "code",
   "execution_count": 44,
   "id": "8b795f59",
   "metadata": {},
   "outputs": [
    {
     "data": {
      "text/plain": [
       "test4 (generic function with 1 method)"
      ]
     },
     "execution_count": 44,
     "metadata": {},
     "output_type": "execute_result"
    }
   ],
   "source": [
    "# `;`之前看位置 `;`之後看名稱\n",
    "\n",
    "\n",
    "function test4(; N=1, a=1, b=1) #named keyword\n",
    "    vec1 = rand(N)     # U(0,1)\n",
    "    vec2 = vec1*a      # U(0,2)\n",
    "    vec3 = vec2 .- b   # U(-1,1)\n",
    "    return vec3\n",
    "end"
   ]
  },
  {
   "cell_type": "code",
   "execution_count": 43,
   "id": "72870183",
   "metadata": {},
   "outputs": [
    {
     "data": {
      "text/plain": [
       "3-element Vector{Float64}:\n",
       "  0.1430217914557499\n",
       " -0.4566519747134752\n",
       " -0.8397657787785096"
      ]
     },
     "execution_count": 43,
     "metadata": {},
     "output_type": "execute_result"
    }
   ],
   "source": [
    "test4(N=3, a=2, b=1)\n",
    "\n",
    "test4(a=2,N=3, b=1)  #switch position is ok"
   ]
  },
  {
   "cell_type": "markdown",
   "id": "13d5da05",
   "metadata": {},
   "source": [
    "## a mix of styles"
   ]
  },
  {
   "cell_type": "code",
   "execution_count": 45,
   "id": "ed3d6133",
   "metadata": {},
   "outputs": [
    {
     "data": {
      "text/plain": [
       "test5 (generic function with 2 methods)"
      ]
     },
     "execution_count": 45,
     "metadata": {},
     "output_type": "execute_result"
    }
   ],
   "source": [
    "function test5(N=1; a=1, b=1) \n",
    "    vec1 = rand(N)     # U(0,1)\n",
    "    vec2 = vec1*a      # U(0,2)\n",
    "    vec3 = vec2 .- b   # U(-1,1)\n",
    "    return vec3\n",
    "end"
   ]
  },
  {
   "cell_type": "code",
   "execution_count": 46,
   "id": "694473eb",
   "metadata": {},
   "outputs": [
    {
     "data": {
      "text/plain": [
       "3-element Vector{Float64}:\n",
       " 2.649364623563736\n",
       " 1.8781792742071686\n",
       " 1.0423362364579771"
      ]
     },
     "execution_count": 46,
     "metadata": {},
     "output_type": "execute_result"
    }
   ],
   "source": [
    "test5(3,a=2, b=-1)"
   ]
  },
  {
   "cell_type": "code",
   "execution_count": 47,
   "id": "4588e564",
   "metadata": {},
   "outputs": [
    {
     "data": {
      "text/plain": [
       "3-element Vector{Float64}:\n",
       " -0.1250176587483216\n",
       "  0.3636202074785002\n",
       "  0.8231079581388612"
      ]
     },
     "execution_count": 47,
     "metadata": {},
     "output_type": "execute_result"
    }
   ],
   "source": [
    "test5(3,b=1, a=2)"
   ]
  },
  {
   "cell_type": "code",
   "execution_count": 49,
   "id": "6d735cc3",
   "metadata": {},
   "outputs": [
    {
     "ename": "LoadError",
     "evalue": "MethodError: no method matching test5(::Int64; N=3, a=2, b=-1)\n\u001b[0mClosest candidates are:\n\u001b[0m  test5(::Any; a, b) at In[45]:1\u001b[91m got unsupported keyword argument \"N\"\u001b[39m\n\u001b[0m  test5() at In[45]:1\u001b[91m got unsupported keyword arguments \"N\", \"a\", \"b\"\u001b[39m",
     "output_type": "error",
     "traceback": [
      "MethodError: no method matching test5(::Int64; N=3, a=2, b=-1)\n\u001b[0mClosest candidates are:\n\u001b[0m  test5(::Any; a, b) at In[45]:1\u001b[91m got unsupported keyword argument \"N\"\u001b[39m\n\u001b[0m  test5() at In[45]:1\u001b[91m got unsupported keyword arguments \"N\", \"a\", \"b\"\u001b[39m",
      "",
      "Stacktrace:",
      " [1] kwerr(::NamedTuple{(:N, :a, :b), Tuple{Int64, Int64, Int64}}, ::Function, ::Int64)",
      "   @ Base ./error.jl:163",
      " [2] top-level scope",
      "   @ In[49]:1"
     ]
    }
   ],
   "source": [
    "test5(N=3, a=2, b=-1) # doesn't work"
   ]
  },
  {
   "cell_type": "code",
   "execution_count": 50,
   "id": "206bfd22",
   "metadata": {},
   "outputs": [
    {
     "data": {
      "text/plain": [
       "5-element Vector{Float64}:\n",
       " -0.6124698621432823\n",
       " -0.96289332277869\n",
       " -0.436752951115019\n",
       "  0.9288318951954107\n",
       "  0.8378394545230923"
      ]
     },
     "execution_count": 50,
     "metadata": {},
     "output_type": "execute_result"
    }
   ],
   "source": [
    "test5(a=2, 5, b=1) # works too!"
   ]
  },
  {
   "cell_type": "markdown",
   "id": "2c331bf7",
   "metadata": {},
   "source": [
    "## add option types"
   ]
  },
  {
   "cell_type": "code",
   "execution_count": 51,
   "id": "0a659433",
   "metadata": {},
   "outputs": [
    {
     "data": {
      "text/plain": [
       "test4a (generic function with 1 method)"
      ]
     },
     "execution_count": 51,
     "metadata": {},
     "output_type": "execute_result"
    }
   ],
   "source": [
    "# 指定option type\n",
    "\n",
    "function test4a(; N:: Integer=1, a:: Float64=1, b=-1)\n",
    "    vec1 = rand(N)     # U(0,1)\n",
    "    vec2 = vec1*a      # U(0,2)\n",
    "    vec3 = vec2 .- b   # U(-1,1)\n",
    "    return vec3\n",
    "end"
   ]
  },
  {
   "cell_type": "code",
   "execution_count": 52,
   "id": "b6fcf54b",
   "metadata": {},
   "outputs": [
    {
     "ename": "LoadError",
     "evalue": "TypeError: in keyword argument N, expected Integer, got a value of type Float64",
     "output_type": "error",
     "traceback": [
      "TypeError: in keyword argument N, expected Integer, got a value of type Float64",
      "",
      "Stacktrace:",
      " [1] top-level scope",
      "   @ In[52]:1"
     ]
    }
   ],
   "source": [
    "test4a(N=3.0, a=2, b=-1) # doesn't work b/c N"
   ]
  },
  {
   "cell_type": "code",
   "execution_count": 55,
   "id": "d9e79d89",
   "metadata": {},
   "outputs": [
    {
     "ename": "LoadError",
     "evalue": "TypeError: in keyword argument a, expected Float64, got a value of type Int64",
     "output_type": "error",
     "traceback": [
      "TypeError: in keyword argument a, expected Float64, got a value of type Int64",
      "",
      "Stacktrace:",
      " [1] top-level scope",
      "   @ In[55]:1"
     ]
    }
   ],
   "source": [
    "test4a(N=3, a=2, b=1) #doesn't work b/c a"
   ]
  },
  {
   "cell_type": "code",
   "execution_count": 54,
   "id": "b00b478b",
   "metadata": {},
   "outputs": [
    {
     "data": {
      "text/plain": [
       "3-element Vector{Float64}:\n",
       " -0.339931726883407\n",
       " -0.5169648467286829\n",
       "  0.38570334225601877"
      ]
     },
     "execution_count": 54,
     "metadata": {},
     "output_type": "execute_result"
    }
   ],
   "source": [
    "test4a(N=3, a=2.0, b=1) # work"
   ]
  },
  {
   "cell_type": "code",
   "execution_count": 56,
   "id": "d7b2bdf1",
   "metadata": {},
   "outputs": [
    {
     "data": {
      "text/plain": [
       "3-element Vector{Float64}:\n",
       "  0.6341716568710016\n",
       " -1.8976496484886032\n",
       " -2.515046129125719"
      ]
     },
     "execution_count": 56,
     "metadata": {},
     "output_type": "execute_result"
    }
   ],
   "source": [
    "test4a(N=3, a=2.0, b=[1,2,3])  # work b/c dimension match"
   ]
  },
  {
   "cell_type": "code",
   "execution_count": 57,
   "id": "178a9163",
   "metadata": {},
   "outputs": [
    {
     "ename": "LoadError",
     "evalue": "DimensionMismatch(\"arrays could not be broadcast to a common size; got a dimension with lengths 3 and 2\")",
     "output_type": "error",
     "traceback": [
      "DimensionMismatch(\"arrays could not be broadcast to a common size; got a dimension with lengths 3 and 2\")",
      "",
      "Stacktrace:",
      " [1] _bcs1",
      "   @ ./broadcast.jl:516 [inlined]",
      " [2] _bcs",
      "   @ ./broadcast.jl:510 [inlined]",
      " [3] broadcast_shape",
      "   @ ./broadcast.jl:504 [inlined]",
      " [4] combine_axes",
      "   @ ./broadcast.jl:499 [inlined]",
      " [5] instantiate",
      "   @ ./broadcast.jl:281 [inlined]",
      " [6] materialize",
      "   @ ./broadcast.jl:860 [inlined]",
      " [7] test4a(; N::Int64, a::Float64, b::Vector{Int64})",
      "   @ Main ./In[51]:6",
      " [8] top-level scope",
      "   @ In[57]:1"
     ]
    }
   ],
   "source": [
    "test4a(N=3, a=2.0, b=[1,2]) #doesn't work"
   ]
  },
  {
   "cell_type": "markdown",
   "id": "7b57a4eb",
   "metadata": {},
   "source": [
    "## with multiple outputs"
   ]
  },
  {
   "cell_type": "code",
   "execution_count": 58,
   "id": "18f0b361",
   "metadata": {},
   "outputs": [
    {
     "data": {
      "text/plain": [
       "test6 (generic function with 1 method)"
      ]
     },
     "execution_count": 58,
     "metadata": {},
     "output_type": "execute_result"
    }
   ],
   "source": [
    "function test6(; N=1, a=1, b=1) #named keyword\n",
    "    vec1 = rand(N)     # U(0,1)\n",
    "    vec2 = vec1*a      # U(0,2)\n",
    "    vec3 = vec2 .- b   # U(-1,1)\n",
    "    return N, vec3\n",
    "end\n"
   ]
  },
  {
   "cell_type": "code",
   "execution_count": 59,
   "id": "cd5d2667",
   "metadata": {},
   "outputs": [
    {
     "name": "stdout",
     "output_type": "stream",
     "text": [
      "res = (3, [0.39975194028316086, -0.8878942764937812, -0.026749913195704078])\n",
      "res[1] = 3\n",
      "res[2] = [0.39975194028316086, -0.8878942764937812, -0.026749913195704078]\n"
     ]
    }
   ],
   "source": [
    "res= test6(N=3, a=2, b=1)\n",
    "@show res;\n",
    "@show res[1];\n",
    "@show res[2];\n"
   ]
  },
  {
   "cell_type": "code",
   "execution_count": 60,
   "id": "c34254a3",
   "metadata": {},
   "outputs": [
    {
     "name": "stdout",
     "output_type": "stream",
     "text": [
      "res1 = 2\n",
      "res2 = [1.7041417064442, 2.805123508389161]\n"
     ]
    },
    {
     "data": {
      "text/plain": [
       "2-element Vector{Float64}:\n",
       " 1.7041417064442\n",
       " 2.805123508389161"
      ]
     },
     "execution_count": 60,
     "metadata": {},
     "output_type": "execute_result"
    }
   ],
   "source": [
    "res1, res2= test6(N=2, a=2, b=-1)\n",
    "@show res1\n",
    "@show res2"
   ]
  },
  {
   "cell_type": "markdown",
   "id": "1144c029",
   "metadata": {},
   "source": [
    "## funciton with struct\n",
    "\n",
    "- 相當於python中的class"
   ]
  },
  {
   "cell_type": "code",
   "execution_count": 61,
   "id": "8aabdd44",
   "metadata": {},
   "outputs": [],
   "source": [
    "struct myData\n",
    "    x #field 1\n",
    "    y #field 2\n",
    "end"
   ]
  },
  {
   "cell_type": "code",
   "execution_count": 62,
   "id": "955a009d",
   "metadata": {},
   "outputs": [
    {
     "data": {
      "text/plain": [
       "test7 (generic function with 1 method)"
      ]
     },
     "execution_count": 62,
     "metadata": {},
     "output_type": "execute_result"
    }
   ],
   "source": [
    "function test7(; N=1, a=1, b=1) #named keyword\\\n",
    "    vec1 = rand(N)     # U(0,1)\n",
    "    vec2 = vec1*a      # U(0,2)\n",
    "    vec3 = vec2 .- b   # U(-1,1)\n",
    "    return myData(vec2, vec3)\n",
    "end\n",
    "\n"
   ]
  },
  {
   "cell_type": "code",
   "execution_count": 65,
   "id": "e2e36fc7",
   "metadata": {},
   "outputs": [
    {
     "name": "stdout",
     "output_type": "stream",
     "text": [
      "res = myData([1.7490244438539473, 1.7431758394211587, 0.8258361046262961], [2.7490244438539473, 2.7431758394211587, 1.825836104626296])\n",
      "res.x = [1.7490244438539473, 1.7431758394211587, 0.8258361046262961]\n",
      "res.y = [2.7490244438539473, 2.7431758394211587, 1.825836104626296]\n"
     ]
    }
   ],
   "source": [
    "res= test7(N=3, a=2, b=-1)\n",
    "\n",
    "\n",
    "@show res;\n",
    "@show res.x;\n",
    "@show res.y;"
   ]
  },
  {
   "cell_type": "markdown",
   "id": "8995d94c",
   "metadata": {},
   "source": [
    "## struct also has types"
   ]
  },
  {
   "cell_type": "code",
   "execution_count": 69,
   "id": "ebc22eb3",
   "metadata": {},
   "outputs": [],
   "source": [
    "struct myData4\n",
    "    x::Int\n",
    "    y::Vector\n",
    "end"
   ]
  },
  {
   "cell_type": "code",
   "execution_count": 70,
   "id": "26be6474",
   "metadata": {},
   "outputs": [
    {
     "data": {
      "text/plain": [
       "test8 (generic function with 1 method)"
      ]
     },
     "execution_count": 70,
     "metadata": {},
     "output_type": "execute_result"
    }
   ],
   "source": [
    "function test8(; N=1, a=1, b=1) #named keyword\n",
    "    vec1 = rand(N)     # U(0,1)\n",
    "    vec2 = vec1*a      # U(0,2)\n",
    "    vec3 = vec2 .- b   # U(-1,1)\n",
    "    return myData4(vec2, vec3)\n",
    "end"
   ]
  },
  {
   "cell_type": "code",
   "execution_count": 72,
   "id": "ee787134",
   "metadata": {},
   "outputs": [
    {
     "ename": "LoadError",
     "evalue": "MethodError: \u001b[0mCannot `convert` an object of type \u001b[92mVector{Float64}\u001b[39m\u001b[0m to an object of type \u001b[91mInt64\u001b[39m\n\u001b[0mClosest candidates are:\n\u001b[0m  convert(::Type{T}, \u001b[91m::Ptr\u001b[39m) where T<:Integer at /Applications/Julia-1.7.app/Contents/Resources/julia/share/julia/base/pointer.jl:23\n\u001b[0m  convert(::Type{T}, \u001b[91m::T\u001b[39m) where T<:Number at /Applications/Julia-1.7.app/Contents/Resources/julia/share/julia/base/number.jl:6\n\u001b[0m  convert(::Type{T}, \u001b[91m::Number\u001b[39m) where T<:Number at /Applications/Julia-1.7.app/Contents/Resources/julia/share/julia/base/number.jl:7\n\u001b[0m  ...",
     "output_type": "error",
     "traceback": [
      "MethodError: \u001b[0mCannot `convert` an object of type \u001b[92mVector{Float64}\u001b[39m\u001b[0m to an object of type \u001b[91mInt64\u001b[39m\n\u001b[0mClosest candidates are:\n\u001b[0m  convert(::Type{T}, \u001b[91m::Ptr\u001b[39m) where T<:Integer at /Applications/Julia-1.7.app/Contents/Resources/julia/share/julia/base/pointer.jl:23\n\u001b[0m  convert(::Type{T}, \u001b[91m::T\u001b[39m) where T<:Number at /Applications/Julia-1.7.app/Contents/Resources/julia/share/julia/base/number.jl:6\n\u001b[0m  convert(::Type{T}, \u001b[91m::Number\u001b[39m) where T<:Number at /Applications/Julia-1.7.app/Contents/Resources/julia/share/julia/base/number.jl:7\n\u001b[0m  ...",
      "",
      "Stacktrace:",
      " [1] myData4(x::Vector{Float64}, y::Vector{Float64})",
      "   @ Main ./In[69]:2",
      " [2] test8(; N::Int64, a::Int64, b::Int64)",
      "   @ Main ./In[70]:5",
      " [3] top-level scope",
      "   @ In[72]:1"
     ]
    }
   ],
   "source": [
    "test8(N=3, a=2, b=1)  # error b/c not Int"
   ]
  }
 ],
 "metadata": {
  "kernelspec": {
   "display_name": "Julia 1.7.2",
   "language": "julia",
   "name": "julia-1.7"
  },
  "language_info": {
   "file_extension": ".jl",
   "mimetype": "application/julia",
   "name": "julia",
   "version": "1.7.2"
  }
 },
 "nbformat": 4,
 "nbformat_minor": 5
}
