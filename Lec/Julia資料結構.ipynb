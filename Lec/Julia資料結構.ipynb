{
 "cells": [
  {
   "cell_type": "markdown",
   "id": "416c414e",
   "metadata": {},
   "source": [
    "## 向量"
   ]
  },
  {
   "cell_type": "code",
   "execution_count": 1,
   "id": "88fa9031",
   "metadata": {},
   "outputs": [
    {
     "data": {
      "text/plain": [
       "4-element Vector{Any}:\n",
       " 123\n",
       "   3.14\n",
       "    \"math\"\n",
       "    \"[1,2,3]\""
      ]
     },
     "execution_count": 1,
     "metadata": {},
     "output_type": "execute_result"
    }
   ],
   "source": [
    "v1=[2,3,5,7,11,13,17]\n",
    "v2=[1.5,3,4,9.12]\n",
    "v3=[\"apple\",\"orange\",\"banana\"]\n",
    "v4=[123,3.14,\"math\",\"[1,2,3]\"]"
   ]
  },
  {
   "cell_type": "code",
   "execution_count": 2,
   "id": "f8b1834f",
   "metadata": {},
   "outputs": [
    {
     "data": {
      "text/plain": [
       "7"
      ]
     },
     "execution_count": 2,
     "metadata": {},
     "output_type": "execute_result"
    }
   ],
   "source": [
    "length(v1)"
   ]
  },
  {
   "cell_type": "code",
   "execution_count": 3,
   "id": "e520bff2",
   "metadata": {},
   "outputs": [
    {
     "data": {
      "text/plain": [
       "1:2:7"
      ]
     },
     "execution_count": 3,
     "metadata": {},
     "output_type": "execute_result"
    }
   ],
   "source": [
    "1:2:7"
   ]
  },
  {
   "cell_type": "code",
   "execution_count": 4,
   "id": "64c6efaa",
   "metadata": {},
   "outputs": [
    {
     "data": {
      "text/plain": [
       "5:-1:1"
      ]
     },
     "execution_count": 4,
     "metadata": {},
     "output_type": "execute_result"
    }
   ],
   "source": [
    "5:-1:1"
   ]
  },
  {
   "cell_type": "code",
   "execution_count": 5,
   "id": "ad09793d",
   "metadata": {},
   "outputs": [
    {
     "data": {
      "text/plain": [
       "5-element Vector{Int64}:\n",
       " 5\n",
       " 4\n",
       " 3\n",
       " 2\n",
       " 1"
      ]
     },
     "execution_count": 5,
     "metadata": {},
     "output_type": "execute_result"
    }
   ],
   "source": [
    "#collect()函数可以将范围转换成向量\n",
    "collect(5:-1:1)"
   ]
  },
  {
   "cell_type": "code",
   "execution_count": 7,
   "id": "e9fe9836",
   "metadata": {},
   "outputs": [
    {
     "data": {
      "text/plain": [
       "3"
      ]
     },
     "execution_count": 7,
     "metadata": {},
     "output_type": "execute_result"
    }
   ],
   "source": [
    "v1=[2,3,5,7,11,13,17]\n",
    "v1[2]"
   ]
  },
  {
   "cell_type": "code",
   "execution_count": 8,
   "id": "fa4b1d62",
   "metadata": {},
   "outputs": [
    {
     "data": {
      "text/plain": [
       "17"
      ]
     },
     "execution_count": 8,
     "metadata": {},
     "output_type": "execute_result"
    }
   ],
   "source": [
    "v1[end]"
   ]
  },
  {
   "cell_type": "code",
   "execution_count": 9,
   "id": "5da48fab",
   "metadata": {},
   "outputs": [
    {
     "data": {
      "text/plain": [
       "2"
      ]
     },
     "execution_count": 9,
     "metadata": {},
     "output_type": "execute_result"
    }
   ],
   "source": [
    "v1[begin]"
   ]
  },
  {
   "cell_type": "code",
   "execution_count": 10,
   "id": "f598b67c",
   "metadata": {},
   "outputs": [
    {
     "name": "stdout",
     "output_type": "stream",
     "text": [
      "v1 = [2, 0, 5, 7, 11, 13, 17]\n"
     ]
    }
   ],
   "source": [
    "v1[2]=0\n",
    "@show v1;"
   ]
  },
  {
   "cell_type": "markdown",
   "id": "99de0741",
   "metadata": {},
   "source": [
    "`@show expr`可以用比较简洁的带有提示的方式显示表达式和表达式的值。"
   ]
  },
  {
   "cell_type": "code",
   "execution_count": 11,
   "id": "3fb048c9",
   "metadata": {},
   "outputs": [
    {
     "data": {
      "text/plain": [
       "3-element Vector{Int64}:\n",
       " 3\n",
       " 5\n",
       " 7"
      ]
     },
     "execution_count": 11,
     "metadata": {},
     "output_type": "execute_result"
    }
   ],
   "source": [
    "v1=[2,3,5,7,11,13,17]\n",
    "v1[2:4]"
   ]
  },
  {
   "cell_type": "code",
   "execution_count": 12,
   "id": "cdadb33d",
   "metadata": {},
   "outputs": [
    {
     "data": {
      "text/plain": [
       "4-element Vector{Int64}:\n",
       "  7\n",
       " 11\n",
       " 13\n",
       " 17"
      ]
     },
     "execution_count": 12,
     "metadata": {},
     "output_type": "execute_result"
    }
   ],
   "source": [
    "v1[4:end]"
   ]
  },
  {
   "cell_type": "code",
   "execution_count": 13,
   "id": "69c163e8",
   "metadata": {},
   "outputs": [
    {
     "data": {
      "text/plain": [
       "4-element Vector{Int64}:\n",
       " 2\n",
       " 3\n",
       " 5\n",
       " 7"
      ]
     },
     "execution_count": 13,
     "metadata": {},
     "output_type": "execute_result"
    }
   ],
   "source": [
    "v1[1:(end-3)]"
   ]
  },
  {
   "cell_type": "code",
   "execution_count": 14,
   "id": "f8cd0cc7",
   "metadata": {},
   "outputs": [
    {
     "data": {
      "text/plain": [
       "4-element Vector{Int64}:\n",
       "  2\n",
       "  5\n",
       " 11\n",
       " 17"
      ]
     },
     "execution_count": 14,
     "metadata": {},
     "output_type": "execute_result"
    }
   ],
   "source": [
    "v1[1:2:7]"
   ]
  },
  {
   "cell_type": "code",
   "execution_count": 16,
   "id": "9bf3ec4e",
   "metadata": {},
   "outputs": [
    {
     "data": {
      "text/plain": [
       "7-element Vector{Int64}:\n",
       " 17\n",
       " 13\n",
       " 11\n",
       "  7\n",
       "  5\n",
       "  3\n",
       "  2"
      ]
     },
     "execution_count": 16,
     "metadata": {},
     "output_type": "execute_result"
    }
   ],
   "source": [
    "v1[end:-1:1]"
   ]
  },
  {
   "cell_type": "markdown",
   "id": "fdc325e0",
   "metadata": {},
   "source": [
    "`reverse(x)`可以返回次序颠倒后的数组。"
   ]
  },
  {
   "cell_type": "code",
   "execution_count": 18,
   "id": "c6bd04d9",
   "metadata": {},
   "outputs": [
    {
     "name": "stdout",
     "output_type": "stream",
     "text": [
      "v1 = [0, 0, 0, 0, 0, 0, 0]\n"
     ]
    }
   ],
   "source": [
    "v1=[2,3,5,7,11,13,17]\n",
    "v1[:].=0\n",
    "@show v1;"
   ]
  },
  {
   "cell_type": "code",
   "execution_count": 19,
   "id": "e2f73b01",
   "metadata": {},
   "outputs": [
    {
     "name": "stdout",
     "output_type": "stream",
     "text": [
      "v1 = [0, 0, 0, 7, 11, 13, 17]\n"
     ]
    }
   ],
   "source": [
    "v1=[2,3,5,7,11,13,17]\n",
    "v1[1:3].=0\n",
    "@show v1;"
   ]
  },
  {
   "cell_type": "code",
   "execution_count": 21,
   "id": "6ef4bc39",
   "metadata": {},
   "outputs": [
    {
     "name": "stdout",
     "output_type": "stream",
     "text": [
      "v1 = [101, 303, 505, 7, 11, 13, 17]\n"
     ]
    }
   ],
   "source": [
    "v1 = [2, 3, 5, 7, 11, 13, 17]\n",
    "v1[1:3] = [101, 303, 505]; \n",
    "@show v1;\n"
   ]
  },
  {
   "cell_type": "markdown",
   "id": "6ee790e4",
   "metadata": {},
   "source": [
    "## Data type"
   ]
  },
  {
   "cell_type": "markdown",
   "id": "bd45de74",
   "metadata": {},
   "source": [
    "元素都是整数时， 显示其类型为“Array{Int64}”， 常用的还有“Array{Float64}”， “Array{String}”， “Array{Any}”等， “Any”是Julia语言类型系统的根类型， 相应的数组可以容纳任何Julia对象作为元素。\n",
    "\n",
    "如果数组元素都是基本类型如Float64， 则不允许给元素赋值为其它类型"
   ]
  },
  {
   "cell_type": "code",
   "execution_count": 22,
   "id": "5d755e48",
   "metadata": {},
   "outputs": [
    {
     "data": {
      "text/plain": [
       "3-element Vector{Float64}:\n",
       " 1.2\n",
       " 2.5\n",
       " 3.6"
      ]
     },
     "execution_count": 22,
     "metadata": {},
     "output_type": "execute_result"
    }
   ],
   "source": [
    "vf=[1.2, 2.5, 3.6]; vf"
   ]
  },
  {
   "cell_type": "code",
   "execution_count": 24,
   "id": "8aa4c941",
   "metadata": {},
   "outputs": [
    {
     "ename": "LoadError",
     "evalue": "MethodError: \u001b[0mCannot `convert` an object of type \u001b[92mString\u001b[39m\u001b[0m to an object of type \u001b[91mFloat64\u001b[39m\n\u001b[0mClosest candidates are:\n\u001b[0m  convert(::Type{T}, \u001b[91m::T\u001b[39m) where T<:Number at /Applications/Julia-1.7.app/Contents/Resources/julia/share/julia/base/number.jl:6\n\u001b[0m  convert(::Type{T}, \u001b[91m::Number\u001b[39m) where T<:Number at /Applications/Julia-1.7.app/Contents/Resources/julia/share/julia/base/number.jl:7\n\u001b[0m  convert(::Type{T}, \u001b[91m::Base.TwicePrecision\u001b[39m) where T<:Number at /Applications/Julia-1.7.app/Contents/Resources/julia/share/julia/base/twiceprecision.jl:262\n\u001b[0m  ...",
     "output_type": "error",
     "traceback": [
      "MethodError: \u001b[0mCannot `convert` an object of type \u001b[92mString\u001b[39m\u001b[0m to an object of type \u001b[91mFloat64\u001b[39m\n\u001b[0mClosest candidates are:\n\u001b[0m  convert(::Type{T}, \u001b[91m::T\u001b[39m) where T<:Number at /Applications/Julia-1.7.app/Contents/Resources/julia/share/julia/base/number.jl:6\n\u001b[0m  convert(::Type{T}, \u001b[91m::Number\u001b[39m) where T<:Number at /Applications/Julia-1.7.app/Contents/Resources/julia/share/julia/base/number.jl:7\n\u001b[0m  convert(::Type{T}, \u001b[91m::Base.TwicePrecision\u001b[39m) where T<:Number at /Applications/Julia-1.7.app/Contents/Resources/julia/share/julia/base/twiceprecision.jl:262\n\u001b[0m  ...",
      "",
      "Stacktrace:",
      " [1] setindex!(A::Vector{Float64}, x::String, i1::Int64)",
      "   @ Base ./array.jl:903",
      " [2] top-level scope",
      "   @ In[24]:1"
     ]
    }
   ],
   "source": [
    "vf[2]=\"abc\""
   ]
  },
  {
   "cell_type": "code",
   "execution_count": 25,
   "id": "a5cc559a",
   "metadata": {},
   "outputs": [
    {
     "data": {
      "text/plain": [
       "Float64"
      ]
     },
     "execution_count": 25,
     "metadata": {},
     "output_type": "execute_result"
    }
   ],
   "source": [
    "eltype(vf) #elt type"
   ]
  },
  {
   "cell_type": "markdown",
   "id": "8a63ca1f",
   "metadata": {},
   "source": [
    "## initialize vector"
   ]
  },
  {
   "cell_type": "markdown",
   "id": "831f0cc5",
   "metadata": {},
   "source": [
    "`zeros(n)`可以生成元素类型为Float64、元素值为0、长度为n的向量"
   ]
  },
  {
   "cell_type": "code",
   "execution_count": 26,
   "id": "6d224085",
   "metadata": {},
   "outputs": [
    {
     "data": {
      "text/plain": [
       "3-element Vector{Float64}:\n",
       " 0.0\n",
       " 0.0\n",
       " 0.0"
      ]
     },
     "execution_count": 26,
     "metadata": {},
     "output_type": "execute_result"
    }
   ],
   "source": [
    "zeros(3)"
   ]
  },
  {
   "cell_type": "markdown",
   "id": "d4edf3ff",
   "metadata": {},
   "source": [
    "`zeros(Int64, 3)`可以生成指定类型的（这里是Int64）初始化向量"
   ]
  },
  {
   "cell_type": "code",
   "execution_count": 27,
   "id": "b6ccf3b9",
   "metadata": {},
   "outputs": [
    {
     "data": {
      "text/plain": [
       "3-element Vector{Int64}:\n",
       " 0\n",
       " 0\n",
       " 0"
      ]
     },
     "execution_count": 27,
     "metadata": {},
     "output_type": "execute_result"
    }
   ],
   "source": [
    "zeros(Int64,3)"
   ]
  },
  {
   "cell_type": "markdown",
   "id": "9bfa6a12",
   "metadata": {},
   "source": [
    "用`Vector{Float64}(undef, n)`可以生成元素类型为Float64的长度为n的向量， 元素值未初始化，如"
   ]
  },
  {
   "cell_type": "code",
   "execution_count": 6,
   "id": "aa81391b",
   "metadata": {},
   "outputs": [
    {
     "data": {
      "text/plain": [
       "3-element Vector{Float64}:\n",
       " 5.0e-324\n",
       " 0.0\n",
       " 1.5e-323"
      ]
     },
     "execution_count": 6,
     "metadata": {},
     "output_type": "execute_result"
    }
   ],
   "source": [
    "Vector{Float64}(undef,3)"
   ]
  },
  {
   "cell_type": "code",
   "execution_count": 11,
   "id": "ee84a08c",
   "metadata": {},
   "outputs": [],
   "source": [
    "y1 = Vector{Int}(undef, 3);"
   ]
  },
  {
   "cell_type": "markdown",
   "id": "55f7a08a",
   "metadata": {},
   "source": [
    "可以用`fill!()`填入统一的值。\n",
    "\n",
    "函数名以!结尾是一个习惯用法， 表示该函数会修改其第一自变量的值。"
   ]
  },
  {
   "cell_type": "code",
   "execution_count": 33,
   "id": "52af8cb9",
   "metadata": {},
   "outputs": [
    {
     "data": {
      "text/plain": [
       "3-element Vector{Int64}:\n",
       " 100\n",
       " 100\n",
       " 100"
      ]
     },
     "execution_count": 33,
     "metadata": {},
     "output_type": "execute_result"
    }
   ],
   "source": [
    "fill!(y1,100)"
   ]
  },
  {
   "cell_type": "markdown",
   "id": "fbb1380f",
   "metadata": {},
   "source": [
    "可以用`fill(value, n)`生成一个元素值都等于value的长度为n的一维数组。\n",
    "\n",
    "可以用`collect()`将一个范围转换成可修改的向量"
   ]
  },
  {
   "cell_type": "code",
   "execution_count": 34,
   "id": "f016b042",
   "metadata": {},
   "outputs": [
    {
     "data": {
      "text/plain": [
       "5-element Vector{Int64}:\n",
       " 1\n",
       " 2\n",
       " 3\n",
       " 4\n",
       " 5"
      ]
     },
     "execution_count": 34,
     "metadata": {},
     "output_type": "execute_result"
    }
   ],
   "source": [
    "collect(1:5)"
   ]
  },
  {
   "cell_type": "markdown",
   "id": "ce1a9728",
   "metadata": {},
   "source": [
    "## 变量与值"
   ]
  },
  {
   "cell_type": "markdown",
   "id": "313b4fd4",
   "metadata": {},
   "source": [
    "Julia的变量仅仅是向实际存储空间的引用(reference)， 或称绑定(binding)， 所以两个变量可以引用(绑定)到同一个向量的存储空间， 修改了其中一个变量的元素值，则另一个变量的元素也被修改了。 如"
   ]
  },
  {
   "cell_type": "code",
   "execution_count": 35,
   "id": "08cfd0a7",
   "metadata": {},
   "outputs": [
    {
     "name": "stdout",
     "output_type": "stream",
     "text": [
      "x1 = [1, 100, 3]\n"
     ]
    }
   ],
   "source": [
    "x1=[1,2,3]\n",
    "x2=x1\n",
    "x2[2]=100\n",
    "@show x1;"
   ]
  },
  {
   "cell_type": "code",
   "execution_count": null,
   "id": "5041ae1e",
   "metadata": {},
   "outputs": [],
   "source": [
    "“===”或“≡”(\\equiv+TAB)可以比较两个变量是否同一对象， 如："
   ]
  },
  {
   "cell_type": "code",
   "execution_count": 37,
   "id": "7751b68e",
   "metadata": {},
   "outputs": [
    {
     "data": {
      "text/plain": [
       "true"
      ]
     },
     "execution_count": 37,
     "metadata": {},
     "output_type": "execute_result"
    }
   ],
   "source": [
    "x2===x1"
   ]
  },
  {
   "cell_type": "markdown",
   "id": "19007f06",
   "metadata": {},
   "source": [
    "制作数组的副本， 用`copy()`函数"
   ]
  },
  {
   "cell_type": "code",
   "execution_count": 38,
   "id": "8b445043",
   "metadata": {},
   "outputs": [
    {
     "name": "stdout",
     "output_type": "stream",
     "text": [
      "x1 = [1, 2, 3]\n"
     ]
    },
    {
     "data": {
      "text/plain": [
       "false"
      ]
     },
     "execution_count": 38,
     "metadata": {},
     "output_type": "execute_result"
    }
   ],
   "source": [
    "x1=[1,2,3]\n",
    "x2=copy(x1)\n",
    "x2[2]=-100\n",
    "@show x1;\n",
    "x2===x1"
   ]
  },
  {
   "cell_type": "code",
   "execution_count": 39,
   "id": "4af51b29",
   "metadata": {},
   "outputs": [
    {
     "name": "stdout",
     "output_type": "stream",
     "text": [
      "x1 = [1, 2, 3]\n"
     ]
    }
   ],
   "source": [
    "x1=[1,2,3]\n",
    "x2=x1[:]\n",
    "x2[2]=-100\n",
    "@show x1;\n"
   ]
  },
  {
   "cell_type": "code",
   "execution_count": 41,
   "id": "8d4c9685",
   "metadata": {},
   "outputs": [
    {
     "name": "stdout",
     "output_type": "stream",
     "text": [
      "x0 = [333, 4]\n"
     ]
    }
   ],
   "source": [
    "x0=[3,4]\n",
    "x1=[1,2,x0]\n",
    "x1[3][1]=333\n",
    "@show x0;\n"
   ]
  },
  {
   "cell_type": "markdown",
   "id": "f9140adf",
   "metadata": {},
   "source": [
    "因为x1中引用（绑定）了x0的值， \n",
    "\n",
    "所以x1[3]和x0共用同一存储， 修改了x1[3]就修改了x0。 \n",
    "\n",
    "那么， 制作x1的副本能否解决问题？"
   ]
  },
  {
   "cell_type": "code",
   "execution_count": 42,
   "id": "4f939cf4",
   "metadata": {},
   "outputs": [
    {
     "name": "stdout",
     "output_type": "stream",
     "text": [
      "x2 = Any[111, 2, [333, 4]]\n",
      "x1 = Any[1, 2, [333, 4]]\n",
      "x0 = [333, 4]\n"
     ]
    }
   ],
   "source": [
    "x0=[3,4]\n",
    "x1=[1,2,x0]\n",
    "x2=copy(x1)\n",
    "x2[1]=111\n",
    "x2[3][1]=333\n",
    "\n",
    "@show x2;\n",
    "@show x1;\n",
    "@show x0;"
   ]
  },
  {
   "cell_type": "markdown",
   "id": "05ff0882",
   "metadata": {},
   "source": [
    "虽然x1[1]没有被修改，但是x1[3][1]还是被修改了， x0也被修改了。 \n",
    "\n",
    "这是因为copy()执行的是所谓“浅层复制”， 对于内嵌的对象仍为引用。 \n",
    "\n",
    "可以用deepcopy()， 能解决大部分问题："
   ]
  },
  {
   "cell_type": "code",
   "execution_count": 44,
   "id": "96f48cd4",
   "metadata": {},
   "outputs": [
    {
     "name": "stdout",
     "output_type": "stream",
     "text": [
      "x2 = Any[111, 2, [333, 4]]\n",
      "x1 = Any[1, 2, [3, 4]]\n",
      "x0 = [3, 4]\n"
     ]
    }
   ],
   "source": [
    "x0=[3,4]\n",
    "x1=[1,2,x0]\n",
    "x2=deepcopy(x1)\n",
    "x2[1]=111\n",
    "x2[3][1]=333\n",
    "@show x2;\n",
    "@show x1;\n",
    "@show x0;"
   ]
  },
  {
   "cell_type": "markdown",
   "id": "ab125438",
   "metadata": {},
   "source": [
    "仅修改了x2，没有修改x1和x0。"
   ]
  },
  {
   "cell_type": "markdown",
   "id": "72ec5340",
   "metadata": {},
   "source": [
    "## 向量的有关函数"
   ]
  },
  {
   "cell_type": "markdown",
   "id": "5f1f30fe",
   "metadata": {},
   "source": [
    "函数`indexin(a, b)`返回向量a的每个元素首次出现在b中的位置， 没有时返回nothing，如：\n",
    "\n"
   ]
  },
  {
   "cell_type": "code",
   "execution_count": 45,
   "id": "869131ed",
   "metadata": {},
   "outputs": [
    {
     "data": {
      "text/plain": [
       "4-element Vector{Union{Nothing, Int64}}:\n",
       " 1\n",
       " 3\n",
       "  nothing\n",
       " 3"
      ]
     },
     "execution_count": 45,
     "metadata": {},
     "output_type": "execute_result"
    }
   ],
   "source": [
    "indexin([1,3,5,3],[1,2,3])"
   ]
  },
  {
   "cell_type": "code",
   "execution_count": 46,
   "id": "5b86bc7e",
   "metadata": {},
   "outputs": [
    {
     "data": {
      "text/plain": [
       "true"
      ]
     },
     "execution_count": 46,
     "metadata": {},
     "output_type": "execute_result"
    }
   ],
   "source": [
    "1 in [1,3,5,3]"
   ]
  },
  {
   "cell_type": "markdown",
   "id": "841ca8ab",
   "metadata": {},
   "source": [
    "若v是向量，x是一个元素， \n",
    "\n",
    "push!(v, x)修改向量v， 将x添加到向量v的末尾。 \n",
    "\n",
    "pushfirst!(v, x)修改向量v， 将x添加到向量v的开头，原有的元素后移。 \n",
    "\n",
    "注意， 函数名以叹号结尾是一个习惯约定， 表示此函数会修改其第一个自变量。\n",
    "\n",
    "insert!(v, k, xi)函数可以在向量v的指定下标k位置插入指定的一个元素， 原有的元素后移。\n",
    "\n",
    "如"
   ]
  },
  {
   "cell_type": "code",
   "execution_count": 48,
   "id": "39420ec5",
   "metadata": {},
   "outputs": [
    {
     "name": "stdout",
     "output_type": "stream",
     "text": [
      "v3 = [2, 3, 5, 7]\n",
      "v3 = [1, 2, 3, 5, 7]\n"
     ]
    }
   ],
   "source": [
    "v3=[2,3,5]\n",
    "push!(v3,7)\n",
    "@show v3;\n",
    "\n",
    "pushfirst!(v3,1)\n",
    "@show v3;"
   ]
  },
  {
   "cell_type": "markdown",
   "id": "90e4cee3",
   "metadata": {},
   "source": [
    "若v是向量，u也是一个向量， \n",
    "\n",
    "`append!(v, u)`修改向量v， 将u的所有元素添加到向量v的末尾。 \n",
    "\n",
    "要注意append!和push!的区别， 一个是添加一个向量的所有元素到末尾， 一个是添加一个元素到末尾。 如"
   ]
  },
  {
   "cell_type": "code",
   "execution_count": 49,
   "id": "9a0c8ef8",
   "metadata": {},
   "outputs": [
    {
     "name": "stdout",
     "output_type": "stream",
     "text": [
      "v3 = [2, 3, 5, 7, 11]\n"
     ]
    }
   ],
   "source": [
    "v3=[2,3,5]\n",
    "append!(v3,[7,11])\n",
    "@show v3;\n",
    "\n"
   ]
  },
  {
   "cell_type": "markdown",
   "id": "41b8de0f",
   "metadata": {},
   "source": [
    "`replace!()`函数可以用来在数组中替换元素，如："
   ]
  },
  {
   "cell_type": "code",
   "execution_count": 50,
   "id": "222a8df2",
   "metadata": {},
   "outputs": [
    {
     "name": "stdout",
     "output_type": "stream",
     "text": [
      "x = [0, 2, 0, 4, 0]\n"
     ]
    }
   ],
   "source": [
    "x=[1,2,1,4,1]\n",
    "replace!(x,1=>0)\n",
    "@show x;"
   ]
  },
  {
   "cell_type": "code",
   "execution_count": 51,
   "id": "b6d7c67f",
   "metadata": {},
   "outputs": [
    {
     "name": "stdout",
     "output_type": "stream",
     "text": [
      "x = [0, 2, 0, 3, 0]\n"
     ]
    }
   ],
   "source": [
    "x = [1, 2, 1, 4, 1]\n",
    "replace!(x, 1 => 0, 4 => 3)\n",
    "@show x;\n"
   ]
  },
  {
   "cell_type": "markdown",
   "id": "7526f900",
   "metadata": {},
   "source": [
    "可以指定一个总替换次数的上限"
   ]
  },
  {
   "cell_type": "code",
   "execution_count": 52,
   "id": "d2d00521",
   "metadata": {},
   "outputs": [
    {
     "name": "stdout",
     "output_type": "stream",
     "text": [
      "x = [0, 2, 0, 4, 1]\n"
     ]
    }
   ],
   "source": [
    "x = [1, 2, 1, 4, 1]\n",
    "replace!(x, 1 => 0, 4 => 3, count = 2)\n",
    "@show x;\n"
   ]
  },
  {
   "cell_type": "markdown",
   "id": "4c46f089",
   "metadata": {},
   "source": [
    "如果要合并两个一维数组并将结果生成一个新数组， 不修改原来的两个数组， 可以用`vcat()`函数，如："
   ]
  },
  {
   "cell_type": "code",
   "execution_count": 53,
   "id": "149a303c",
   "metadata": {},
   "outputs": [
    {
     "name": "stdout",
     "output_type": "stream",
     "text": [
      "v3 = [1, 2, -2, -1]\n"
     ]
    }
   ],
   "source": [
    "v1=[1,2]; v2=[-2,-1]\n",
    "v3=vcat(v1,v2)\n",
    "@show v3;\n"
   ]
  },
  {
   "cell_type": "code",
   "execution_count": 55,
   "id": "7d101b3a",
   "metadata": {},
   "outputs": [
    {
     "name": "stdout",
     "output_type": "stream",
     "text": [
      "v1 = [1, 2]\n"
     ]
    }
   ],
   "source": [
    "v3[1]=111\n",
    "@show v1;"
   ]
  },
  {
   "cell_type": "markdown",
   "id": "a015f179",
   "metadata": {},
   "source": [
    "`filter!(f, x)`指定一个示性函数f，将x中不满足条件的元素删除, 如：\n",
    "\n"
   ]
  },
  {
   "cell_type": "code",
   "execution_count": 56,
   "id": "bc7d359e",
   "metadata": {},
   "outputs": [
    {
     "name": "stdout",
     "output_type": "stream",
     "text": [
      "[7, 13]"
     ]
    }
   ],
   "source": [
    "x=[2,3,5,7,11,13]\n",
    "filter!(a-> a%3==1,x)\n",
    "show(x)"
   ]
  },
  {
   "cell_type": "code",
   "execution_count": 57,
   "id": "401cb40a",
   "metadata": {},
   "outputs": [
    {
     "data": {
      "text/plain": [
       "3-element Vector{Float64}:\n",
       " 1.0\n",
       " 1.4142135623730951\n",
       " 1.7320508075688772"
      ]
     },
     "execution_count": 57,
     "metadata": {},
     "output_type": "execute_result"
    }
   ],
   "source": [
    "sqrt.([1,2,3]) # dot operator"
   ]
  },
  {
   "cell_type": "markdown",
   "id": "95faead0",
   "metadata": {},
   "source": [
    "## tuple"
   ]
  },
  {
   "cell_type": "code",
   "execution_count": 58,
   "id": "3c172e43",
   "metadata": {},
   "outputs": [
    {
     "data": {
      "text/plain": [
       "(1, \"john\", 5.1)"
      ]
     },
     "execution_count": 58,
     "metadata": {},
     "output_type": "execute_result"
    }
   ],
   "source": [
    "(1,2,3)\n",
    "(1,\"john\",5.1)"
   ]
  },
  {
   "cell_type": "code",
   "execution_count": 59,
   "id": "cb64a640",
   "metadata": {},
   "outputs": [
    {
     "data": {
      "text/plain": [
       "Tuple{Int64}"
      ]
     },
     "execution_count": 59,
     "metadata": {},
     "output_type": "execute_result"
    }
   ],
   "source": [
    "x=(1,)\n",
    "typeof(x)"
   ]
  },
  {
   "cell_type": "code",
   "execution_count": 60,
   "id": "47d8d8aa",
   "metadata": {},
   "outputs": [
    {
     "data": {
      "text/plain": [
       "Int64"
      ]
     },
     "execution_count": 60,
     "metadata": {},
     "output_type": "execute_result"
    }
   ],
   "source": [
    "x=(1)\n",
    "typeof(x)"
   ]
  },
  {
   "cell_type": "code",
   "execution_count": 62,
   "id": "797a2409",
   "metadata": {},
   "outputs": [
    {
     "data": {
      "text/plain": [
       "NTuple{4, String}"
      ]
     },
     "execution_count": 62,
     "metadata": {},
     "output_type": "execute_result"
    }
   ],
   "source": [
    "x=(\"a\",\"b\",\"c\",\"d\")\n",
    "typeof(x)"
   ]
  },
  {
   "cell_type": "code",
   "execution_count": 63,
   "id": "65d57a36",
   "metadata": {},
   "outputs": [
    {
     "data": {
      "text/plain": [
       "\"a\""
      ]
     },
     "execution_count": 63,
     "metadata": {},
     "output_type": "execute_result"
    }
   ],
   "source": [
    "x[1]"
   ]
  },
  {
   "cell_type": "code",
   "execution_count": 65,
   "id": "83a08cde",
   "metadata": {},
   "outputs": [
    {
     "data": {
      "text/plain": [
       "(\"b\", \"c\")"
      ]
     },
     "execution_count": 65,
     "metadata": {},
     "output_type": "execute_result"
    }
   ],
   "source": [
    "x[2:3]"
   ]
  },
  {
   "cell_type": "code",
   "execution_count": 66,
   "id": "34351b6d",
   "metadata": {},
   "outputs": [
    {
     "ename": "LoadError",
     "evalue": "MethodError: no method matching setindex!(::NTuple{4, String}, ::String, ::Int64)",
     "output_type": "error",
     "traceback": [
      "MethodError: no method matching setindex!(::NTuple{4, String}, ::String, ::Int64)",
      "",
      "Stacktrace:",
      " [1] top-level scope",
      "   @ In[66]:1"
     ]
    }
   ],
   "source": [
    "x[2]=\"x\" #tuple is immutable"
   ]
  },
  {
   "cell_type": "code",
   "execution_count": 67,
   "id": "810c743a",
   "metadata": {},
   "outputs": [
    {
     "data": {
      "text/plain": [
       "true"
      ]
     },
     "execution_count": 67,
     "metadata": {},
     "output_type": "execute_result"
    }
   ],
   "source": [
    "(1,3,5)<(1,3,6)"
   ]
  },
  {
   "cell_type": "markdown",
   "id": "6c31f252",
   "metadata": {},
   "source": [
    "## 赋值等号左边的元组"
   ]
  },
  {
   "cell_type": "code",
   "execution_count": 69,
   "id": "a8244f5d",
   "metadata": {},
   "outputs": [
    {
     "name": "stdout",
     "output_type": "stream",
     "text": [
      "a=13 b=17\n"
     ]
    }
   ],
   "source": [
    "a,b =13,17\n",
    "println(\"a=\",a, \" b=\", b)\n"
   ]
  },
  {
   "cell_type": "code",
   "execution_count": 70,
   "id": "de44a912",
   "metadata": {},
   "outputs": [
    {
     "name": "stdout",
     "output_type": "stream",
     "text": [
      "a=17 b=13\n"
     ]
    }
   ],
   "source": [
    "a,b =b,a\n",
    "println(\"a=\",a, \" b=\",b)"
   ]
  },
  {
   "cell_type": "code",
   "execution_count": 71,
   "id": "e2b1c338",
   "metadata": {},
   "outputs": [
    {
     "name": "stdout",
     "output_type": "stream",
     "text": [
      "a=19 b=23\n"
     ]
    }
   ],
   "source": [
    "a,b =[19,23]\n",
    "println(\"a=\",a,\" b=\",b)"
   ]
  },
  {
   "cell_type": "code",
   "execution_count": 72,
   "id": "40364411",
   "metadata": {},
   "outputs": [
    {
     "data": {
      "text/plain": [
       "(2, 3)"
      ]
     },
     "execution_count": 72,
     "metadata": {},
     "output_type": "execute_result"
    }
   ],
   "source": [
    "divrem(11,4) #(商，餘)"
   ]
  },
  {
   "cell_type": "markdown",
   "id": "e3c81d3c",
   "metadata": {},
   "source": [
    "用collect()将元组转换为一维数组"
   ]
  },
  {
   "cell_type": "code",
   "execution_count": 73,
   "id": "1cc030e5",
   "metadata": {},
   "outputs": [
    {
     "data": {
      "text/plain": [
       "3-element Vector{Int64}:\n",
       " 1\n",
       " 3\n",
       " 5"
      ]
     },
     "execution_count": 73,
     "metadata": {},
     "output_type": "execute_result"
    }
   ],
   "source": [
    "collect((1,3,5))"
   ]
  },
  {
   "cell_type": "markdown",
   "id": "2b9e0879",
   "metadata": {},
   "source": [
    "## 两个向量成对使用"
   ]
  },
  {
   "cell_type": "markdown",
   "id": "8e118779",
   "metadata": {},
   "source": [
    "设x和y是两个等长的一维数组， zip(x, y)是一个迭代器（可以用在for循环中），\n",
    "\n",
    "每次迭代返回两个数组的一对对应元素。 \n",
    "\n",
    "可以用collect()将迭代器转换成二元组的数组："
   ]
  },
  {
   "cell_type": "code",
   "execution_count": 75,
   "id": "fbafb949",
   "metadata": {},
   "outputs": [
    {
     "name": "stdout",
     "output_type": "stream",
     "text": [
      "zip(x, y) = zip([\"a\", \"b\", \"c\"], [3, 1, 2])\n"
     ]
    },
    {
     "data": {
      "text/plain": [
       "3-element Vector{Tuple{String, Int64}}:\n",
       " (\"a\", 3)\n",
       " (\"b\", 1)\n",
       " (\"c\", 2)"
      ]
     },
     "execution_count": 75,
     "metadata": {},
     "output_type": "execute_result"
    }
   ],
   "source": [
    "x=[\"a\",\"b\",\"c\"]\n",
    "y=[3,1,2]\n",
    "\n",
    "@show zip(x,y);\n",
    "collect(zip(x,y))"
   ]
  },
  {
   "cell_type": "markdown",
   "id": "05481839",
   "metadata": {},
   "source": [
    "## 有名元组"
   ]
  },
  {
   "cell_type": "code",
   "execution_count": 76,
   "id": "a7675e2a",
   "metadata": {},
   "outputs": [
    {
     "data": {
      "text/plain": [
       "\"John\""
      ]
     },
     "execution_count": 76,
     "metadata": {},
     "output_type": "execute_result"
    }
   ],
   "source": [
    "tn1=(; name=\"John\", age=32)\n",
    "#有分号使得定义有名元组的意图更明显。\n",
    "\n",
    "tn1[:name]\n",
    "#要注意有名元组用变量名访问时用的是符号(Symbol)， 即不写成字符串的变量名前面有冒号。 也可以用加点格式访问："
   ]
  },
  {
   "cell_type": "code",
   "execution_count": 78,
   "id": "9446c198",
   "metadata": {},
   "outputs": [
    {
     "data": {
      "text/plain": [
       "\"John\""
      ]
     },
     "execution_count": 78,
     "metadata": {},
     "output_type": "execute_result"
    }
   ],
   "source": [
    "tn1.name"
   ]
  },
  {
   "cell_type": "code",
   "execution_count": 77,
   "id": "c94c9700",
   "metadata": {},
   "outputs": [
    {
     "data": {
      "text/plain": [
       "\"John\""
      ]
     },
     "execution_count": 77,
     "metadata": {},
     "output_type": "execute_result"
    }
   ],
   "source": [
    "tn1[1]"
   ]
  },
  {
   "cell_type": "markdown",
   "id": "d43947f2",
   "metadata": {},
   "source": [
    "## 字典"
   ]
  },
  {
   "cell_type": "code",
   "execution_count": 12,
   "id": "80676c92",
   "metadata": {},
   "outputs": [
    {
     "data": {
      "text/plain": [
       "Dict{String, Any} with 2 entries:\n",
       "  \"name\" => \"Li Ming\"\n",
       "  \"age\"  => 18"
      ]
     },
     "execution_count": 12,
     "metadata": {},
     "output_type": "execute_result"
    }
   ],
   "source": [
    "d=Dict(\"name\"=> \"Li Ming\", \"age\"=>18)\n"
   ]
  },
  {
   "cell_type": "code",
   "execution_count": 13,
   "id": "bdd2b4d5",
   "metadata": {},
   "outputs": [
    {
     "data": {
      "text/plain": [
       "Dict{Any, Any}()"
      ]
     },
     "execution_count": 13,
     "metadata": {},
     "output_type": "execute_result"
    }
   ],
   "source": [
    "d1=Dict() #generate empty dict"
   ]
  },
  {
   "cell_type": "code",
   "execution_count": 14,
   "id": "7094fba3",
   "metadata": {},
   "outputs": [
    {
     "data": {
      "text/plain": [
       "Dict{String, Int64} with 4 entries:\n",
       "  \"c\" => 3\n",
       "  \"b\" => 2\n",
       "  \"a\" => 1\n",
       "  \"d\" => 4"
      ]
     },
     "execution_count": 14,
     "metadata": {},
     "output_type": "execute_result"
    }
   ],
   "source": [
    "# use binary tuple to generate dict\n",
    "d2orig=[(\"a\",1),(\"b\",2),(\"c\",3),(\"d\",4)]\n",
    "d2=Dict(d2orig)"
   ]
  },
  {
   "cell_type": "markdown",
   "id": "486f530e",
   "metadata": {},
   "source": [
    "当键和值分别保存在两个等长的数组中的时候， \n",
    "\n",
    "可以用zip()函数将这两个数组合并为二元组的数组， 从而产生字典"
   ]
  },
  {
   "cell_type": "code",
   "execution_count": 15,
   "id": "4fd33b09",
   "metadata": {},
   "outputs": [
    {
     "data": {
      "text/plain": [
       "Dict{String, Int64} with 4 entries:\n",
       "  \"c\" => 3\n",
       "  \"b\" => 2\n",
       "  \"a\" => 1\n",
       "  \"d\" => 4"
      ]
     },
     "execution_count": 15,
     "metadata": {},
     "output_type": "execute_result"
    }
   ],
   "source": [
    "x=[\"a\",\"b\",\"c\",\"d\"]\n",
    "y=[1,2,3,4]\n",
    "d2=Dict(zip(x,y))"
   ]
  },
  {
   "cell_type": "code",
   "execution_count": 16,
   "id": "83388e33",
   "metadata": {},
   "outputs": [
    {
     "data": {
      "text/plain": [
       "4"
      ]
     },
     "execution_count": 16,
     "metadata": {},
     "output_type": "execute_result"
    }
   ],
   "source": [
    "length(d2)"
   ]
  },
  {
   "cell_type": "markdown",
   "id": "51ec30e2",
   "metadata": {},
   "source": [
    "保险起见， 最好在生成字典时指定键和值的数据类型， \n",
    "\n",
    "格式为Dict{S, T}(...)，S为键的类型，T为值的类型。"
   ]
  },
  {
   "cell_type": "code",
   "execution_count": 17,
   "id": "e837a2ad",
   "metadata": {},
   "outputs": [
    {
     "ename": "LoadError",
     "evalue": "UndefVarError: Sting not defined",
     "output_type": "error",
     "traceback": [
      "UndefVarError: Sting not defined",
      "",
      "Stacktrace:",
      " [1] top-level scope",
      "   @ In[17]:1"
     ]
    }
   ],
   "source": [
    "Dict{Sting,Int64}(\"apple=>1\",\"pear\"=>2,\"orange\"=>3)"
   ]
  },
  {
   "cell_type": "markdown",
   "id": "ff7c9d8b",
   "metadata": {},
   "source": [
    "## Pair"
   ]
  },
  {
   "cell_type": "markdown",
   "id": "36f097d2",
   "metadata": {},
   "source": [
    "事实上， `\"apple\" => 1`这样的写法也是Julia的一种数据类型， 称为“对”(Pair)。"
   ]
  },
  {
   "cell_type": "code",
   "execution_count": 18,
   "id": "9705bb50",
   "metadata": {},
   "outputs": [
    {
     "data": {
      "text/plain": [
       "Pair{String, Int64}"
      ]
     },
     "execution_count": 18,
     "metadata": {},
     "output_type": "execute_result"
    }
   ],
   "source": [
    "x=\"apple\"=>1\n",
    "typeof(x)"
   ]
  },
  {
   "cell_type": "code",
   "execution_count": 19,
   "id": "01d562af",
   "metadata": {},
   "outputs": [
    {
     "data": {
      "text/plain": [
       "\"apple\""
      ]
     },
     "execution_count": 19,
     "metadata": {},
     "output_type": "execute_result"
    }
   ],
   "source": [
    "first(x) #extract first item from pair"
   ]
  },
  {
   "cell_type": "code",
   "execution_count": 20,
   "id": "5a268ee2",
   "metadata": {},
   "outputs": [
    {
     "data": {
      "text/plain": [
       "1"
      ]
     },
     "execution_count": 20,
     "metadata": {},
     "output_type": "execute_result"
    }
   ],
   "source": [
    "last(x) #extract last item from pair"
   ]
  },
  {
   "cell_type": "code",
   "execution_count": 21,
   "id": "97620154",
   "metadata": {},
   "outputs": [
    {
     "data": {
      "text/plain": [
       "(\"apple\", 1)"
      ]
     },
     "execution_count": 21,
     "metadata": {},
     "output_type": "execute_result"
    }
   ],
   "source": [
    "(first(x),last(x))"
   ]
  },
  {
   "cell_type": "code",
   "execution_count": 22,
   "id": "73d59fd2",
   "metadata": {},
   "outputs": [
    {
     "data": {
      "text/plain": [
       "4-element Vector{Pair{String, Int64}}:\n",
       " \"c\" => 3\n",
       " \"b\" => 2\n",
       " \"a\" => 1\n",
       " \"d\" => 4"
      ]
     },
     "execution_count": 22,
     "metadata": {},
     "output_type": "execute_result"
    }
   ],
   "source": [
    "collect(d2) #将字典转换成键、值二元组的一维数组"
   ]
  },
  {
   "cell_type": "markdown",
   "id": "8c5d652c",
   "metadata": {},
   "source": [
    "## 訪問元素"
   ]
  },
  {
   "cell_type": "code",
   "execution_count": 23,
   "id": "e48d1836",
   "metadata": {},
   "outputs": [
    {
     "data": {
      "text/plain": [
       "18"
      ]
     },
     "execution_count": 23,
     "metadata": {},
     "output_type": "execute_result"
    }
   ],
   "source": [
    "d=Dict(\"name\"=>\"Li Ming\", \"age\"=>18)\n",
    "d[\"age\"]"
   ]
  },
  {
   "cell_type": "markdown",
   "id": "ebc85b96",
   "metadata": {},
   "source": [
    "读取字典中单个键的对应值也可以用get(d, key, default)的格式， \n",
    "\n",
    "其中default是元素不存在时的返回值"
   ]
  },
  {
   "cell_type": "code",
   "execution_count": 24,
   "id": "e67e30ad",
   "metadata": {},
   "outputs": [
    {
     "data": {
      "text/plain": [
       "18"
      ]
     },
     "execution_count": 24,
     "metadata": {},
     "output_type": "execute_result"
    }
   ],
   "source": [
    "get(d,\"age\",0)"
   ]
  },
  {
   "cell_type": "code",
   "execution_count": 25,
   "id": "b9146ca7",
   "metadata": {},
   "outputs": [
    {
     "data": {
      "text/plain": [
       "false"
      ]
     },
     "execution_count": 25,
     "metadata": {},
     "output_type": "execute_result"
    }
   ],
   "source": [
    "haskey(d,\"gender\") #has key? chek if this key exist"
   ]
  },
  {
   "cell_type": "code",
   "execution_count": 26,
   "id": "2f86c3d4",
   "metadata": {},
   "outputs": [
    {
     "name": "stdout",
     "output_type": "stream",
     "text": [
      "d = Dict{String, Any}(\"name\" => \"Li Ming\", \"gender\" => \"Male\", \"age\" => 18)\n"
     ]
    }
   ],
   "source": [
    "d[\"gender\"]=\"Male\"\n",
    "@show d;"
   ]
  },
  {
   "cell_type": "markdown",
   "id": "2c138fff",
   "metadata": {},
   "source": [
    "## 遍歷字典"
   ]
  },
  {
   "cell_type": "code",
   "execution_count": 36,
   "id": "2af0d0cb",
   "metadata": {},
   "outputs": [
    {
     "name": "stdout",
     "output_type": "stream",
     "text": [
      "c=>3\n",
      "b=>2\n",
      "a=>1\n",
      "d=>4\n"
     ]
    },
    {
     "data": {
      "text/plain": [
       "KeySet for a Dict{String, Int64} with 4 entries. Keys:\n",
       "  \"c\"\n",
       "  \"b\"\n",
       "  \"a\"\n",
       "  \"d\""
      ]
     },
     "execution_count": 36,
     "metadata": {},
     "output_type": "execute_result"
    }
   ],
   "source": [
    "d2=Dict(\"a\"=>1,\"b\"=>2,\"c\"=>3,\"d\"=>4)\n",
    "\n",
    "for k in keys(d2)\n",
    "    println(k,\"=>\",d2[k])  # no order\n",
    "end\n",
    "\n",
    "\n",
    "keys(d2)"
   ]
  },
  {
   "cell_type": "code",
   "execution_count": 40,
   "id": "08e66da6",
   "metadata": {},
   "outputs": [
    {
     "name": "stdout",
     "output_type": "stream",
     "text": [
      "a=>1\n",
      "b=>2\n",
      "c=>3\n",
      "d=>4\n"
     ]
    },
    {
     "data": {
      "text/plain": [
       "4-element Vector{String}:\n",
       " \"c\"\n",
       " \"b\"\n",
       " \"a\"\n",
       " \"d\""
      ]
     },
     "execution_count": 40,
     "metadata": {},
     "output_type": "execute_result"
    }
   ],
   "source": [
    "for k in sort(collect(keys(d2)))\n",
    "    println(k,\"=>\",d2[k])  #has order\n",
    "end\n",
    "\n",
    "collect(keys(d2))  #用collect()将元组转换为一维数组"
   ]
  },
  {
   "cell_type": "code",
   "execution_count": 41,
   "id": "f70f2de8",
   "metadata": {},
   "outputs": [
    {
     "data": {
      "text/plain": [
       "4-element Vector{Int64}:\n",
       " 3\n",
       " 2\n",
       " 1\n",
       " 4"
      ]
     },
     "execution_count": 41,
     "metadata": {},
     "output_type": "execute_result"
    }
   ],
   "source": [
    "collect(values(d2))"
   ]
  },
  {
   "cell_type": "code",
   "execution_count": 49,
   "id": "0f5ffeb1",
   "metadata": {},
   "outputs": [
    {
     "name": "stdout",
     "output_type": "stream",
     "text": [
      "a==>1\n",
      "b==>2\n",
      "c==>3\n",
      "d==>4\n"
     ]
    }
   ],
   "source": [
    "d2p=collect(d2)\n",
    "\n",
    "sort!(d2p, by=first)\n",
    "\n",
    "\n",
    "for(k, v) in d2p\n",
    "    println(k,\"==>\",v)\n",
    "end"
   ]
  },
  {
   "cell_type": "code",
   "execution_count": 38,
   "id": "ee849104",
   "metadata": {},
   "outputs": [
    {
     "data": {
      "text/plain": [
       "false"
      ]
     },
     "execution_count": 38,
     "metadata": {},
     "output_type": "execute_result"
    }
   ],
   "source": [
    "\"a\" in keys(d2)\n",
    "\"g\" ∈ keys(d2)"
   ]
  },
  {
   "cell_type": "code",
   "execution_count": 50,
   "id": "c4417f04",
   "metadata": {},
   "outputs": [
    {
     "name": "stdout",
     "output_type": "stream",
     "text": [
      "c=>3\n",
      "b=>2\n",
      "a=>1\n",
      "d=>4\n"
     ]
    }
   ],
   "source": [
    "for(k,v ) in d2\n",
    "    println(k, \"=>\",v)\n",
    "end"
   ]
  },
  {
   "cell_type": "code",
   "execution_count": 52,
   "id": "2326b27c",
   "metadata": {},
   "outputs": [
    {
     "data": {
      "text/plain": [
       "4-element Vector{Tuple{String, Int64}}:\n",
       " (\"c\", 3)\n",
       " (\"b\", 2)\n",
       " (\"a\", 1)\n",
       " (\"d\", 4)"
      ]
     },
     "execution_count": 52,
     "metadata": {},
     "output_type": "execute_result"
    }
   ],
   "source": [
    "[(k,v) for (k,v) in d2]"
   ]
  },
  {
   "cell_type": "markdown",
   "id": "31b1a0e1",
   "metadata": {},
   "source": [
    "## 用生成器生成字典"
   ]
  },
  {
   "cell_type": "markdown",
   "id": "a9af0da4",
   "metadata": {},
   "source": [
    "`Dict(x=>f(x) for x in collection)`"
   ]
  },
  {
   "cell_type": "code",
   "execution_count": 53,
   "id": "44bfb8a5",
   "metadata": {},
   "outputs": [
    {
     "data": {
      "text/plain": [
       "Dict{Int64, Int64} with 4 entries:\n",
       "  5 => 25\n",
       "  7 => 49\n",
       "  2 => 4\n",
       "  3 => 9"
      ]
     },
     "execution_count": 53,
     "metadata": {},
     "output_type": "execute_result"
    }
   ],
   "source": [
    "Dict(x=> x*x for x in [2,3,5,7])"
   ]
  },
  {
   "cell_type": "markdown",
   "id": "a8bd721c",
   "metadata": {},
   "source": [
    "## 字典应用：频数表"
   ]
  },
  {
   "cell_type": "code",
   "execution_count": 55,
   "id": "86562e35",
   "metadata": {},
   "outputs": [
    {
     "data": {
      "text/plain": [
       "Dict{Any, Any} with 2 entries:\n",
       "  \"M\" => 3\n",
       "  \"F\" => 2"
      ]
     },
     "execution_count": 55,
     "metadata": {},
     "output_type": "execute_result"
    }
   ],
   "source": [
    "#get(dict, key, default)\n",
    "\n",
    "sex=[\"F\",\"M\",\"M\",\"F\",\"M\"]\n",
    "freqs=Dict()\n",
    "for xi in sex\n",
    "    freqs[xi]= get(freqs, xi, 0)+1\n",
    "end\n",
    "\n",
    "freqs"
   ]
  },
  {
   "cell_type": "code",
   "execution_count": 56,
   "id": "245923a5",
   "metadata": {},
   "outputs": [
    {
     "data": {
      "text/plain": [
       "Dict{Any, Any} with 2 entries:\n",
       "  \"M\" => 3\n",
       "  \"F\" => 2"
      ]
     },
     "execution_count": 56,
     "metadata": {},
     "output_type": "execute_result"
    }
   ],
   "source": [
    "function freqd(x)\n",
    "    y=Dict()\n",
    "    for xi in x\n",
    "        y[xi]=get(y,xi,0)+1\n",
    "    end\n",
    "    return y\n",
    "end\n",
    "freqd(sex)"
   ]
  },
  {
   "cell_type": "code",
   "execution_count": 61,
   "id": "a383ad0b",
   "metadata": {},
   "outputs": [],
   "source": [
    "# using Pkg\n",
    "# Pkg.add(\"StatsBase\")"
   ]
  },
  {
   "cell_type": "code",
   "execution_count": 58,
   "id": "912d19c2",
   "metadata": {},
   "outputs": [
    {
     "data": {
      "text/plain": [
       "Dict{String, Int64} with 2 entries:\n",
       "  \"M\" => 3\n",
       "  \"F\" => 2"
      ]
     },
     "execution_count": 58,
     "metadata": {},
     "output_type": "execute_result"
    }
   ],
   "source": [
    "using StatsBase\n",
    "StatsBase.countmap(sex)"
   ]
  },
  {
   "cell_type": "code",
   "execution_count": 59,
   "id": "1062a32d",
   "metadata": {},
   "outputs": [
    {
     "data": {
      "text/plain": [
       "([\"M\", \"F\"], [3, 2])"
      ]
     },
     "execution_count": 59,
     "metadata": {},
     "output_type": "execute_result"
    }
   ],
   "source": [
    "function freq(x) \n",
    "    y=StatsBase.countmap(x)\n",
    "    return keys(y), values(y)\n",
    "end\n",
    "freq(sex)"
   ]
  },
  {
   "cell_type": "code",
   "execution_count": 60,
   "id": "ba80901d",
   "metadata": {},
   "outputs": [
    {
     "data": {
      "text/plain": [
       "(['n', 'd', 'i', 's', 'l', 'u', 'o', 'm', 'e', 't'], [2, 1, 3, 2, 2, 1, 1, 1, 1, 1])"
      ]
     },
     "execution_count": 60,
     "metadata": {},
     "output_type": "execute_result"
    }
   ],
   "source": [
    "d3=freq(\"disillusionment\")"
   ]
  },
  {
   "cell_type": "markdown",
   "id": "1d40628d",
   "metadata": {},
   "source": [
    "## Set"
   ]
  },
  {
   "cell_type": "code",
   "execution_count": 62,
   "id": "f45c65ae",
   "metadata": {},
   "outputs": [
    {
     "data": {
      "text/plain": [
       "Set{Int64} with 3 elements:\n",
       "  2\n",
       "  3\n",
       "  1"
      ]
     },
     "execution_count": 62,
     "metadata": {},
     "output_type": "execute_result"
    }
   ],
   "source": [
    "Set(1:3)"
   ]
  },
  {
   "cell_type": "code",
   "execution_count": 63,
   "id": "7aa56007",
   "metadata": {},
   "outputs": [
    {
     "data": {
      "text/plain": [
       "Set{Int64} with 3 elements:\n",
       "  2\n",
       "  3\n",
       "  1"
      ]
     },
     "execution_count": 63,
     "metadata": {},
     "output_type": "execute_result"
    }
   ],
   "source": [
    "Set([1,2,3]) #Set(1,2,3) is wrong"
   ]
  },
  {
   "cell_type": "code",
   "execution_count": 64,
   "id": "5e1acb70",
   "metadata": {},
   "outputs": [
    {
     "data": {
      "text/plain": [
       "Set{String} with 4 elements:\n",
       "  \"c\"\n",
       "  \"b\"\n",
       "  \"a\"\n",
       "  \"d\""
      ]
     },
     "execution_count": 64,
     "metadata": {},
     "output_type": "execute_result"
    }
   ],
   "source": [
    "Set([\"a\",\"b\",\"c\",\"d\"])"
   ]
  },
  {
   "cell_type": "code",
   "execution_count": 65,
   "id": "cbde749c",
   "metadata": {},
   "outputs": [
    {
     "data": {
      "text/plain": [
       "Set{Char} with 3 elements:\n",
       "  'k'\n",
       "  'e'\n",
       "  'p'"
      ]
     },
     "execution_count": 65,
     "metadata": {},
     "output_type": "execute_result"
    }
   ],
   "source": [
    "Set(\"keep\")"
   ]
  },
  {
   "cell_type": "markdown",
   "id": "ada4872e",
   "metadata": {},
   "source": [
    "Set()输入一个序列（字符串也是序列）， 将序列的元素变成集合元素。 \n",
    "\n",
    "注意Set([1,2,3])正确而Set(1,2,3)错误。\n",
    "\n",
    "因为字符串也是序列， 所以， 要生成只有一个字符串的集合， 也需要将其作为字符串的数组输入"
   ]
  },
  {
   "cell_type": "code",
   "execution_count": 66,
   "id": "e3b458b9",
   "metadata": {},
   "outputs": [
    {
     "data": {
      "text/plain": [
       "Set{String} with 1 element:\n",
       "  \"keep\""
      ]
     },
     "execution_count": 66,
     "metadata": {},
     "output_type": "execute_result"
    }
   ],
   "source": [
    "Set([\"keep\"])"
   ]
  },
  {
   "cell_type": "code",
   "execution_count": 67,
   "id": "b825928e",
   "metadata": {},
   "outputs": [
    {
     "data": {
      "text/plain": [
       "true"
      ]
     },
     "execution_count": 67,
     "metadata": {},
     "output_type": "execute_result"
    }
   ],
   "source": [
    "#判断某个单词的字母都在另一个单词的字母中\n",
    "Set(\"cat\") ⊆ Set(\"atomic\")"
   ]
  },
  {
   "cell_type": "code",
   "execution_count": 68,
   "id": "484993c9",
   "metadata": {},
   "outputs": [
    {
     "data": {
      "text/plain": [
       "true"
      ]
     },
     "execution_count": 68,
     "metadata": {},
     "output_type": "execute_result"
    }
   ],
   "source": [
    "#判断某个单词中有没有重复字母：\n",
    "length(Set(\"keep\"))< length(\"keep\") "
   ]
  }
 ],
 "metadata": {
  "kernelspec": {
   "display_name": "Julia 1.7.2",
   "language": "julia",
   "name": "julia-1.7"
  },
  "language_info": {
   "file_extension": ".jl",
   "mimetype": "application/julia",
   "name": "julia",
   "version": "1.7.2"
  }
 },
 "nbformat": 4,
 "nbformat_minor": 5
}
