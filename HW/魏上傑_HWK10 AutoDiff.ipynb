{
 "cells": [
  {
   "cell_type": "markdown",
   "id": "d68849a7",
   "metadata": {},
   "source": [
    "# Homework\n",
    "\n",
    "This homework asks you to compute a function's derivatives using symbolic and automatic differentiation methods. Our objective function is the follows.\n",
    "\n",
    "\\begin{align}\n",
    " f(x) = \\log(x)\\times \\exp\\left[-\\frac{1}{2}\\left(\\frac{x-\\mu}{\\sigma}\\right)^2 \\right].\n",
    "\\end{align}\n",
    "\n",
    "Let's assume $\\mu=1.5$ and $\\sigma=2$. \n",
    "\n"
   ]
  },
  {
   "cell_type": "markdown",
   "id": "f3e109f3",
   "metadata": {},
   "source": [
    "## Automatic Differentiations"
   ]
  },
  {
   "cell_type": "markdown",
   "id": "42778d4a",
   "metadata": {},
   "source": [
    "### Use the Taylor expansion to derive the result of logarithms on dual numbers."
   ]
  },
  {
   "cell_type": "markdown",
   "id": "09124d4d",
   "metadata": {},
   "source": [
    "Let $f(x)=log(x)$ and so $f'(x)=\\frac 1x$. For a dual number, it means $f(a+b\\epsilon)=log(a+b\\epsilon)$. Applying the Taylor expansion, we have\n",
    "\n",
    "\\begin{align}\n",
    " f(a +b\\epsilon) & = f(a) + f'(a)b\\epsilon = log(a) + \\frac 1a b\\epsilon; \\\\\n",
    "\\Longrightarrow \\quad log(a+b\\epsilon) & = log(a) + \\frac 1a b\\epsilon.\n",
    "\\end{align}\n",
    "\n",
    "Again, the first \"=\" is according to the Taylor expansion of $f(x)$, and the 2nd \"=\" follows from the definition of $f(x)$ and $f'(x)$."
   ]
  },
  {
   "cell_type": "markdown",
   "id": "0983ceaa",
   "metadata": {},
   "source": [
    "### Add methods of the division (\"/\") and logarithm (\"log()\") for dual numbers in Julia."
   ]
  },
  {
   "cell_type": "code",
   "execution_count": 1,
   "id": "25ec4558",
   "metadata": {},
   "outputs": [
    {
     "data": {
      "text/plain": [
       "log (generic function with 24 methods)"
      ]
     },
     "execution_count": 1,
     "metadata": {},
     "output_type": "execute_result"
    }
   ],
   "source": [
    "import Base: +, *, -, ^, exp, log, / # 增加自定義的運算\n",
    "\n",
    "struct DualNumber{T1, T2} <: Real   \n",
    "    re::T1                # differnt types so (Float64, Int64), etc., is possible\n",
    "    du::T2\n",
    "end\n",
    "\n",
    "+(x::DualNumber, y::DualNumber) = DualNumber(x.re + y.re, x.du + y.du)  # dual addition\n",
    "+(x::DualNumber, a::Number) = DualNumber(x.re + a, x.du)  \n",
    "+(a::Number, x::DualNumber) = DualNumber(x.re + a, x.du) \n",
    "\n",
    "-(x::DualNumber, y::DualNumber) = DualNumber(x.re - y.re, x.du - y.du)  # dual subtraction\n",
    "-(x::DualNumber, a::Number) = DualNumber(x.re - a, x.du)  \n",
    "-(a::Number, x::DualNumber) = DualNumber(a-x.re, -x.du) \n",
    "\n",
    "*(x::DualNumber, y::DualNumber) = DualNumber(x.re*y.re, x.re*y.du + y.re*x.du)\n",
    "*(x::DualNumber, a::Number) = DualNumber(a*x.re, a*x.du)\n",
    "*(a::Number, x::DualNumber) = DualNumber(a*x.re, a*x.du)\n",
    "\n",
    "# Where is the division rule? Your turn!\n",
    "\n",
    "/(x::DualNumber, y::DualNumber) = DualNumber(x.re / y.re, x.du * y.re - x.re * y.du / y.re^2)\n",
    "/(x::DualNumber, a::Number) = DualNumber(x.re / a, x.du / a)\n",
    "/(a::Number, x::DualNumber) = DualNumber(a / x.re, -a * x.du / x.re^2)\n",
    "\n",
    "^(x::DualNumber, n::Union{Float64, Int64}) = DualNumber(x.re^n, n*x.re^(n-1)*x.du)  # cannot use n<:Real, since n is variable\n",
    "\n",
    "exp(x::DualNumber) = DualNumber(exp(x.re), exp(x.re)*x.du)\n",
    "\n",
    "# Where is the log rule? Your turn!\n",
    "\n",
    "log(x::DualNumber) = DualNumber(log(x.re), x.du/x.re) "
   ]
  },
  {
   "cell_type": "markdown",
   "id": "acf0a477",
   "metadata": {},
   "source": [
    "### Use the dual numbers you've defined to compute the derivative of $f(x)$ at $x=1.2$."
   ]
  },
  {
   "cell_type": "code",
   "execution_count": 2,
   "id": "c641477a",
   "metadata": {},
   "outputs": [
    {
     "name": "stdout",
     "output_type": "stream",
     "text": [
      "mydf.du = 0.8375320155347377\n",
      "f_d1_true(x0) = 0.8375320155347377\n",
      "error = 0.0000000000000000\n"
     ]
    },
    {
     "data": {
      "text/plain": [
       "0.0000000000000000"
      ]
     },
     "execution_count": 2,
     "metadata": {},
     "output_type": "execute_result"
    }
   ],
   "source": [
    "using Printf \n",
    "Base.show(io::IO, f::Float64) = @printf(io, \"%.16f\", f)\n",
    "\n",
    "μ=1.5\n",
    "σ=2\n",
    "x0 = 1.2\n",
    "\n",
    "f(x) =log(x)*exp(-0.5*((x-μ)/σ)^2)\n",
    "f_d1_true(x) =(1/x)*exp(-0.5*((x-μ)/σ)^2)+log(x)*exp(-0.5*((x-μ)/σ)^2)*(-(x-μ)/σ)*(1/σ)\n",
    "\n",
    "x_tilde = DualNumber(x0, 1.0) # x_tilde =x0+\\epsilon \n",
    "mydf = f(x_tilde)\n",
    "error = mydf.du-f_d1_true(x0)\n",
    "\n",
    "@show mydf.du   # result from dual number\n",
    "@show f_d1_true(x0)   # result from analytic equation \n",
    "@show error"
   ]
  },
  {
   "cell_type": "markdown",
   "id": "d114cb36",
   "metadata": {},
   "source": [
    "### Use Julia's package `ForwardDiff`, which implements the forward-mode auto differentiation, to compute the derivative of $f(x)$ at $x=1.2$."
   ]
  },
  {
   "cell_type": "code",
   "execution_count": 3,
   "id": "6cfffa9c",
   "metadata": {},
   "outputs": [
    {
     "name": "stdout",
     "output_type": "stream",
     "text": [
      "ForwardDiff.derivative(f, x0) = 0.8375320155347377\n",
      "julia_AD_error = 0.0000000000000000\n"
     ]
    },
    {
     "name": "stderr",
     "output_type": "stream",
     "text": [
      "\u001b[36m\u001b[1m[ \u001b[22m\u001b[39m\u001b[36m\u001b[1mInfo: \u001b[22m\u001b[39mPrecompiling ForwardDiff [f6369f11-7733-5829-9624-2563aa707210]\n"
     ]
    },
    {
     "data": {
      "text/plain": [
       "0.0000000000000000"
      ]
     },
     "execution_count": 3,
     "metadata": {},
     "output_type": "execute_result"
    }
   ],
   "source": [
    "using Printf \n",
    "Base.show(io::IO, f::Float64) = @printf(io, \"%.16f\", f)\n",
    "\n",
    "μ=1.5\n",
    "σ=2\n",
    "x0 = 1.2\n",
    "\n",
    "f(x) =log(x)*exp(-0.5*((x-μ)/σ)^2)\n",
    "f_d1_true(x) =(1/x)*exp(-0.5*((x-μ)/σ)^2)+log(x)*exp(-0.5*((x-μ)/σ)^2)*(-(x-μ)/σ)*(1/σ)\n",
    "\n",
    "using ForwardDiff\n",
    "\n",
    "julia_AD_error = ForwardDiff.derivative(f, x0) - f_d1_true(x0)  # automatic differentiation gives exact answer\n",
    "@show ForwardDiff.derivative(f, x0)\n",
    "@show julia_AD_error"
   ]
  },
  {
   "cell_type": "markdown",
   "id": "56924711",
   "metadata": {},
   "source": [
    "## Symbolic Differentiation\n",
    "\n",
    "### Use Julia's package `SymPy` to compute the analytic derivative of $f(x)$ and evaluate the result at $x=1.2$.\n",
    "- Hint: You may need to use `diff` and `subs` functions in the package.\n",
    "- `diff()` function computes the symbolic derivative of a given expression with respect to a specified variable. The syntax for `diff()` function is `diff(expr, var)`, where `expr` is the expression to be differentiated and `var` is the variable with respect to which the derivative is to be taken.\n",
    "- `subs()` function, on the other hand, substitutes a value or expression for a variable in a given expression. The syntax for `subs()` function is `subs(expr, old, new)`, where `expr` is the expression to be substituted, `old` is the variable or expression to be replaced, and `new` is the replacement value or expression. \n",
    "- Remark: I intended to use `Symbolics` but find it less straightforward. You might give it a try."
   ]
  },
  {
   "cell_type": "code",
   "execution_count": 4,
   "id": "776361da",
   "metadata": {},
   "outputs": [
    {
     "name": "stderr",
     "output_type": "stream",
     "text": [
      "\u001b[36m\u001b[1m[ \u001b[22m\u001b[39m\u001b[36m\u001b[1mInfo: \u001b[22m\u001b[39mPrecompiling Symbolics [0c5d862f-8b57-4792-8d23-62f2024744c7]\n"
     ]
    },
    {
     "data": {
      "text/latex": [
       "$$ \\begin{equation}\n",
       "\\frac{e^{ - 0.125 \\left( -1.5 + x \\right)^{2}}}{x} - 0.25 \\left( -1.5 + x \\right) \\log\\left( x \\right) e^{ - 0.125 \\left( -1.5 + x \\right)^{2}}\n",
       "\\end{equation}\n",
       " $$"
      ],
      "text/plain": [
       "exp(-0.1250000000000000((x - 1.5000000000000000)^2)) / x - 0.2500000000000000(x - 1.5000000000000000)*log(x)*exp(-0.1250000000000000((x - 1.5000000000000000)^2))"
      ]
     },
     "metadata": {},
     "output_type": "display_data"
    }
   ],
   "source": [
    "using Symbolics\n",
    "\n",
    "@variables x\n",
    "\n",
    "\n",
    "f(x) =log(x)*exp(-0.5*((x-μ)/σ)^2)\n",
    "\n",
    "Symbolics.derivative(f(x),x) |> display"
   ]
  },
  {
   "cell_type": "code",
   "execution_count": 14,
   "id": "7c37b079",
   "metadata": {},
   "outputs": [
    {
     "data": {
      "text/latex": [
       "$\\frac{\\left(- x + μ\\right) e^{- \\frac{0.5 \\left(x - μ\\right)^{2}}{σ^{2}}} \\log{\\left(x \\right)}}{σ^{2}} + \\frac{e^{- \\frac{0.5 \\left(x - μ\\right)^{2}}{σ^{2}}}}{x}$"
      ],
      "text/plain": [
       "                      2                        2 \n",
       "          -0.5⋅(x - μ)             -0.5⋅(x - μ)  \n",
       "          ──────────────           ──────────────\n",
       "                 2                        2      \n",
       "                σ                        σ       \n",
       "(-x + μ)⋅ℯ              ⋅log(x)   ℯ              \n",
       "─────────────────────────────── + ───────────────\n",
       "                2                        x       \n",
       "               σ                                 "
      ]
     },
     "metadata": {},
     "output_type": "display_data"
    }
   ],
   "source": [
    "using SymPy\n",
    "x, μ, σ=symbols(\"x,μ,σ\")\n",
    "\n",
    "\n",
    "\n",
    "f(x) =log(x)*exp(-0.5*((x-μ)/σ)^2)\n",
    "f_d1_true(x) =(1/x)*exp(-0.5*((x-μ)/σ)^2)+log(x)*exp(-0.5*((x-μ)/σ)^2)*(-(x-μ)/σ)*(1/σ)\n",
    "\n",
    "f_d1_true(x) |> display"
   ]
  },
  {
   "cell_type": "code",
   "execution_count": 19,
   "id": "87a1ec94",
   "metadata": {},
   "outputs": [
    {
     "name": "stdout",
     "output_type": "stream",
     "text": [
      "The symbolic derivative of f is: (0.375 - 0.25*x)*exp(-0.28125*(0.666666666666667*x - 1)^2)*log(x) + exp(-0.28125*(0.666666666666667*x - 1)^2)/x\n",
      "The symbolic derivative of f at x = 1.2 is: 0.837532015534738\n",
      "error = 0\n"
     ]
    },
    {
     "data": {
      "text/latex": [
       "$0$"
      ],
      "text/plain": [
       "0"
      ]
     },
     "execution_count": 19,
     "metadata": {},
     "output_type": "execute_result"
    }
   ],
   "source": [
    "using SymPy\n",
    "\n",
    "μ = 1.5\n",
    "σ = 2\n",
    "x0 = 1.2\n",
    "\n",
    "@vars x\n",
    "f(x) = log(x) * exp(-0.5 * ((x - μ) / σ)^2)\n",
    "\n",
    "df = diff(f(x), x)\n",
    "\n",
    "println(\"The symbolic derivative of f is: \", df)\n",
    "\n",
    "df_x0 = subs(df, x, x0)\n",
    "\n",
    "println(\"The symbolic derivative of f at x = 1.2 is: \", df_x0)\n",
    "\n",
    "error = f_d1_true(x0) - df_x0\n",
    "@show error\n"
   ]
  }
 ],
 "metadata": {
  "@webio": {
   "lastCommId": null,
   "lastKernelId": null
  },
  "kernelspec": {
   "display_name": "Julia 1.7.2",
   "language": "julia",
   "name": "julia-1.7"
  },
  "language_info": {
   "file_extension": ".jl",
   "mimetype": "application/julia",
   "name": "julia",
   "version": "1.7.2"
  },
  "toc": {
   "base_numbering": 1,
   "nav_menu": {},
   "number_sections": true,
   "sideBar": true,
   "skip_h1_title": false,
   "title_cell": "Table of Contents",
   "title_sidebar": "Contents",
   "toc_cell": false,
   "toc_position": {},
   "toc_section_display": true,
   "toc_window_display": false
  }
 },
 "nbformat": 4,
 "nbformat_minor": 5
}
