{
 "cells": [
  {
   "cell_type": "markdown",
   "id": "89ca1767",
   "metadata": {},
   "source": [
    "### 作業批改標準\n",
    " - 正確率\n",
    " - 完成度\n",
    " \n",
    "### 額外小提醒\n",
    " - 適當的註解和保持乾淨的排版，維持程式的易讀性\n",
    " - 同一題盡量寫在1,2格chunk裡面，用`#`註解即可\n",
    " - 套件下載不用寫\n",
    "\n",
    "```julia\n",
    "import Pkg; Pkg.add(\"Roots\")\n",
    "```\n",
    " - 作業評分有任何問題，歡迎寄信聯繫我，我們統一在實體課下課時討論\n",
    " \n",
    "### 上課討論方式 - 翻轉教學！！"
   ]
  },
  {
   "cell_type": "code",
   "execution_count": 33,
   "id": "493c7582",
   "metadata": {},
   "outputs": [],
   "source": [
    "using Combinatorics, Roots"
   ]
  },
  {
   "cell_type": "markdown",
   "id": "e4898a0a",
   "metadata": {},
   "source": [
    "### Problem 1\n",
    "設矩陣 $A = \\begin{bmatrix} 1 & 1 \\\\ 1 & -1\\end{bmatrix}$，若 $A^7 - 3A = \\begin{bmatrix} a & b \\\\ c & d\\end{bmatrix}$，則 $a + b + c + d$ 之值為何？"
   ]
  },
  {
   "cell_type": "code",
   "execution_count": 55,
   "id": "770829b2",
   "metadata": {},
   "outputs": [
    {
     "name": "stdout",
     "output_type": "stream",
     "text": [
      "10\n"
     ]
    }
   ],
   "source": [
    "A = [1  1 \n",
    "     1 -1]\n",
    "println(sum(A^7 - 3*A))"
   ]
  },
  {
   "cell_type": "code",
   "execution_count": 53,
   "id": "7dee74ca",
   "metadata": {},
   "outputs": [
    {
     "name": "stdout",
     "output_type": "stream",
     "text": [
      "10\n"
     ]
    }
   ],
   "source": [
    "#申大昀\n",
    "\n",
    "A = [1 1; 1 -1]\n",
    "B = A^7 - 3*A\n",
    "# println(B)\n",
    "\n",
    "# Iterate over all of the elemets in B, and sum them up.\n",
    "Ans = 0\n",
    "for i ∈ axes(B,1), j ∈ axes(B,2)\n",
    "    Ans = Ans + B[i,j]\n",
    "end\n",
    "println(Ans)"
   ]
  },
  {
   "cell_type": "code",
   "execution_count": 3,
   "id": "7554ffb9",
   "metadata": {},
   "outputs": [
    {
     "name": "stdout",
     "output_type": "stream",
     "text": [
      "10\n"
     ]
    }
   ],
   "source": [
    "#徐晨祐\n",
    "\n",
    "A = [1 1; 1 -1]\n",
    "\n",
    "# using exponentiating by squaring to reduce the time complexity\n",
    "function mul(A; n::Int=7)\n",
    "    if n == 1\n",
    "        return A\n",
    "    elseif (n & 1) == 1\n",
    "        return A * mul(A, n=n-1)\n",
    "    end\n",
    "    B = mul(A, n=(n>>1))\n",
    "    return B * B\n",
    "end\n",
    "\n",
    "B = mul(A, n=7) - 3 * A\n",
    "println(sum(B))"
   ]
  },
  {
   "cell_type": "markdown",
   "id": "7ef4ca5b",
   "metadata": {},
   "source": [
    "### Problem 2\n",
    "已知某地區有 30%的人口感染某傳染病。針對該傳染病的快篩試劑檢驗，有陽性或陰性兩結果。已知該試劑將染病者判為陽性的機率為 80%，將未染病者判為陰性的機率則為60%。為降低該試劑將染病者誤判為陰性的情況，專家建議連續採檢三次。若單次採檢判為陰性者中，染病者的機率為 P；而連續採檢三次皆判為陰性者中，染病者的機率為 P '。試問 P/P' 為多少？"
   ]
  },
  {
   "cell_type": "code",
   "execution_count": null,
   "id": "27edfb6f",
   "metadata": {},
   "outputs": [],
   "source": [
    "p_infected = 0.3\n",
    "pp = 0.8          # prob of infected, positive\n",
    "nn = 0.6          # prob of non-infected, negative\n",
    "\n",
    "single_negative = p_infected*(1-pp) + (1-p_infected)*nn  # 單次採檢判為陰性者機率: 確實染病者機率+沒染病被誤判者機率\n",
    "p = p_infected*(1-pp) / single_negative  # 其中確實染病者所佔機率\n",
    "\n",
    "three_negative = p_infected*(1-pp)^3 + (1-p_infected)*nn^3 # 連續三次採檢判為陰性者機率\n",
    "p_prim = (p_infected*(1-pp)^3) / three_negative  # 其中確實染病者所佔機率\n",
    "\n",
    "@show p/p_prim"
   ]
  },
  {
   "cell_type": "code",
   "execution_count": null,
   "id": "13a8dfba",
   "metadata": {},
   "outputs": [],
   "source": [
    "#尚\n",
    "P = (0.3*0.2) / (0.3*0.2 + 0.7*0.6)\n",
    "P_prime = (0.3*(0.2)^3) / (0.3*(0.2)^3 + 0.7*(0.6)^3)\n",
    "Answer_2 = round(P/P_prime)"
   ]
  },
  {
   "cell_type": "markdown",
   "id": "c6efb549",
   "metadata": {},
   "source": [
    "### Problem 3\n",
    "某冰淇淋店最少需準備 n 桶不同口味的冰淇淋，才能滿足廣告所稱「任選兩球不同口味冰淇淋的組合數超過 100 種」。試問來店顧客從 n 桶中任選兩球（可為同一口味）共有幾種方法？請提供至少三種解法：\n",
    "- ##### 不使用任何 package, \n",
    "- ##### 使用 `Combinatorics` package, \n",
    "- ##### 使用 `Roots` package."
   ]
  },
  {
   "cell_type": "code",
   "execution_count": 37,
   "id": "3a335494",
   "metadata": {},
   "outputs": [
    {
     "data": {
      "text/plain": [
       "15"
      ]
     },
     "execution_count": 37,
     "metadata": {},
     "output_type": "execute_result"
    }
   ],
   "source": [
    "n=1\n",
    "while n*(n-1)/2<=100\n",
    "    n+=1\n",
    "end\n",
    "n"
   ]
  },
  {
   "cell_type": "markdown",
   "id": "dd322f82",
   "metadata": {},
   "source": [
    "mathematical-operations : \\\n",
    "https://docs.julialang.org/en/v1/manual/mathematical-operations/  \n",
    "\n",
    "`x >> y`\tarithmetic shift right"
   ]
  },
  {
   "cell_type": "code",
   "execution_count": 56,
   "id": "55a1c66e",
   "metadata": {},
   "outputs": [
    {
     "name": "stdout",
     "output_type": "stream",
     "text": [
      "ans(solution 1) = 120\n",
      "ans(solution 2) = 120\n",
      "ans(solution 3) = 120\n"
     ]
    }
   ],
   "source": [
    "#徐晨祐\n",
    "\n",
    "# solution 1\n",
    "calc(n) = (n * (n - 1)) >> 1 \n",
    "n = 1\n",
    "while calc(n) < 100\n",
    "    n += 1\n",
    "end\n",
    "println(\"ans(solution 1) = \", binomial(n, 2) + binomial(n, 1))\n",
    "\n",
    "# solution 2\n",
    "using Combinatorics\n",
    "n = 1\n",
    "while length(collect(combinations(1:n, 2))) < 100\n",
    "    n += 1\n",
    "end\n",
    "println(\"ans(solution 2) = \", binomial(n, 2) + binomial(n, 1))\n",
    "\n",
    "# solution 3\n",
    "using Roots\n",
    "f(n) = (n * (n - 1)) / 2  - 100\n",
    "n = Int(ceil(find_zero(f, 1)))\n",
    "println(\"ans(solution 3) = \", binomial(n, 2) + binomial(n, 1))"
   ]
  },
  {
   "cell_type": "markdown",
   "id": "573d888c",
   "metadata": {},
   "source": [
    "### Problem 4\n",
    "有一款線上遊戲推出「十連抽」的抽卡機制，「十連抽」意思為系統自動做十次的抽卡 動作。若每次「十連抽」需用 1500 枚代幣，抽中金卡的機率在前九次皆為 2%，在第 十次為 10%。今某生有代幣 23000 枚，且不斷使用「十連抽」，抽到不能再抽為止。則某生抽到金卡張數的期望值為多少張？"
   ]
  },
  {
   "cell_type": "code",
   "execution_count": 57,
   "id": "19bdec0f",
   "metadata": {},
   "outputs": [
    {
     "name": "stdout",
     "output_type": "stream",
     "text": [
      "4.2\n"
     ]
    }
   ],
   "source": [
    "t = round(23000 / 1500)\n",
    "E = 0.02 * 9 + 0.1 * 1 # expectation of the number of golden cards in one trial\n",
    "println(E * t)"
   ]
  },
  {
   "cell_type": "markdown",
   "id": "07f16955",
   "metadata": {},
   "source": [
    "### Problem 5\n",
    "試問有多少個整數 $x$ 滿足 $2|x| + x < 10$？"
   ]
  },
  {
   "cell_type": "code",
   "execution_count": null,
   "id": "252a1fbd",
   "metadata": {},
   "outputs": [],
   "source": [
    "# method1\n",
    "\n",
    "count  = 0\n",
    "for x in -100:1:100\n",
    "    if 2*(abs(x)) + x < 10\n",
    "        count += 1\n",
    "    end\n",
    "end\n",
    "println(count)"
   ]
  },
  {
   "cell_type": "code",
   "execution_count": null,
   "id": "499595f3",
   "metadata": {},
   "outputs": [],
   "source": [
    "length([x for x in -100:100 if 2abs(x)+x<10])  "
   ]
  },
  {
   "cell_type": "code",
   "execution_count": null,
   "id": "af2407f1",
   "metadata": {},
   "outputs": [],
   "source": [
    "# method2\n",
    "x = 0\n",
    "count = 0\n",
    "\n",
    "while 2x + x < 10\n",
    "    x += 1\n",
    "    count += 1\n",
    "end\n",
    "\n",
    "y = -1\n",
    "while -2y + y < 10\n",
    "    y -= 1\n",
    "    count += 1\n",
    "end\n",
    "println(count)"
   ]
  },
  {
   "cell_type": "code",
   "execution_count": 15,
   "id": "611287b3",
   "metadata": {},
   "outputs": [
    {
     "data": {
      "text/plain": [
       "13"
      ]
     },
     "execution_count": 15,
     "metadata": {},
     "output_type": "execute_result"
    }
   ],
   "source": [
    "# method3\n",
    "g(x) = 2*abs(x) + x - 10\n",
    "solution = find_zeros(g, -Inf, Inf)\n",
    "num = floor(Int, solution[2]-1) - (ceil(Int, solution[1]) - 1)\n",
    "num"
   ]
  },
  {
   "cell_type": "markdown",
   "id": "0aa81be0",
   "metadata": {},
   "source": [
    "### Problem 6\n",
    "某燈會布置變色閃燈，每次啟動後的閃燈顏色會依照以下的順序做週期性變換:藍-白- 紅-白-藍-白-紅-白-藍-白-紅-白...，每四次一循環，其中藍光每次持續 5 秒，白光每次持 續 2 秒，而紅光每次持續 6 秒。假設換燈號的時間極短可被忽略，試算出啟動後第 99 至 101 秒之間的燈號。"
   ]
  },
  {
   "cell_type": "code",
   "execution_count": 43,
   "id": "ed74675d",
   "metadata": {},
   "outputs": [
    {
     "name": "stdout",
     "output_type": "stream",
     "text": [
      "99秒 ~ 101秒的燈號為:紅 紅 紅"
     ]
    }
   ],
   "source": [
    "#劉浩揚\n",
    "\n",
    "function problem6(t)\n",
    "   x = [\"藍\",\"藍\",\"藍\",\"藍\",\"藍\",\"白\",\"白\",\"紅\",\"紅\",\"紅\",\"紅\",\"紅\",\"紅\", \"白\", \"白\"]\n",
    "   c = round(Int,t/length(x))+1\n",
    "   y = repeat(x,c)\n",
    "   print(t-2,\"秒 ~ \",t,\"秒的燈號為:\",y[t-2],\" \",y[t-1],\" \",y[t])\n",
    "end\n",
    "problem6(101)"
   ]
  },
  {
   "cell_type": "code",
   "execution_count": 5,
   "id": "72932d20",
   "metadata": {},
   "outputs": [
    {
     "name": "stdout",
     "output_type": "stream",
     "text": [
      "99 sec to 100 sec: red\n",
      "100 sec to 101 sec: red\n"
     ]
    }
   ],
   "source": [
    "# 多人\n",
    "\n",
    "using Printf\n",
    "(B, W, R) = (5, 2, 6)\n",
    "cycle_time = B + W + R + W\n",
    "for t in [99, 100]\n",
    "    # (t % cycle_time) = time consumed in current cycle\n",
    "    if t % cycle_time < B\n",
    "        @printf(\"%d sec to %d sec: blue\\n\", t, t+1)\n",
    "    elseif t % cycle_time < B + W\n",
    "        @printf(\"%d sec to %d sec: white\\n\", t, t+1)\n",
    "    elseif t % cycle_time < B + W + R\n",
    "        @printf(\"%d sec to %d sec: red\\n\", t, t+1)\n",
    "    else\n",
    "        @printf(\"%d sec to %d sec: white\\n\", t, t+1)\n",
    "    end\n",
    "end"
   ]
  },
  {
   "cell_type": "markdown",
   "id": "4fcf9beb",
   "metadata": {},
   "source": [
    "### Problem 7\n",
    "有八棟大廈排成一列，由左至右分別編號 1, 2, 3, 4, 5, 6, 7, 8。今電信公司想選取其中三棟 大廈的屋頂分別設立一座電信基地台。若基地台不能設立於相鄰的兩棟大廈，以免訊號 互相干擾，試問在 3 號大廈不設立基地台的情況下，有多少種設立基地台的選取方法?"
   ]
  },
  {
   "cell_type": "code",
   "execution_count": 3,
   "id": "8f922405",
   "metadata": {},
   "outputs": [
    {
     "name": "stdout",
     "output_type": "stream",
     "text": [
      "總共有 13 種選擇方式\n"
     ]
    }
   ],
   "source": [
    "#魏上傑\n",
    "\n",
    "count = 0\n",
    "\n",
    "# *doesn't need to collect to idex the element\n",
    "for comb in combinations(1:8, 3)\n",
    "    if 3 in comb\n",
    "        continue\n",
    "    end\n",
    "\n",
    "    if all(diff(comb) .>= 2)  # *the resort is sorted\n",
    "        # diff(sort(comb)) 求出該組合中相鄰兩個數字之間的差\n",
    "        # all(... .>= 2) 判斷所有差是否都大於等於 2\n",
    "        \n",
    "        count += 1\n",
    "    end\n",
    "end\n",
    "\n",
    "println(\"總共有 $count 種選擇方式\")"
   ]
  },
  {
   "cell_type": "code",
   "execution_count": 58,
   "id": "f04c6c8e",
   "metadata": {},
   "outputs": [
    {
     "data": {
      "text/plain": [
       "13"
      ]
     },
     "execution_count": 58,
     "metadata": {},
     "output_type": "execute_result"
    }
   ],
   "source": [
    "# 徐晨祐\n",
    "\n",
    "# use dynamic programming to solve the problem\n",
    "n = 8 # total number of buildings\n",
    "k = 3\n",
    "x = 3\n",
    "binomial(2, 1) * (binomial(5, 2) - (n - 1 - (x + 1) + 1)) + 1"
   ]
  },
  {
   "cell_type": "code",
   "execution_count": null,
   "id": "76a1fe8f",
   "metadata": {},
   "outputs": [],
   "source": [
    "all_comb = length(collect(combinations(1:8,3)))\n",
    "two_adjoint = 5*4 + 2*5\n",
    "three_adjoint = 6\n",
    "no3_sep = (length(collect(combinations(1:4,2)))-3) + length(collect(combinations(1:4,1)))\n",
    "\n",
    "n_choice2 = all_comb - two_adjoint - three_adjoint - no3_sep\n",
    "println(n_choice2)"
   ]
  },
  {
   "cell_type": "code",
   "execution_count": 45,
   "id": "458eeba6",
   "metadata": {},
   "outputs": [
    {
     "name": "stdout",
     "output_type": "stream",
     "text": [
      "13\n"
     ]
    }
   ],
   "source": [
    "n_choice = 0\n",
    "for i in 1:6\n",
    "    valid = false\n",
    "    for j in (i+2):8\n",
    "        for k in (j+2):8\n",
    "            if i != 3 && j != 3 && k != 3\n",
    "                n_choice += 1\n",
    "            end\n",
    "        end\n",
    "    end\n",
    "end\n",
    "println( n_choice)"
   ]
  },
  {
   "cell_type": "markdown",
   "id": "37d7db07",
   "metadata": {},
   "source": [
    "### Problem 8\n",
    "有三女三男共六位在校時和老師常有互動的同學，畢業後老師邀聚餐，餐後七人站 一橫排照相留念。已知同學中有一女一男兩位曾有過不愉快，照相時不想相鄰，而 老師站在正中間且三位男生不完全站在老師的同一側，則可能的排列方式共有多少種?"
   ]
  },
  {
   "cell_type": "code",
   "execution_count": null,
   "id": "86c45865",
   "metadata": {},
   "outputs": [],
   "source": [
    "#郭道浣\n",
    "\n",
    "all = factorial(6) # 所有排列可能\n",
    "brokeup = 4 * factorial(2) * factorial(4) # 狗男女排在一起\n",
    "samegender = factorial(3) ^ 2 * 2 # 一邊全部男生\n",
    "combo = all - brokeup - samegender"
   ]
  }
 ],
 "metadata": {
  "kernelspec": {
   "display_name": "Julia 1.7.2",
   "language": "julia",
   "name": "julia-1.7"
  },
  "language_info": {
   "file_extension": ".jl",
   "mimetype": "application/julia",
   "name": "julia",
   "version": "1.7.2"
  }
 },
 "nbformat": 4,
 "nbformat_minor": 5
}
