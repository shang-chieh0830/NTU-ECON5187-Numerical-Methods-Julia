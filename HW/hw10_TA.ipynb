{
 "cells": [
  {
   "cell_type": "markdown",
   "id": "2d43a92a",
   "metadata": {},
   "source": [
    "### Use the Taylor expansion to derive the result of logarithms on dual numbers.\n",
    "\n",
    "Let $\\epsilon^2=0$, the Taylor expansion will become\n",
    "\\begin{align}\n",
    " f(a +b\\epsilon) & = f(a) + f'(a)b\\epsilon \n",
    "\\end{align}"
   ]
  },
  {
   "cell_type": "markdown",
   "id": "1aa5c0b8-ffec-4865-b978-bd7ed8126c90",
   "metadata": {},
   "source": [
    "### Arithmetic rule for dual number\n",
    "\n",
    "\\begin{align}\n",
    "(a_1 + b_1\\epsilon) + (a_2 + b_2\\epsilon) & = \n",
    "(a_1 + a_2) + (b_1+b_2)\\epsilon                      \\\\\n",
    "(a_1 + b_1\\epsilon) * (a_2 + b_2\\epsilon) & = \n",
    "a_1a_2 + (a_1b_2+a_2b_1)\\epsilon                     \\\\\n",
    "c*(a_1+b_1\\epsilon) & = ca_1+cb_1\\epsilon            \\\\\n",
    "\\frac{a_1+b_1\\epsilon}{a_2+b_2\\epsilon} &= \n",
    "\\frac{a_1}{a_2} +\\frac{b_1a_2-a_1b_2}{a_2^2}\\epsilon \\\\\n",
    "(a+b\\epsilon)^n & = a^n + na^{n-1}b\\epsilon          \\\\\n",
    "e^{a+b\\epsilon} & = e^a + e^a b\\epsilon              \\\\\n",
    "\\end{align}"
   ]
  },
  {
   "cell_type": "markdown",
   "id": "4426e956",
   "metadata": {},
   "source": [
    "```Julia\n",
    "import Base: +, -, *, /, log\n",
    "\n",
    "struct DualNumber{T1, T2} <: Real   \n",
    "    re::T1                # differnt types so (Float64, Int64), etc., is possible\n",
    "    du::T2\n",
    "end\n",
    "\n",
    "+(x::DualNumber, y::DualNumber) = DualNumber(x.re + y.re, x.du + y.du)  # dual addition\n",
    "+(x::DualNumber, a::Number) = DualNumber(x.re + a, x.du)  \n",
    "+(a::Number, x::DualNumber) = DualNumber(x.re + a, x.du) \n",
    "\n",
    "-(x::DualNumber, y::DualNumber) = DualNumber(x.re - y.re, x.du - y.du)  # dual subtraction\n",
    "-(x::DualNumber, a::Number) = DualNumber(x.re - a, x.du)  \n",
    "-(a::Number, x::DualNumber) = DualNumber(x.re - a, x.du)  \n",
    "\n",
    "*(x::DualNumber, y::DualNumber) = DualNumber(x.re*y.re, x.re*y.du + y.re*x.du)\n",
    "*(x::DualNumber, a::Number) = DualNumber(a*x.re, a*x.du)\n",
    "*(a::Number, x::DualNumber) = DualNumber(a*x.re, a*x.du)\n",
    "\n",
    "/(x::DualNumber, y::DualNumber) = DualNumber(x.re/y.re, (x.du*y.re-x.re*y.du)/(y.re^2))\n",
    "/(x::DualNumber, a::Number) = DualNumber(x.re/a, x.du/a)\n",
    "/(a::Number, x::DualNumber) = DualNumber(a/x.re, (-x.du)*a/x.re)\n",
    "\n",
    "log(x::DualNumber) = DualNumber(log(x.re), (1/x.re)*x.du)\n",
    "```"
   ]
  },
  {
   "cell_type": "code",
   "execution_count": 3,
   "id": "96045cc0",
   "metadata": {},
   "outputs": [],
   "source": [
    "struct DualNumber{T1, T2} <: Number \n",
    "    re::T1\n",
    "    du::T2\n",
    "end\n",
    "\n",
    "Base.:+(x::DualNumber, y::DualNumber) = DualNumber(x.re + y.re, x.du + y.du)\n",
    "Base.:-(x::DualNumber, y::DualNumber) = DualNumber(x.re-y.re, x.du-y.du)\n",
    "Base.:*(x::DualNumber, y::DualNumber) = DualNumber(x.re*y.re, x.re*y.du + y.re*x.du)\n",
    "Base.:^(x::DualNumber, n::Union{Float64, Int64}) = DualNumber(x.re^n, n*x.re^(n-1)*x.du)  # cannot use n<:Real, since n is variable\n",
    "Base.exp(x::DualNumber) = DualNumber(exp(x.re), exp(x.re)*x.du)"
   ]
  },
  {
   "cell_type": "code",
   "execution_count": 11,
   "id": "3bc744a9",
   "metadata": {},
   "outputs": [],
   "source": [
    "\"\"\"\n",
    "our goal is to let the following command work:\n",
    "promote(DualNumber(2., 3.), 3.)\n",
    "\n",
    "including two step:\n",
    "1. which to convert? DualNumber(2., 3.) or 3. ?\n",
    "2. how to convert?\n",
    "\"\"\"\n",
    "\n",
    "# 1. which to convert\n",
    "Base.promote_rule(::Type{DualNumber{T1, T2}}, ::Type{<:Real}) where{T1, T2} = DualNumber{T1, T2}\n",
    "\n",
    "# 2. how to convert\n",
    "Base.convert(::Type{DualNumber{T1, T2}}, x::Real) where{T1, T2} = DualNumber(x, zero(float(Int)))"
   ]
  },
  {
   "cell_type": "markdown",
   "id": "90d9a358",
   "metadata": {},
   "source": [
    "##### Promotion\n",
    "Promotion refers to converting values of mixed types to a single common type.\n",
    "```Julia\n",
    "julia> promote(1, 2.5)\n",
    "(1.0, 2.5)\n",
    "\n",
    "# the promote rule in Julia Base\n",
    "promote_rule(::Type{Float64}, ::Type{Int64}) = Float64\n",
    "```\n",
    "\n",
    "##### Conversion\n",
    "Convert a value from one type to another without the programmer asking for it explicitly.\n",
    "```Julia\n",
    "julia> x = 12\n",
    "12\n",
    "\n",
    "julia> typeof(x)\n",
    "Int64\n",
    "\n",
    "julia> xf = convert(AbstractFloat, x)\n",
    "12.0\n",
    "\n",
    "julia> typeof(xf)\n",
    "Float64\n",
    "\n",
    "# the convert rule in Julia Base\n",
    "convert(::Type{T}, x::Number) where {T<:Number} = T(x)\n",
    "```\n",
    "\n",
    "###### reference: https://docs.julialang.org/en/v1/manual/conversion-and-promotion/"
   ]
  },
  {
   "cell_type": "markdown",
   "id": "d68849a7",
   "metadata": {},
   "source": [
    "# Homework\n",
    "\n",
    "This homework asks you to compute a function's derivatives using symbolic and automatic differentiation methods. Our objective function is the follows.\n",
    "\n",
    "\\begin{align}\n",
    " f(x) = \\log(x)\\times \\exp\\left[-\\frac{1}{2}\\left(\\frac{x-\\mu}{\\sigma}\\right)^2 \\right].\n",
    "\\end{align}\n",
    "\n",
    "Let's assume $\\mu=1.5$ and $\\sigma=2$. "
   ]
  },
  {
   "cell_type": "code",
   "execution_count": 9,
   "id": "4532a9e3-0ec0-4478-9c4a-af2dcdc4ae16",
   "metadata": {
    "tags": []
   },
   "outputs": [],
   "source": [
    "f(x; μ=1.5, σ=2.) = log(x) * exp((-1/2) * ((x-μ)/σ)^2);"
   ]
  },
  {
   "cell_type": "markdown",
   "id": "f3e109f3",
   "metadata": {},
   "source": [
    "## Automatic Differentiations"
   ]
  },
  {
   "cell_type": "markdown",
   "id": "42778d4a",
   "metadata": {},
   "source": [
    "### Use the Taylor expansion to derive the result of logarithms on dual numbers."
   ]
  },
  {
   "cell_type": "markdown",
   "id": "ab2d1af6-0c49-4264-9337-3a1d64b47c81",
   "metadata": {},
   "source": [
    "\\begin{align}\n",
    " f(a +b\\epsilon) & = f(a) + f'(a)b\\epsilon = log(a) + \\frac 1a b\\epsilon; \\\\\n",
    "\\Longrightarrow \\quad log(a+b\\epsilon) & = log(a) + \\frac 1a b\\epsilon.\n",
    "\\end{align}"
   ]
  },
  {
   "cell_type": "markdown",
   "id": "0983ceaa",
   "metadata": {},
   "source": [
    "### Add methods of the division (\"/\") and logarithm (\"log()\") for dual numbers in Julia."
   ]
  },
  {
   "cell_type": "code",
   "execution_count": 4,
   "id": "875765ca",
   "metadata": {},
   "outputs": [],
   "source": [
    "Base.:/(x::DualNumber, y::DualNumber) = DualNumber(x.re/y.re, (x.du*y.re-y.du*x.re)/y.re^2)\n",
    "Base.log(x::DualNumber) = DualNumber(log(x.re), x.du/x.re)"
   ]
  },
  {
   "cell_type": "markdown",
   "id": "acf0a477",
   "metadata": {},
   "source": [
    "### Use the dual numbers you've defined to compute the derivative of $f(x)$ at $x=1.2$."
   ]
  },
  {
   "cell_type": "markdown",
   "id": "ffa0be28",
   "metadata": {},
   "source": [
    "\\begin{align}\n",
    "  f(a+b\\epsilon) = f(a) + f'(a) b \\epsilon.\n",
    "\\end{align}\n",
    "\n",
    "Let $b=1$, then\n",
    "\n",
    "\\begin{align}\n",
    "  f(a+\\epsilon) = f(a) + f'(a)  \\epsilon.\n",
    "\\end{align}"
   ]
  },
  {
   "cell_type": "code",
   "execution_count": 7,
   "id": "78c59cb2",
   "metadata": {},
   "outputs": [
    {
     "data": {
      "text/plain": [
       "auto_diff (generic function with 1 method)"
      ]
     },
     "execution_count": 7,
     "metadata": {},
     "output_type": "execute_result"
    }
   ],
   "source": [
    "auto_diff(f, x) = f(DualNumber(x, 1.)).du"
   ]
  },
  {
   "cell_type": "markdown",
   "id": "7fbe3772",
   "metadata": {},
   "source": [
    "\\begin{align}\n",
    " f(x) = \\log(x)\\times \\exp\\left[-\\frac{1}{2}\\left(\\frac{x-\\mu}{\\sigma}\\right)^2 \\right].\n",
    "\\end{align}"
   ]
  },
  {
   "cell_type": "markdown",
   "id": "c308c60b",
   "metadata": {},
   "source": [
    "### Question： What did we do ?\n",
    "\n",
    "Show the algorithm in $\\left(\\frac{x-\\mu}{\\sigma}\\right)^2$ part.\n",
    "\n",
    "**1.**  $v_1 = (x - \\mu)$\n",
    "\n",
    "**2.** $v_2 = \\frac{v_1}{\\sigma}$\n",
    "\n",
    "**3.** $v_3 = (v_2)^2$\n",
    "\n",
    "|  math               |    code    |                         result                        | \n",
    "|:--------------------:|:-------------------:|:------------------------------------------------------------------:|\n",
    "| $$x - \\mu$$          | $$(a,1) - (\\mu,0)$$                  | $$(a-\\mu,\\ 1)$$                                   |     \n",
    "| $$\\frac{x}{\\sigma}$$ | $$(a-\\mu, 1) \\div (\\sigma, 0)$$      | $$(\\frac{a-\\mu}{\\sigma}, \\frac{1  \\sigma - (a-\\mu) 0}{\\sigma^2}) \\\\ = (\\frac{a-\\mu}{\\sigma}, \\frac{1}{\\sigma})$$             |   \n",
    "| $$x^2$$              | $$(\\frac{a-\\mu}{\\sigma}, \\frac{1}{\\sigma})^2$$ |  $$ ((\\frac{a-\\mu}{\\sigma})^2, 2 (\\frac{a-\\mu}{\\sigma})  \\frac{1}{\\sigma})$$"
   ]
  },
  {
   "cell_type": "code",
   "execution_count": 18,
   "id": "84fcf730",
   "metadata": {},
   "outputs": [],
   "source": [
    "using ForwardDiff, SymPy, Symbolics"
   ]
  },
  {
   "cell_type": "markdown",
   "id": "d114cb36",
   "metadata": {},
   "source": [
    "### Use Julia's package `ForwardDiff`, which implements the forward-mode auto differentiation, to compute the derivative of $f(x)$ at $x=1.2$."
   ]
  },
  {
   "cell_type": "code",
   "execution_count": 16,
   "id": "cf44fa90",
   "metadata": {},
   "outputs": [
    {
     "data": {
      "text/plain": [
       "0.8375320155347377"
      ]
     },
     "execution_count": 16,
     "metadata": {},
     "output_type": "execute_result"
    }
   ],
   "source": [
    "ForwardDiff.derivative(f, 1.2)"
   ]
  },
  {
   "cell_type": "markdown",
   "id": "56924711",
   "metadata": {},
   "source": [
    "## Symbolic Differentiation\n",
    "\n",
    "### Use Julia's package `SymPy` to compute the analytic derivative of $f(x)$ and evaluate the result at $x=1.2$.\n",
    "- Hint: You may need to use `diff` and `subs` functions in the package.\n",
    "- Remark: I intended to use `Symbolics` but find it less straightforward. You might give it a try."
   ]
  },
  {
   "cell_type": "code",
   "execution_count": 17,
   "id": "250d8c79-399b-4fcf-9b8c-e91b9f39ee8e",
   "metadata": {},
   "outputs": [
    {
     "data": {
      "text/latex": [
       "$0.837532015534738$"
      ],
      "text/plain": [
       "0.837532015534738"
      ]
     },
     "execution_count": 17,
     "metadata": {},
     "output_type": "execute_result"
    }
   ],
   "source": [
    "@vars x\n",
    "diff(f(x), x).subs(x, 1.2)"
   ]
  },
  {
   "cell_type": "code",
   "execution_count": 21,
   "id": "8a7aac91",
   "metadata": {},
   "outputs": [
    {
     "data": {
      "text/plain": [
       "0.8375320155347377"
      ]
     },
     "execution_count": 21,
     "metadata": {},
     "output_type": "execute_result"
    }
   ],
   "source": [
    "@variables x\n",
    "\n",
    "symbolic_diff = eval(\n",
    "     build_function(Symbolics.derivative(f(x), x), x)\n",
    ")\n",
    "\n",
    "symbolic_diff(1.2)"
   ]
  }
 ],
 "metadata": {
  "@webio": {
   "lastCommId": null,
   "lastKernelId": null
  },
  "kernelspec": {
   "display_name": "Julia 1.7.2",
   "language": "julia",
   "name": "julia-1.7"
  },
  "language_info": {
   "file_extension": ".jl",
   "mimetype": "application/julia",
   "name": "julia",
   "version": "1.7.2"
  },
  "toc": {
   "base_numbering": 1,
   "nav_menu": {},
   "number_sections": true,
   "sideBar": true,
   "skip_h1_title": false,
   "title_cell": "Table of Contents",
   "title_sidebar": "Contents",
   "toc_cell": false,
   "toc_position": {},
   "toc_section_display": true,
   "toc_window_display": false
  }
 },
 "nbformat": 4,
 "nbformat_minor": 5
}
