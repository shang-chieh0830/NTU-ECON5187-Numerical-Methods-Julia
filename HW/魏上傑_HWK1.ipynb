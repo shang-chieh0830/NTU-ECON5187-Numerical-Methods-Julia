{
 "cells": [
  {
   "cell_type": "markdown",
   "id": "fbc4b55c",
   "metadata": {},
   "source": [
    "# 作業 1 （荒野求生）\n",
    "\n",
    "\n",
    "- **前三題一定要做，以前三題的表現給分。後面幾題不計分但也一定要寫；寫錯、沒寫完、寫不出來沒關係，但要有嘗試的痕跡或證據（例如，幾行相關的code)。**\n",
    "- 請於下星期一（2/27）下午 2:00 前上傳 NTU Cool 繳交。超過了時間系統無法收件。\n",
    "- 繳交時，請將檔案名稱改爲「姓名_HWK1.ipynb」;例如「王小明_HWK1.ipynb」。\n",
    "- 題目來源：111年學測數A及數B。\n",
    "- 此作業的目的不在考數學，而在練習使用 Julia；歡迎上網找相關題目的解答。重點在過程不在答案。\n",
    "  - [數A影音解答](https://www.youtube.com/watch?v=sWfWqDtsa5o&ab_channel=CMmath)\n",
    "  - [數B影音解答](https://www.youtube.com/watch?v=j3jigIF2QO8&ab_channel=CMmath)\n",
    "- 所有數字必須透過程式算出來，不能心算等人為介入。例如：\n",
    "  - $n(n-1)/2 > 200$, 不能用心算得出 $n$ 最小為15。\n",
    "  - $-3.1$ 到 $8.9$ 之間有幾個整數，不能扳手指算。\n",
    "- 假設你的解答過程及答案將作爲補習班教學之用。請適當註解程式，讓解答容易被學生了解。\n",
    "\n",
    "\n",
    "\n"
   ]
  },
  {
   "cell_type": "markdown",
   "id": "4e7c8d13",
   "metadata": {},
   "source": [
    "## (111學測數B單選5) 設矩陣 $A = \\begin{bmatrix} 1 & 1 \\\\ 1 & -1\\end{bmatrix}$，若 $A^7 - 3A = \\begin{bmatrix} a & b \\\\ c & d\\end{bmatrix}$，則 $a + b + c + d$ 之值為何？\n",
    "\n",
    "Hint 1: 算出 $A^7 - 3A$ 的矩陣，然後把裏面的 elements 相加。想想看，如何把一個矩陣的 elements 加起來。"
   ]
  },
  {
   "cell_type": "code",
   "execution_count": 1,
   "id": "55ec91fc",
   "metadata": {},
   "outputs": [
    {
     "data": {
      "text/plain": [
       "2×2 Matrix{Int64}:\n",
       " 1   1\n",
       " 1  -1"
      ]
     },
     "execution_count": 1,
     "metadata": {},
     "output_type": "execute_result"
    }
   ],
   "source": [
    "A=[1 1\n",
    "   1 -1]"
   ]
  },
  {
   "cell_type": "code",
   "execution_count": 5,
   "id": "06b5022d",
   "metadata": {},
   "outputs": [
    {
     "data": {
      "text/plain": [
       "2×2 Matrix{Int64}:\n",
       " 5   5\n",
       " 5  -5"
      ]
     },
     "execution_count": 5,
     "metadata": {},
     "output_type": "execute_result"
    }
   ],
   "source": [
    "A^7-3*A"
   ]
  },
  {
   "cell_type": "code",
   "execution_count": 4,
   "id": "64c0ddf9",
   "metadata": {},
   "outputs": [
    {
     "data": {
      "text/plain": [
       "10"
      ]
     },
     "execution_count": 4,
     "metadata": {},
     "output_type": "execute_result"
    }
   ],
   "source": [
    "sum(A^7-3*A)"
   ]
  },
  {
   "cell_type": "markdown",
   "id": "d153ef86",
   "metadata": {},
   "source": [
    "## (111學測數A單選5） 已知某地區有 30%的人口感染某傳染病。針對該傳染病的快篩試劑檢驗，有陽性或陰性兩結果。已知該試劑將染病者判為陽性的機率為 80%，將未染病者判為陰性的機率則為60%。為降低該試劑將染病者誤判為陰性的情況，專家建議連續採檢三次。若單次採檢判為陰性者中，染病者的機率為 P；而連續採檢三次皆判為陰性者中，染病者的機率為 P '。試問 P/P' 為多少？"
   ]
  },
  {
   "cell_type": "code",
   "execution_count": 1,
   "id": "38bd412a",
   "metadata": {},
   "outputs": [
    {
     "data": {
      "text/plain": [
       "0.125"
      ]
     },
     "execution_count": 1,
     "metadata": {},
     "output_type": "execute_result"
    }
   ],
   "source": [
    "P=0.3*0.2/(0.3*0.2+0.7*0.6)"
   ]
  },
  {
   "cell_type": "code",
   "execution_count": 8,
   "id": "3f4ce713",
   "metadata": {},
   "outputs": [
    {
     "data": {
      "text/plain": [
       "0.015625"
      ]
     },
     "execution_count": 8,
     "metadata": {},
     "output_type": "execute_result"
    }
   ],
   "source": [
    "P1=(0.3*0.2*0.2*0.2)/(0.3*0.2*0.2*0.2+0.7*0.6*0.6*0.6)"
   ]
  },
  {
   "cell_type": "code",
   "execution_count": 9,
   "id": "6dfc77d0",
   "metadata": {},
   "outputs": [
    {
     "data": {
      "text/plain": [
       "8.0"
      ]
     },
     "execution_count": 9,
     "metadata": {},
     "output_type": "execute_result"
    }
   ],
   "source": [
    "P/P1"
   ]
  },
  {
   "cell_type": "markdown",
   "id": "a8011ed3",
   "metadata": {},
   "source": [
    "## (111學測數A單選1） 某冰淇淋店最少需準備 n 桶不同口味的冰淇淋，才能滿足廣告所稱「任選兩球不同口味冰淇淋的組合數超過 100 種」。試問來店顧客從 n 桶中任選兩球（可為同一口味）共有幾種方法？請提供至少三種解法：\n",
    "- ### 不使用任何 package (hint: 可以用 `while` loop),\n",
    "\n",
    "- ### 使用 `Combinatorics` package (hint: 可參考[這個連結](https://juliamath.github.io/Combinatorics.jl/dev/api/#Combinatorics.combinations-Tuple{Any,%20Integer}); 可以用 `collect()` 函數）,\n",
    "- ### 使用 `Roots` package （hint: 定義一個函數，然後用 `find_zero()` 求解）。\n"
   ]
  },
  {
   "cell_type": "code",
   "execution_count": 13,
   "id": "db304134",
   "metadata": {},
   "outputs": [
    {
     "name": "stdout",
     "output_type": "stream",
     "text": [
      "最少需準備 15 桶不同口味的冰淇淋\n",
      "顧客從 15 桶中任選兩球（可為同一口味）共有120.0種方法\n"
     ]
    }
   ],
   "source": [
    "#method 1\n",
    "n=1\n",
    "while n*(n-1)/2<=100\n",
    "    n+=1\n",
    "end\n",
    "\n",
    "println(\"最少需準備 $(n) 桶不同口味的冰淇淋\")\n",
    "println(\"顧客從 $n 桶中任選兩球（可為同一口味）共有$(n*(n-1)/2+15)種方法\")"
   ]
  },
  {
   "cell_type": "code",
   "execution_count": null,
   "id": "12e9150b",
   "metadata": {},
   "outputs": [],
   "source": [
    "#method 2"
   ]
  },
  {
   "cell_type": "code",
   "execution_count": 18,
   "id": "f4737abe",
   "metadata": {},
   "outputs": [],
   "source": [
    "#using Pkg; Pkg.add(\"Combinatorics\")"
   ]
  },
  {
   "cell_type": "code",
   "execution_count": 15,
   "id": "a88269a1",
   "metadata": {},
   "outputs": [],
   "source": [
    "using Combinatorics"
   ]
  },
  {
   "cell_type": "code",
   "execution_count": 23,
   "id": "c0a82213",
   "metadata": {},
   "outputs": [
    {
     "name": "stdout",
     "output_type": "stream",
     "text": [
      "最少需準備 15 桶不同口味的冰淇淋\n",
      "顧客從 15 桶中任選兩球（可為同一口味）共有120種方法\n"
     ]
    }
   ],
   "source": [
    "n = 1\n",
    "while length(collect(combinations(1:n, 2))) <= 100\n",
    "    n += 1\n",
    "end\n",
    "\n",
    "println(\"最少需準備 $n 桶不同口味的冰淇淋\")\n",
    "\n",
    "println(\"顧客從 $n 桶中任選兩球（可為同一口味）共有$(length(collect(with_replacement_combinations(1:n, 2))))種方法\")"
   ]
  },
  {
   "cell_type": "code",
   "execution_count": 19,
   "id": "15a012ac",
   "metadata": {},
   "outputs": [],
   "source": [
    "# method 3\n",
    "# using Pkg; Pkg.add(\"Roots\")"
   ]
  },
  {
   "cell_type": "code",
   "execution_count": 25,
   "id": "fe1419da",
   "metadata": {},
   "outputs": [],
   "source": [
    "using Roots"
   ]
  },
  {
   "cell_type": "code",
   "execution_count": 26,
   "id": "d62f5738",
   "metadata": {},
   "outputs": [
    {
     "name": "stdout",
     "output_type": "stream",
     "text": [
      "最少需準備 15.0 桶不同口味的冰淇淋\n",
      "顧客從 15.0 桶中任選兩球（可為同一口味）共有120.0種方法\n"
     ]
    }
   ],
   "source": [
    "function f(x)\n",
    "    return (x*(x-1)/2)-100\n",
    "end\n",
    "\n",
    "n=find_zero(f,2)\n",
    "\n",
    "println(\"最少需準備 $(round(n)) 桶不同口味的冰淇淋\")\n",
    "\n",
    "println(\"顧客從 $(round(n)) 桶中任選兩球（可為同一口味）共有$(round(n)*(round(n)-1)/2+15)種方法\")\n"
   ]
  },
  {
   "cell_type": "markdown",
   "id": "1f809979",
   "metadata": {},
   "source": [
    "## (111學測數A選填13）有一款線上遊戲推出「十連抽」的抽卡機制，「十連抽」意思為系統自動做十次的抽卡 動作。若每次「十連抽」需用 1500 枚代幣，抽中金卡的機率在前九次皆為 2%，在第 十次為 10%。今某生有代幣 23000 枚，且不斷使用「十連抽」，抽到不能再抽為止。則某生抽到金卡張數的期望值為多少張？\n",
    "\n",
    "Hint: 幾個可以用、不一定全部用到的函數：`for` loop, `round()`, `trunc()`."
   ]
  },
  {
   "cell_type": "code",
   "execution_count": 51,
   "id": "85801496",
   "metadata": {},
   "outputs": [
    {
     "data": {
      "text/plain": [
       "4.2"
      ]
     },
     "execution_count": 51,
     "metadata": {},
     "output_type": "execute_result"
    }
   ],
   "source": [
    "expected=div(23000,1500)*0.1+div(23000,1500)*9*0.02  #div(,) 取商"
   ]
  },
  {
   "cell_type": "markdown",
   "id": "c0b8b11f",
   "metadata": {},
   "source": [
    "## (111學測數B單選1) 試問有多少個整數 $x$ 滿足 $2|x| + x < 10$？\n",
    "\n",
    "Hint: 有很多方法，包括比較直覺的 `for` 或 `while` loops."
   ]
  },
  {
   "cell_type": "code",
   "execution_count": 42,
   "id": "5c964a47",
   "metadata": {},
   "outputs": [
    {
     "name": "stdout",
     "output_type": "stream",
     "text": [
      "共有13個整數滿足\n"
     ]
    }
   ],
   "source": [
    "n=0\n",
    "for i in -10:10\n",
    "    if 2*abs(i)+i<10\n",
    "        n+=1\n",
    "    end\n",
    "end\n",
    "\n",
    "println(\"共有$(n)個整數滿足\")"
   ]
  },
  {
   "cell_type": "code",
   "execution_count": 41,
   "id": "a9e11fcc",
   "metadata": {},
   "outputs": [
    {
     "name": "stdout",
     "output_type": "stream",
     "text": [
      "共有13個整數滿足\n"
     ]
    }
   ],
   "source": [
    "count = 0\n",
    "x = -10\n",
    "while x <= 10\n",
    "    if 2abs(x) + x < 10\n",
    "        count += 1\n",
    "    end\n",
    "    x += 1\n",
    "end\n",
    "\n",
    "println(\"共有$(count)個整數滿足\")"
   ]
  },
  {
   "cell_type": "markdown",
   "id": "0c31d3ed",
   "metadata": {},
   "source": [
    "## (111學測數B單選2) 某燈會布置變色閃燈，每次啟動後的閃燈顏色會依照以下的順序做週期性變換:藍-白- 紅-白-藍-白-紅-白-藍-白-紅-白...，每四次一循環，其中藍光每次持續 5 秒，白光每次持 續 2 秒，而紅光每次持續 6 秒。假設換燈號的時間極短可被忽略，試算出啟動後第 99 至 101 秒之間的燈號。"
   ]
  },
  {
   "cell_type": "code",
   "execution_count": 21,
   "id": "d4ce53a6",
   "metadata": {},
   "outputs": [
    {
     "name": "stdout",
     "output_type": "stream",
     "text": [
      "it's red at the 99th second\n",
      "it's red at the 101th second\n"
     ]
    }
   ],
   "source": [
    "blue=5\n",
    "white=2\n",
    "red=6\n",
    "period=blue+white+red+white\n",
    "\n",
    "\n",
    "function color(n)\n",
    "    remain = n % period #取餘\n",
    "    if remain < blue\n",
    "        println(\"it's blue at the $(n)th second\")\n",
    "    elseif remain < blue + white\n",
    "        println(\"it's white at the $(n)th second\")\n",
    "    elseif remain < blue + white + red\n",
    "        println(\"it's red at the $(n)th second\")\n",
    "    else\n",
    "        println(\"it's white at the $(n)th second\")\n",
    "    end\n",
    "end\n",
    "\n",
    "color(99)\n",
    "color(101)\n",
    "\n",
    "\n",
    "\n",
    "\n",
    "\n",
    "    "
   ]
  },
  {
   "cell_type": "markdown",
   "id": "745b3253",
   "metadata": {},
   "source": [
    "## (111學測數B單選3) 有八棟大廈排成一列，由左至右分別編號 1, 2, 3, 4, 5, 6, 7, 8。今電信公司想選取其中三棟 大廈的屋頂分別設立一座電信基地台。若基地台不能設立於相鄰的兩棟大廈，以免訊號 互相干擾，試問在 3 號大廈不設立基地台的情況下，有多少種設立基地台的選取方法?\n",
    "\n",
    "Hint: 可以寫一個大的 `for` loop, 或用 Combinatorics 套件。"
   ]
  },
  {
   "cell_type": "code",
   "execution_count": 73,
   "id": "fa3d6523",
   "metadata": {},
   "outputs": [
    {
     "name": "stdout",
     "output_type": "stream",
     "text": [
      "總共有 13 種選擇方式\n"
     ]
    }
   ],
   "source": [
    "count = 0\n",
    "\n",
    "for i in 1:8\n",
    "    if i == 3\n",
    "        continue\n",
    "    end\n",
    "\n",
    "    for j in i+1:8  #避免出現(i,j,k)數字相同 只有順序不同  所以從i+1開始\n",
    "        if j == 3 || j - i < 2\n",
    "            continue\n",
    "        end\n",
    "\n",
    "        for k in j+1:8\n",
    "            if k == 3 || k - i < 2 || k - j < 2\n",
    "                continue\n",
    "            end\n",
    "\n",
    "            count += 1\n",
    "        end\n",
    "    end\n",
    "end\n",
    "\n",
    "println(\"總共有 $count 種選擇方式\")\n",
    "\n",
    "\n",
    "\n",
    "            "
   ]
  },
  {
   "cell_type": "code",
   "execution_count": 16,
   "id": "04ecf605",
   "metadata": {},
   "outputs": [
    {
     "name": "stdout",
     "output_type": "stream",
     "text": [
      "總共有 13 種選擇方式\n"
     ]
    }
   ],
   "source": [
    "using Combinatorics\n",
    "\n",
    "count = 0\n",
    "\n",
    "for comb in combinations(1:8, 3)\n",
    "    if 3 in comb\n",
    "        continue\n",
    "    end\n",
    "\n",
    "    if all(diff(comb) .>= 2)\n",
    "        # diff(sort(comb)) 求出該組合中相鄰兩個數字之間的差\n",
    "        # all(... .>= 2) 判斷所有差是否都大於等於 2\n",
    "        \n",
    "        count += 1\n",
    "    end\n",
    "end\n",
    "\n",
    "println(\"總共有 $count 種選擇方式\")"
   ]
  },
  {
   "cell_type": "markdown",
   "id": "7b04a212",
   "metadata": {},
   "source": [
    "## (111學測數B選填17) 有三女三男共六位在校時和老師常有互動的同學，畢業後老師邀聚餐，餐後七人站 一橫排照相留念。已知同學中有一女一男兩位曾有過不愉快，照相時不想相鄰，而 老師站在正中間且三位男生不完全站在老師的同一側，則可能的排列方式共有多少種? \n",
    "\n",
    "Hint: `factorial()`"
   ]
  },
  {
   "cell_type": "code",
   "execution_count": 56,
   "id": "e111fac9",
   "metadata": {},
   "outputs": [
    {
     "name": "stdout",
     "output_type": "stream",
     "text": [
      "456\n"
     ]
    }
   ],
   "source": [
    "#all possible combinations(fixing teacher at the center)\n",
    "total=factorial(6)\n",
    "\n",
    "\n",
    "#不和男女相鄰\n",
    "A=4*factorial(2)*factorial(4)\n",
    "#視該對男女為一組 則共有4個位子擺放\n",
    "#factorial(2): 該對男女本身的排列\n",
    "#factorial(4): 另外4個學生本身的排列\n",
    "\n",
    "\n",
    "#三位男生完全站在老師的同一側\n",
    "B=2*factorial(3)*factorial(3)\n",
    "# 老師兩邊對稱所以*2\n",
    "# 三個男生的排列：factorial(3)\n",
    "# 三個女生的排列：factorial(3)\n",
    "\n",
    "# A,B 交集為空\n",
    "\n",
    "println(total-A-B)"
   ]
  }
 ],
 "metadata": {
  "kernelspec": {
   "display_name": "Julia 1.7.2",
   "language": "julia",
   "name": "julia-1.7"
  },
  "language_info": {
   "file_extension": ".jl",
   "mimetype": "application/julia",
   "name": "julia",
   "version": "1.7.2"
  },
  "toc": {
   "base_numbering": 1,
   "nav_menu": {},
   "number_sections": true,
   "sideBar": true,
   "skip_h1_title": true,
   "title_cell": "Table of Contents",
   "title_sidebar": "Contents",
   "toc_cell": false,
   "toc_position": {
    "height": "calc(100% - 180px)",
    "left": "10px",
    "top": "150px",
    "width": "207.415px"
   },
   "toc_section_display": true,
   "toc_window_display": false
  }
 },
 "nbformat": 4,
 "nbformat_minor": 5
}
