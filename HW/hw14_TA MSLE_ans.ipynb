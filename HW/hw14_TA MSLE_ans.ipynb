{
 "cells": [
  {
   "cell_type": "markdown",
   "id": "9e74d633",
   "metadata": {},
   "source": [
    "# Homework on MSLE\n",
    "\n",
    "Recall that in the previous homework we have Model A and its log-likelihood function of observation $i$ is as follows.\n",
    "\n",
    "\\begin{align}\n",
    " y_i & = \\alpha + x_i' \\beta + v_i - u_i,\\\\\n",
    " v_i & \\sim N(0, \\sigma_v^2), \\\\\n",
    " u_i & \\sim N^+(0, \\sigma_u^2),\n",
    "\\end{align}\n",
    " \n",
    "\\begin{aligned}\n",
    "L_i = - \\ln \\left(\\frac{1}{2}\\right) -\\frac{1}{2}\\ln (\\sigma_v^2 + \\sigma_u^2) + \\ln\n",
    "\\phi\\left(\\frac{\\epsilon_i}{\\sqrt{\\sigma_v^2 + \\sigma_u^2}} \\right) +\n",
    "\\ln \\Phi\\left(\\frac{\\mu_{*i}}{\\sigma_*} \\right),\n",
    "\\end{aligned}\n",
    "\n",
    "\n",
    "where $\\phi(z)$ and $\\Phi(z)$ are the PDF and CDF of a standard normal distribution. Also,\n",
    "\n",
    "\\begin{aligned}\n",
    " \\mu_{*i}  = \\frac{-\\sigma_u^2 \\epsilon_i}{\\sigma_v^2 + \\sigma_u^2},\\qquad\n",
    " \\sigma_*^2  = \\frac{\\sigma_v^2  \\sigma_u^2}{\\sigma_v^2 + \\sigma_u^2}. \n",
    "\\end{aligned}\n",
    "\n",
    "\n",
    "###### 1. Write a Julia function of the Model's log-likelihood function.\n",
    "Write a function for Model A's log-likelihood that is suitable for estimating using the Monte Carlo simulation approach (MCSA of Section 1.4 in the lecture note). \n",
    "\n",
    "  - Name the function `NHN_msle`.\n",
    "  - Use the Monte Carlo method (not the Quasi Monte Carlo method) to draw samples of $u_i^s$, $s=1,\\ldots,S$.\n",
    "\n",
    "\n",
    "###### 2. Empirical Estimation\n",
    "The attached dataset, `sampledata.csv`, contains data of agricultural production from India. The variables are the follows. They have been converged to appropriate units (using log, etc.) so no further data processing is necessary.\n",
    "\n",
    "\n",
    "|          |  |        |\n",
    "|-------------------------------------|---|---------------------|\n",
    "| yvar: rice output                   |   | Lland: land         |\n",
    "| Plland: irrigated land              |   | Llabor: labor       |\n",
    "| Lbull: bull cost                    |   | Lcost: other costs  |\n",
    "| yr: production year                 |   | age: age of farmers |\n",
    "| school: farmers' years of schooling |   | yr_1: same as year  |\n",
    "\n",
    "\n",
    "Your work is to use `NHN_msle` to estimate the data with the following specification.\n",
    "\n",
    "$yvar_i = \\alpha + \\beta_1 Lland_i + \\beta_2 Plland_i + \\beta_3 Llabor_i + \\beta_4 Lbull_i + \\beta_5 Lcost_i + \\beta_6 yr_i + v_i - u_i$.\n",
    "  \n",
    "You may use the following code to read in the data.\n",
    "\n",
    "```julia\n",
    "####################\n",
    "using DataFrames, CSV\n",
    "df = DataFrame(CSV.File(\"sampledata.csv\"))\n",
    "y = df[:, \"yvar\"]       # the dep var\n",
    "x = Matrix(df[:, 2:7])  # the indep vars, not including a constant\n",
    "####################\n",
    "```\n",
    "\n",
    "***The required result is a table with three columns: the 1st column is the coefficients, the 2nd column is the standard errors, and the 3rd column is the $t$ statistics.***\n",
    "\n",
    "  - The table is preferably in Dataframe. How to convert a matrix to a DataFrame? Ask ChatGPT!\n",
    "\n",
    "\n",
    "###### 2.1: The Estimation Guidelines\n",
    "  \n",
    "  - You may use $-0.1$ as the initial values for all parameters. Or you may use the OLS result as the initial values for the $\\alpha$ and $\\beta$ coefficients (`x2=hcat(ones(size(y,1), 1), x); ols=inv(x2'x2)*(x2'y)`). Or, you may choose any initial values that seem to be reasonable choices. However, you _**cannot**_ use the true answer as the initial values.\n",
    "\n",
    "  - Set the value of $S$ (the number of random draws on $u$) to be $S=2^{10} -1$.\n",
    "\n",
    "  - I strongly suggest that your program uses the `autodiff = :forward` option (which uses automatic differentiation) in the estimation.\n",
    "  \n",
    "    - The `autodiff = :forward` option puts stringent requirements on data types which may not easy to work out. I suggest that you start with your program without the option (which would then default to numerical finite differences that is easier on the data). After you have a working program, you may add the option back and see if it works. Most likely you'll have error messages and you have to work out the issues. If you can't make it work, that's fine. Try your best.  \n",
    "  \n",
    "\n",
    "- Hint 1: Look at $|g(x)|$ to judge whether it is converged. It should be smaller than the convergence criterion. \n",
    "  \n",
    "- Hint 2: The answer from the MSLE should be close to but not exactly the same as that from the MLE.\n"
   ]
  },
  {
   "cell_type": "code",
   "execution_count": 10,
   "id": "6bbc838d",
   "metadata": {},
   "outputs": [
    {
     "data": {
      "text/plain": [
       "4-element Vector{Float64}:\n",
       " 0.521213795535383\n",
       " 0.5868067574533484\n",
       " 0.8908786980927811\n",
       " 0.19090669902576285"
      ]
     },
     "metadata": {},
     "output_type": "display_data"
    },
    {
     "data": {
      "text/plain": [
       "4-element Vector{Float64}:\n",
       " 0.521213795535383\n",
       " 0.5868067574533484\n",
       " 0.8908786980927811\n",
       " 0.19090669902576285"
      ]
     },
     "metadata": {},
     "output_type": "display_data"
    }
   ],
   "source": [
    "using Random\n",
    "function test()\n",
    "    Random.seed!(123)\n",
    "    rand(4) |> display\n",
    "end\n",
    "\n",
    "test()\n",
    "test()"
   ]
  },
  {
   "cell_type": "code",
   "execution_count": 2,
   "id": "14dae2dd",
   "metadata": {},
   "outputs": [
    {
     "data": {
      "text/plain": [
       "9-element Vector{Float64}:\n",
       "  1.5935055530497055\n",
       "  0.29500356731181615\n",
       "  0.23468433121898327\n",
       "  1.1560600232811382\n",
       " -0.42852865254127254\n",
       "  0.008369944027572155\n",
       "  0.03346338738562464\n",
       "  0.2345170099875552\n",
       "  0.03705618467482772"
      ]
     },
     "metadata": {},
     "output_type": "display_data"
    },
    {
     "data": {
      "text/plain": [
       " * Status: success (objective increased between iterations)\n",
       "\n",
       " * Candidate solution\n",
       "    Final objective value:     9.393060e+01\n",
       "\n",
       " * Found with\n",
       "    Algorithm:     Newton's Method\n",
       "\n",
       " * Convergence measures\n",
       "    |x - x'|               = 3.96e-08 ≰ 0.0e+00\n",
       "    |x - x'|/|x'|          = 1.20e-08 ≰ 0.0e+00\n",
       "    |f(x) - f(x')|         = 1.85e-13 ≰ 0.0e+00\n",
       "    |f(x) - f(x')|/|f(x')| = 1.97e-15 ≰ 0.0e+00\n",
       "    |g(x)|                 = 1.67e-12 ≤ 1.0e-07\n",
       "\n",
       " * Work counters\n",
       "    Seconds run:   12  (vs limit Inf)\n",
       "    Iterations:    20\n",
       "    f(x) calls:    86\n",
       "    ∇f(x) calls:   86\n",
       "    ∇²f(x) calls:  20\n"
      ]
     },
     "metadata": {},
     "output_type": "display_data"
    }
   ],
   "source": [
    "using Random, Distributions, Optim, StatsFuns, DataFrames, CSV, LinearAlgebra\n",
    "using HaltonSequences\n",
    "\n",
    "\n",
    "#### define programs\n",
    "\n",
    "pdf_N(e, sigma_v) = pdf(Normal(0, sigma_v), e)  # define normal density     \n",
    "\n",
    "function NHN_msle(y, x, α, β, log_σᵤ², log_σᵥ²; draws=2^10-1)\n",
    "   \n",
    "   σᵤ = exp(0.5*log_σᵤ²) \n",
    "   σᵥ = exp(0.5*log_σᵥ²)    \n",
    "      \n",
    "   u_list = quantile( truncated(Normal(0, σᵤ), lower=0.0), rand(Xoshiro(123), draws) )  \n",
    " # u_list = quantile( truncated(Normal(0, σᵤ), 0.0, Inf), rand(Xoshiro(123), draws) ) # no, doesn't work with ForwardDiff b/c of \"Inf\"\n",
    " # u_list = quantile( truncated(Normal(0, σᵤ), 0.0, 999), rand(Xoshiro(123), draws) ) # good, replace \"Inf\" by a large number like \"999\"\n",
    " # u_list = quantile(Normal(0, σᵤ), 0.5 * rand(Xoshiro(123), draws) .+ 0.5)           # better!\n",
    " # u_list = rand( truncated(Normal(0, σᵤ), lower=0.0), draws)                         # no, the `rand( truncated())` does not work with ForwardDiff \n",
    " # u_list = abs.(rand( Normal(0, σᵤ), draws))                                         # it works for this case too\n",
    "  \n",
    "    ϵ  = y .- α .- x*β\n",
    "    \n",
    "    llike = Array{Real}(undef, size(y,1))  # \"Real\" is important to work with ForwardDiff\n",
    "    for i in 1:size(y,1) \n",
    "      llike[i] = log(mean(pdf_N.(ϵ[i,1] .+ u_list, σᵥ) ))\n",
    "    end\n",
    "    \n",
    "    return -sum(llike)\n",
    "end\n",
    "\n",
    "\n",
    "##### Read in data\n",
    "\n",
    "df = DataFrame(CSV.File(\"sampledata.csv\"))\n",
    "y = df[:, \"yvar\"]        # the dep var\n",
    "x = Matrix(df[:, 2:7])   # not including the constant\n",
    "\n",
    "nofx = size(x,2)    # not including the constant\n",
    "nofpara = 1+nofx+2  # number of parameters; \"1\": constant; \"2\": sigma_v and sigma_u\n",
    "\n",
    "#### prepare for estimation\n",
    "\n",
    "init = -0.1*ones(nofpara)  # initial values\n",
    "\n",
    "\n",
    "#******** start the estimation ************#\n",
    "\n",
    "func = TwiceDifferentiable(vars -> NHN_msle(y, x, vars[1], vars[2:1+nofx], vars[end-1], vars[end], draws=2^10-1),\n",
    "                           ones(nofpara); autodiff = :forward)\n",
    "\n",
    "hwk14 = optimize(func, init, Newton(),\n",
    "                 Optim.Options(g_tol = 1e-7,\n",
    "                               iterations = 1000) )\n",
    "\n",
    "\n",
    "if isnan(Optim.g_residual(func)) || (Optim.g_residual(func) > 1e-7) \n",
    "    println(\"The gradients are problematic. There is a problem in the convergence. See below.\\n\")\n",
    "    @show hwk14 \n",
    "    @show Optim.minimizer(hwk14)\n",
    "    throw(\"try again\")\n",
    "end \n",
    "\n",
    "_coevec = Optim.minimizer(hwk14)\n",
    "hwk14_coeff = deepcopy(_coevec)                # keep _coevec untouched\n",
    "hwk14_coeff[end-1:end, 1] = exp.(hwk14_coeff[end-1:end, 1])     # convert unit of the last two elements\n",
    "\n",
    "hwk14_coeff |> display\n",
    "hwk14 |> display\n"
   ]
  },
  {
   "cell_type": "code",
   "execution_count": 2,
   "id": "54300969",
   "metadata": {
    "scrolled": true
   },
   "outputs": [
    {
     "data": {
      "text/html": [
       "<div class=\"data-frame\"><p>9 rows × 4 columns</p><table class=\"data-frame\"><thead><tr><th></th><th>RowName</th><th>coeff</th><th>std err</th><th>t stat</th></tr><tr><th></th><th title=\"String\">String</th><th title=\"Float64\">Float64</th><th title=\"Float64\">Float64</th><th title=\"Float64\">Float64</th></tr></thead><tbody><tr><th>1</th><td>const</td><td>1.59351</td><td>0.367522</td><td>4.33581</td></tr><tr><th>2</th><td>Lland</td><td>0.295004</td><td>0.0717048</td><td>4.11414</td></tr><tr><th>3</th><td>Plland</td><td>0.234684</td><td>0.183638</td><td>1.27797</td></tr><tr><th>4</th><td>Llabor</td><td>1.15606</td><td>0.0861071</td><td>13.4258</td></tr><tr><th>5</th><td>Lbull</td><td>-0.428529</td><td>0.0604068</td><td>-7.09405</td></tr><tr><th>6</th><td>Lcost</td><td>0.00836994</td><td>0.0129658</td><td>0.645542</td></tr><tr><th>7</th><td>yr</td><td>0.0334634</td><td>0.00832977</td><td>4.01732</td></tr><tr><th>8</th><td>σᵤ²</td><td>0.234517</td><td>0.0466006</td><td>5.03249</td></tr><tr><th>9</th><td>σᵥ²</td><td>0.0370562</td><td>0.010178</td><td>3.6408</td></tr></tbody></table></div>"
      ],
      "text/latex": [
       "\\begin{tabular}{r|cccc}\n",
       "\t& RowName & coeff & std err & t stat\\\\\n",
       "\t\\hline\n",
       "\t& String & Float64 & Float64 & Float64\\\\\n",
       "\t\\hline\n",
       "\t1 & const & 1.59351 & 0.367522 & 4.33581 \\\\\n",
       "\t2 & Lland & 0.295004 & 0.0717048 & 4.11414 \\\\\n",
       "\t3 & Plland & 0.234684 & 0.183638 & 1.27797 \\\\\n",
       "\t4 & Llabor & 1.15606 & 0.0861071 & 13.4258 \\\\\n",
       "\t5 & Lbull & -0.428529 & 0.0604068 & -7.09405 \\\\\n",
       "\t6 & Lcost & 0.00836994 & 0.0129658 & 0.645542 \\\\\n",
       "\t7 & yr & 0.0334634 & 0.00832977 & 4.01732 \\\\\n",
       "\t8 & σᵤ² & 0.234517 & 0.0466006 & 5.03249 \\\\\n",
       "\t9 & σᵥ² & 0.0370562 & 0.010178 & 3.6408 \\\\\n",
       "\\end{tabular}\n"
      ],
      "text/plain": [
       "\u001b[1m9×4 DataFrame\u001b[0m\n",
       "\u001b[1m Row \u001b[0m│\u001b[1m RowName \u001b[0m\u001b[1m coeff       \u001b[0m\u001b[1m std err    \u001b[0m\u001b[1m t stat    \u001b[0m\n",
       "\u001b[1m     \u001b[0m│\u001b[90m String  \u001b[0m\u001b[90m Float64     \u001b[0m\u001b[90m Float64    \u001b[0m\u001b[90m Float64   \u001b[0m\n",
       "─────┼─────────────────────────────────────────────\n",
       "   1 │ const     1.59351     0.367522     4.33581\n",
       "   2 │ Lland     0.295004    0.0717048    4.11414\n",
       "   3 │ Plland    0.234684    0.183638     1.27797\n",
       "   4 │ Llabor    1.15606     0.0861071   13.4258\n",
       "   5 │ Lbull    -0.428529    0.0604068   -7.09405\n",
       "   6 │ Lcost     0.00836994  0.0129658    0.645542\n",
       "   7 │ yr        0.0334634   0.00832977   4.01732\n",
       "   8 │ σᵤ²       0.234517    0.0466006    5.03249\n",
       "   9 │ σᵥ²       0.0370562   0.010178     3.6408"
      ]
     },
     "execution_count": 2,
     "metadata": {},
     "output_type": "execute_result"
    }
   ],
   "source": [
    " # use Hessian matrix to obtain std. err.\n",
    "\n",
    "hwk14_Hessian  = Optim.hessian!(func, _coevec)  # Hessain evaluated at the coeff vector\n",
    "\n",
    "var_cov_matrix = inv(hwk14_Hessian)             # don't need the \"negative\" of Hessian. Why?\n",
    "stderror  = sqrt.(diag(var_cov_matrix))\n",
    "stderror[end-1:end] = hwk14_coeff[end-1:end] .* stderror[end-1:end]  # convert the unit using the delta method\n",
    "t_stats = hwk14_coeff ./ stderror\n",
    "hwk14_table = hcat(hwk14_coeff, stderror, t_stats)\n",
    "\n",
    " # convert it to a DataFrame\n",
    "\n",
    "column_names = [\"coeff\", \"std err\", \"t stat\"]\n",
    "res = DataFrame(hwk14_table, column_names)\n",
    "row_names = [\"const\", \"Lland\", \"Plland\", \"Llabor\", \"Lbull\", \"Lcost\", \"yr\", \"σᵤ²\", \"σᵥ²\"]\n",
    "\n",
    "res[!, :_RowName] = row_names\n",
    "\n",
    "insertcols!(res, 1, :RowName => res[!, :_RowName])\n",
    "select!(res, Not(:_RowName))\n"
   ]
  }
 ],
 "metadata": {
  "@webio": {
   "lastCommId": null,
   "lastKernelId": null
  },
  "kernelspec": {
   "display_name": "Julia 1.7.2",
   "language": "julia",
   "name": "julia-1.7"
  },
  "language_info": {
   "file_extension": ".jl",
   "mimetype": "application/julia",
   "name": "julia",
   "version": "1.7.2"
  },
  "toc": {
   "base_numbering": 1,
   "nav_menu": {},
   "number_sections": true,
   "sideBar": true,
   "skip_h1_title": false,
   "title_cell": "Table of Contents",
   "title_sidebar": "Contents",
   "toc_cell": false,
   "toc_position": {},
   "toc_section_display": true,
   "toc_window_display": false
  }
 },
 "nbformat": 4,
 "nbformat_minor": 5
}
