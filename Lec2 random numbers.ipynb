{
 "cells": [
  {
   "cell_type": "markdown",
   "id": "b3196d28",
   "metadata": {},
   "source": [
    "# Random Number Generator\n",
    "\n",
    "\n",
    "\n",
    "\n",
    "## What does it mean to generate random numbers? Why do we need it?\n",
    "\n",
    "There are many cases whether we need to generate random numbers or draw random values from distributions.\n",
    "\n",
    "- random draw from a sample: pick a lottery number; draw survey samples\n",
    "- resample a dataset (e.g., for bootstrapping):\n",
    "- do numerical integration: \n",
    "- draw values from distributions to simulate a distribution (when do we use it?)\n",
    "\n",
    "\n",
    "## Is it truly *random*? \n",
    "\n",
    "- truly random: you cannot repeat it\n",
    "  - not good for reproducibility\n",
    "- pseudorandom random numbers   \n",
    "  - use an algorithm to generate numbers\n",
    "  - usually requires a *seed* to recursively generate numbers\n",
    "  - pseudo: 偽; quasi: 類\n",
    "\n",
    "## random number generation vs. random number generator (RNG)\n",
    "\n",
    "- *random number generator* (RNG),  pseudorandom number generator (PRNG). \n",
    "\n",
    "- Mersenne Twister algorithm \n",
    "  - has the root from the Merseen (*[mer-'sen]? well, it's French*) prime number\n",
    "\n",
    "- xoshiro algorithm\n",
    "  - based on xor (*exclusive or*; \"xo\"), shift (\"shi\"), and rotation (\"ro\") functions\n",
    "\n",
    "- Lehmer algorithm\n"
   ]
  },
  {
   "cell_type": "code",
   "execution_count": 2,
   "id": "e058c80a",
   "metadata": {
    "scrolled": true
   },
   "outputs": [
    {
     "data": {
      "text/plain": [
       "StableRNGs.LehmerRNG(state=0x000000000000000000000000000009a5)"
      ]
     },
     "execution_count": 2,
     "metadata": {},
     "output_type": "execute_result"
    }
   ],
   "source": [
    "using Random                     # in the base, no need to \"add\"\n",
    "\n",
    "myrng1 = MersenneTwister(1234);  # create a RNG that may be used for task-specific purposes; \"1234\" is the seed\n",
    "myrng2 = Xoshiro(1234);          # new to Julia 1.7; better; use Xoshiro256++ algorithm(current default algorithm)\n",
    "\n",
    "# using Pkg; Pkg.add(\"StableRNGs\")\n",
    "using StableRNGs\n",
    "myrng3 = StableRNG(1234)         # based on LehmerRNG "
   ]
  },
  {
   "cell_type": "markdown",
   "id": "f5b9a848",
   "metadata": {},
   "source": [
    "The line `myrng1 = Xoshiro(1234)` creates a random number generator (RNG) with the seeding number `1234`, but the line itself does not put the RNG in effect. There are different ways to put RNG in effect, each has its own purposes.\n",
    "\n",
    "`myrng1 = Xoshiro(1234)`還沒有產生亂數，還需要用`Random.seed!`\n",
    "\n",
    "### Put random seeds in \"global\" scope using `Random.seed!(integer_here)`\n",
    "\n",
    "Here, \"global\" means it is effective throughout the script."
   ]
  },
  {
   "cell_type": "code",
   "execution_count": 3,
   "id": "b2d03b9e",
   "metadata": {},
   "outputs": [
    {
     "data": {
      "text/plain": [
       "MersenneTwister(0x712ecbebb6f5e8db26e6d4377d854689)"
      ]
     },
     "metadata": {},
     "output_type": "display_data"
    },
    {
     "data": {
      "text/plain": [
       "Xoshiro(0x126984a90d71337e, 0x4ba6ed3540bc5c9b, 0xd219884643a6b61b, 0xbb87890869a0560e)"
      ]
     },
     "metadata": {},
     "output_type": "display_data"
    },
    {
     "data": {
      "text/plain": [
       "MersenneTwister(5678)"
      ]
     },
     "execution_count": 3,
     "metadata": {},
     "output_type": "execute_result"
    }
   ],
   "source": [
    "Random.seed!(1234)    # use Julia's default RNG\n",
    "Random.seed!(myrng1)  # use myrng1 defined above\n",
    "Random.seed!(myrng2)  # use myrng2 defined above\n",
    "Random.seed!(MersenneTwister(1234)) |> display  # explicit about algorithm\n",
    "# |> is the pipe operator \n",
    "# equivalently, you can write \n",
    "# display(Random.seed!(MersenneTwister(1234)))\n",
    "\n",
    "Random.seed!(Xoshiro(87)) |>display\n",
    "\n",
    "\n",
    "Random.seed!(myrng1, 5678)  # override the seed number of myrng1: 5678 取代1234"
   ]
  },
  {
   "cell_type": "markdown",
   "id": "e5ffc169",
   "metadata": {},
   "source": [
    "###### lecture notes:\n",
    "\n",
    "Which is Julia's default algorithm? How do you figure it out?"
   ]
  },
  {
   "cell_type": "code",
   "execution_count": 7,
   "id": "dd877977",
   "metadata": {},
   "outputs": [
    {
     "data": {
      "text/plain": [
       "false"
      ]
     },
     "execution_count": 7,
     "metadata": {},
     "output_type": "execute_result"
    }
   ],
   "source": [
    "Random.seed!(123)==MersenneTwister(123)"
   ]
  },
  {
   "cell_type": "code",
   "execution_count": 8,
   "id": "bd7aa883",
   "metadata": {},
   "outputs": [
    {
     "data": {
      "text/plain": [
       "true"
      ]
     },
     "execution_count": 8,
     "metadata": {},
     "output_type": "execute_result"
    }
   ],
   "source": [
    "Random.seed!(123)==Xoshiro(123)  # so the default algorithm is Xoshiro"
   ]
  },
  {
   "cell_type": "code",
   "execution_count": 12,
   "id": "2acecdca",
   "metadata": {},
   "outputs": [
    {
     "name": "stdout",
     "output_type": "stream",
     "text": [
      "a1 = [0.521213795535383, 0.5868067574533484, 0.8908786980927811, 0.19090669902576285]\n",
      "a2 = [0.5256623915420473; 0.3905882754313441; 0.044818005017491114; 0.933353287277165;;]\n",
      "a3 = [0.08026576094597515 0.25643321529948804; 0.04902841674350844 0.08627888341903334; 0.9158663552785268 0.27163601818691985; 0.6541013048231016 0.6885748828439957]\n",
      "a4 = [0.12412397060725551 -1.1759655690989972 0.5187435249130559; 0.032114510283638494 -0.1383989248694004 -0.5255958028703693; 0.2322909372677087 -0.7901058199112866 1.0006949009778057; -1.2653140705580803 1.926394978510115 -1.245738127915438]\n"
     ]
    },
    {
     "data": {
      "text/plain": [
       "4×3 Matrix{Float64}:\n",
       "  0.124124   -1.17597    0.518744\n",
       "  0.0321145  -0.138399  -0.525596\n",
       "  0.232291   -0.790106   1.00069\n",
       " -1.26531     1.92639   -1.24574"
      ]
     },
     "execution_count": 12,
     "metadata": {},
     "output_type": "execute_result"
    }
   ],
   "source": [
    "# Let's see some examples.\n",
    "\n",
    "Random.seed!(123)  # seed the global RNG (affect the global scope)\n",
    "\n",
    "#a0=rand(1)  注意：有沒有a0會影響後面的亂數 (想像碼表在跑 這邊a0跑了之後 後面當然不一樣)\n",
    "\n",
    "a1 = rand(4)    # a vector(4-elt) of random numbers from uniform(0,1)\n",
    "a2 = rand(4,1)  # 4x1 matrix\n",
    "a3 = rand(4,2)  # a matrix(4x2) of random numbers from uniform(0,1)\n",
    "a4 = randn(4,3) # a matrix(4x3) of random numbers from N(0,1)\n",
    "\n",
    "#a5=rand(4)  注意：a5!=a1\n",
    "\n",
    "@show a1\n",
    "@show a2  # watch out the difference of `;` btw a1 and a2\n",
    "@show a3\n",
    "@show a4"
   ]
  },
  {
   "cell_type": "markdown",
   "id": "8dfd308d",
   "metadata": {},
   "source": [
    "###### side notes:\n",
    "\n",
    "**Why there is an exclamation mark (\"!\") on some of the functions?**\n",
    "\n",
    "- Function names ending with \"!\" means that the argument of the function would be modified by the result of the function.\n",
    "- Some functions have both the \"!\" and non-\"!\" versions.\n"
   ]
  },
  {
   "cell_type": "code",
   "execution_count": 16,
   "id": "1ecbc6f9",
   "metadata": {},
   "outputs": [
    {
     "name": "stdout",
     "output_type": "stream",
     "text": [
      "list1 = [0.6211826338964892, 0.3332600250411273, 0.7048760768344424, 0.889575603392557]\n"
     ]
    },
    {
     "data": {
      "text/plain": [
       "4-element Vector{Float64}:\n",
       " 0.3332600250411273\n",
       " 0.6211826338964892\n",
       " 0.7048760768344424\n",
       " 0.889575603392557"
      ]
     },
     "metadata": {},
     "output_type": "display_data"
    },
    {
     "name": "stdout",
     "output_type": "stream",
     "text": [
      "list1 = [0.6211826338964892, 0.3332600250411273, 0.7048760768344424, 0.889575603392557]\n",
      "list1 = [0.3332600250411273, 0.6211826338964892, 0.7048760768344424, 0.889575603392557]\n"
     ]
    },
    {
     "data": {
      "text/plain": [
       "4-element Vector{Float64}:\n",
       " 0.3332600250411273\n",
       " 0.6211826338964892\n",
       " 0.7048760768344424\n",
       " 0.889575603392557"
      ]
     },
     "execution_count": 16,
     "metadata": {},
     "output_type": "execute_result"
    }
   ],
   "source": [
    "# Example\n",
    "\n",
    "list1 = rand(4)\n",
    "@show list1\n",
    "\n",
    "# aaa stop 1\n",
    "\n",
    "\n",
    "sort(list1) |> display # it returns the sorted list without modify \"list1\"\n",
    "@show list1  # same list1 as above\n",
    "\n",
    "# aaa stop 2\n",
    "\n",
    "sort!(list1) # it returns the sorted list and saves the results in \"list1\"\n",
    "@show list1 # not the same list1 as above"
   ]
  },
  {
   "cell_type": "markdown",
   "id": "f8745402",
   "metadata": {},
   "source": [
    "###### lecture notes:\n",
    "- show `size(a2)`, `size(a2,1)`, `b1, b2 = size(a2)`, etc., introduce `typeof()`\n",
    "  - important for debugging\n",
    "  ```julia\n",
    "a1 = rand(4) \n",
    "a2 = rand(4,1) \n",
    "# the numbers are not the same; so.. add RNG and comapre, still not the same; use typeof() to check\n",
    "  ``` \n",
    "\n",
    "\n",
    "- global seed vs. task-specific seed; why global random seed may not be enough for reproducibility\n",
    "  - careful about the \"shared\" RNG "
   ]
  },
  {
   "cell_type": "code",
   "execution_count": 18,
   "id": "e4d54441",
   "metadata": {},
   "outputs": [
    {
     "name": "stdout",
     "output_type": "stream",
     "text": [
      "a1 = [0.521213795535383, 0.5868067574533484, 0.8908786980927811, 0.19090669902576285]\n",
      "a2 = [0.5256623915420473; 0.3905882754313441; 0.044818005017491114; 0.933353287277165;;]\n",
      "size(a1) = (4,)\n",
      "size(a2) = (4, 1)\n",
      "typeof(a1) = Vector{Float64}\n",
      "typeof(a2) = Matrix{Float64}\n"
     ]
    },
    {
     "data": {
      "text/plain": [
       "Matrix{Float64} (alias for Array{Float64, 2})"
      ]
     },
     "execution_count": 18,
     "metadata": {},
     "output_type": "execute_result"
    }
   ],
   "source": [
    "@show a1\n",
    "@show a2\n",
    "@show size(a1)\n",
    "@show size(a2)\n",
    "\n",
    "@show typeof(a1)\n",
    "@show typeof(a2)"
   ]
  },
  {
   "cell_type": "code",
   "execution_count": 25,
   "id": "640bb73d",
   "metadata": {},
   "outputs": [
    {
     "name": "stdout",
     "output_type": "stream",
     "text": [
      "a1 = [0.521213795535383, 0.5868067574533484]\n",
      "a2 = [-1.6236037455860806, -0.21766510678354617]\n",
      "b1 = [0.7684476751965699, 0.940515000715187]\n",
      "b2 = [1.1902678809862768, 2.04817970778924]\n",
      "c1 = [0.2923977715754691, 0.4166292994124188]\n",
      "c2 = [0.2609962536607125, -0.2163406590182754]\n"
     ]
    }
   ],
   "source": [
    "# It would be better to show this script in VScode.\n",
    "# println(\"#############\")\n",
    "\n",
    "using Random\n",
    "Random.seed!(123) #global seed i.e.,會影響以下的程式\n",
    "\n",
    "\n",
    "# axx = rand(10) # 亂入, which runs on the global seed\n",
    "# 有沒有 axx 會影響下面a1 a2 的結果(recall:碼表)  原因： share global seed\n",
    "\n",
    "a1 = rand(2) \n",
    "a2 = randn(2) \n",
    "\n",
    "@show a1;\n",
    "@show a2;\n",
    "\n",
    "# aaaa stop 1\n",
    "\n",
    "\n",
    "\n",
    "# bxx = rand(10) # 亂入, which runs on the global seed\n",
    "# 有沒有bxx 不會影響下面b1 b2 的結果 因為b1 b2 有specify algorithm (local; task-specific)\n",
    "\n",
    "b1 = rand(MersenneTwister(123), 2)\n",
    "b2 = randn(MersenneTwister(123), 2)\n",
    "\n",
    "@show b1;\n",
    "@show b2;\n",
    "\n",
    "# aaaaa stop 2\n",
    "\n",
    "\n",
    "\n",
    "myrng = Xoshiro(2333)   # for task-specific purpose; 重設，就還原\n",
    "\n",
    "# cxx = rand(11)          # 亂入, which runs on the global RNG but not run on myrng\n",
    "# 有沒有cxx 不會影響下面的c1 c2 的結果\n",
    "\n",
    "c1 = rand(myrng, 2)\n",
    "c2 = randn(myrng, 2)\n",
    "\n",
    "@show c1; \n",
    "@show c2; "
   ]
  },
  {
   "cell_type": "code",
   "execution_count": 23,
   "id": "a38b0b81",
   "metadata": {},
   "outputs": [],
   "source": [
    "#可以用以下方法comment\n",
    "\n",
    "#=\n",
    "your codes\n",
    "=#"
   ]
  },
  {
   "cell_type": "markdown",
   "id": "09554c7c",
   "metadata": {},
   "source": [
    "### Class Exercises\n",
    "\n",
    "- Write a code to convert `a1` (a vector) to a matrix (you may have to google the method). \n",
    "\n",
    "- Write code to draw a set of 10,000 random numbers that is uniformly distributed in (-2,3). (Hint: Stretch $U(0,1)$ to fit the bound of $U(-2,3)$.)  Show the mean and the standard deviation of the series. What is the theoretical mean and standard deviation of a $U(-2,3)$? Are your answers close to the theoretical values?\n",
    "\n",
    "- Write code to draw a 10x2 matrix of random numbers from $N(2,3)$ which is a normal distribution with mean=2 and variance=3:\n",
    "\n",
    "  - use `randn()`; (Hint: `randn()` generates N(0,1) random variables; you have to scale it to the appropriate mean and variance.)\n",
    "  - use `rand()`. (Hint: `rand()` could take distributions as arguments. See the help file.`?rand`)"
   ]
  },
  {
   "cell_type": "markdown",
   "id": "bc657918",
   "metadata": {},
   "source": [
    "### Solutions to Class Exercises"
   ]
  },
  {
   "cell_type": "markdown",
   "id": "b227dc1e",
   "metadata": {},
   "source": [
    "- Write a code to convert `a1` (a vector) to a matrix."
   ]
  },
  {
   "cell_type": "code",
   "execution_count": 3,
   "id": "6e984e3a",
   "metadata": {},
   "outputs": [
    {
     "data": {
      "text/plain": [
       "2×1 Matrix{Float64}:\n",
       " 0.521213795535383\n",
       " 0.5868067574533484"
      ]
     },
     "execution_count": 3,
     "metadata": {},
     "output_type": "execute_result"
    }
   ],
   "source": [
    "using Random\n",
    "Random.seed!(123) #default Xoshiro\n",
    "\n",
    "a1 = rand(2)  # 2-elt vector\n",
    "\n",
    "reshape(a1, length(a1), 1)\n",
    "\n",
    "\n"
   ]
  },
  {
   "cell_type": "code",
   "execution_count": 5,
   "id": "2c753a09",
   "metadata": {},
   "outputs": [
    {
     "data": {
      "text/plain": [
       "1×4 Matrix{Float64}:\n",
       " 0.521214  0.586807  0.890879  0.190907"
      ]
     },
     "execution_count": 5,
     "metadata": {},
     "output_type": "execute_result"
    }
   ],
   "source": [
    "using Random\n",
    "Random.seed!(123)\n",
    "\n",
    "a1 = rand(4) # 4-elt vector\n",
    "\n",
    "reshape(a1, 1, length(a1))"
   ]
  },
  {
   "cell_type": "markdown",
   "id": "6fcd4a5f",
   "metadata": {},
   "source": [
    "- Write code to draw a set of 10,000 random numbers that is uniformly distributed in (-2,3). (Hint: Stretch           $U(0,1)$ to fit the bound of $U(-2,3)$.)  Show the mean and the standard deviation of the series. \n",
    "  What is the theoretical mean and standard deviation of a $U(-2,3)$? Are your answers close to the theoretical       values?\n",
    "  \n",
    "- Note that the theoretical mean of $U(a,b)$ is $ \\frac{b+a}{2}$\n",
    "\n"
   ]
  },
  {
   "cell_type": "code",
   "execution_count": 28,
   "id": "7b89dc04",
   "metadata": {},
   "outputs": [
    {
     "name": "stdout",
     "output_type": "stream",
     "text": [
      "mean(vec3) = 0.5052948303444671\n",
      "std(vec3) = 1.440600975309783\n"
     ]
    },
    {
     "data": {
      "text/plain": [
       "1.440600975309783"
      ]
     },
     "execution_count": 28,
     "metadata": {},
     "output_type": "execute_result"
    }
   ],
   "source": [
    "using Random\n",
    "\n",
    "Random.seed!(123)\n",
    "\n",
    "vec1= rand(10000)  # draw 10000 random number from U(0,1)\n",
    "\n",
    "vec2= vec1*5       # U(0,5)\n",
    "\n",
    "vec3= vec2 .- 2       # U(-2,3)\n",
    "\n",
    "@show mean(vec3)   \n",
    "@show std(vec3)\n"
   ]
  },
  {
   "cell_type": "markdown",
   "id": "3d53d7d1",
   "metadata": {},
   "source": [
    "- Write code to draw a 10x2 matrix of random numbers from $N(2,3)$ which is a normal distribution with mean=2 and variance=3:\n",
    "\n",
    "  - use `randn()`; (Hint: `randn()` generates N(0,1) random variables; you have to scale it to the appropriate mean and variance.)\n",
    "  "
   ]
  },
  {
   "cell_type": "code",
   "execution_count": 25,
   "id": "35fbea72",
   "metadata": {},
   "outputs": [
    {
     "name": "stdout",
     "output_type": "stream",
     "text": [
      "mean(vec3) = 1.6110192027125454\n",
      "var(vec3) = 2.104853600147445\n"
     ]
    },
    {
     "data": {
      "text/plain": [
       "2.104853600147445"
      ]
     },
     "execution_count": 25,
     "metadata": {},
     "output_type": "execute_result"
    }
   ],
   "source": [
    "using Random \n",
    "Random.seed!(123)\n",
    "\n",
    "vec1= randn(10,2)\n",
    "\n",
    "vec2= vec1 * sqrt(3)\n",
    "\n",
    "vec3= vec2 .+ 2\n",
    "\n",
    "@show mean(vec3)\n",
    "@show var(vec3)"
   ]
  },
  {
   "cell_type": "markdown",
   "id": "8d594a53",
   "metadata": {},
   "source": [
    "- use `rand()`. (Hint: `rand()` could take distributions as arguments. See the help file.`?rand`)"
   ]
  },
  {
   "cell_type": "code",
   "execution_count": 1,
   "id": "6e82adb5",
   "metadata": {},
   "outputs": [
    {
     "data": {
      "text/plain": [
       "Normal{Float64}(μ=2.0, σ=1.7320508075688772)"
      ]
     },
     "execution_count": 1,
     "metadata": {},
     "output_type": "execute_result"
    }
   ],
   "source": [
    "using Distributions\n",
    "\n",
    "d= Normal(2, sqrt(3))\n",
    "\n",
    "\n"
   ]
  },
  {
   "cell_type": "code",
   "execution_count": 2,
   "id": "1f12d3a2",
   "metadata": {},
   "outputs": [
    {
     "name": "stdout",
     "output_type": "stream",
     "text": [
      "mean(mat) = 2.700925811919641\n",
      "var(mat) = 1.8208689464014136\n"
     ]
    },
    {
     "data": {
      "text/plain": [
       "1.8208689464014136"
      ]
     },
     "execution_count": 2,
     "metadata": {},
     "output_type": "execute_result"
    }
   ],
   "source": [
    "using Random\n",
    "\n",
    "mat = rand(d, 10, 2)  # 10x2\n",
    "\n",
    "@show mean(mat)\n",
    "@show var(mat)"
   ]
  },
  {
   "cell_type": "markdown",
   "id": "c1897ea5",
   "metadata": {},
   "source": [
    "Now that you have generated random numbers from a normal random variable, let's see how the generated values match the true distribution by drawing histograms."
   ]
  },
  {
   "cell_type": "code",
   "execution_count": 1,
   "id": "a4b4bfc4",
   "metadata": {
    "code_folding": []
   },
   "outputs": [
    {
     "data": {
      "application/vnd.webio.node+json": {
       "children": [],
       "instanceArgs": {
        "namespace": "html",
        "tag": "div"
       },
       "nodeType": "DOM",
       "props": {},
       "type": "node"
      },
      "text/html": [
       "<div style=\"padding: 1em; background-color: #f8d6da; border: 1px solid #f5c6cb; font-weight: bold;\">\n",
       "<p>The WebIO Jupyter extension was not detected. See the\n",
       "<a href=\"https://juliagizmos.github.io/WebIO.jl/latest/providers/ijulia/\" target=\"_blank\">\n",
       "    WebIO Jupyter integration documentation\n",
       "</a>\n",
       "for more information.\n",
       "</div>\n"
      ],
      "text/plain": [
       "WebIO._IJuliaInit()"
      ]
     },
     "metadata": {
      "application/vnd.webio.node+json": {
       "kernelId": "a883aaf7-3808-405c-b56c-15bca7b4e067"
      }
     },
     "output_type": "display_data"
    },
    {
     "data": {
      "application/vnd.webio.node+json": {
       "children": [
        {
         "children": [
          {
           "children": [
            {
             "children": [
              {
               "children": [
                {
                 "children": [
                  "N"
                 ],
                 "instanceArgs": {
                  "namespace": "html",
                  "tag": "label"
                 },
                 "nodeType": "DOM",
                 "props": {
                  "className": "interact ",
                  "style": {
                   "padding": "5px 10px 0px 10px"
                  }
                 },
                 "type": "node"
                }
               ],
               "instanceArgs": {
                "namespace": "html",
                "tag": "div"
               },
               "nodeType": "DOM",
               "props": {
                "className": "interact-flex-row-left"
               },
               "type": "node"
              },
              {
               "children": [
                {
                 "children": [],
                 "instanceArgs": {
                  "namespace": "html",
                  "tag": "input"
                 },
                 "nodeType": "DOM",
                 "props": {
                  "attributes": {
                   "data-bind": "numericValue: index, valueUpdate: 'input', event: {change: function (){this.changes(this.changes()+1)}}",
                   "orient": "horizontal",
                   "type": "range"
                  },
                  "className": "slider slider is-fullwidth",
                  "max": 50,
                  "min": 1,
                  "step": 1,
                  "style": {}
                 },
                 "type": "node"
                }
               ],
               "instanceArgs": {
                "namespace": "html",
                "tag": "div"
               },
               "nodeType": "DOM",
               "props": {
                "className": "interact-flex-row-center"
               },
               "type": "node"
              },
              {
               "children": [
                {
                 "children": [],
                 "instanceArgs": {
                  "namespace": "html",
                  "tag": "p"
                 },
                 "nodeType": "DOM",
                 "props": {
                  "attributes": {
                   "data-bind": "text: formatted_val"
                  }
                 },
                 "type": "node"
                }
               ],
               "instanceArgs": {
                "namespace": "html",
                "tag": "div"
               },
               "nodeType": "DOM",
               "props": {
                "className": "interact-flex-row-right"
               },
               "type": "node"
              }
             ],
             "instanceArgs": {
              "namespace": "html",
              "tag": "div"
             },
             "nodeType": "DOM",
             "props": {
              "className": "interact-flex-row interact-widget"
             },
             "type": "node"
            }
           ],
           "instanceArgs": {
            "handlers": {
             "changes": [
              "(function (val){return (val!=this.model[\"changes\"]()) ? (this.valueFromJulia[\"changes\"]=true, this.model[\"changes\"](val)) : undefined})"
             ],
             "index": [
              "(function (val){return (val!=this.model[\"index\"]()) ? (this.valueFromJulia[\"index\"]=true, this.model[\"index\"](val)) : undefined})"
             ]
            },
            "id": "10869037484298168700",
            "imports": {
             "data": [
              {
               "name": "knockout",
               "type": "js",
               "url": "/assetserver/a16295f7201a23921bdb5954d071b56dd01fff86-knockout.js"
              },
              {
               "name": "knockout_punches",
               "type": "js",
               "url": "/assetserver/bdf0f43413c13fff2af7420ea9d32413f277b99c-knockout_punches.js"
              },
              {
               "name": null,
               "type": "js",
               "url": "/assetserver/4ed5e17e0ecf35c8a650d5ae2dce408ab8481e1b-all.js"
              },
              {
               "name": null,
               "type": "css",
               "url": "/assetserver/0acfd79c9ec475ba68dc382f98bbb741231f55da-style.css"
              },
              {
               "name": null,
               "type": "css",
               "url": "/assetserver/7ff278e5a9bd937a036afd50238f3f3b11eca51a-bulma_confined.min.css"
              }
             ],
             "type": "async_block"
            },
            "mount_callbacks": [
             "function () {\n    var handler = (function (ko, koPunches) {\n    ko.punches.enableAll();\n    ko.bindingHandlers.numericValue = {\n        init: function(element, valueAccessor, allBindings, data, context) {\n            var stringified = ko.observable(ko.unwrap(valueAccessor()));\n            stringified.subscribe(function(value) {\n                var val = parseFloat(value);\n                if (!isNaN(val)) {\n                    valueAccessor()(val);\n                }\n            });\n            valueAccessor().subscribe(function(value) {\n                var str = JSON.stringify(value);\n                if ((str == \"0\") && ([\"-0\", \"-0.\"].indexOf(stringified()) >= 0))\n                     return;\n                 if ([\"null\", \"\"].indexOf(str) >= 0)\n                     return;\n                stringified(str);\n            });\n            ko.applyBindingsToNode(\n                element,\n                {\n                    value: stringified,\n                    valueUpdate: allBindings.get('valueUpdate'),\n                },\n                context,\n            );\n        }\n    };\n    var json_data = {\"formatted_vals\":[\"100\",\"200\",\"300\",\"400\",\"500\",\"600\",\"700\",\"800\",\"900\",\"1000\",\"1100\",\"1200\",\"1300\",\"1400\",\"1500\",\"1600\",\"1700\",\"1800\",\"1900\",\"2000\",\"2100\",\"2200\",\"2300\",\"2400\",\"2500\",\"2600\",\"2700\",\"2800\",\"2900\",\"3000\",\"3100\",\"3200\",\"3300\",\"3400\",\"3500\",\"3600\",\"3700\",\"3800\",\"3900\",\"4000\",\"4100\",\"4200\",\"4300\",\"4400\",\"4500\",\"4600\",\"4700\",\"4800\",\"4900\",\"5000\"],\"changes\":WebIO.getval({\"name\":\"changes\",\"scope\":\"10869037484298168700\",\"id\":\"13948050655769685440\",\"type\":\"observable\"}),\"index\":WebIO.getval({\"name\":\"index\",\"scope\":\"10869037484298168700\",\"id\":\"4079954422847599131\",\"type\":\"observable\"})};\n    var self = this;\n    function AppViewModel() {\n        for (var key in json_data) {\n            var el = json_data[key];\n            this[key] = Array.isArray(el) ? ko.observableArray(el) : ko.observable(el);\n        }\n        \n        [this[\"formatted_val\"]=ko.computed(    function(){\n        return this.formatted_vals()[parseInt(this.index())-(1)];\n    }\n,this)]\n        [this[\"changes\"].subscribe((function (val){!(this.valueFromJulia[\"changes\"]) ? (WebIO.setval({\"name\":\"changes\",\"scope\":\"10869037484298168700\",\"id\":\"13948050655769685440\",\"type\":\"observable\"},val)) : undefined; return this.valueFromJulia[\"changes\"]=false}),self),this[\"index\"].subscribe((function (val){!(this.valueFromJulia[\"index\"]) ? (WebIO.setval({\"name\":\"index\",\"scope\":\"10869037484298168700\",\"id\":\"4079954422847599131\",\"type\":\"observable\"},val)) : undefined; return this.valueFromJulia[\"index\"]=false}),self)]\n        \n    }\n    self.model = new AppViewModel();\n    self.valueFromJulia = {};\n    for (var key in json_data) {\n        self.valueFromJulia[key] = false;\n    }\n    ko.applyBindings(self.model, self.dom);\n}\n);\n    (WebIO.importBlock({\"data\":[{\"name\":\"knockout\",\"type\":\"js\",\"url\":\"/assetserver/a16295f7201a23921bdb5954d071b56dd01fff86-knockout.js\"},{\"name\":\"knockout_punches\",\"type\":\"js\",\"url\":\"/assetserver/bdf0f43413c13fff2af7420ea9d32413f277b99c-knockout_punches.js\"}],\"type\":\"async_block\"})).then((imports) => handler.apply(this, imports));\n}\n"
            ],
            "observables": {
             "changes": {
              "id": "13948050655769685440",
              "sync": false,
              "value": 0
             },
             "index": {
              "id": "4079954422847599131",
              "sync": true,
              "value": 25
             }
            },
            "systemjs_options": null
           },
           "nodeType": "Scope",
           "props": {},
           "type": "node"
          }
         ],
         "instanceArgs": {
          "namespace": "html",
          "tag": "div"
         },
         "nodeType": "DOM",
         "props": {
          "className": "field interact-widget"
         },
         "type": "node"
        },
        {
         "children": [
          {
           "children": [],
           "instanceArgs": {
            "id": "7015138193380968912",
            "name": "obs-node"
           },
           "nodeType": "ObservableNode",
           "props": {},
           "type": "node"
          }
         ],
         "instanceArgs": {
          "handlers": {},
          "id": "7685128731618735660",
          "imports": {
           "data": [],
           "type": "async_block"
          },
          "mount_callbacks": [],
          "observables": {
           "obs-node": {
            "id": "7015138193380968912",
            "sync": false,
            "value": {
             "children": [
              {
               "children": [],
               "instanceArgs": {
                "namespace": "html",
                "tag": "div"
               },
               "nodeType": "DOM",
               "props": {
                "setInnerHtml": "<?xml version=\"1.0\" encoding=\"utf-8\"?>\n<svg xmlns=\"http://www.w3.org/2000/svg\" xmlns:xlink=\"http://www.w3.org/1999/xlink\" width=\"600\" height=\"400\" viewBox=\"0 0 2400 1600\">\n<defs>\n  <clipPath id=\"clip070\">\n    <rect x=\"0\" y=\"0\" width=\"2400\" height=\"1600\"/>\n  </clipPath>\n</defs>\n<path clip-path=\"url(#clip070)\" d=\"M0 1600 L2400 1600 L2400 0 L0 0  Z\" fill=\"#ffffff\" fill-rule=\"evenodd\" fill-opacity=\"1\"/>\n<defs>\n  <clipPath id=\"clip071\">\n    <rect x=\"480\" y=\"0\" width=\"1681\" height=\"1600\"/>\n  </clipPath>\n</defs>\n<path clip-path=\"url(#clip070)\" d=\"M186.274 1486.45 L2352.76 1486.45 L2352.76 47.2441 L186.274 47.2441  Z\" fill=\"#ffffff\" fill-rule=\"evenodd\" fill-opacity=\"1\"/>\n<defs>\n  <clipPath id=\"clip072\">\n    <rect x=\"186\" y=\"47\" width=\"2167\" height=\"1440\"/>\n  </clipPath>\n</defs>\n<polyline clip-path=\"url(#clip072)\" style=\"stroke:#000000; stroke-linecap:round; stroke-linejoin:round; stroke-width:2; stroke-opacity:0.1; fill:none\" points=\"416.674,1486.45 416.674,47.2441 \"/>\n<polyline clip-path=\"url(#clip072)\" style=\"stroke:#000000; stroke-linecap:round; stroke-linejoin:round; stroke-width:2; stroke-opacity:0.1; fill:none\" points=\"725.675,1486.45 725.675,47.2441 \"/>\n<polyline clip-path=\"url(#clip072)\" style=\"stroke:#000000; stroke-linecap:round; stroke-linejoin:round; stroke-width:2; stroke-opacity:0.1; fill:none\" points=\"1034.67,1486.45 1034.67,47.2441 \"/>\n<polyline clip-path=\"url(#clip072)\" style=\"stroke:#000000; stroke-linecap:round; stroke-linejoin:round; stroke-width:2; stroke-opacity:0.1; fill:none\" points=\"1343.67,1486.45 1343.67,47.2441 \"/>\n<polyline clip-path=\"url(#clip072)\" style=\"stroke:#000000; stroke-linecap:round; stroke-linejoin:round; stroke-width:2; stroke-opacity:0.1; fill:none\" points=\"1652.68,1486.45 1652.68,47.2441 \"/>\n<polyline clip-path=\"url(#clip072)\" style=\"stroke:#000000; stroke-linecap:round; stroke-linejoin:round; stroke-width:2; stroke-opacity:0.1; fill:none\" points=\"1961.68,1486.45 1961.68,47.2441 \"/>\n<polyline clip-path=\"url(#clip072)\" style=\"stroke:#000000; stroke-linecap:round; stroke-linejoin:round; stroke-width:2; stroke-opacity:0.1; fill:none\" points=\"2270.68,1486.45 2270.68,47.2441 \"/>\n<polyline clip-path=\"url(#clip070)\" style=\"stroke:#000000; stroke-linecap:round; stroke-linejoin:round; stroke-width:4; stroke-opacity:1; fill:none\" points=\"186.274,1486.45 2352.76,1486.45 \"/>\n<polyline clip-path=\"url(#clip070)\" style=\"stroke:#000000; stroke-linecap:round; stroke-linejoin:round; stroke-width:4; stroke-opacity:1; fill:none\" points=\"416.674,1486.45 416.674,1467.55 \"/>\n<polyline clip-path=\"url(#clip070)\" style=\"stroke:#000000; stroke-linecap:round; stroke-linejoin:round; stroke-width:4; stroke-opacity:1; fill:none\" points=\"725.675,1486.45 725.675,1467.55 \"/>\n<polyline clip-path=\"url(#clip070)\" style=\"stroke:#000000; stroke-linecap:round; stroke-linejoin:round; stroke-width:4; stroke-opacity:1; fill:none\" points=\"1034.67,1486.45 1034.67,1467.55 \"/>\n<polyline clip-path=\"url(#clip070)\" style=\"stroke:#000000; stroke-linecap:round; stroke-linejoin:round; stroke-width:4; stroke-opacity:1; fill:none\" points=\"1343.67,1486.45 1343.67,1467.55 \"/>\n<polyline clip-path=\"url(#clip070)\" style=\"stroke:#000000; stroke-linecap:round; stroke-linejoin:round; stroke-width:4; stroke-opacity:1; fill:none\" points=\"1652.68,1486.45 1652.68,1467.55 \"/>\n<polyline clip-path=\"url(#clip070)\" style=\"stroke:#000000; stroke-linecap:round; stroke-linejoin:round; stroke-width:4; stroke-opacity:1; fill:none\" points=\"1961.68,1486.45 1961.68,1467.55 \"/>\n<polyline clip-path=\"url(#clip070)\" style=\"stroke:#000000; stroke-linecap:round; stroke-linejoin:round; stroke-width:4; stroke-opacity:1; fill:none\" points=\"2270.68,1486.45 2270.68,1467.55 \"/>\n<path clip-path=\"url(#clip070)\" d=\"M363.7 1532.02 L393.376 1532.02 L393.376 1535.95 L363.7 1535.95 L363.7 1532.02 Z\" fill=\"#000000\" fill-rule=\"evenodd\" fill-opacity=\"1\" /><path clip-path=\"url(#clip070)\" d=\"M402.288 1514.29 L424.51 1514.29 L424.51 1516.28 L411.964 1548.85 L407.08 1548.85 L418.885 1518.22 L402.288 1518.22 L402.288 1514.29 Z\" fill=\"#000000\" fill-rule=\"evenodd\" fill-opacity=\"1\" /><path clip-path=\"url(#clip070)\" d=\"M433.63 1542.97 L438.515 1542.97 L438.515 1548.85 L433.63 1548.85 L433.63 1542.97 Z\" fill=\"#000000\" fill-rule=\"evenodd\" fill-opacity=\"1\" /><path clip-path=\"url(#clip070)\" d=\"M448.746 1514.29 L467.102 1514.29 L467.102 1518.22 L453.028 1518.22 L453.028 1526.7 Q454.047 1526.35 455.065 1526.19 Q456.084 1526 457.102 1526 Q462.889 1526 466.269 1529.17 Q469.649 1532.34 469.649 1537.76 Q469.649 1543.34 466.176 1546.44 Q462.704 1549.52 456.385 1549.52 Q454.209 1549.52 451.94 1549.15 Q449.695 1548.78 447.288 1548.04 L447.288 1543.34 Q449.371 1544.47 451.593 1545.03 Q453.815 1545.58 456.292 1545.58 Q460.297 1545.58 462.635 1543.48 Q464.973 1541.37 464.973 1537.76 Q464.973 1534.15 462.635 1532.04 Q460.297 1529.94 456.292 1529.94 Q454.417 1529.94 452.542 1530.35 Q450.69 1530.77 448.746 1531.65 L448.746 1514.29 Z\" fill=\"#000000\" fill-rule=\"evenodd\" fill-opacity=\"1\" /><path clip-path=\"url(#clip070)\" d=\"M672.203 1532.02 L701.878 1532.02 L701.878 1535.95 L672.203 1535.95 L672.203 1532.02 Z\" fill=\"#000000\" fill-rule=\"evenodd\" fill-opacity=\"1\" /><path clip-path=\"url(#clip070)\" d=\"M712.017 1514.29 L730.374 1514.29 L730.374 1518.22 L716.3 1518.22 L716.3 1526.7 Q717.318 1526.35 718.337 1526.19 Q719.355 1526 720.374 1526 Q726.161 1526 729.54 1529.17 Q732.92 1532.34 732.92 1537.76 Q732.92 1543.34 729.448 1546.44 Q725.976 1549.52 719.656 1549.52 Q717.48 1549.52 715.212 1549.15 Q712.966 1548.78 710.559 1548.04 L710.559 1543.34 Q712.642 1544.47 714.864 1545.03 Q717.087 1545.58 719.564 1545.58 Q723.568 1545.58 725.906 1543.48 Q728.244 1541.37 728.244 1537.76 Q728.244 1534.15 725.906 1532.04 Q723.568 1529.94 719.564 1529.94 Q717.689 1529.94 715.814 1530.35 Q713.962 1530.77 712.017 1531.65 L712.017 1514.29 Z\" fill=\"#000000\" fill-rule=\"evenodd\" fill-opacity=\"1\" /><path clip-path=\"url(#clip070)\" d=\"M742.133 1542.97 L747.017 1542.97 L747.017 1548.85 L742.133 1548.85 L742.133 1542.97 Z\" fill=\"#000000\" fill-rule=\"evenodd\" fill-opacity=\"1\" /><path clip-path=\"url(#clip070)\" d=\"M767.202 1517.37 Q763.591 1517.37 761.762 1520.93 Q759.957 1524.47 759.957 1531.6 Q759.957 1538.71 761.762 1542.27 Q763.591 1545.82 767.202 1545.82 Q770.836 1545.82 772.642 1542.27 Q774.471 1538.71 774.471 1531.6 Q774.471 1524.47 772.642 1520.93 Q770.836 1517.37 767.202 1517.37 M767.202 1513.66 Q773.012 1513.66 776.068 1518.27 Q779.147 1522.85 779.147 1531.6 Q779.147 1540.33 776.068 1544.94 Q773.012 1549.52 767.202 1549.52 Q761.392 1549.52 758.313 1544.94 Q755.258 1540.33 755.258 1531.6 Q755.258 1522.85 758.313 1518.27 Q761.392 1513.66 767.202 1513.66 Z\" fill=\"#000000\" fill-rule=\"evenodd\" fill-opacity=\"1\" /><path clip-path=\"url(#clip070)\" d=\"M981.701 1532.02 L1011.38 1532.02 L1011.38 1535.95 L981.701 1535.95 L981.701 1532.02 Z\" fill=\"#000000\" fill-rule=\"evenodd\" fill-opacity=\"1\" /><path clip-path=\"url(#clip070)\" d=\"M1025.5 1544.91 L1041.82 1544.91 L1041.82 1548.85 L1019.87 1548.85 L1019.87 1544.91 Q1022.53 1542.16 1027.12 1537.53 Q1031.72 1532.88 1032.9 1531.53 Q1035.15 1529.01 1036.03 1527.27 Q1036.93 1525.51 1036.93 1523.82 Q1036.93 1521.07 1034.99 1519.33 Q1033.07 1517.6 1029.96 1517.6 Q1027.77 1517.6 1025.31 1518.36 Q1022.88 1519.13 1020.1 1520.68 L1020.1 1515.95 Q1022.93 1514.82 1025.38 1514.24 Q1027.83 1513.66 1029.87 1513.66 Q1035.24 1513.66 1038.44 1516.35 Q1041.63 1519.03 1041.63 1523.52 Q1041.63 1525.65 1040.82 1527.57 Q1040.03 1529.47 1037.93 1532.07 Q1037.35 1532.74 1034.25 1535.95 Q1031.14 1539.15 1025.5 1544.91 Z\" fill=\"#000000\" fill-rule=\"evenodd\" fill-opacity=\"1\" /><path clip-path=\"url(#clip070)\" d=\"M1051.63 1542.97 L1056.51 1542.97 L1056.51 1548.85 L1051.63 1548.85 L1051.63 1542.97 Z\" fill=\"#000000\" fill-rule=\"evenodd\" fill-opacity=\"1\" /><path clip-path=\"url(#clip070)\" d=\"M1066.75 1514.29 L1085.1 1514.29 L1085.1 1518.22 L1071.03 1518.22 L1071.03 1526.7 Q1072.05 1526.35 1073.07 1526.19 Q1074.08 1526 1075.1 1526 Q1080.89 1526 1084.27 1529.17 Q1087.65 1532.34 1087.65 1537.76 Q1087.65 1543.34 1084.18 1546.44 Q1080.7 1549.52 1074.39 1549.52 Q1072.21 1549.52 1069.94 1549.15 Q1067.7 1548.78 1065.29 1548.04 L1065.29 1543.34 Q1067.37 1544.47 1069.59 1545.03 Q1071.82 1545.58 1074.29 1545.58 Q1078.3 1545.58 1080.64 1543.48 Q1082.97 1541.37 1082.97 1537.76 Q1082.97 1534.15 1080.64 1532.04 Q1078.3 1529.94 1074.29 1529.94 Q1072.42 1529.94 1070.54 1530.35 Q1068.69 1530.77 1066.75 1531.65 L1066.75 1514.29 Z\" fill=\"#000000\" fill-rule=\"evenodd\" fill-opacity=\"1\" /><path clip-path=\"url(#clip070)\" d=\"M1321.06 1517.37 Q1317.45 1517.37 1315.62 1520.93 Q1313.81 1524.47 1313.81 1531.6 Q1313.81 1538.71 1315.62 1542.27 Q1317.45 1545.82 1321.06 1545.82 Q1324.69 1545.82 1326.5 1542.27 Q1328.33 1538.71 1328.33 1531.6 Q1328.33 1524.47 1326.5 1520.93 Q1324.69 1517.37 1321.06 1517.37 M1321.06 1513.66 Q1326.87 1513.66 1329.93 1518.27 Q1333 1522.85 1333 1531.6 Q1333 1540.33 1329.93 1544.94 Q1326.87 1549.52 1321.06 1549.52 Q1315.25 1549.52 1312.17 1544.94 Q1309.11 1540.33 1309.11 1531.6 Q1309.11 1522.85 1312.17 1518.27 Q1315.25 1513.66 1321.06 1513.66 Z\" fill=\"#000000\" fill-rule=\"evenodd\" fill-opacity=\"1\" /><path clip-path=\"url(#clip070)\" d=\"M1341.22 1542.97 L1346.11 1542.97 L1346.11 1548.85 L1341.22 1548.85 L1341.22 1542.97 Z\" fill=\"#000000\" fill-rule=\"evenodd\" fill-opacity=\"1\" /><path clip-path=\"url(#clip070)\" d=\"M1366.29 1517.37 Q1362.68 1517.37 1360.85 1520.93 Q1359.05 1524.47 1359.05 1531.6 Q1359.05 1538.71 1360.85 1542.27 Q1362.68 1545.82 1366.29 1545.82 Q1369.92 1545.82 1371.73 1542.27 Q1373.56 1538.71 1373.56 1531.6 Q1373.56 1524.47 1371.73 1520.93 Q1369.92 1517.37 1366.29 1517.37 M1366.29 1513.66 Q1372.1 1513.66 1375.16 1518.27 Q1378.23 1522.85 1378.23 1531.6 Q1378.23 1540.33 1375.16 1544.94 Q1372.1 1549.52 1366.29 1549.52 Q1360.48 1549.52 1357.4 1544.94 Q1354.35 1540.33 1354.35 1531.6 Q1354.35 1522.85 1357.4 1518.27 Q1360.48 1513.66 1366.29 1513.66 Z\" fill=\"#000000\" fill-rule=\"evenodd\" fill-opacity=\"1\" /><path clip-path=\"url(#clip070)\" d=\"M1624.41 1544.91 L1640.73 1544.91 L1640.73 1548.85 L1618.79 1548.85 L1618.79 1544.91 Q1621.45 1542.16 1626.03 1537.53 Q1630.64 1532.88 1631.82 1531.53 Q1634.06 1529.01 1634.94 1527.27 Q1635.85 1525.51 1635.85 1523.82 Q1635.85 1521.07 1633.9 1519.33 Q1631.98 1517.6 1628.88 1517.6 Q1626.68 1517.6 1624.23 1518.36 Q1621.8 1519.13 1619.02 1520.68 L1619.02 1515.95 Q1621.84 1514.82 1624.3 1514.24 Q1626.75 1513.66 1628.79 1513.66 Q1634.16 1513.66 1637.35 1516.35 Q1640.55 1519.03 1640.55 1523.52 Q1640.55 1525.65 1639.74 1527.57 Q1638.95 1529.47 1636.84 1532.07 Q1636.26 1532.74 1633.16 1535.95 Q1630.06 1539.15 1624.41 1544.91 Z\" fill=\"#000000\" fill-rule=\"evenodd\" fill-opacity=\"1\" /><path clip-path=\"url(#clip070)\" d=\"M1650.55 1542.97 L1655.43 1542.97 L1655.43 1548.85 L1650.55 1548.85 L1650.55 1542.97 Z\" fill=\"#000000\" fill-rule=\"evenodd\" fill-opacity=\"1\" /><path clip-path=\"url(#clip070)\" d=\"M1665.66 1514.29 L1684.02 1514.29 L1684.02 1518.22 L1669.94 1518.22 L1669.94 1526.7 Q1670.96 1526.35 1671.98 1526.19 Q1673 1526 1674.02 1526 Q1679.8 1526 1683.18 1529.17 Q1686.56 1532.34 1686.56 1537.76 Q1686.56 1543.34 1683.09 1546.44 Q1679.62 1549.52 1673.3 1549.52 Q1671.12 1549.52 1668.86 1549.15 Q1666.61 1548.78 1664.2 1548.04 L1664.2 1543.34 Q1666.29 1544.47 1668.51 1545.03 Q1670.73 1545.58 1673.21 1545.58 Q1677.21 1545.58 1679.55 1543.48 Q1681.89 1541.37 1681.89 1537.76 Q1681.89 1534.15 1679.55 1532.04 Q1677.21 1529.94 1673.21 1529.94 Q1671.33 1529.94 1669.46 1530.35 Q1667.61 1530.77 1665.66 1531.65 L1665.66 1514.29 Z\" fill=\"#000000\" fill-rule=\"evenodd\" fill-opacity=\"1\" /><path clip-path=\"url(#clip070)\" d=\"M1928.84 1514.29 L1947.2 1514.29 L1947.2 1518.22 L1933.12 1518.22 L1933.12 1526.7 Q1934.14 1526.35 1935.16 1526.19 Q1936.18 1526 1937.2 1526 Q1942.98 1526 1946.36 1529.17 Q1949.74 1532.34 1949.74 1537.76 Q1949.74 1543.34 1946.27 1546.44 Q1942.8 1549.52 1936.48 1549.52 Q1934.3 1549.52 1932.03 1549.15 Q1929.79 1548.78 1927.38 1548.04 L1927.38 1543.34 Q1929.46 1544.47 1931.69 1545.03 Q1933.91 1545.58 1936.39 1545.58 Q1940.39 1545.58 1942.73 1543.48 Q1945.07 1541.37 1945.07 1537.76 Q1945.07 1534.15 1942.73 1532.04 Q1940.39 1529.94 1936.39 1529.94 Q1934.51 1529.94 1932.64 1530.35 Q1930.78 1530.77 1928.84 1531.65 L1928.84 1514.29 Z\" fill=\"#000000\" fill-rule=\"evenodd\" fill-opacity=\"1\" /><path clip-path=\"url(#clip070)\" d=\"M1958.96 1542.97 L1963.84 1542.97 L1963.84 1548.85 L1958.96 1548.85 L1958.96 1542.97 Z\" fill=\"#000000\" fill-rule=\"evenodd\" fill-opacity=\"1\" /><path clip-path=\"url(#clip070)\" d=\"M1984.02 1517.37 Q1980.41 1517.37 1978.59 1520.93 Q1976.78 1524.47 1976.78 1531.6 Q1976.78 1538.71 1978.59 1542.27 Q1980.41 1545.82 1984.02 1545.82 Q1987.66 1545.82 1989.46 1542.27 Q1991.29 1538.71 1991.29 1531.6 Q1991.29 1524.47 1989.46 1520.93 Q1987.66 1517.37 1984.02 1517.37 M1984.02 1513.66 Q1989.83 1513.66 1992.89 1518.27 Q1995.97 1522.85 1995.97 1531.6 Q1995.97 1540.33 1992.89 1544.94 Q1989.83 1549.52 1984.02 1549.52 Q1978.21 1549.52 1975.14 1544.94 Q1972.08 1540.33 1972.08 1531.6 Q1972.08 1522.85 1975.14 1518.27 Q1978.21 1513.66 1984.02 1513.66 Z\" fill=\"#000000\" fill-rule=\"evenodd\" fill-opacity=\"1\" /><path clip-path=\"url(#clip070)\" d=\"M2237 1514.29 L2259.22 1514.29 L2259.22 1516.28 L2246.67 1548.85 L2241.79 1548.85 L2253.59 1518.22 L2237 1518.22 L2237 1514.29 Z\" fill=\"#000000\" fill-rule=\"evenodd\" fill-opacity=\"1\" /><path clip-path=\"url(#clip070)\" d=\"M2268.34 1542.97 L2273.22 1542.97 L2273.22 1548.85 L2268.34 1548.85 L2268.34 1542.97 Z\" fill=\"#000000\" fill-rule=\"evenodd\" fill-opacity=\"1\" /><path clip-path=\"url(#clip070)\" d=\"M2283.45 1514.29 L2301.81 1514.29 L2301.81 1518.22 L2287.74 1518.22 L2287.74 1526.7 Q2288.75 1526.35 2289.77 1526.19 Q2290.79 1526 2291.81 1526 Q2297.6 1526 2300.98 1529.17 Q2304.36 1532.34 2304.36 1537.76 Q2304.36 1543.34 2300.88 1546.44 Q2297.41 1549.52 2291.09 1549.52 Q2288.92 1549.52 2286.65 1549.15 Q2284.4 1548.78 2281.99 1548.04 L2281.99 1543.34 Q2284.08 1544.47 2286.3 1545.03 Q2288.52 1545.58 2291 1545.58 Q2295 1545.58 2297.34 1543.48 Q2299.68 1541.37 2299.68 1537.76 Q2299.68 1534.15 2297.34 1532.04 Q2295 1529.94 2291 1529.94 Q2289.12 1529.94 2287.25 1530.35 Q2285.4 1530.77 2283.45 1531.65 L2283.45 1514.29 Z\" fill=\"#000000\" fill-rule=\"evenodd\" fill-opacity=\"1\" /><polyline clip-path=\"url(#clip072)\" style=\"stroke:#000000; stroke-linecap:round; stroke-linejoin:round; stroke-width:2; stroke-opacity:0.1; fill:none\" points=\"186.274,1445.72 2352.76,1445.72 \"/>\n<polyline clip-path=\"url(#clip072)\" style=\"stroke:#000000; stroke-linecap:round; stroke-linejoin:round; stroke-width:2; stroke-opacity:0.1; fill:none\" points=\"186.274,1125.49 2352.76,1125.49 \"/>\n<polyline clip-path=\"url(#clip072)\" style=\"stroke:#000000; stroke-linecap:round; stroke-linejoin:round; stroke-width:2; stroke-opacity:0.1; fill:none\" points=\"186.274,805.273 2352.76,805.273 \"/>\n<polyline clip-path=\"url(#clip072)\" style=\"stroke:#000000; stroke-linecap:round; stroke-linejoin:round; stroke-width:2; stroke-opacity:0.1; fill:none\" points=\"186.274,485.051 2352.76,485.051 \"/>\n<polyline clip-path=\"url(#clip072)\" style=\"stroke:#000000; stroke-linecap:round; stroke-linejoin:round; stroke-width:2; stroke-opacity:0.1; fill:none\" points=\"186.274,164.829 2352.76,164.829 \"/>\n<polyline clip-path=\"url(#clip070)\" style=\"stroke:#000000; stroke-linecap:round; stroke-linejoin:round; stroke-width:4; stroke-opacity:1; fill:none\" points=\"186.274,1486.45 186.274,47.2441 \"/>\n<polyline clip-path=\"url(#clip070)\" style=\"stroke:#000000; stroke-linecap:round; stroke-linejoin:round; stroke-width:4; stroke-opacity:1; fill:none\" points=\"186.274,1445.72 205.172,1445.72 \"/>\n<polyline clip-path=\"url(#clip070)\" style=\"stroke:#000000; stroke-linecap:round; stroke-linejoin:round; stroke-width:4; stroke-opacity:1; fill:none\" points=\"186.274,1125.49 205.172,1125.49 \"/>\n<polyline clip-path=\"url(#clip070)\" style=\"stroke:#000000; stroke-linecap:round; stroke-linejoin:round; stroke-width:4; stroke-opacity:1; fill:none\" points=\"186.274,805.273 205.172,805.273 \"/>\n<polyline clip-path=\"url(#clip070)\" style=\"stroke:#000000; stroke-linecap:round; stroke-linejoin:round; stroke-width:4; stroke-opacity:1; fill:none\" points=\"186.274,485.051 205.172,485.051 \"/>\n<polyline clip-path=\"url(#clip070)\" style=\"stroke:#000000; stroke-linecap:round; stroke-linejoin:round; stroke-width:4; stroke-opacity:1; fill:none\" points=\"186.274,164.829 205.172,164.829 \"/>\n<path clip-path=\"url(#clip070)\" d=\"M62.9365 1431.51 Q59.3254 1431.51 57.4967 1435.08 Q55.6912 1438.62 55.6912 1445.75 Q55.6912 1452.86 57.4967 1456.42 Q59.3254 1459.96 62.9365 1459.96 Q66.5707 1459.96 68.3763 1456.42 Q70.205 1452.86 70.205 1445.75 Q70.205 1438.62 68.3763 1435.08 Q66.5707 1431.51 62.9365 1431.51 M62.9365 1427.81 Q68.7467 1427.81 71.8022 1432.42 Q74.8809 1437 74.8809 1445.75 Q74.8809 1454.48 71.8022 1459.08 Q68.7467 1463.67 62.9365 1463.67 Q57.1264 1463.67 54.0477 1459.08 Q50.9921 1454.48 50.9921 1445.75 Q50.9921 1437 54.0477 1432.42 Q57.1264 1427.81 62.9365 1427.81 Z\" fill=\"#000000\" fill-rule=\"evenodd\" fill-opacity=\"1\" /><path clip-path=\"url(#clip070)\" d=\"M83.0984 1457.12 L87.9827 1457.12 L87.9827 1463 L83.0984 1463 L83.0984 1457.12 Z\" fill=\"#000000\" fill-rule=\"evenodd\" fill-opacity=\"1\" /><path clip-path=\"url(#clip070)\" d=\"M108.168 1431.51 Q104.557 1431.51 102.728 1435.08 Q100.922 1438.62 100.922 1445.75 Q100.922 1452.86 102.728 1456.42 Q104.557 1459.96 108.168 1459.96 Q111.802 1459.96 113.608 1456.42 Q115.436 1452.86 115.436 1445.75 Q115.436 1438.62 113.608 1435.08 Q111.802 1431.51 108.168 1431.51 M108.168 1427.81 Q113.978 1427.81 117.033 1432.42 Q120.112 1437 120.112 1445.75 Q120.112 1454.48 117.033 1459.08 Q113.978 1463.67 108.168 1463.67 Q102.358 1463.67 99.2789 1459.08 Q96.2234 1454.48 96.2234 1445.75 Q96.2234 1437 99.2789 1432.42 Q102.358 1427.81 108.168 1427.81 Z\" fill=\"#000000\" fill-rule=\"evenodd\" fill-opacity=\"1\" /><path clip-path=\"url(#clip070)\" d=\"M138.33 1431.51 Q134.719 1431.51 132.89 1435.08 Q131.084 1438.62 131.084 1445.75 Q131.084 1452.86 132.89 1456.42 Q134.719 1459.96 138.33 1459.96 Q141.964 1459.96 143.769 1456.42 Q145.598 1452.86 145.598 1445.75 Q145.598 1438.62 143.769 1435.08 Q141.964 1431.51 138.33 1431.51 M138.33 1427.81 Q144.14 1427.81 147.195 1432.42 Q150.274 1437 150.274 1445.75 Q150.274 1454.48 147.195 1459.08 Q144.14 1463.67 138.33 1463.67 Q132.519 1463.67 129.441 1459.08 Q126.385 1454.48 126.385 1445.75 Q126.385 1437 129.441 1432.42 Q132.519 1427.81 138.33 1427.81 Z\" fill=\"#000000\" fill-rule=\"evenodd\" fill-opacity=\"1\" /><path clip-path=\"url(#clip070)\" d=\"M63.9319 1111.29 Q60.3208 1111.29 58.4921 1114.86 Q56.6865 1118.4 56.6865 1125.53 Q56.6865 1132.64 58.4921 1136.2 Q60.3208 1139.74 63.9319 1139.74 Q67.5661 1139.74 69.3717 1136.2 Q71.2004 1132.64 71.2004 1125.53 Q71.2004 1118.4 69.3717 1114.86 Q67.5661 1111.29 63.9319 1111.29 M63.9319 1107.59 Q69.742 1107.59 72.7976 1112.2 Q75.8763 1116.78 75.8763 1125.53 Q75.8763 1134.26 72.7976 1138.86 Q69.742 1143.45 63.9319 1143.45 Q58.1217 1143.45 55.043 1138.86 Q51.9875 1134.26 51.9875 1125.53 Q51.9875 1116.78 55.043 1112.2 Q58.1217 1107.59 63.9319 1107.59 Z\" fill=\"#000000\" fill-rule=\"evenodd\" fill-opacity=\"1\" /><path clip-path=\"url(#clip070)\" d=\"M84.0938 1136.89 L88.978 1136.89 L88.978 1142.77 L84.0938 1142.77 L84.0938 1136.89 Z\" fill=\"#000000\" fill-rule=\"evenodd\" fill-opacity=\"1\" /><path clip-path=\"url(#clip070)\" d=\"M109.163 1111.29 Q105.552 1111.29 103.723 1114.86 Q101.918 1118.4 101.918 1125.53 Q101.918 1132.64 103.723 1136.2 Q105.552 1139.74 109.163 1139.74 Q112.797 1139.74 114.603 1136.2 Q116.432 1132.64 116.432 1125.53 Q116.432 1118.4 114.603 1114.86 Q112.797 1111.29 109.163 1111.29 M109.163 1107.59 Q114.973 1107.59 118.029 1112.2 Q121.107 1116.78 121.107 1125.53 Q121.107 1134.26 118.029 1138.86 Q114.973 1143.45 109.163 1143.45 Q103.353 1143.45 100.274 1138.86 Q97.2187 1134.26 97.2187 1125.53 Q97.2187 1116.78 100.274 1112.2 Q103.353 1107.59 109.163 1107.59 Z\" fill=\"#000000\" fill-rule=\"evenodd\" fill-opacity=\"1\" /><path clip-path=\"url(#clip070)\" d=\"M129.371 1108.21 L147.728 1108.21 L147.728 1112.15 L133.654 1112.15 L133.654 1120.62 Q134.672 1120.27 135.691 1120.11 Q136.709 1119.93 137.728 1119.93 Q143.515 1119.93 146.894 1123.1 Q150.274 1126.27 150.274 1131.69 Q150.274 1137.26 146.802 1140.37 Q143.33 1143.45 137.01 1143.45 Q134.834 1143.45 132.566 1143.08 Q130.32 1142.7 127.913 1141.96 L127.913 1137.26 Q129.996 1138.4 132.219 1138.95 Q134.441 1139.51 136.918 1139.51 Q140.922 1139.51 143.26 1137.4 Q145.598 1135.3 145.598 1131.69 Q145.598 1128.08 143.26 1125.97 Q140.922 1123.86 136.918 1123.86 Q135.043 1123.86 133.168 1124.28 Q131.316 1124.7 129.371 1125.58 L129.371 1108.21 Z\" fill=\"#000000\" fill-rule=\"evenodd\" fill-opacity=\"1\" /><path clip-path=\"url(#clip070)\" d=\"M62.9365 791.071 Q59.3254 791.071 57.4967 794.636 Q55.6912 798.178 55.6912 805.307 Q55.6912 812.414 57.4967 815.979 Q59.3254 819.52 62.9365 819.52 Q66.5707 819.52 68.3763 815.979 Q70.205 812.414 70.205 805.307 Q70.205 798.178 68.3763 794.636 Q66.5707 791.071 62.9365 791.071 M62.9365 787.368 Q68.7467 787.368 71.8022 791.974 Q74.8809 796.557 74.8809 805.307 Q74.8809 814.034 71.8022 818.641 Q68.7467 823.224 62.9365 823.224 Q57.1264 823.224 54.0477 818.641 Q50.9921 814.034 50.9921 805.307 Q50.9921 796.557 54.0477 791.974 Q57.1264 787.368 62.9365 787.368 Z\" fill=\"#000000\" fill-rule=\"evenodd\" fill-opacity=\"1\" /><path clip-path=\"url(#clip070)\" d=\"M83.0984 816.673 L87.9827 816.673 L87.9827 822.553 L83.0984 822.553 L83.0984 816.673 Z\" fill=\"#000000\" fill-rule=\"evenodd\" fill-opacity=\"1\" /><path clip-path=\"url(#clip070)\" d=\"M98.978 818.617 L106.617 818.617 L106.617 792.252 L98.3067 793.918 L98.3067 789.659 L106.571 787.993 L111.246 787.993 L111.246 818.617 L118.885 818.617 L118.885 822.553 L98.978 822.553 L98.978 818.617 Z\" fill=\"#000000\" fill-rule=\"evenodd\" fill-opacity=\"1\" /><path clip-path=\"url(#clip070)\" d=\"M138.33 791.071 Q134.719 791.071 132.89 794.636 Q131.084 798.178 131.084 805.307 Q131.084 812.414 132.89 815.979 Q134.719 819.52 138.33 819.52 Q141.964 819.52 143.769 815.979 Q145.598 812.414 145.598 805.307 Q145.598 798.178 143.769 794.636 Q141.964 791.071 138.33 791.071 M138.33 787.368 Q144.14 787.368 147.195 791.974 Q150.274 796.557 150.274 805.307 Q150.274 814.034 147.195 818.641 Q144.14 823.224 138.33 823.224 Q132.519 823.224 129.441 818.641 Q126.385 814.034 126.385 805.307 Q126.385 796.557 129.441 791.974 Q132.519 787.368 138.33 787.368 Z\" fill=\"#000000\" fill-rule=\"evenodd\" fill-opacity=\"1\" /><path clip-path=\"url(#clip070)\" d=\"M63.9319 470.85 Q60.3208 470.85 58.4921 474.414 Q56.6865 477.956 56.6865 485.086 Q56.6865 492.192 58.4921 495.757 Q60.3208 499.299 63.9319 499.299 Q67.5661 499.299 69.3717 495.757 Q71.2004 492.192 71.2004 485.086 Q71.2004 477.956 69.3717 474.414 Q67.5661 470.85 63.9319 470.85 M63.9319 467.146 Q69.742 467.146 72.7976 471.752 Q75.8763 476.336 75.8763 485.086 Q75.8763 493.813 72.7976 498.419 Q69.742 503.002 63.9319 503.002 Q58.1217 503.002 55.043 498.419 Q51.9875 493.813 51.9875 485.086 Q51.9875 476.336 55.043 471.752 Q58.1217 467.146 63.9319 467.146 Z\" fill=\"#000000\" fill-rule=\"evenodd\" fill-opacity=\"1\" /><path clip-path=\"url(#clip070)\" d=\"M84.0938 496.451 L88.978 496.451 L88.978 502.331 L84.0938 502.331 L84.0938 496.451 Z\" fill=\"#000000\" fill-rule=\"evenodd\" fill-opacity=\"1\" /><path clip-path=\"url(#clip070)\" d=\"M99.9733 498.396 L107.612 498.396 L107.612 472.03 L99.3021 473.697 L99.3021 469.438 L107.566 467.771 L112.242 467.771 L112.242 498.396 L119.881 498.396 L119.881 502.331 L99.9733 502.331 L99.9733 498.396 Z\" fill=\"#000000\" fill-rule=\"evenodd\" fill-opacity=\"1\" /><path clip-path=\"url(#clip070)\" d=\"M129.371 467.771 L147.728 467.771 L147.728 471.706 L133.654 471.706 L133.654 480.178 Q134.672 479.831 135.691 479.669 Q136.709 479.484 137.728 479.484 Q143.515 479.484 146.894 482.655 Q150.274 485.826 150.274 491.243 Q150.274 496.822 146.802 499.924 Q143.33 503.002 137.01 503.002 Q134.834 503.002 132.566 502.632 Q130.32 502.262 127.913 501.521 L127.913 496.822 Q129.996 497.956 132.219 498.512 Q134.441 499.067 136.918 499.067 Q140.922 499.067 143.26 496.961 Q145.598 494.854 145.598 491.243 Q145.598 487.632 143.26 485.526 Q140.922 483.419 136.918 483.419 Q135.043 483.419 133.168 483.836 Q131.316 484.252 129.371 485.132 L129.371 467.771 Z\" fill=\"#000000\" fill-rule=\"evenodd\" fill-opacity=\"1\" /><path clip-path=\"url(#clip070)\" d=\"M62.9365 150.628 Q59.3254 150.628 57.4967 154.193 Q55.6912 157.735 55.6912 164.864 Q55.6912 171.971 57.4967 175.535 Q59.3254 179.077 62.9365 179.077 Q66.5707 179.077 68.3763 175.535 Q70.205 171.971 70.205 164.864 Q70.205 157.735 68.3763 154.193 Q66.5707 150.628 62.9365 150.628 M62.9365 146.924 Q68.7467 146.924 71.8022 151.531 Q74.8809 156.114 74.8809 164.864 Q74.8809 173.591 71.8022 178.197 Q68.7467 182.781 62.9365 182.781 Q57.1264 182.781 54.0477 178.197 Q50.9921 173.591 50.9921 164.864 Q50.9921 156.114 54.0477 151.531 Q57.1264 146.924 62.9365 146.924 Z\" fill=\"#000000\" fill-rule=\"evenodd\" fill-opacity=\"1\" /><path clip-path=\"url(#clip070)\" d=\"M83.0984 176.23 L87.9827 176.23 L87.9827 182.109 L83.0984 182.109 L83.0984 176.23 Z\" fill=\"#000000\" fill-rule=\"evenodd\" fill-opacity=\"1\" /><path clip-path=\"url(#clip070)\" d=\"M102.196 178.174 L118.515 178.174 L118.515 182.109 L96.5706 182.109 L96.5706 178.174 Q99.2326 175.42 103.816 170.79 Q108.422 166.137 109.603 164.795 Q111.848 162.272 112.728 160.535 Q113.631 158.776 113.631 157.086 Q113.631 154.332 111.686 152.596 Q109.765 150.86 106.663 150.86 Q104.464 150.86 102.01 151.624 Q99.5798 152.387 96.8021 153.938 L96.8021 149.216 Q99.6261 148.082 102.08 147.503 Q104.534 146.924 106.571 146.924 Q111.941 146.924 115.135 149.61 Q118.33 152.295 118.33 156.786 Q118.33 158.915 117.52 160.836 Q116.733 162.735 114.626 165.327 Q114.047 165.998 110.946 169.216 Q107.844 172.41 102.196 178.174 Z\" fill=\"#000000\" fill-rule=\"evenodd\" fill-opacity=\"1\" /><path clip-path=\"url(#clip070)\" d=\"M138.33 150.628 Q134.719 150.628 132.89 154.193 Q131.084 157.735 131.084 164.864 Q131.084 171.971 132.89 175.535 Q134.719 179.077 138.33 179.077 Q141.964 179.077 143.769 175.535 Q145.598 171.971 145.598 164.864 Q145.598 157.735 143.769 154.193 Q141.964 150.628 138.33 150.628 M138.33 146.924 Q144.14 146.924 147.195 151.531 Q150.274 156.114 150.274 164.864 Q150.274 173.591 147.195 178.197 Q144.14 182.781 138.33 182.781 Q132.519 182.781 129.441 178.197 Q126.385 173.591 126.385 164.864 Q126.385 156.114 129.441 151.531 Q132.519 146.924 138.33 146.924 Z\" fill=\"#000000\" fill-rule=\"evenodd\" fill-opacity=\"1\" /><path clip-path=\"url(#clip072)\" d=\"M305.434 1432.91 L305.434 1445.72 L330.154 1445.72 L330.154 1432.91 L305.434 1432.91 L305.434 1432.91  Z\" fill=\"#009af9\" fill-rule=\"evenodd\" fill-opacity=\"1\"/>\n<polyline clip-path=\"url(#clip072)\" style=\"stroke:#000000; stroke-linecap:round; stroke-linejoin:round; stroke-width:4; stroke-opacity:1; fill:none\" points=\"305.434,1432.91 305.434,1445.72 330.154,1445.72 330.154,1432.91 305.434,1432.91 \"/>\n<path clip-path=\"url(#clip072)\" d=\"M330.154 1445.72 L330.154 1445.72 L354.874 1445.72 L354.874 1445.72 L330.154 1445.72 L330.154 1445.72  Z\" fill=\"#009af9\" fill-rule=\"evenodd\" fill-opacity=\"1\"/>\n<polyline clip-path=\"url(#clip072)\" style=\"stroke:#000000; stroke-linecap:round; stroke-linejoin:round; stroke-width:4; stroke-opacity:1; fill:none\" points=\"330.154,1445.72 330.154,1445.72 354.874,1445.72 330.154,1445.72 \"/>\n<path clip-path=\"url(#clip072)\" d=\"M354.874 1445.72 L354.874 1445.72 L379.594 1445.72 L379.594 1445.72 L354.874 1445.72 L354.874 1445.72  Z\" fill=\"#009af9\" fill-rule=\"evenodd\" fill-opacity=\"1\"/>\n<polyline clip-path=\"url(#clip072)\" style=\"stroke:#000000; stroke-linecap:round; stroke-linejoin:round; stroke-width:4; stroke-opacity:1; fill:none\" points=\"354.874,1445.72 354.874,1445.72 379.594,1445.72 354.874,1445.72 \"/>\n<path clip-path=\"url(#clip072)\" d=\"M379.594 1445.72 L379.594 1445.72 L404.314 1445.72 L404.314 1445.72 L379.594 1445.72 L379.594 1445.72  Z\" fill=\"#009af9\" fill-rule=\"evenodd\" fill-opacity=\"1\"/>\n<polyline clip-path=\"url(#clip072)\" style=\"stroke:#000000; stroke-linecap:round; stroke-linejoin:round; stroke-width:4; stroke-opacity:1; fill:none\" points=\"379.594,1445.72 379.594,1445.72 404.314,1445.72 379.594,1445.72 \"/>\n<path clip-path=\"url(#clip072)\" d=\"M404.314 1432.91 L404.314 1445.72 L429.034 1445.72 L429.034 1432.91 L404.314 1432.91 L404.314 1432.91  Z\" fill=\"#009af9\" fill-rule=\"evenodd\" fill-opacity=\"1\"/>\n<polyline clip-path=\"url(#clip072)\" style=\"stroke:#000000; stroke-linecap:round; stroke-linejoin:round; stroke-width:4; stroke-opacity:1; fill:none\" points=\"404.314,1432.91 404.314,1445.72 429.034,1445.72 429.034,1432.91 404.314,1432.91 \"/>\n<path clip-path=\"url(#clip072)\" d=\"M429.034 1445.72 L429.034 1445.72 L453.754 1445.72 L453.754 1445.72 L429.034 1445.72 L429.034 1445.72  Z\" fill=\"#009af9\" fill-rule=\"evenodd\" fill-opacity=\"1\"/>\n<polyline clip-path=\"url(#clip072)\" style=\"stroke:#000000; stroke-linecap:round; stroke-linejoin:round; stroke-width:4; stroke-opacity:1; fill:none\" points=\"429.034,1445.72 429.034,1445.72 453.754,1445.72 429.034,1445.72 \"/>\n<path clip-path=\"url(#clip072)\" d=\"M453.754 1420.1 L453.754 1445.72 L478.474 1445.72 L478.474 1420.1 L453.754 1420.1 L453.754 1420.1  Z\" fill=\"#009af9\" fill-rule=\"evenodd\" fill-opacity=\"1\"/>\n<polyline clip-path=\"url(#clip072)\" style=\"stroke:#000000; stroke-linecap:round; stroke-linejoin:round; stroke-width:4; stroke-opacity:1; fill:none\" points=\"453.754,1420.1 453.754,1445.72 478.474,1445.72 478.474,1420.1 453.754,1420.1 \"/>\n<path clip-path=\"url(#clip072)\" d=\"M478.474 1445.72 L478.474 1445.72 L503.194 1445.72 L503.194 1445.72 L478.474 1445.72 L478.474 1445.72  Z\" fill=\"#009af9\" fill-rule=\"evenodd\" fill-opacity=\"1\"/>\n<polyline clip-path=\"url(#clip072)\" style=\"stroke:#000000; stroke-linecap:round; stroke-linejoin:round; stroke-width:4; stroke-opacity:1; fill:none\" points=\"478.474,1445.72 478.474,1445.72 503.194,1445.72 478.474,1445.72 \"/>\n<path clip-path=\"url(#clip072)\" d=\"M503.194 1432.91 L503.194 1445.72 L527.914 1445.72 L527.914 1432.91 L503.194 1432.91 L503.194 1432.91  Z\" fill=\"#009af9\" fill-rule=\"evenodd\" fill-opacity=\"1\"/>\n<polyline clip-path=\"url(#clip072)\" style=\"stroke:#000000; stroke-linecap:round; stroke-linejoin:round; stroke-width:4; stroke-opacity:1; fill:none\" points=\"503.194,1432.91 503.194,1445.72 527.914,1445.72 527.914,1432.91 503.194,1432.91 \"/>\n<path clip-path=\"url(#clip072)\" d=\"M527.914 1407.29 L527.914 1445.72 L552.635 1445.72 L552.635 1407.29 L527.914 1407.29 L527.914 1407.29  Z\" fill=\"#009af9\" fill-rule=\"evenodd\" fill-opacity=\"1\"/>\n<polyline clip-path=\"url(#clip072)\" style=\"stroke:#000000; stroke-linecap:round; stroke-linejoin:round; stroke-width:4; stroke-opacity:1; fill:none\" points=\"527.914,1407.29 527.914,1445.72 552.635,1445.72 552.635,1407.29 527.914,1407.29 \"/>\n<path clip-path=\"url(#clip072)\" d=\"M552.635 1407.29 L552.635 1445.72 L577.355 1445.72 L577.355 1407.29 L552.635 1407.29 L552.635 1407.29  Z\" fill=\"#009af9\" fill-rule=\"evenodd\" fill-opacity=\"1\"/>\n<polyline clip-path=\"url(#clip072)\" style=\"stroke:#000000; stroke-linecap:round; stroke-linejoin:round; stroke-width:4; stroke-opacity:1; fill:none\" points=\"552.635,1407.29 552.635,1445.72 577.355,1445.72 577.355,1407.29 552.635,1407.29 \"/>\n<path clip-path=\"url(#clip072)\" d=\"M577.355 1420.1 L577.355 1445.72 L602.075 1445.72 L602.075 1420.1 L577.355 1420.1 L577.355 1420.1  Z\" fill=\"#009af9\" fill-rule=\"evenodd\" fill-opacity=\"1\"/>\n<polyline clip-path=\"url(#clip072)\" style=\"stroke:#000000; stroke-linecap:round; stroke-linejoin:round; stroke-width:4; stroke-opacity:1; fill:none\" points=\"577.355,1420.1 577.355,1445.72 602.075,1445.72 602.075,1420.1 577.355,1420.1 \"/>\n<path clip-path=\"url(#clip072)\" d=\"M602.075 1330.44 L602.075 1445.72 L626.795 1445.72 L626.795 1330.44 L602.075 1330.44 L602.075 1330.44  Z\" fill=\"#009af9\" fill-rule=\"evenodd\" fill-opacity=\"1\"/>\n<polyline clip-path=\"url(#clip072)\" style=\"stroke:#000000; stroke-linecap:round; stroke-linejoin:round; stroke-width:4; stroke-opacity:1; fill:none\" points=\"602.075,1330.44 602.075,1445.72 626.795,1445.72 626.795,1330.44 602.075,1330.44 \"/>\n<path clip-path=\"url(#clip072)\" d=\"M626.795 1407.29 L626.795 1445.72 L651.515 1445.72 L651.515 1407.29 L626.795 1407.29 L626.795 1407.29  Z\" fill=\"#009af9\" fill-rule=\"evenodd\" fill-opacity=\"1\"/>\n<polyline clip-path=\"url(#clip072)\" style=\"stroke:#000000; stroke-linecap:round; stroke-linejoin:round; stroke-width:4; stroke-opacity:1; fill:none\" points=\"626.795,1407.29 626.795,1445.72 651.515,1445.72 651.515,1407.29 626.795,1407.29 \"/>\n<path clip-path=\"url(#clip072)\" d=\"M651.515 1330.44 L651.515 1445.72 L676.235 1445.72 L676.235 1330.44 L651.515 1330.44 L651.515 1330.44  Z\" fill=\"#009af9\" fill-rule=\"evenodd\" fill-opacity=\"1\"/>\n<polyline clip-path=\"url(#clip072)\" style=\"stroke:#000000; stroke-linecap:round; stroke-linejoin:round; stroke-width:4; stroke-opacity:1; fill:none\" points=\"651.515,1330.44 651.515,1445.72 676.235,1445.72 676.235,1330.44 651.515,1330.44 \"/>\n<path clip-path=\"url(#clip072)\" d=\"M676.235 1343.24 L676.235 1445.72 L700.955 1445.72 L700.955 1343.24 L676.235 1343.24 L676.235 1343.24  Z\" fill=\"#009af9\" fill-rule=\"evenodd\" fill-opacity=\"1\"/>\n<polyline clip-path=\"url(#clip072)\" style=\"stroke:#000000; stroke-linecap:round; stroke-linejoin:round; stroke-width:4; stroke-opacity:1; fill:none\" points=\"676.235,1343.24 676.235,1445.72 700.955,1445.72 700.955,1343.24 676.235,1343.24 \"/>\n<path clip-path=\"url(#clip072)\" d=\"M700.955 1279.2 L700.955 1445.72 L725.675 1445.72 L725.675 1279.2 L700.955 1279.2 L700.955 1279.2  Z\" fill=\"#009af9\" fill-rule=\"evenodd\" fill-opacity=\"1\"/>\n<polyline clip-path=\"url(#clip072)\" style=\"stroke:#000000; stroke-linecap:round; stroke-linejoin:round; stroke-width:4; stroke-opacity:1; fill:none\" points=\"700.955,1279.2 700.955,1445.72 725.675,1445.72 725.675,1279.2 700.955,1279.2 \"/>\n<path clip-path=\"url(#clip072)\" d=\"M725.675 1292.01 L725.675 1445.72 L750.395 1445.72 L750.395 1292.01 L725.675 1292.01 L725.675 1292.01  Z\" fill=\"#009af9\" fill-rule=\"evenodd\" fill-opacity=\"1\"/>\n<polyline clip-path=\"url(#clip072)\" style=\"stroke:#000000; stroke-linecap:round; stroke-linejoin:round; stroke-width:4; stroke-opacity:1; fill:none\" points=\"725.675,1292.01 725.675,1445.72 750.395,1445.72 750.395,1292.01 725.675,1292.01 \"/>\n<path clip-path=\"url(#clip072)\" d=\"M750.395 1240.77 L750.395 1445.72 L775.115 1445.72 L775.115 1240.77 L750.395 1240.77 L750.395 1240.77  Z\" fill=\"#009af9\" fill-rule=\"evenodd\" fill-opacity=\"1\"/>\n<polyline clip-path=\"url(#clip072)\" style=\"stroke:#000000; stroke-linecap:round; stroke-linejoin:round; stroke-width:4; stroke-opacity:1; fill:none\" points=\"750.395,1240.77 750.395,1445.72 775.115,1445.72 775.115,1240.77 750.395,1240.77 \"/>\n<path clip-path=\"url(#clip072)\" d=\"M775.115 1125.49 L775.115 1445.72 L799.835 1445.72 L799.835 1125.49 L775.115 1125.49 L775.115 1125.49  Z\" fill=\"#009af9\" fill-rule=\"evenodd\" fill-opacity=\"1\"/>\n<polyline clip-path=\"url(#clip072)\" style=\"stroke:#000000; stroke-linecap:round; stroke-linejoin:round; stroke-width:4; stroke-opacity:1; fill:none\" points=\"775.115,1125.49 775.115,1445.72 799.835,1445.72 799.835,1125.49 775.115,1125.49 \"/>\n<path clip-path=\"url(#clip072)\" d=\"M799.835 1253.58 L799.835 1445.72 L824.555 1445.72 L824.555 1253.58 L799.835 1253.58 L799.835 1253.58  Z\" fill=\"#009af9\" fill-rule=\"evenodd\" fill-opacity=\"1\"/>\n<polyline clip-path=\"url(#clip072)\" style=\"stroke:#000000; stroke-linecap:round; stroke-linejoin:round; stroke-width:4; stroke-opacity:1; fill:none\" points=\"799.835,1253.58 799.835,1445.72 824.555,1445.72 824.555,1253.58 799.835,1253.58 \"/>\n<path clip-path=\"url(#clip072)\" d=\"M824.555 984.597 L824.555 1445.72 L849.275 1445.72 L849.275 984.597 L824.555 984.597 L824.555 984.597  Z\" fill=\"#009af9\" fill-rule=\"evenodd\" fill-opacity=\"1\"/>\n<polyline clip-path=\"url(#clip072)\" style=\"stroke:#000000; stroke-linecap:round; stroke-linejoin:round; stroke-width:4; stroke-opacity:1; fill:none\" points=\"824.555,984.597 824.555,1445.72 849.275,1445.72 849.275,984.597 824.555,984.597 \"/>\n<path clip-path=\"url(#clip072)\" d=\"M849.275 882.126 L849.275 1445.72 L873.995 1445.72 L873.995 882.126 L849.275 882.126 L849.275 882.126  Z\" fill=\"#009af9\" fill-rule=\"evenodd\" fill-opacity=\"1\"/>\n<polyline clip-path=\"url(#clip072)\" style=\"stroke:#000000; stroke-linecap:round; stroke-linejoin:round; stroke-width:4; stroke-opacity:1; fill:none\" points=\"849.275,882.126 849.275,1445.72 873.995,1445.72 873.995,882.126 849.275,882.126 \"/>\n<path clip-path=\"url(#clip072)\" d=\"M873.995 1010.21 L873.995 1445.72 L898.715 1445.72 L898.715 1010.21 L873.995 1010.21 L873.995 1010.21  Z\" fill=\"#009af9\" fill-rule=\"evenodd\" fill-opacity=\"1\"/>\n<polyline clip-path=\"url(#clip072)\" style=\"stroke:#000000; stroke-linecap:round; stroke-linejoin:round; stroke-width:4; stroke-opacity:1; fill:none\" points=\"873.995,1010.21 873.995,1445.72 898.715,1445.72 898.715,1010.21 873.995,1010.21 \"/>\n<path clip-path=\"url(#clip072)\" d=\"M898.715 766.846 L898.715 1445.72 L923.435 1445.72 L923.435 766.846 L898.715 766.846 L898.715 766.846  Z\" fill=\"#009af9\" fill-rule=\"evenodd\" fill-opacity=\"1\"/>\n<polyline clip-path=\"url(#clip072)\" style=\"stroke:#000000; stroke-linecap:round; stroke-linejoin:round; stroke-width:4; stroke-opacity:1; fill:none\" points=\"898.715,766.846 898.715,1445.72 923.435,1445.72 923.435,766.846 898.715,766.846 \"/>\n<path clip-path=\"url(#clip072)\" d=\"M923.435 638.757 L923.435 1445.72 L948.155 1445.72 L948.155 638.757 L923.435 638.757 L923.435 638.757  Z\" fill=\"#009af9\" fill-rule=\"evenodd\" fill-opacity=\"1\"/>\n<polyline clip-path=\"url(#clip072)\" style=\"stroke:#000000; stroke-linecap:round; stroke-linejoin:round; stroke-width:4; stroke-opacity:1; fill:none\" points=\"923.435,638.757 923.435,1445.72 948.155,1445.72 948.155,638.757 923.435,638.757 \"/>\n<path clip-path=\"url(#clip072)\" d=\"M948.155 766.846 L948.155 1445.72 L972.875 1445.72 L972.875 766.846 L948.155 766.846 L948.155 766.846  Z\" fill=\"#009af9\" fill-rule=\"evenodd\" fill-opacity=\"1\"/>\n<polyline clip-path=\"url(#clip072)\" style=\"stroke:#000000; stroke-linecap:round; stroke-linejoin:round; stroke-width:4; stroke-opacity:1; fill:none\" points=\"948.155,766.846 948.155,1445.72 972.875,1445.72 972.875,766.846 948.155,766.846 \"/>\n<path clip-path=\"url(#clip072)\" d=\"M972.875 638.757 L972.875 1445.72 L997.595 1445.72 L997.595 638.757 L972.875 638.757 L972.875 638.757  Z\" fill=\"#009af9\" fill-rule=\"evenodd\" fill-opacity=\"1\"/>\n<polyline clip-path=\"url(#clip072)\" style=\"stroke:#000000; stroke-linecap:round; stroke-linejoin:round; stroke-width:4; stroke-opacity:1; fill:none\" points=\"972.875,638.757 972.875,1445.72 997.595,1445.72 997.595,638.757 972.875,638.757 \"/>\n<path clip-path=\"url(#clip072)\" d=\"M997.595 638.757 L997.595 1445.72 L1022.31 1445.72 L1022.31 638.757 L997.595 638.757 L997.595 638.757  Z\" fill=\"#009af9\" fill-rule=\"evenodd\" fill-opacity=\"1\"/>\n<polyline clip-path=\"url(#clip072)\" style=\"stroke:#000000; stroke-linecap:round; stroke-linejoin:round; stroke-width:4; stroke-opacity:1; fill:none\" points=\"997.595,638.757 997.595,1445.72 1022.31,1445.72 1022.31,638.757 997.595,638.757 \"/>\n<path clip-path=\"url(#clip072)\" d=\"M1022.31 369.771 L1022.31 1445.72 L1047.03 1445.72 L1047.03 369.771 L1022.31 369.771 L1022.31 369.771  Z\" fill=\"#009af9\" fill-rule=\"evenodd\" fill-opacity=\"1\"/>\n<polyline clip-path=\"url(#clip072)\" style=\"stroke:#000000; stroke-linecap:round; stroke-linejoin:round; stroke-width:4; stroke-opacity:1; fill:none\" points=\"1022.31,369.771 1022.31,1445.72 1047.03,1445.72 1047.03,369.771 1022.31,369.771 \"/>\n<path clip-path=\"url(#clip072)\" d=\"M1047.03 549.095 L1047.03 1445.72 L1071.75 1445.72 L1071.75 549.095 L1047.03 549.095 L1047.03 549.095  Z\" fill=\"#009af9\" fill-rule=\"evenodd\" fill-opacity=\"1\"/>\n<polyline clip-path=\"url(#clip072)\" style=\"stroke:#000000; stroke-linecap:round; stroke-linejoin:round; stroke-width:4; stroke-opacity:1; fill:none\" points=\"1047.03,549.095 1047.03,1445.72 1071.75,1445.72 1071.75,549.095 1047.03,549.095 \"/>\n<path clip-path=\"url(#clip072)\" d=\"M1071.75 331.345 L1071.75 1445.72 L1096.47 1445.72 L1096.47 331.345 L1071.75 331.345 L1071.75 331.345  Z\" fill=\"#009af9\" fill-rule=\"evenodd\" fill-opacity=\"1\"/>\n<polyline clip-path=\"url(#clip072)\" style=\"stroke:#000000; stroke-linecap:round; stroke-linejoin:round; stroke-width:4; stroke-opacity:1; fill:none\" points=\"1071.75,331.345 1071.75,1445.72 1096.47,1445.72 1096.47,331.345 1071.75,331.345 \"/>\n<path clip-path=\"url(#clip072)\" d=\"M1096.47 395.389 L1096.47 1445.72 L1121.19 1445.72 L1121.19 395.389 L1096.47 395.389 L1096.47 395.389  Z\" fill=\"#009af9\" fill-rule=\"evenodd\" fill-opacity=\"1\"/>\n<polyline clip-path=\"url(#clip072)\" style=\"stroke:#000000; stroke-linecap:round; stroke-linejoin:round; stroke-width:4; stroke-opacity:1; fill:none\" points=\"1096.47,395.389 1096.47,1445.72 1121.19,1445.72 1121.19,395.389 1096.47,395.389 \"/>\n<path clip-path=\"url(#clip072)\" d=\"M1121.19 139.212 L1121.19 1445.72 L1145.91 1445.72 L1145.91 139.212 L1121.19 139.212 L1121.19 139.212  Z\" fill=\"#009af9\" fill-rule=\"evenodd\" fill-opacity=\"1\"/>\n<polyline clip-path=\"url(#clip072)\" style=\"stroke:#000000; stroke-linecap:round; stroke-linejoin:round; stroke-width:4; stroke-opacity:1; fill:none\" points=\"1121.19,139.212 1121.19,1445.72 1145.91,1445.72 1145.91,139.212 1121.19,139.212 \"/>\n<path clip-path=\"url(#clip072)\" d=\"M1145.91 152.021 L1145.91 1445.72 L1170.63 1445.72 L1170.63 152.021 L1145.91 152.021 L1145.91 152.021  Z\" fill=\"#009af9\" fill-rule=\"evenodd\" fill-opacity=\"1\"/>\n<polyline clip-path=\"url(#clip072)\" style=\"stroke:#000000; stroke-linecap:round; stroke-linejoin:round; stroke-width:4; stroke-opacity:1; fill:none\" points=\"1145.91,152.021 1145.91,1445.72 1170.63,1445.72 1170.63,152.021 1145.91,152.021 \"/>\n<path clip-path=\"url(#clip072)\" d=\"M1170.63 203.256 L1170.63 1445.72 L1195.35 1445.72 L1195.35 203.256 L1170.63 203.256 L1170.63 203.256  Z\" fill=\"#009af9\" fill-rule=\"evenodd\" fill-opacity=\"1\"/>\n<polyline clip-path=\"url(#clip072)\" style=\"stroke:#000000; stroke-linecap:round; stroke-linejoin:round; stroke-width:4; stroke-opacity:1; fill:none\" points=\"1170.63,203.256 1170.63,1445.72 1195.35,1445.72 1195.35,203.256 1170.63,203.256 \"/>\n<path clip-path=\"url(#clip072)\" d=\"M1195.35 177.638 L1195.35 1445.72 L1220.07 1445.72 L1220.07 177.638 L1195.35 177.638 L1195.35 177.638  Z\" fill=\"#009af9\" fill-rule=\"evenodd\" fill-opacity=\"1\"/>\n<polyline clip-path=\"url(#clip072)\" style=\"stroke:#000000; stroke-linecap:round; stroke-linejoin:round; stroke-width:4; stroke-opacity:1; fill:none\" points=\"1195.35,177.638 1195.35,1445.72 1220.07,1445.72 1220.07,177.638 1195.35,177.638 \"/>\n<path clip-path=\"url(#clip072)\" d=\"M1220.07 216.065 L1220.07 1445.72 L1244.79 1445.72 L1244.79 216.065 L1220.07 216.065 L1220.07 216.065  Z\" fill=\"#009af9\" fill-rule=\"evenodd\" fill-opacity=\"1\"/>\n<polyline clip-path=\"url(#clip072)\" style=\"stroke:#000000; stroke-linecap:round; stroke-linejoin:round; stroke-width:4; stroke-opacity:1; fill:none\" points=\"1220.07,216.065 1220.07,1445.72 1244.79,1445.72 1244.79,216.065 1220.07,216.065 \"/>\n<path clip-path=\"url(#clip072)\" d=\"M1244.79 87.9763 L1244.79 1445.72 L1269.51 1445.72 L1269.51 87.9763 L1244.79 87.9763 L1244.79 87.9763  Z\" fill=\"#009af9\" fill-rule=\"evenodd\" fill-opacity=\"1\"/>\n<polyline clip-path=\"url(#clip072)\" style=\"stroke:#000000; stroke-linecap:round; stroke-linejoin:round; stroke-width:4; stroke-opacity:1; fill:none\" points=\"1244.79,87.9763 1244.79,1445.72 1269.51,1445.72 1269.51,87.9763 1244.79,87.9763 \"/>\n<path clip-path=\"url(#clip072)\" d=\"M1269.51 356.962 L1269.51 1445.72 L1294.23 1445.72 L1294.23 356.962 L1269.51 356.962 L1269.51 356.962  Z\" fill=\"#009af9\" fill-rule=\"evenodd\" fill-opacity=\"1\"/>\n<polyline clip-path=\"url(#clip072)\" style=\"stroke:#000000; stroke-linecap:round; stroke-linejoin:round; stroke-width:4; stroke-opacity:1; fill:none\" points=\"1269.51,356.962 1269.51,1445.72 1294.23,1445.72 1294.23,356.962 1269.51,356.962 \"/>\n<path clip-path=\"url(#clip072)\" d=\"M1294.23 292.918 L1294.23 1445.72 L1318.95 1445.72 L1318.95 292.918 L1294.23 292.918 L1294.23 292.918  Z\" fill=\"#009af9\" fill-rule=\"evenodd\" fill-opacity=\"1\"/>\n<polyline clip-path=\"url(#clip072)\" style=\"stroke:#000000; stroke-linecap:round; stroke-linejoin:round; stroke-width:4; stroke-opacity:1; fill:none\" points=\"1294.23,292.918 1294.23,1445.72 1318.95,1445.72 1318.95,292.918 1294.23,292.918 \"/>\n<path clip-path=\"url(#clip072)\" d=\"M1318.95 216.065 L1318.95 1445.72 L1343.67 1445.72 L1343.67 216.065 L1318.95 216.065 L1318.95 216.065  Z\" fill=\"#009af9\" fill-rule=\"evenodd\" fill-opacity=\"1\"/>\n<polyline clip-path=\"url(#clip072)\" style=\"stroke:#000000; stroke-linecap:round; stroke-linejoin:round; stroke-width:4; stroke-opacity:1; fill:none\" points=\"1318.95,216.065 1318.95,1445.72 1343.67,1445.72 1343.67,216.065 1318.95,216.065 \"/>\n<path clip-path=\"url(#clip072)\" d=\"M1343.67 254.491 L1343.67 1445.72 L1368.4 1445.72 L1368.4 254.491 L1343.67 254.491 L1343.67 254.491  Z\" fill=\"#009af9\" fill-rule=\"evenodd\" fill-opacity=\"1\"/>\n<polyline clip-path=\"url(#clip072)\" style=\"stroke:#000000; stroke-linecap:round; stroke-linejoin:round; stroke-width:4; stroke-opacity:1; fill:none\" points=\"1343.67,254.491 1343.67,1445.72 1368.4,1445.72 1368.4,254.491 1343.67,254.491 \"/>\n<path clip-path=\"url(#clip072)\" d=\"M1368.4 318.536 L1368.4 1445.72 L1393.12 1445.72 L1393.12 318.536 L1368.4 318.536 L1368.4 318.536  Z\" fill=\"#009af9\" fill-rule=\"evenodd\" fill-opacity=\"1\"/>\n<polyline clip-path=\"url(#clip072)\" style=\"stroke:#000000; stroke-linecap:round; stroke-linejoin:round; stroke-width:4; stroke-opacity:1; fill:none\" points=\"1368.4,318.536 1368.4,1445.72 1393.12,1445.72 1393.12,318.536 1368.4,318.536 \"/>\n<path clip-path=\"url(#clip072)\" d=\"M1393.12 561.904 L1393.12 1445.72 L1417.84 1445.72 L1417.84 561.904 L1393.12 561.904 L1393.12 561.904  Z\" fill=\"#009af9\" fill-rule=\"evenodd\" fill-opacity=\"1\"/>\n<polyline clip-path=\"url(#clip072)\" style=\"stroke:#000000; stroke-linecap:round; stroke-linejoin:round; stroke-width:4; stroke-opacity:1; fill:none\" points=\"1393.12,561.904 1393.12,1445.72 1417.84,1445.72 1417.84,561.904 1393.12,561.904 \"/>\n<path clip-path=\"url(#clip072)\" d=\"M1417.84 292.918 L1417.84 1445.72 L1442.56 1445.72 L1442.56 292.918 L1417.84 292.918 L1417.84 292.918  Z\" fill=\"#009af9\" fill-rule=\"evenodd\" fill-opacity=\"1\"/>\n<polyline clip-path=\"url(#clip072)\" style=\"stroke:#000000; stroke-linecap:round; stroke-linejoin:round; stroke-width:4; stroke-opacity:1; fill:none\" points=\"1417.84,292.918 1417.84,1445.72 1442.56,1445.72 1442.56,292.918 1417.84,292.918 \"/>\n<path clip-path=\"url(#clip072)\" d=\"M1442.56 651.566 L1442.56 1445.72 L1467.28 1445.72 L1467.28 651.566 L1442.56 651.566 L1442.56 651.566  Z\" fill=\"#009af9\" fill-rule=\"evenodd\" fill-opacity=\"1\"/>\n<polyline clip-path=\"url(#clip072)\" style=\"stroke:#000000; stroke-linecap:round; stroke-linejoin:round; stroke-width:4; stroke-opacity:1; fill:none\" points=\"1442.56,651.566 1442.56,1445.72 1467.28,1445.72 1467.28,651.566 1442.56,651.566 \"/>\n<path clip-path=\"url(#clip072)\" d=\"M1467.28 907.743 L1467.28 1445.72 L1492 1445.72 L1492 907.743 L1467.28 907.743 L1467.28 907.743  Z\" fill=\"#009af9\" fill-rule=\"evenodd\" fill-opacity=\"1\"/>\n<polyline clip-path=\"url(#clip072)\" style=\"stroke:#000000; stroke-linecap:round; stroke-linejoin:round; stroke-width:4; stroke-opacity:1; fill:none\" points=\"1467.28,907.743 1467.28,1445.72 1492,1445.72 1492,907.743 1467.28,907.743 \"/>\n<path clip-path=\"url(#clip072)\" d=\"M1492 882.126 L1492 1445.72 L1516.72 1445.72 L1516.72 882.126 L1492 882.126 L1492 882.126  Z\" fill=\"#009af9\" fill-rule=\"evenodd\" fill-opacity=\"1\"/>\n<polyline clip-path=\"url(#clip072)\" style=\"stroke:#000000; stroke-linecap:round; stroke-linejoin:round; stroke-width:4; stroke-opacity:1; fill:none\" points=\"1492,882.126 1492,1445.72 1516.72,1445.72 1516.72,882.126 1492,882.126 \"/>\n<path clip-path=\"url(#clip072)\" d=\"M1516.72 843.699 L1516.72 1445.72 L1541.44 1445.72 L1541.44 843.699 L1516.72 843.699 L1516.72 843.699  Z\" fill=\"#009af9\" fill-rule=\"evenodd\" fill-opacity=\"1\"/>\n<polyline clip-path=\"url(#clip072)\" style=\"stroke:#000000; stroke-linecap:round; stroke-linejoin:round; stroke-width:4; stroke-opacity:1; fill:none\" points=\"1516.72,843.699 1516.72,1445.72 1541.44,1445.72 1541.44,843.699 1516.72,843.699 \"/>\n<path clip-path=\"url(#clip072)\" d=\"M1541.44 830.89 L1541.44 1445.72 L1566.16 1445.72 L1566.16 830.89 L1541.44 830.89 L1541.44 830.89  Z\" fill=\"#009af9\" fill-rule=\"evenodd\" fill-opacity=\"1\"/>\n<polyline clip-path=\"url(#clip072)\" style=\"stroke:#000000; stroke-linecap:round; stroke-linejoin:round; stroke-width:4; stroke-opacity:1; fill:none\" points=\"1541.44,830.89 1541.44,1445.72 1566.16,1445.72 1566.16,830.89 1541.44,830.89 \"/>\n<path clip-path=\"url(#clip072)\" d=\"M1566.16 1048.64 L1566.16 1445.72 L1590.88 1445.72 L1590.88 1048.64 L1566.16 1048.64 L1566.16 1048.64  Z\" fill=\"#009af9\" fill-rule=\"evenodd\" fill-opacity=\"1\"/>\n<polyline clip-path=\"url(#clip072)\" style=\"stroke:#000000; stroke-linecap:round; stroke-linejoin:round; stroke-width:4; stroke-opacity:1; fill:none\" points=\"1566.16,1048.64 1566.16,1445.72 1590.88,1445.72 1590.88,1048.64 1566.16,1048.64 \"/>\n<path clip-path=\"url(#clip072)\" d=\"M1590.88 1087.07 L1590.88 1445.72 L1615.6 1445.72 L1615.6 1087.07 L1590.88 1087.07 L1590.88 1087.07  Z\" fill=\"#009af9\" fill-rule=\"evenodd\" fill-opacity=\"1\"/>\n<polyline clip-path=\"url(#clip072)\" style=\"stroke:#000000; stroke-linecap:round; stroke-linejoin:round; stroke-width:4; stroke-opacity:1; fill:none\" points=\"1590.88,1087.07 1590.88,1445.72 1615.6,1445.72 1615.6,1087.07 1590.88,1087.07 \"/>\n<path clip-path=\"url(#clip072)\" d=\"M1615.6 971.788 L1615.6 1445.72 L1640.32 1445.72 L1640.32 971.788 L1615.6 971.788 L1615.6 971.788  Z\" fill=\"#009af9\" fill-rule=\"evenodd\" fill-opacity=\"1\"/>\n<polyline clip-path=\"url(#clip072)\" style=\"stroke:#000000; stroke-linecap:round; stroke-linejoin:round; stroke-width:4; stroke-opacity:1; fill:none\" points=\"1615.6,971.788 1615.6,1445.72 1640.32,1445.72 1640.32,971.788 1615.6,971.788 \"/>\n<path clip-path=\"url(#clip072)\" d=\"M1640.32 1176.73 L1640.32 1445.72 L1665.04 1445.72 L1665.04 1176.73 L1640.32 1176.73 L1640.32 1176.73  Z\" fill=\"#009af9\" fill-rule=\"evenodd\" fill-opacity=\"1\"/>\n<polyline clip-path=\"url(#clip072)\" style=\"stroke:#000000; stroke-linecap:round; stroke-linejoin:round; stroke-width:4; stroke-opacity:1; fill:none\" points=\"1640.32,1176.73 1640.32,1445.72 1665.04,1445.72 1665.04,1176.73 1640.32,1176.73 \"/>\n<path clip-path=\"url(#clip072)\" d=\"M1665.04 1215.16 L1665.04 1445.72 L1689.76 1445.72 L1689.76 1215.16 L1665.04 1215.16 L1665.04 1215.16  Z\" fill=\"#009af9\" fill-rule=\"evenodd\" fill-opacity=\"1\"/>\n<polyline clip-path=\"url(#clip072)\" style=\"stroke:#000000; stroke-linecap:round; stroke-linejoin:round; stroke-width:4; stroke-opacity:1; fill:none\" points=\"1665.04,1215.16 1665.04,1445.72 1689.76,1445.72 1689.76,1215.16 1665.04,1215.16 \"/>\n<path clip-path=\"url(#clip072)\" d=\"M1689.76 1292.01 L1689.76 1445.72 L1714.48 1445.72 L1714.48 1292.01 L1689.76 1292.01 L1689.76 1292.01  Z\" fill=\"#009af9\" fill-rule=\"evenodd\" fill-opacity=\"1\"/>\n<polyline clip-path=\"url(#clip072)\" style=\"stroke:#000000; stroke-linecap:round; stroke-linejoin:round; stroke-width:4; stroke-opacity:1; fill:none\" points=\"1689.76,1292.01 1689.76,1445.72 1714.48,1445.72 1714.48,1292.01 1689.76,1292.01 \"/>\n<path clip-path=\"url(#clip072)\" d=\"M1714.48 1317.63 L1714.48 1445.72 L1739.2 1445.72 L1739.2 1317.63 L1714.48 1317.63 L1714.48 1317.63  Z\" fill=\"#009af9\" fill-rule=\"evenodd\" fill-opacity=\"1\"/>\n<polyline clip-path=\"url(#clip072)\" style=\"stroke:#000000; stroke-linecap:round; stroke-linejoin:round; stroke-width:4; stroke-opacity:1; fill:none\" points=\"1714.48,1317.63 1714.48,1445.72 1739.2,1445.72 1739.2,1317.63 1714.48,1317.63 \"/>\n<path clip-path=\"url(#clip072)\" d=\"M1739.2 1356.05 L1739.2 1445.72 L1763.92 1445.72 L1763.92 1356.05 L1739.2 1356.05 L1739.2 1356.05  Z\" fill=\"#009af9\" fill-rule=\"evenodd\" fill-opacity=\"1\"/>\n<polyline clip-path=\"url(#clip072)\" style=\"stroke:#000000; stroke-linecap:round; stroke-linejoin:round; stroke-width:4; stroke-opacity:1; fill:none\" points=\"1739.2,1356.05 1739.2,1445.72 1763.92,1445.72 1763.92,1356.05 1739.2,1356.05 \"/>\n<path clip-path=\"url(#clip072)\" d=\"M1763.92 1381.67 L1763.92 1445.72 L1788.64 1445.72 L1788.64 1381.67 L1763.92 1381.67 L1763.92 1381.67  Z\" fill=\"#009af9\" fill-rule=\"evenodd\" fill-opacity=\"1\"/>\n<polyline clip-path=\"url(#clip072)\" style=\"stroke:#000000; stroke-linecap:round; stroke-linejoin:round; stroke-width:4; stroke-opacity:1; fill:none\" points=\"1763.92,1381.67 1763.92,1445.72 1788.64,1445.72 1788.64,1381.67 1763.92,1381.67 \"/>\n<path clip-path=\"url(#clip072)\" d=\"M1788.64 1368.86 L1788.64 1445.72 L1813.36 1445.72 L1813.36 1368.86 L1788.64 1368.86 L1788.64 1368.86  Z\" fill=\"#009af9\" fill-rule=\"evenodd\" fill-opacity=\"1\"/>\n<polyline clip-path=\"url(#clip072)\" style=\"stroke:#000000; stroke-linecap:round; stroke-linejoin:round; stroke-width:4; stroke-opacity:1; fill:none\" points=\"1788.64,1368.86 1788.64,1445.72 1813.36,1445.72 1813.36,1368.86 1788.64,1368.86 \"/>\n<path clip-path=\"url(#clip072)\" d=\"M1813.36 1407.29 L1813.36 1445.72 L1838.08 1445.72 L1838.08 1407.29 L1813.36 1407.29 L1813.36 1407.29  Z\" fill=\"#009af9\" fill-rule=\"evenodd\" fill-opacity=\"1\"/>\n<polyline clip-path=\"url(#clip072)\" style=\"stroke:#000000; stroke-linecap:round; stroke-linejoin:round; stroke-width:4; stroke-opacity:1; fill:none\" points=\"1813.36,1407.29 1813.36,1445.72 1838.08,1445.72 1838.08,1407.29 1813.36,1407.29 \"/>\n<path clip-path=\"url(#clip072)\" d=\"M1838.08 1420.1 L1838.08 1445.72 L1862.8 1445.72 L1862.8 1420.1 L1838.08 1420.1 L1838.08 1420.1  Z\" fill=\"#009af9\" fill-rule=\"evenodd\" fill-opacity=\"1\"/>\n<polyline clip-path=\"url(#clip072)\" style=\"stroke:#000000; stroke-linecap:round; stroke-linejoin:round; stroke-width:4; stroke-opacity:1; fill:none\" points=\"1838.08,1420.1 1838.08,1445.72 1862.8,1445.72 1862.8,1420.1 1838.08,1420.1 \"/>\n<path clip-path=\"url(#clip072)\" d=\"M1862.8 1432.91 L1862.8 1445.72 L1887.52 1445.72 L1887.52 1432.91 L1862.8 1432.91 L1862.8 1432.91  Z\" fill=\"#009af9\" fill-rule=\"evenodd\" fill-opacity=\"1\"/>\n<polyline clip-path=\"url(#clip072)\" style=\"stroke:#000000; stroke-linecap:round; stroke-linejoin:round; stroke-width:4; stroke-opacity:1; fill:none\" points=\"1862.8,1432.91 1862.8,1445.72 1887.52,1445.72 1887.52,1432.91 1862.8,1432.91 \"/>\n<path clip-path=\"url(#clip072)\" d=\"M1887.52 1420.1 L1887.52 1445.72 L1912.24 1445.72 L1912.24 1420.1 L1887.52 1420.1 L1887.52 1420.1  Z\" fill=\"#009af9\" fill-rule=\"evenodd\" fill-opacity=\"1\"/>\n<polyline clip-path=\"url(#clip072)\" style=\"stroke:#000000; stroke-linecap:round; stroke-linejoin:round; stroke-width:4; stroke-opacity:1; fill:none\" points=\"1887.52,1420.1 1887.52,1445.72 1912.24,1445.72 1912.24,1420.1 1887.52,1420.1 \"/>\n<path clip-path=\"url(#clip072)\" d=\"M1912.24 1407.29 L1912.24 1445.72 L1936.96 1445.72 L1936.96 1407.29 L1912.24 1407.29 L1912.24 1407.29  Z\" fill=\"#009af9\" fill-rule=\"evenodd\" fill-opacity=\"1\"/>\n<polyline clip-path=\"url(#clip072)\" style=\"stroke:#000000; stroke-linecap:round; stroke-linejoin:round; stroke-width:4; stroke-opacity:1; fill:none\" points=\"1912.24,1407.29 1912.24,1445.72 1936.96,1445.72 1936.96,1407.29 1912.24,1407.29 \"/>\n<path clip-path=\"url(#clip072)\" d=\"M1936.96 1445.72 L1936.96 1445.72 L1961.68 1445.72 L1961.68 1445.72 L1936.96 1445.72 L1936.96 1445.72  Z\" fill=\"#009af9\" fill-rule=\"evenodd\" fill-opacity=\"1\"/>\n<polyline clip-path=\"url(#clip072)\" style=\"stroke:#000000; stroke-linecap:round; stroke-linejoin:round; stroke-width:4; stroke-opacity:1; fill:none\" points=\"1936.96,1445.72 1936.96,1445.72 1961.68,1445.72 1936.96,1445.72 \"/>\n<path clip-path=\"url(#clip072)\" d=\"M1961.68 1445.72 L1961.68 1445.72 L1986.4 1445.72 L1986.4 1445.72 L1961.68 1445.72 L1961.68 1445.72  Z\" fill=\"#009af9\" fill-rule=\"evenodd\" fill-opacity=\"1\"/>\n<polyline clip-path=\"url(#clip072)\" style=\"stroke:#000000; stroke-linecap:round; stroke-linejoin:round; stroke-width:4; stroke-opacity:1; fill:none\" points=\"1961.68,1445.72 1961.68,1445.72 1986.4,1445.72 1961.68,1445.72 \"/>\n<path clip-path=\"url(#clip072)\" d=\"M1986.4 1445.72 L1986.4 1445.72 L2011.12 1445.72 L2011.12 1445.72 L1986.4 1445.72 L1986.4 1445.72  Z\" fill=\"#009af9\" fill-rule=\"evenodd\" fill-opacity=\"1\"/>\n<polyline clip-path=\"url(#clip072)\" style=\"stroke:#000000; stroke-linecap:round; stroke-linejoin:round; stroke-width:4; stroke-opacity:1; fill:none\" points=\"1986.4,1445.72 1986.4,1445.72 2011.12,1445.72 1986.4,1445.72 \"/>\n<path clip-path=\"url(#clip072)\" d=\"M2011.12 1432.91 L2011.12 1445.72 L2035.84 1445.72 L2035.84 1432.91 L2011.12 1432.91 L2011.12 1432.91  Z\" fill=\"#009af9\" fill-rule=\"evenodd\" fill-opacity=\"1\"/>\n<polyline clip-path=\"url(#clip072)\" style=\"stroke:#000000; stroke-linecap:round; stroke-linejoin:round; stroke-width:4; stroke-opacity:1; fill:none\" points=\"2011.12,1432.91 2011.12,1445.72 2035.84,1445.72 2035.84,1432.91 2011.12,1432.91 \"/>\n<path clip-path=\"url(#clip072)\" d=\"M2035.84 1420.1 L2035.84 1445.72 L2060.56 1445.72 L2060.56 1420.1 L2035.84 1420.1 L2035.84 1420.1  Z\" fill=\"#009af9\" fill-rule=\"evenodd\" fill-opacity=\"1\"/>\n<polyline clip-path=\"url(#clip072)\" style=\"stroke:#000000; stroke-linecap:round; stroke-linejoin:round; stroke-width:4; stroke-opacity:1; fill:none\" points=\"2035.84,1420.1 2035.84,1445.72 2060.56,1445.72 2060.56,1420.1 2035.84,1420.1 \"/>\n<path clip-path=\"url(#clip072)\" d=\"M2060.56 1445.72 L2060.56 1445.72 L2085.28 1445.72 L2085.28 1445.72 L2060.56 1445.72 L2060.56 1445.72  Z\" fill=\"#009af9\" fill-rule=\"evenodd\" fill-opacity=\"1\"/>\n<polyline clip-path=\"url(#clip072)\" style=\"stroke:#000000; stroke-linecap:round; stroke-linejoin:round; stroke-width:4; stroke-opacity:1; fill:none\" points=\"2060.56,1445.72 2060.56,1445.72 2085.28,1445.72 2060.56,1445.72 \"/>\n<path clip-path=\"url(#clip072)\" d=\"M2085.28 1445.72 L2085.28 1445.72 L2110 1445.72 L2110 1445.72 L2085.28 1445.72 L2085.28 1445.72  Z\" fill=\"#009af9\" fill-rule=\"evenodd\" fill-opacity=\"1\"/>\n<polyline clip-path=\"url(#clip072)\" style=\"stroke:#000000; stroke-linecap:round; stroke-linejoin:round; stroke-width:4; stroke-opacity:1; fill:none\" points=\"2085.28,1445.72 2085.28,1445.72 2110,1445.72 2085.28,1445.72 \"/>\n<path clip-path=\"url(#clip072)\" d=\"M2110 1445.72 L2110 1445.72 L2134.72 1445.72 L2134.72 1445.72 L2110 1445.72 L2110 1445.72  Z\" fill=\"#009af9\" fill-rule=\"evenodd\" fill-opacity=\"1\"/>\n<polyline clip-path=\"url(#clip072)\" style=\"stroke:#000000; stroke-linecap:round; stroke-linejoin:round; stroke-width:4; stroke-opacity:1; fill:none\" points=\"2110,1445.72 2110,1445.72 2134.72,1445.72 2110,1445.72 \"/>\n<path clip-path=\"url(#clip072)\" d=\"M2134.72 1445.72 L2134.72 1445.72 L2159.44 1445.72 L2159.44 1445.72 L2134.72 1445.72 L2134.72 1445.72  Z\" fill=\"#009af9\" fill-rule=\"evenodd\" fill-opacity=\"1\"/>\n<polyline clip-path=\"url(#clip072)\" style=\"stroke:#000000; stroke-linecap:round; stroke-linejoin:round; stroke-width:4; stroke-opacity:1; fill:none\" points=\"2134.72,1445.72 2134.72,1445.72 2159.44,1445.72 2134.72,1445.72 \"/>\n<path clip-path=\"url(#clip072)\" d=\"M2159.44 1445.72 L2159.44 1445.72 L2184.16 1445.72 L2184.16 1445.72 L2159.44 1445.72 L2159.44 1445.72  Z\" fill=\"#009af9\" fill-rule=\"evenodd\" fill-opacity=\"1\"/>\n<polyline clip-path=\"url(#clip072)\" style=\"stroke:#000000; stroke-linecap:round; stroke-linejoin:round; stroke-width:4; stroke-opacity:1; fill:none\" points=\"2159.44,1445.72 2159.44,1445.72 2184.16,1445.72 2159.44,1445.72 \"/>\n<path clip-path=\"url(#clip072)\" d=\"M2184.16 1445.72 L2184.16 1445.72 L2208.88 1445.72 L2208.88 1445.72 L2184.16 1445.72 L2184.16 1445.72  Z\" fill=\"#009af9\" fill-rule=\"evenodd\" fill-opacity=\"1\"/>\n<polyline clip-path=\"url(#clip072)\" style=\"stroke:#000000; stroke-linecap:round; stroke-linejoin:round; stroke-width:4; stroke-opacity:1; fill:none\" points=\"2184.16,1445.72 2184.16,1445.72 2208.88,1445.72 2184.16,1445.72 \"/>\n<path clip-path=\"url(#clip072)\" d=\"M2208.88 1432.91 L2208.88 1445.72 L2233.6 1445.72 L2233.6 1432.91 L2208.88 1432.91 L2208.88 1432.91  Z\" fill=\"#009af9\" fill-rule=\"evenodd\" fill-opacity=\"1\"/>\n<polyline clip-path=\"url(#clip072)\" style=\"stroke:#000000; stroke-linecap:round; stroke-linejoin:round; stroke-width:4; stroke-opacity:1; fill:none\" points=\"2208.88,1432.91 2208.88,1445.72 2233.6,1445.72 2233.6,1432.91 2208.88,1432.91 \"/>\n<circle clip-path=\"url(#clip072)\" style=\"fill:#009af9; stroke:none; fill-opacity:0\" cx=\"317.794\" cy=\"1432.91\" r=\"2\"/>\n<circle clip-path=\"url(#clip072)\" style=\"fill:#009af9; stroke:none; fill-opacity:0\" cx=\"342.514\" cy=\"1445.72\" r=\"2\"/>\n<circle clip-path=\"url(#clip072)\" style=\"fill:#009af9; stroke:none; fill-opacity:0\" cx=\"367.234\" cy=\"1445.72\" r=\"2\"/>\n<circle clip-path=\"url(#clip072)\" style=\"fill:#009af9; stroke:none; fill-opacity:0\" cx=\"391.954\" cy=\"1445.72\" r=\"2\"/>\n<circle clip-path=\"url(#clip072)\" style=\"fill:#009af9; stroke:none; fill-opacity:0\" cx=\"416.674\" cy=\"1432.91\" r=\"2\"/>\n<circle clip-path=\"url(#clip072)\" style=\"fill:#009af9; stroke:none; fill-opacity:0\" cx=\"441.394\" cy=\"1445.72\" r=\"2\"/>\n<circle clip-path=\"url(#clip072)\" style=\"fill:#009af9; stroke:none; fill-opacity:0\" cx=\"466.114\" cy=\"1420.1\" r=\"2\"/>\n<circle clip-path=\"url(#clip072)\" style=\"fill:#009af9; stroke:none; fill-opacity:0\" cx=\"490.834\" cy=\"1445.72\" r=\"2\"/>\n<circle clip-path=\"url(#clip072)\" style=\"fill:#009af9; stroke:none; fill-opacity:0\" cx=\"515.554\" cy=\"1432.91\" r=\"2\"/>\n<circle clip-path=\"url(#clip072)\" style=\"fill:#009af9; stroke:none; fill-opacity:0\" cx=\"540.275\" cy=\"1407.29\" r=\"2\"/>\n<circle clip-path=\"url(#clip072)\" style=\"fill:#009af9; stroke:none; fill-opacity:0\" cx=\"564.995\" cy=\"1407.29\" r=\"2\"/>\n<circle clip-path=\"url(#clip072)\" style=\"fill:#009af9; stroke:none; fill-opacity:0\" cx=\"589.715\" cy=\"1420.1\" r=\"2\"/>\n<circle clip-path=\"url(#clip072)\" style=\"fill:#009af9; stroke:none; fill-opacity:0\" cx=\"614.435\" cy=\"1330.44\" r=\"2\"/>\n<circle clip-path=\"url(#clip072)\" style=\"fill:#009af9; stroke:none; fill-opacity:0\" cx=\"639.155\" cy=\"1407.29\" r=\"2\"/>\n<circle clip-path=\"url(#clip072)\" style=\"fill:#009af9; stroke:none; fill-opacity:0\" cx=\"663.875\" cy=\"1330.44\" r=\"2\"/>\n<circle clip-path=\"url(#clip072)\" style=\"fill:#009af9; stroke:none; fill-opacity:0\" cx=\"688.595\" cy=\"1343.24\" r=\"2\"/>\n<circle clip-path=\"url(#clip072)\" style=\"fill:#009af9; stroke:none; fill-opacity:0\" cx=\"713.315\" cy=\"1279.2\" r=\"2\"/>\n<circle clip-path=\"url(#clip072)\" style=\"fill:#009af9; stroke:none; fill-opacity:0\" cx=\"738.035\" cy=\"1292.01\" r=\"2\"/>\n<circle clip-path=\"url(#clip072)\" style=\"fill:#009af9; stroke:none; fill-opacity:0\" cx=\"762.755\" cy=\"1240.77\" r=\"2\"/>\n<circle clip-path=\"url(#clip072)\" style=\"fill:#009af9; stroke:none; fill-opacity:0\" cx=\"787.475\" cy=\"1125.49\" r=\"2\"/>\n<circle clip-path=\"url(#clip072)\" style=\"fill:#009af9; stroke:none; fill-opacity:0\" cx=\"812.195\" cy=\"1253.58\" r=\"2\"/>\n<circle clip-path=\"url(#clip072)\" style=\"fill:#009af9; stroke:none; fill-opacity:0\" cx=\"836.915\" cy=\"984.597\" r=\"2\"/>\n<circle clip-path=\"url(#clip072)\" style=\"fill:#009af9; stroke:none; fill-opacity:0\" cx=\"861.635\" cy=\"882.126\" r=\"2\"/>\n<circle clip-path=\"url(#clip072)\" style=\"fill:#009af9; stroke:none; fill-opacity:0\" cx=\"886.355\" cy=\"1010.21\" r=\"2\"/>\n<circle clip-path=\"url(#clip072)\" style=\"fill:#009af9; stroke:none; fill-opacity:0\" cx=\"911.075\" cy=\"766.846\" r=\"2\"/>\n<circle clip-path=\"url(#clip072)\" style=\"fill:#009af9; stroke:none; fill-opacity:0\" cx=\"935.795\" cy=\"638.757\" r=\"2\"/>\n<circle clip-path=\"url(#clip072)\" style=\"fill:#009af9; stroke:none; fill-opacity:0\" cx=\"960.515\" cy=\"766.846\" r=\"2\"/>\n<circle clip-path=\"url(#clip072)\" style=\"fill:#009af9; stroke:none; fill-opacity:0\" cx=\"985.235\" cy=\"638.757\" r=\"2\"/>\n<circle clip-path=\"url(#clip072)\" style=\"fill:#009af9; stroke:none; fill-opacity:0\" cx=\"1009.95\" cy=\"638.757\" r=\"2\"/>\n<circle clip-path=\"url(#clip072)\" style=\"fill:#009af9; stroke:none; fill-opacity:0\" cx=\"1034.67\" cy=\"369.771\" r=\"2\"/>\n<circle clip-path=\"url(#clip072)\" style=\"fill:#009af9; stroke:none; fill-opacity:0\" cx=\"1059.39\" cy=\"549.095\" r=\"2\"/>\n<circle clip-path=\"url(#clip072)\" style=\"fill:#009af9; stroke:none; fill-opacity:0\" cx=\"1084.11\" cy=\"331.345\" r=\"2\"/>\n<circle clip-path=\"url(#clip072)\" style=\"fill:#009af9; stroke:none; fill-opacity:0\" cx=\"1108.83\" cy=\"395.389\" r=\"2\"/>\n<circle clip-path=\"url(#clip072)\" style=\"fill:#009af9; stroke:none; fill-opacity:0\" cx=\"1133.55\" cy=\"139.212\" r=\"2\"/>\n<circle clip-path=\"url(#clip072)\" style=\"fill:#009af9; stroke:none; fill-opacity:0\" cx=\"1158.27\" cy=\"152.021\" r=\"2\"/>\n<circle clip-path=\"url(#clip072)\" style=\"fill:#009af9; stroke:none; fill-opacity:0\" cx=\"1182.99\" cy=\"203.256\" r=\"2\"/>\n<circle clip-path=\"url(#clip072)\" style=\"fill:#009af9; stroke:none; fill-opacity:0\" cx=\"1207.71\" cy=\"177.638\" r=\"2\"/>\n<circle clip-path=\"url(#clip072)\" style=\"fill:#009af9; stroke:none; fill-opacity:0\" cx=\"1232.43\" cy=\"216.065\" r=\"2\"/>\n<circle clip-path=\"url(#clip072)\" style=\"fill:#009af9; stroke:none; fill-opacity:0\" cx=\"1257.15\" cy=\"87.9763\" r=\"2\"/>\n<circle clip-path=\"url(#clip072)\" style=\"fill:#009af9; stroke:none; fill-opacity:0\" cx=\"1281.87\" cy=\"356.962\" r=\"2\"/>\n<circle clip-path=\"url(#clip072)\" style=\"fill:#009af9; stroke:none; fill-opacity:0\" cx=\"1306.59\" cy=\"292.918\" r=\"2\"/>\n<circle clip-path=\"url(#clip072)\" style=\"fill:#009af9; stroke:none; fill-opacity:0\" cx=\"1331.31\" cy=\"216.065\" r=\"2\"/>\n<circle clip-path=\"url(#clip072)\" style=\"fill:#009af9; stroke:none; fill-opacity:0\" cx=\"1356.04\" cy=\"254.491\" r=\"2\"/>\n<circle clip-path=\"url(#clip072)\" style=\"fill:#009af9; stroke:none; fill-opacity:0\" cx=\"1380.76\" cy=\"318.536\" r=\"2\"/>\n<circle clip-path=\"url(#clip072)\" style=\"fill:#009af9; stroke:none; fill-opacity:0\" cx=\"1405.48\" cy=\"561.904\" r=\"2\"/>\n<circle clip-path=\"url(#clip072)\" style=\"fill:#009af9; stroke:none; fill-opacity:0\" cx=\"1430.2\" cy=\"292.918\" r=\"2\"/>\n<circle clip-path=\"url(#clip072)\" style=\"fill:#009af9; stroke:none; fill-opacity:0\" cx=\"1454.92\" cy=\"651.566\" r=\"2\"/>\n<circle clip-path=\"url(#clip072)\" style=\"fill:#009af9; stroke:none; fill-opacity:0\" cx=\"1479.64\" cy=\"907.743\" r=\"2\"/>\n<circle clip-path=\"url(#clip072)\" style=\"fill:#009af9; stroke:none; fill-opacity:0\" cx=\"1504.36\" cy=\"882.126\" r=\"2\"/>\n<circle clip-path=\"url(#clip072)\" style=\"fill:#009af9; stroke:none; fill-opacity:0\" cx=\"1529.08\" cy=\"843.699\" r=\"2\"/>\n<circle clip-path=\"url(#clip072)\" style=\"fill:#009af9; stroke:none; fill-opacity:0\" cx=\"1553.8\" cy=\"830.89\" r=\"2\"/>\n<circle clip-path=\"url(#clip072)\" style=\"fill:#009af9; stroke:none; fill-opacity:0\" cx=\"1578.52\" cy=\"1048.64\" r=\"2\"/>\n<circle clip-path=\"url(#clip072)\" style=\"fill:#009af9; stroke:none; fill-opacity:0\" cx=\"1603.24\" cy=\"1087.07\" r=\"2\"/>\n<circle clip-path=\"url(#clip072)\" style=\"fill:#009af9; stroke:none; fill-opacity:0\" cx=\"1627.96\" cy=\"971.788\" r=\"2\"/>\n<circle clip-path=\"url(#clip072)\" style=\"fill:#009af9; stroke:none; fill-opacity:0\" cx=\"1652.68\" cy=\"1176.73\" r=\"2\"/>\n<circle clip-path=\"url(#clip072)\" style=\"fill:#009af9; stroke:none; fill-opacity:0\" cx=\"1677.4\" cy=\"1215.16\" r=\"2\"/>\n<circle clip-path=\"url(#clip072)\" style=\"fill:#009af9; stroke:none; fill-opacity:0\" cx=\"1702.12\" cy=\"1292.01\" r=\"2\"/>\n<circle clip-path=\"url(#clip072)\" style=\"fill:#009af9; stroke:none; fill-opacity:0\" cx=\"1726.84\" cy=\"1317.63\" r=\"2\"/>\n<circle clip-path=\"url(#clip072)\" style=\"fill:#009af9; stroke:none; fill-opacity:0\" cx=\"1751.56\" cy=\"1356.05\" r=\"2\"/>\n<circle clip-path=\"url(#clip072)\" style=\"fill:#009af9; stroke:none; fill-opacity:0\" cx=\"1776.28\" cy=\"1381.67\" r=\"2\"/>\n<circle clip-path=\"url(#clip072)\" style=\"fill:#009af9; stroke:none; fill-opacity:0\" cx=\"1801\" cy=\"1368.86\" r=\"2\"/>\n<circle clip-path=\"url(#clip072)\" style=\"fill:#009af9; stroke:none; fill-opacity:0\" cx=\"1825.72\" cy=\"1407.29\" r=\"2\"/>\n<circle clip-path=\"url(#clip072)\" style=\"fill:#009af9; stroke:none; fill-opacity:0\" cx=\"1850.44\" cy=\"1420.1\" r=\"2\"/>\n<circle clip-path=\"url(#clip072)\" style=\"fill:#009af9; stroke:none; fill-opacity:0\" cx=\"1875.16\" cy=\"1432.91\" r=\"2\"/>\n<circle clip-path=\"url(#clip072)\" style=\"fill:#009af9; stroke:none; fill-opacity:0\" cx=\"1899.88\" cy=\"1420.1\" r=\"2\"/>\n<circle clip-path=\"url(#clip072)\" style=\"fill:#009af9; stroke:none; fill-opacity:0\" cx=\"1924.6\" cy=\"1407.29\" r=\"2\"/>\n<circle clip-path=\"url(#clip072)\" style=\"fill:#009af9; stroke:none; fill-opacity:0\" cx=\"1949.32\" cy=\"1445.72\" r=\"2\"/>\n<circle clip-path=\"url(#clip072)\" style=\"fill:#009af9; stroke:none; fill-opacity:0\" cx=\"1974.04\" cy=\"1445.72\" r=\"2\"/>\n<circle clip-path=\"url(#clip072)\" style=\"fill:#009af9; stroke:none; fill-opacity:0\" cx=\"1998.76\" cy=\"1445.72\" r=\"2\"/>\n<circle clip-path=\"url(#clip072)\" style=\"fill:#009af9; stroke:none; fill-opacity:0\" cx=\"2023.48\" cy=\"1432.91\" r=\"2\"/>\n<circle clip-path=\"url(#clip072)\" style=\"fill:#009af9; stroke:none; fill-opacity:0\" cx=\"2048.2\" cy=\"1420.1\" r=\"2\"/>\n<circle clip-path=\"url(#clip072)\" style=\"fill:#009af9; stroke:none; fill-opacity:0\" cx=\"2072.92\" cy=\"1445.72\" r=\"2\"/>\n<circle clip-path=\"url(#clip072)\" style=\"fill:#009af9; stroke:none; fill-opacity:0\" cx=\"2097.64\" cy=\"1445.72\" r=\"2\"/>\n<circle clip-path=\"url(#clip072)\" style=\"fill:#009af9; stroke:none; fill-opacity:0\" cx=\"2122.36\" cy=\"1445.72\" r=\"2\"/>\n<circle clip-path=\"url(#clip072)\" style=\"fill:#009af9; stroke:none; fill-opacity:0\" cx=\"2147.08\" cy=\"1445.72\" r=\"2\"/>\n<circle clip-path=\"url(#clip072)\" style=\"fill:#009af9; stroke:none; fill-opacity:0\" cx=\"2171.8\" cy=\"1445.72\" r=\"2\"/>\n<circle clip-path=\"url(#clip072)\" style=\"fill:#009af9; stroke:none; fill-opacity:0\" cx=\"2196.52\" cy=\"1445.72\" r=\"2\"/>\n<circle clip-path=\"url(#clip072)\" style=\"fill:#009af9; stroke:none; fill-opacity:0\" cx=\"2221.24\" cy=\"1432.91\" r=\"2\"/>\n<polyline clip-path=\"url(#clip072)\" style=\"stroke:#e26f46; stroke-linecap:round; stroke-linejoin:round; stroke-width:4; stroke-opacity:1; fill:none\" points=\"300.733,1444.45 306.719,1444.33 312.704,1444.2 368.048,1442.35 423.392,1438.62 456.651,1434.87 489.911,1429.43 518.031,1423.07 546.151,1414.64 561.424,1409.01 576.698,1402.52 591.971,1395.08 607.244,1386.59 621.325,1377.73 635.406,1367.8 649.486,1356.71 663.567,1344.36 678.663,1329.64 693.759,1313.28 708.855,1295.17 723.95,1275.22 741.44,1249.7 758.931,1221.49 776.421,1190.49 793.911,1156.66 809.454,1124.2 824.997,1089.51 840.54,1052.63 856.083,1013.64 869.713,977.812 883.343,940.549 896.973,901.973 910.603,862.229 940.323,772.336 970.044,679.746 999.941,586.382 1029.84,495.637 1038.1,471.423 1046.37,447.707 1054.63,424.556 1062.89,402.035 1071.16,380.208 1079.42,359.14 1087.68,338.893 1095.95,319.528 1103.81,301.976 1111.67,285.324 1119.54,269.621 1127.4,254.91 1135.26,241.235 1143.13,228.635 1150.99,217.146 1158.85,206.803 1167.03,197.296 1175.2,189.092 1183.38,182.216 1191.55,176.692 1199.73,172.536 1207.9,169.764 1216.08,168.383 1224.25,168.399 1231.14,169.495 1238.02,171.578 1244.9,174.643 1251.78,178.683 1258.66,183.688 1265.55,189.648 1272.43,196.548 1279.31,204.373 1287.71,215.153 1296.12,227.248 1304.52,240.618 1312.92,255.217 1321.32,270.997 1329.72,287.906 1338.13,305.889 1346.53,324.888 1361.92,362.133 1377.32,402.194 1385.01,423.154 1392.71,444.664 1400.41,466.671 1408.1,489.122 1436.54,575.039 1464.97,663.657 1493.78,753.631 1522.58,841.513 1538.72,889.099 1554.86,935.118 1571,979.324 1587.14,1021.52 1601.77,1057.87 1616.39,1092.35 1631.02,1124.89 1645.64,1155.45 1662.39,1188 1679.13,1217.94 1695.88,1245.32 1712.63,1270.22 1728.13,1291.14 1743.64,1310.11 1759.14,1327.21 1774.65,1342.56 1789.93,1356.09 1805.22,1368.15 1820.5,1378.84 1835.79,1388.28 1850.63,1396.34 1865.47,1403.43 1880.31,1409.63 1895.15,1415.03 1925.58,1423.96 1956.01,1430.52 1989.35,1435.64 2022.69,1439.15 2071.12,1442.31 2119.55,1444.01 2129.48,1444.24 2139.42,1444.45 \"/>\n<path clip-path=\"url(#clip070)\" d=\"M2011.46 250.738 L2280.54 250.738 L2280.54 95.2176 L2011.46 95.2176  Z\" fill=\"#ffffff\" fill-rule=\"evenodd\" fill-opacity=\"1\"/>\n<polyline clip-path=\"url(#clip070)\" style=\"stroke:#000000; stroke-linecap:round; stroke-linejoin:round; stroke-width:4; stroke-opacity:1; fill:none\" points=\"2011.46,250.738 2280.54,250.738 2280.54,95.2176 2011.46,95.2176 2011.46,250.738 \"/>\n<path clip-path=\"url(#clip070)\" d=\"M2035.53 167.794 L2179.97 167.794 L2179.97 126.322 L2035.53 126.322 L2035.53 167.794  Z\" fill=\"#009af9\" fill-rule=\"evenodd\" fill-opacity=\"1\"/>\n<polyline clip-path=\"url(#clip070)\" style=\"stroke:#000000; stroke-linecap:round; stroke-linejoin:round; stroke-width:4; stroke-opacity:1; fill:none\" points=\"2035.53,167.794 2179.97,167.794 2179.97,126.322 2035.53,126.322 2035.53,167.794 \"/>\n<path clip-path=\"url(#clip070)\" d=\"M2217.88 166.745 Q2216.07 171.375 2214.36 172.787 Q2212.65 174.199 2209.78 174.199 L2206.38 174.199 L2206.38 170.634 L2208.88 170.634 Q2210.63 170.634 2211.61 169.8 Q2212.58 168.967 2213.76 165.865 L2214.52 163.921 L2204.04 138.412 L2208.55 138.412 L2216.65 158.689 L2224.76 138.412 L2229.27 138.412 L2217.88 166.745 Z\" fill=\"#000000\" fill-rule=\"evenodd\" fill-opacity=\"1\" /><path clip-path=\"url(#clip070)\" d=\"M2236.56 160.402 L2244.2 160.402 L2244.2 134.037 L2235.89 135.703 L2235.89 131.444 L2244.15 129.778 L2248.83 129.778 L2248.83 160.402 L2256.47 160.402 L2256.47 164.338 L2236.56 164.338 L2236.56 160.402 Z\" fill=\"#000000\" fill-rule=\"evenodd\" fill-opacity=\"1\" /><polyline clip-path=\"url(#clip070)\" style=\"stroke:#e26f46; stroke-linecap:round; stroke-linejoin:round; stroke-width:4; stroke-opacity:1; fill:none\" points=\"2035.53,198.898 2179.97,198.898 \"/>\n<path clip-path=\"url(#clip070)\" d=\"M2217.88 218.585 Q2216.07 223.215 2214.36 224.627 Q2212.65 226.039 2209.78 226.039 L2206.38 226.039 L2206.38 222.474 L2208.88 222.474 Q2210.63 222.474 2211.61 221.64 Q2212.58 220.807 2213.76 217.705 L2214.52 215.761 L2204.04 190.252 L2208.55 190.252 L2216.65 210.529 L2224.76 190.252 L2229.27 190.252 L2217.88 218.585 Z\" fill=\"#000000\" fill-rule=\"evenodd\" fill-opacity=\"1\" /><path clip-path=\"url(#clip070)\" d=\"M2239.78 212.242 L2256.1 212.242 L2256.1 216.178 L2234.15 216.178 L2234.15 212.242 Q2236.82 209.488 2241.4 204.858 Q2246 200.205 2247.19 198.863 Q2249.43 196.34 2250.31 194.604 Q2251.21 192.844 2251.21 191.155 Q2251.21 188.4 2249.27 186.664 Q2247.35 184.928 2244.25 184.928 Q2242.05 184.928 2239.59 185.692 Q2237.16 186.455 2234.38 188.006 L2234.38 183.284 Q2237.21 182.15 2239.66 181.571 Q2242.12 180.993 2244.15 180.993 Q2249.52 180.993 2252.72 183.678 Q2255.91 186.363 2255.91 190.854 Q2255.91 192.983 2255.1 194.905 Q2254.32 196.803 2252.21 199.395 Q2251.63 200.067 2248.53 203.284 Q2245.43 206.479 2239.78 212.242 Z\" fill=\"#000000\" fill-rule=\"evenodd\" fill-opacity=\"1\" /></svg>\n"
               },
               "type": "node"
              }
             ],
             "instanceArgs": {
              "namespace": "html",
              "tag": "div"
             },
             "nodeType": "DOM",
             "props": {
              "className": "interact-flex-row interact-widget"
             },
             "type": "node"
            }
           }
          },
          "systemjs_options": null
         },
         "nodeType": "Scope",
         "props": {},
         "type": "node"
        }
       ],
       "instanceArgs": {
        "namespace": "html",
        "tag": "div"
       },
       "nodeType": "DOM",
       "props": {},
       "type": "node"
      },
      "text/html": [
       "<div\n",
       "    class=\"webio-mountpoint\"\n",
       "    data-webio-mountpoint=\"11332903119797739787\"\n",
       ">\n",
       "    <script>\n",
       "    (function(){\n",
       "    // Some integrations (namely, IJulia/Jupyter) use an alternate render pathway than\n",
       "    // just putting the html on the page. If WebIO isn't defined, then it's pretty likely\n",
       "    // that we're in one of those situations and the integration just isn't installed\n",
       "    // correctly.\n",
       "    if (typeof window.WebIO === \"undefined\") {\n",
       "        document\n",
       "            .querySelector('[data-webio-mountpoint=\"11332903119797739787\"]')\n",
       "            .innerHTML = (\n",
       "                '<div style=\"padding: 1em; background-color: #f8d6da; border: 1px solid #f5c6cb; font-weight: bold;\">' +\n",
       "                '<p><strong>WebIO not detected.</strong></p>' +\n",
       "                '<p>Please read ' +\n",
       "                '<a href=\"https://juliagizmos.github.io/WebIO.jl/latest/troubleshooting/not-detected/\" target=\"_blank\">the troubleshooting guide</a> ' +\n",
       "                'for more information on how to resolve this issue.</p>' +\n",
       "                '<p><a href=\"https://juliagizmos.github.io/WebIO.jl/latest/troubleshooting/not-detected/\" target=\"_blank\">https://juliagizmos.github.io/WebIO.jl/latest/troubleshooting/not-detected/</a></p>' +\n",
       "                '</div>'\n",
       "            );\n",
       "        return;\n",
       "    }\n",
       "    WebIO.mount(\n",
       "        document.querySelector('[data-webio-mountpoint=\"11332903119797739787\"]'),\n",
       "        {\"props\":{},\"nodeType\":\"DOM\",\"type\":\"node\",\"instanceArgs\":{\"namespace\":\"html\",\"tag\":\"div\"},\"children\":[{\"props\":{\"className\":\"field interact-widget\"},\"nodeType\":\"DOM\",\"type\":\"node\",\"instanceArgs\":{\"namespace\":\"html\",\"tag\":\"div\"},\"children\":[{\"props\":{},\"nodeType\":\"Scope\",\"type\":\"node\",\"instanceArgs\":{\"imports\":{\"data\":[{\"name\":\"knockout\",\"type\":\"js\",\"url\":\"\\/assetserver\\/a16295f7201a23921bdb5954d071b56dd01fff86-knockout.js\"},{\"name\":\"knockout_punches\",\"type\":\"js\",\"url\":\"\\/assetserver\\/bdf0f43413c13fff2af7420ea9d32413f277b99c-knockout_punches.js\"},{\"name\":null,\"type\":\"js\",\"url\":\"\\/assetserver\\/4ed5e17e0ecf35c8a650d5ae2dce408ab8481e1b-all.js\"},{\"name\":null,\"type\":\"css\",\"url\":\"\\/assetserver\\/0acfd79c9ec475ba68dc382f98bbb741231f55da-style.css\"},{\"name\":null,\"type\":\"css\",\"url\":\"\\/assetserver\\/7ff278e5a9bd937a036afd50238f3f3b11eca51a-bulma_confined.min.css\"}],\"type\":\"async_block\"},\"id\":\"10869037484298168700\",\"handlers\":{\"changes\":[\"(function (val){return (val!=this.model[\\\"changes\\\"]()) ? (this.valueFromJulia[\\\"changes\\\"]=true, this.model[\\\"changes\\\"](val)) : undefined})\"],\"index\":[\"(function (val){return (val!=this.model[\\\"index\\\"]()) ? (this.valueFromJulia[\\\"index\\\"]=true, this.model[\\\"index\\\"](val)) : undefined})\"]},\"systemjs_options\":null,\"mount_callbacks\":[\"function () {\\n    var handler = (function (ko, koPunches) {\\n    ko.punches.enableAll();\\n    ko.bindingHandlers.numericValue = {\\n        init: function(element, valueAccessor, allBindings, data, context) {\\n            var stringified = ko.observable(ko.unwrap(valueAccessor()));\\n            stringified.subscribe(function(value) {\\n                var val = parseFloat(value);\\n                if (!isNaN(val)) {\\n                    valueAccessor()(val);\\n                }\\n            });\\n            valueAccessor().subscribe(function(value) {\\n                var str = JSON.stringify(value);\\n                if ((str == \\\"0\\\") && ([\\\"-0\\\", \\\"-0.\\\"].indexOf(stringified()) >= 0))\\n                     return;\\n                 if ([\\\"null\\\", \\\"\\\"].indexOf(str) >= 0)\\n                     return;\\n                stringified(str);\\n            });\\n            ko.applyBindingsToNode(\\n                element,\\n                {\\n                    value: stringified,\\n                    valueUpdate: allBindings.get('valueUpdate'),\\n                },\\n                context,\\n            );\\n        }\\n    };\\n    var json_data = {\\\"formatted_vals\\\":[\\\"100\\\",\\\"200\\\",\\\"300\\\",\\\"400\\\",\\\"500\\\",\\\"600\\\",\\\"700\\\",\\\"800\\\",\\\"900\\\",\\\"1000\\\",\\\"1100\\\",\\\"1200\\\",\\\"1300\\\",\\\"1400\\\",\\\"1500\\\",\\\"1600\\\",\\\"1700\\\",\\\"1800\\\",\\\"1900\\\",\\\"2000\\\",\\\"2100\\\",\\\"2200\\\",\\\"2300\\\",\\\"2400\\\",\\\"2500\\\",\\\"2600\\\",\\\"2700\\\",\\\"2800\\\",\\\"2900\\\",\\\"3000\\\",\\\"3100\\\",\\\"3200\\\",\\\"3300\\\",\\\"3400\\\",\\\"3500\\\",\\\"3600\\\",\\\"3700\\\",\\\"3800\\\",\\\"3900\\\",\\\"4000\\\",\\\"4100\\\",\\\"4200\\\",\\\"4300\\\",\\\"4400\\\",\\\"4500\\\",\\\"4600\\\",\\\"4700\\\",\\\"4800\\\",\\\"4900\\\",\\\"5000\\\"],\\\"changes\\\":WebIO.getval({\\\"name\\\":\\\"changes\\\",\\\"scope\\\":\\\"10869037484298168700\\\",\\\"id\\\":\\\"13948050655769685440\\\",\\\"type\\\":\\\"observable\\\"}),\\\"index\\\":WebIO.getval({\\\"name\\\":\\\"index\\\",\\\"scope\\\":\\\"10869037484298168700\\\",\\\"id\\\":\\\"4079954422847599131\\\",\\\"type\\\":\\\"observable\\\"})};\\n    var self = this;\\n    function AppViewModel() {\\n        for (var key in json_data) {\\n            var el = json_data[key];\\n            this[key] = Array.isArray(el) ? ko.observableArray(el) : ko.observable(el);\\n        }\\n        \\n        [this[\\\"formatted_val\\\"]=ko.computed(    function(){\\n        return this.formatted_vals()[parseInt(this.index())-(1)];\\n    }\\n,this)]\\n        [this[\\\"changes\\\"].subscribe((function (val){!(this.valueFromJulia[\\\"changes\\\"]) ? (WebIO.setval({\\\"name\\\":\\\"changes\\\",\\\"scope\\\":\\\"10869037484298168700\\\",\\\"id\\\":\\\"13948050655769685440\\\",\\\"type\\\":\\\"observable\\\"},val)) : undefined; return this.valueFromJulia[\\\"changes\\\"]=false}),self),this[\\\"index\\\"].subscribe((function (val){!(this.valueFromJulia[\\\"index\\\"]) ? (WebIO.setval({\\\"name\\\":\\\"index\\\",\\\"scope\\\":\\\"10869037484298168700\\\",\\\"id\\\":\\\"4079954422847599131\\\",\\\"type\\\":\\\"observable\\\"},val)) : undefined; return this.valueFromJulia[\\\"index\\\"]=false}),self)]\\n        \\n    }\\n    self.model = new AppViewModel();\\n    self.valueFromJulia = {};\\n    for (var key in json_data) {\\n        self.valueFromJulia[key] = false;\\n    }\\n    ko.applyBindings(self.model, self.dom);\\n}\\n);\\n    (WebIO.importBlock({\\\"data\\\":[{\\\"name\\\":\\\"knockout\\\",\\\"type\\\":\\\"js\\\",\\\"url\\\":\\\"\\/assetserver\\/a16295f7201a23921bdb5954d071b56dd01fff86-knockout.js\\\"},{\\\"name\\\":\\\"knockout_punches\\\",\\\"type\\\":\\\"js\\\",\\\"url\\\":\\\"\\/assetserver\\/bdf0f43413c13fff2af7420ea9d32413f277b99c-knockout_punches.js\\\"}],\\\"type\\\":\\\"async_block\\\"})).then((imports) => handler.apply(this, imports));\\n}\\n\"],\"observables\":{\"changes\":{\"sync\":false,\"id\":\"13948050655769685440\",\"value\":0},\"index\":{\"sync\":true,\"id\":\"4079954422847599131\",\"value\":25}}},\"children\":[{\"props\":{\"className\":\"interact-flex-row interact-widget\"},\"nodeType\":\"DOM\",\"type\":\"node\",\"instanceArgs\":{\"namespace\":\"html\",\"tag\":\"div\"},\"children\":[{\"props\":{\"className\":\"interact-flex-row-left\"},\"nodeType\":\"DOM\",\"type\":\"node\",\"instanceArgs\":{\"namespace\":\"html\",\"tag\":\"div\"},\"children\":[{\"props\":{\"className\":\"interact \",\"style\":{\"padding\":\"5px 10px 0px 10px\"}},\"nodeType\":\"DOM\",\"type\":\"node\",\"instanceArgs\":{\"namespace\":\"html\",\"tag\":\"label\"},\"children\":[\"N\"]}]},{\"props\":{\"className\":\"interact-flex-row-center\"},\"nodeType\":\"DOM\",\"type\":\"node\",\"instanceArgs\":{\"namespace\":\"html\",\"tag\":\"div\"},\"children\":[{\"props\":{\"max\":50,\"min\":1,\"attributes\":{\"type\":\"range\",\"data-bind\":\"numericValue: index, valueUpdate: 'input', event: {change: function (){this.changes(this.changes()+1)}}\",\"orient\":\"horizontal\"},\"step\":1,\"className\":\"slider slider is-fullwidth\",\"style\":{}},\"nodeType\":\"DOM\",\"type\":\"node\",\"instanceArgs\":{\"namespace\":\"html\",\"tag\":\"input\"},\"children\":[]}]},{\"props\":{\"className\":\"interact-flex-row-right\"},\"nodeType\":\"DOM\",\"type\":\"node\",\"instanceArgs\":{\"namespace\":\"html\",\"tag\":\"div\"},\"children\":[{\"props\":{\"attributes\":{\"data-bind\":\"text: formatted_val\"}},\"nodeType\":\"DOM\",\"type\":\"node\",\"instanceArgs\":{\"namespace\":\"html\",\"tag\":\"p\"},\"children\":[]}]}]}]}]},{\"props\":{},\"nodeType\":\"Scope\",\"type\":\"node\",\"instanceArgs\":{\"imports\":{\"data\":[],\"type\":\"async_block\"},\"id\":\"15540556452450404055\",\"handlers\":{},\"systemjs_options\":null,\"mount_callbacks\":[],\"observables\":{\"obs-node\":{\"sync\":false,\"id\":\"10856859476677294397\",\"value\":{\"props\":{\"className\":\"interact-flex-row interact-widget\"},\"nodeType\":\"DOM\",\"type\":\"node\",\"instanceArgs\":{\"namespace\":\"html\",\"tag\":\"div\"},\"children\":[{\"props\":{\"setInnerHtml\":\"<?xml version=\\\"1.0\\\" encoding=\\\"utf-8\\\"?>\\n<svg xmlns=\\\"http:\\/\\/www.w3.org\\/2000\\/svg\\\" xmlns:xlink=\\\"http:\\/\\/www.w3.org\\/1999\\/xlink\\\" width=\\\"600\\\" height=\\\"400\\\" viewBox=\\\"0 0 2400 1600\\\">\\n<defs>\\n  <clipPath id=\\\"clip030\\\">\\n    <rect x=\\\"0\\\" y=\\\"0\\\" width=\\\"2400\\\" height=\\\"1600\\\"\\/>\\n  <\\/clipPath>\\n<\\/defs>\\n<path clip-path=\\\"url(#clip030)\\\" d=\\\"M0 1600 L2400 1600 L2400 0 L0 0  Z\\\" fill=\\\"#ffffff\\\" fill-rule=\\\"evenodd\\\" fill-opacity=\\\"1\\\"\\/>\\n<defs>\\n  <clipPath id=\\\"clip031\\\">\\n    <rect x=\\\"480\\\" y=\\\"0\\\" width=\\\"1681\\\" height=\\\"1600\\\"\\/>\\n  <\\/clipPath>\\n<\\/defs>\\n<path clip-path=\\\"url(#clip030)\\\" d=\\\"M186.274 1486.45 L2352.76 1486.45 L2352.76 47.2441 L186.274 47.2441  Z\\\" fill=\\\"#ffffff\\\" fill-rule=\\\"evenodd\\\" fill-opacity=\\\"1\\\"\\/>\\n<defs>\\n  <clipPath id=\\\"clip032\\\">\\n    <rect x=\\\"186\\\" y=\\\"47\\\" width=\\\"2167\\\" height=\\\"1440\\\"\\/>\\n  <\\/clipPath>\\n<\\/defs>\\n<polyline clip-path=\\\"url(#clip032)\\\" style=\\\"stroke:#000000; stroke-linecap:round; stroke-linejoin:round; stroke-width:2; stroke-opacity:0.1; fill:none\\\" points=\\\"416.674,1486.45 416.674,47.2441 \\\"\\/>\\n<polyline clip-path=\\\"url(#clip032)\\\" style=\\\"stroke:#000000; stroke-linecap:round; stroke-linejoin:round; stroke-width:2; stroke-opacity:0.1; fill:none\\\" points=\\\"725.675,1486.45 725.675,47.2441 \\\"\\/>\\n<polyline clip-path=\\\"url(#clip032)\\\" style=\\\"stroke:#000000; stroke-linecap:round; stroke-linejoin:round; stroke-width:2; stroke-opacity:0.1; fill:none\\\" points=\\\"1034.67,1486.45 1034.67,47.2441 \\\"\\/>\\n<polyline clip-path=\\\"url(#clip032)\\\" style=\\\"stroke:#000000; stroke-linecap:round; stroke-linejoin:round; stroke-width:2; stroke-opacity:0.1; fill:none\\\" points=\\\"1343.67,1486.45 1343.67,47.2441 \\\"\\/>\\n<polyline clip-path=\\\"url(#clip032)\\\" style=\\\"stroke:#000000; stroke-linecap:round; stroke-linejoin:round; stroke-width:2; stroke-opacity:0.1; fill:none\\\" points=\\\"1652.68,1486.45 1652.68,47.2441 \\\"\\/>\\n<polyline clip-path=\\\"url(#clip032)\\\" style=\\\"stroke:#000000; stroke-linecap:round; stroke-linejoin:round; stroke-width:2; stroke-opacity:0.1; fill:none\\\" points=\\\"1961.68,1486.45 1961.68,47.2441 \\\"\\/>\\n<polyline clip-path=\\\"url(#clip032)\\\" style=\\\"stroke:#000000; stroke-linecap:round; stroke-linejoin:round; stroke-width:2; stroke-opacity:0.1; fill:none\\\" points=\\\"2270.68,1486.45 2270.68,47.2441 \\\"\\/>\\n<polyline clip-path=\\\"url(#clip030)\\\" style=\\\"stroke:#000000; stroke-linecap:round; stroke-linejoin:round; stroke-width:4; stroke-opacity:1; fill:none\\\" points=\\\"186.274,1486.45 2352.76,1486.45 \\\"\\/>\\n<polyline clip-path=\\\"url(#clip030)\\\" style=\\\"stroke:#000000; stroke-linecap:round; stroke-linejoin:round; stroke-width:4; stroke-opacity:1; fill:none\\\" points=\\\"416.674,1486.45 416.674,1467.55 \\\"\\/>\\n<polyline clip-path=\\\"url(#clip030)\\\" style=\\\"stroke:#000000; stroke-linecap:round; stroke-linejoin:round; stroke-width:4; stroke-opacity:1; fill:none\\\" points=\\\"725.675,1486.45 725.675,1467.55 \\\"\\/>\\n<polyline clip-path=\\\"url(#clip030)\\\" style=\\\"stroke:#000000; stroke-linecap:round; stroke-linejoin:round; stroke-width:4; stroke-opacity:1; fill:none\\\" points=\\\"1034.67,1486.45 1034.67,1467.55 \\\"\\/>\\n<polyline clip-path=\\\"url(#clip030)\\\" style=\\\"stroke:#000000; stroke-linecap:round; stroke-linejoin:round; stroke-width:4; stroke-opacity:1; fill:none\\\" points=\\\"1343.67,1486.45 1343.67,1467.55 \\\"\\/>\\n<polyline clip-path=\\\"url(#clip030)\\\" style=\\\"stroke:#000000; stroke-linecap:round; stroke-linejoin:round; stroke-width:4; stroke-opacity:1; fill:none\\\" points=\\\"1652.68,1486.45 1652.68,1467.55 \\\"\\/>\\n<polyline clip-path=\\\"url(#clip030)\\\" style=\\\"stroke:#000000; stroke-linecap:round; stroke-linejoin:round; stroke-width:4; stroke-opacity:1; fill:none\\\" points=\\\"1961.68,1486.45 1961.68,1467.55 \\\"\\/>\\n<polyline clip-path=\\\"url(#clip030)\\\" style=\\\"stroke:#000000; stroke-linecap:round; stroke-linejoin:round; stroke-width:4; stroke-opacity:1; fill:none\\\" points=\\\"2270.68,1486.45 2270.68,1467.55 \\\"\\/>\\n<path clip-path=\\\"url(#clip030)\\\" d=\\\"M363.7 1532.02 L393.376 1532.02 L393.376 1535.95 L363.7 1535.95 L363.7 1532.02 Z\\\" fill=\\\"#000000\\\" fill-rule=\\\"evenodd\\\" fill-opacity=\\\"1\\\" \\/><path clip-path=\\\"url(#clip030)\\\" d=\\\"M402.288 1514.29 L424.51 1514.29 L424.51 1516.28 L411.964 1548.85 L407.08 1548.85 L418.885 1518.22 L402.288 1518.22 L402.288 1514.29 Z\\\" fill=\\\"#000000\\\" fill-rule=\\\"evenodd\\\" fill-opacity=\\\"1\\\" \\/><path clip-path=\\\"url(#clip030)\\\" d=\\\"M433.63 1542.97 L438.515 1542.97 L438.515 1548.85 L433.63 1548.85 L433.63 1542.97 Z\\\" fill=\\\"#000000\\\" fill-rule=\\\"evenodd\\\" fill-opacity=\\\"1\\\" \\/><path clip-path=\\\"url(#clip030)\\\" d=\\\"M448.746 1514.29 L467.102 1514.29 L467.102 1518.22 L453.028 1518.22 L453.028 1526.7 Q454.047 1526.35 455.065 1526.19 Q456.084 1526 457.102 1526 Q462.889 1526 466.269 1529.17 Q469.649 1532.34 469.649 1537.76 Q469.649 1543.34 466.176 1546.44 Q462.704 1549.52 456.385 1549.52 Q454.209 1549.52 451.94 1549.15 Q449.695 1548.78 447.288 1548.04 L447.288 1543.34 Q449.371 1544.47 451.593 1545.03 Q453.815 1545.58 456.292 1545.58 Q460.297 1545.58 462.635 1543.48 Q464.973 1541.37 464.973 1537.76 Q464.973 1534.15 462.635 1532.04 Q460.297 1529.94 456.292 1529.94 Q454.417 1529.94 452.542 1530.35 Q450.69 1530.77 448.746 1531.65 L448.746 1514.29 Z\\\" fill=\\\"#000000\\\" fill-rule=\\\"evenodd\\\" fill-opacity=\\\"1\\\" \\/><path clip-path=\\\"url(#clip030)\\\" d=\\\"M672.203 1532.02 L701.878 1532.02 L701.878 1535.95 L672.203 1535.95 L672.203 1532.02 Z\\\" fill=\\\"#000000\\\" fill-rule=\\\"evenodd\\\" fill-opacity=\\\"1\\\" \\/><path clip-path=\\\"url(#clip030)\\\" d=\\\"M712.017 1514.29 L730.374 1514.29 L730.374 1518.22 L716.3 1518.22 L716.3 1526.7 Q717.318 1526.35 718.337 1526.19 Q719.355 1526 720.374 1526 Q726.161 1526 729.54 1529.17 Q732.92 1532.34 732.92 1537.76 Q732.92 1543.34 729.448 1546.44 Q725.976 1549.52 719.656 1549.52 Q717.48 1549.52 715.212 1549.15 Q712.966 1548.78 710.559 1548.04 L710.559 1543.34 Q712.642 1544.47 714.864 1545.03 Q717.087 1545.58 719.564 1545.58 Q723.568 1545.58 725.906 1543.48 Q728.244 1541.37 728.244 1537.76 Q728.244 1534.15 725.906 1532.04 Q723.568 1529.94 719.564 1529.94 Q717.689 1529.94 715.814 1530.35 Q713.962 1530.77 712.017 1531.65 L712.017 1514.29 Z\\\" fill=\\\"#000000\\\" fill-rule=\\\"evenodd\\\" fill-opacity=\\\"1\\\" \\/><path clip-path=\\\"url(#clip030)\\\" d=\\\"M742.133 1542.97 L747.017 1542.97 L747.017 1548.85 L742.133 1548.85 L742.133 1542.97 Z\\\" fill=\\\"#000000\\\" fill-rule=\\\"evenodd\\\" fill-opacity=\\\"1\\\" \\/><path clip-path=\\\"url(#clip030)\\\" d=\\\"M767.202 1517.37 Q763.591 1517.37 761.762 1520.93 Q759.957 1524.47 759.957 1531.6 Q759.957 1538.71 761.762 1542.27 Q763.591 1545.82 767.202 1545.82 Q770.836 1545.82 772.642 1542.27 Q774.471 1538.71 774.471 1531.6 Q774.471 1524.47 772.642 1520.93 Q770.836 1517.37 767.202 1517.37 M767.202 1513.66 Q773.012 1513.66 776.068 1518.27 Q779.147 1522.85 779.147 1531.6 Q779.147 1540.33 776.068 1544.94 Q773.012 1549.52 767.202 1549.52 Q761.392 1549.52 758.313 1544.94 Q755.258 1540.33 755.258 1531.6 Q755.258 1522.85 758.313 1518.27 Q761.392 1513.66 767.202 1513.66 Z\\\" fill=\\\"#000000\\\" fill-rule=\\\"evenodd\\\" fill-opacity=\\\"1\\\" \\/><path clip-path=\\\"url(#clip030)\\\" d=\\\"M981.701 1532.02 L1011.38 1532.02 L1011.38 1535.95 L981.701 1535.95 L981.701 1532.02 Z\\\" fill=\\\"#000000\\\" fill-rule=\\\"evenodd\\\" fill-opacity=\\\"1\\\" \\/><path clip-path=\\\"url(#clip030)\\\" d=\\\"M1025.5 1544.91 L1041.82 1544.91 L1041.82 1548.85 L1019.87 1548.85 L1019.87 1544.91 Q1022.53 1542.16 1027.12 1537.53 Q1031.72 1532.88 1032.9 1531.53 Q1035.15 1529.01 1036.03 1527.27 Q1036.93 1525.51 1036.93 1523.82 Q1036.93 1521.07 1034.99 1519.33 Q1033.07 1517.6 1029.96 1517.6 Q1027.77 1517.6 1025.31 1518.36 Q1022.88 1519.13 1020.1 1520.68 L1020.1 1515.95 Q1022.93 1514.82 1025.38 1514.24 Q1027.83 1513.66 1029.87 1513.66 Q1035.24 1513.66 1038.44 1516.35 Q1041.63 1519.03 1041.63 1523.52 Q1041.63 1525.65 1040.82 1527.57 Q1040.03 1529.47 1037.93 1532.07 Q1037.35 1532.74 1034.25 1535.95 Q1031.14 1539.15 1025.5 1544.91 Z\\\" fill=\\\"#000000\\\" fill-rule=\\\"evenodd\\\" fill-opacity=\\\"1\\\" \\/><path clip-path=\\\"url(#clip030)\\\" d=\\\"M1051.63 1542.97 L1056.51 1542.97 L1056.51 1548.85 L1051.63 1548.85 L1051.63 1542.97 Z\\\" fill=\\\"#000000\\\" fill-rule=\\\"evenodd\\\" fill-opacity=\\\"1\\\" \\/><path clip-path=\\\"url(#clip030)\\\" d=\\\"M1066.75 1514.29 L1085.1 1514.29 L1085.1 1518.22 L1071.03 1518.22 L1071.03 1526.7 Q1072.05 1526.35 1073.07 1526.19 Q1074.08 1526 1075.1 1526 Q1080.89 1526 1084.27 1529.17 Q1087.65 1532.34 1087.65 1537.76 Q1087.65 1543.34 1084.18 1546.44 Q1080.7 1549.52 1074.39 1549.52 Q1072.21 1549.52 1069.94 1549.15 Q1067.7 1548.78 1065.29 1548.04 L1065.29 1543.34 Q1067.37 1544.47 1069.59 1545.03 Q1071.82 1545.58 1074.29 1545.58 Q1078.3 1545.58 1080.64 1543.48 Q1082.97 1541.37 1082.97 1537.76 Q1082.97 1534.15 1080.64 1532.04 Q1078.3 1529.94 1074.29 1529.94 Q1072.42 1529.94 1070.54 1530.35 Q1068.69 1530.77 1066.75 1531.65 L1066.75 1514.29 Z\\\" fill=\\\"#000000\\\" fill-rule=\\\"evenodd\\\" fill-opacity=\\\"1\\\" \\/><path clip-path=\\\"url(#clip030)\\\" d=\\\"M1321.06 1517.37 Q1317.45 1517.37 1315.62 1520.93 Q1313.81 1524.47 1313.81 1531.6 Q1313.81 1538.71 1315.62 1542.27 Q1317.45 1545.82 1321.06 1545.82 Q1324.69 1545.82 1326.5 1542.27 Q1328.33 1538.71 1328.33 1531.6 Q1328.33 1524.47 1326.5 1520.93 Q1324.69 1517.37 1321.06 1517.37 M1321.06 1513.66 Q1326.87 1513.66 1329.93 1518.27 Q1333 1522.85 1333 1531.6 Q1333 1540.33 1329.93 1544.94 Q1326.87 1549.52 1321.06 1549.52 Q1315.25 1549.52 1312.17 1544.94 Q1309.11 1540.33 1309.11 1531.6 Q1309.11 1522.85 1312.17 1518.27 Q1315.25 1513.66 1321.06 1513.66 Z\\\" fill=\\\"#000000\\\" fill-rule=\\\"evenodd\\\" fill-opacity=\\\"1\\\" \\/><path clip-path=\\\"url(#clip030)\\\" d=\\\"M1341.22 1542.97 L1346.11 1542.97 L1346.11 1548.85 L1341.22 1548.85 L1341.22 1542.97 Z\\\" fill=\\\"#000000\\\" fill-rule=\\\"evenodd\\\" fill-opacity=\\\"1\\\" \\/><path clip-path=\\\"url(#clip030)\\\" d=\\\"M1366.29 1517.37 Q1362.68 1517.37 1360.85 1520.93 Q1359.05 1524.47 1359.05 1531.6 Q1359.05 1538.71 1360.85 1542.27 Q1362.68 1545.82 1366.29 1545.82 Q1369.92 1545.82 1371.73 1542.27 Q1373.56 1538.71 1373.56 1531.6 Q1373.56 1524.47 1371.73 1520.93 Q1369.92 1517.37 1366.29 1517.37 M1366.29 1513.66 Q1372.1 1513.66 1375.16 1518.27 Q1378.23 1522.85 1378.23 1531.6 Q1378.23 1540.33 1375.16 1544.94 Q1372.1 1549.52 1366.29 1549.52 Q1360.48 1549.52 1357.4 1544.94 Q1354.35 1540.33 1354.35 1531.6 Q1354.35 1522.85 1357.4 1518.27 Q1360.48 1513.66 1366.29 1513.66 Z\\\" fill=\\\"#000000\\\" fill-rule=\\\"evenodd\\\" fill-opacity=\\\"1\\\" \\/><path clip-path=\\\"url(#clip030)\\\" d=\\\"M1624.41 1544.91 L1640.73 1544.91 L1640.73 1548.85 L1618.79 1548.85 L1618.79 1544.91 Q1621.45 1542.16 1626.03 1537.53 Q1630.64 1532.88 1631.82 1531.53 Q1634.06 1529.01 1634.94 1527.27 Q1635.85 1525.51 1635.85 1523.82 Q1635.85 1521.07 1633.9 1519.33 Q1631.98 1517.6 1628.88 1517.6 Q1626.68 1517.6 1624.23 1518.36 Q1621.8 1519.13 1619.02 1520.68 L1619.02 1515.95 Q1621.84 1514.82 1624.3 1514.24 Q1626.75 1513.66 1628.79 1513.66 Q1634.16 1513.66 1637.35 1516.35 Q1640.55 1519.03 1640.55 1523.52 Q1640.55 1525.65 1639.74 1527.57 Q1638.95 1529.47 1636.84 1532.07 Q1636.26 1532.74 1633.16 1535.95 Q1630.06 1539.15 1624.41 1544.91 Z\\\" fill=\\\"#000000\\\" fill-rule=\\\"evenodd\\\" fill-opacity=\\\"1\\\" \\/><path clip-path=\\\"url(#clip030)\\\" d=\\\"M1650.55 1542.97 L1655.43 1542.97 L1655.43 1548.85 L1650.55 1548.85 L1650.55 1542.97 Z\\\" fill=\\\"#000000\\\" fill-rule=\\\"evenodd\\\" fill-opacity=\\\"1\\\" \\/><path clip-path=\\\"url(#clip030)\\\" d=\\\"M1665.66 1514.29 L1684.02 1514.29 L1684.02 1518.22 L1669.94 1518.22 L1669.94 1526.7 Q1670.96 1526.35 1671.98 1526.19 Q1673 1526 1674.02 1526 Q1679.8 1526 1683.18 1529.17 Q1686.56 1532.34 1686.56 1537.76 Q1686.56 1543.34 1683.09 1546.44 Q1679.62 1549.52 1673.3 1549.52 Q1671.12 1549.52 1668.86 1549.15 Q1666.61 1548.78 1664.2 1548.04 L1664.2 1543.34 Q1666.29 1544.47 1668.51 1545.03 Q1670.73 1545.58 1673.21 1545.58 Q1677.21 1545.58 1679.55 1543.48 Q1681.89 1541.37 1681.89 1537.76 Q1681.89 1534.15 1679.55 1532.04 Q1677.21 1529.94 1673.21 1529.94 Q1671.33 1529.94 1669.46 1530.35 Q1667.61 1530.77 1665.66 1531.65 L1665.66 1514.29 Z\\\" fill=\\\"#000000\\\" fill-rule=\\\"evenodd\\\" fill-opacity=\\\"1\\\" \\/><path clip-path=\\\"url(#clip030)\\\" d=\\\"M1928.84 1514.29 L1947.2 1514.29 L1947.2 1518.22 L1933.12 1518.22 L1933.12 1526.7 Q1934.14 1526.35 1935.16 1526.19 Q1936.18 1526 1937.2 1526 Q1942.98 1526 1946.36 1529.17 Q1949.74 1532.34 1949.74 1537.76 Q1949.74 1543.34 1946.27 1546.44 Q1942.8 1549.52 1936.48 1549.52 Q1934.3 1549.52 1932.03 1549.15 Q1929.79 1548.78 1927.38 1548.04 L1927.38 1543.34 Q1929.46 1544.47 1931.69 1545.03 Q1933.91 1545.58 1936.39 1545.58 Q1940.39 1545.58 1942.73 1543.48 Q1945.07 1541.37 1945.07 1537.76 Q1945.07 1534.15 1942.73 1532.04 Q1940.39 1529.94 1936.39 1529.94 Q1934.51 1529.94 1932.64 1530.35 Q1930.78 1530.77 1928.84 1531.65 L1928.84 1514.29 Z\\\" fill=\\\"#000000\\\" fill-rule=\\\"evenodd\\\" fill-opacity=\\\"1\\\" \\/><path clip-path=\\\"url(#clip030)\\\" d=\\\"M1958.96 1542.97 L1963.84 1542.97 L1963.84 1548.85 L1958.96 1548.85 L1958.96 1542.97 Z\\\" fill=\\\"#000000\\\" fill-rule=\\\"evenodd\\\" fill-opacity=\\\"1\\\" \\/><path clip-path=\\\"url(#clip030)\\\" d=\\\"M1984.02 1517.37 Q1980.41 1517.37 1978.59 1520.93 Q1976.78 1524.47 1976.78 1531.6 Q1976.78 1538.71 1978.59 1542.27 Q1980.41 1545.82 1984.02 1545.82 Q1987.66 1545.82 1989.46 1542.27 Q1991.29 1538.71 1991.29 1531.6 Q1991.29 1524.47 1989.46 1520.93 Q1987.66 1517.37 1984.02 1517.37 M1984.02 1513.66 Q1989.83 1513.66 1992.89 1518.27 Q1995.97 1522.85 1995.97 1531.6 Q1995.97 1540.33 1992.89 1544.94 Q1989.83 1549.52 1984.02 1549.52 Q1978.21 1549.52 1975.14 1544.94 Q1972.08 1540.33 1972.08 1531.6 Q1972.08 1522.85 1975.14 1518.27 Q1978.21 1513.66 1984.02 1513.66 Z\\\" fill=\\\"#000000\\\" fill-rule=\\\"evenodd\\\" fill-opacity=\\\"1\\\" \\/><path clip-path=\\\"url(#clip030)\\\" d=\\\"M2237 1514.29 L2259.22 1514.29 L2259.22 1516.28 L2246.67 1548.85 L2241.79 1548.85 L2253.59 1518.22 L2237 1518.22 L2237 1514.29 Z\\\" fill=\\\"#000000\\\" fill-rule=\\\"evenodd\\\" fill-opacity=\\\"1\\\" \\/><path clip-path=\\\"url(#clip030)\\\" d=\\\"M2268.34 1542.97 L2273.22 1542.97 L2273.22 1548.85 L2268.34 1548.85 L2268.34 1542.97 Z\\\" fill=\\\"#000000\\\" fill-rule=\\\"evenodd\\\" fill-opacity=\\\"1\\\" \\/><path clip-path=\\\"url(#clip030)\\\" d=\\\"M2283.45 1514.29 L2301.81 1514.29 L2301.81 1518.22 L2287.74 1518.22 L2287.74 1526.7 Q2288.75 1526.35 2289.77 1526.19 Q2290.79 1526 2291.81 1526 Q2297.6 1526 2300.98 1529.17 Q2304.36 1532.34 2304.36 1537.76 Q2304.36 1543.34 2300.88 1546.44 Q2297.41 1549.52 2291.09 1549.52 Q2288.92 1549.52 2286.65 1549.15 Q2284.4 1548.78 2281.99 1548.04 L2281.99 1543.34 Q2284.08 1544.47 2286.3 1545.03 Q2288.52 1545.58 2291 1545.58 Q2295 1545.58 2297.34 1543.48 Q2299.68 1541.37 2299.68 1537.76 Q2299.68 1534.15 2297.34 1532.04 Q2295 1529.94 2291 1529.94 Q2289.12 1529.94 2287.25 1530.35 Q2285.4 1530.77 2283.45 1531.65 L2283.45 1514.29 Z\\\" fill=\\\"#000000\\\" fill-rule=\\\"evenodd\\\" fill-opacity=\\\"1\\\" \\/><polyline clip-path=\\\"url(#clip032)\\\" style=\\\"stroke:#000000; stroke-linecap:round; stroke-linejoin:round; stroke-width:2; stroke-opacity:0.1; fill:none\\\" points=\\\"186.274,1445.72 2352.76,1445.72 \\\"\\/>\\n<polyline clip-path=\\\"url(#clip032)\\\" style=\\\"stroke:#000000; stroke-linecap:round; stroke-linejoin:round; stroke-width:2; stroke-opacity:0.1; fill:none\\\" points=\\\"186.274,1125.49 2352.76,1125.49 \\\"\\/>\\n<polyline clip-path=\\\"url(#clip032)\\\" style=\\\"stroke:#000000; stroke-linecap:round; stroke-linejoin:round; stroke-width:2; stroke-opacity:0.1; fill:none\\\" points=\\\"186.274,805.273 2352.76,805.273 \\\"\\/>\\n<polyline clip-path=\\\"url(#clip032)\\\" style=\\\"stroke:#000000; stroke-linecap:round; stroke-linejoin:round; stroke-width:2; stroke-opacity:0.1; fill:none\\\" points=\\\"186.274,485.051 2352.76,485.051 \\\"\\/>\\n<polyline clip-path=\\\"url(#clip032)\\\" style=\\\"stroke:#000000; stroke-linecap:round; stroke-linejoin:round; stroke-width:2; stroke-opacity:0.1; fill:none\\\" points=\\\"186.274,164.829 2352.76,164.829 \\\"\\/>\\n<polyline clip-path=\\\"url(#clip030)\\\" style=\\\"stroke:#000000; stroke-linecap:round; stroke-linejoin:round; stroke-width:4; stroke-opacity:1; fill:none\\\" points=\\\"186.274,1486.45 186.274,47.2441 \\\"\\/>\\n<polyline clip-path=\\\"url(#clip030)\\\" style=\\\"stroke:#000000; stroke-linecap:round; stroke-linejoin:round; stroke-width:4; stroke-opacity:1; fill:none\\\" points=\\\"186.274,1445.72 205.172,1445.72 \\\"\\/>\\n<polyline clip-path=\\\"url(#clip030)\\\" style=\\\"stroke:#000000; stroke-linecap:round; stroke-linejoin:round; stroke-width:4; stroke-opacity:1; fill:none\\\" points=\\\"186.274,1125.49 205.172,1125.49 \\\"\\/>\\n<polyline clip-path=\\\"url(#clip030)\\\" style=\\\"stroke:#000000; stroke-linecap:round; stroke-linejoin:round; stroke-width:4; stroke-opacity:1; fill:none\\\" points=\\\"186.274,805.273 205.172,805.273 \\\"\\/>\\n<polyline clip-path=\\\"url(#clip030)\\\" style=\\\"stroke:#000000; stroke-linecap:round; stroke-linejoin:round; stroke-width:4; stroke-opacity:1; fill:none\\\" points=\\\"186.274,485.051 205.172,485.051 \\\"\\/>\\n<polyline clip-path=\\\"url(#clip030)\\\" style=\\\"stroke:#000000; stroke-linecap:round; stroke-linejoin:round; stroke-width:4; stroke-opacity:1; fill:none\\\" points=\\\"186.274,164.829 205.172,164.829 \\\"\\/>\\n<path clip-path=\\\"url(#clip030)\\\" d=\\\"M62.9365 1431.51 Q59.3254 1431.51 57.4967 1435.08 Q55.6912 1438.62 55.6912 1445.75 Q55.6912 1452.86 57.4967 1456.42 Q59.3254 1459.96 62.9365 1459.96 Q66.5707 1459.96 68.3763 1456.42 Q70.205 1452.86 70.205 1445.75 Q70.205 1438.62 68.3763 1435.08 Q66.5707 1431.51 62.9365 1431.51 M62.9365 1427.81 Q68.7467 1427.81 71.8022 1432.42 Q74.8809 1437 74.8809 1445.75 Q74.8809 1454.48 71.8022 1459.08 Q68.7467 1463.67 62.9365 1463.67 Q57.1264 1463.67 54.0477 1459.08 Q50.9921 1454.48 50.9921 1445.75 Q50.9921 1437 54.0477 1432.42 Q57.1264 1427.81 62.9365 1427.81 Z\\\" fill=\\\"#000000\\\" fill-rule=\\\"evenodd\\\" fill-opacity=\\\"1\\\" \\/><path clip-path=\\\"url(#clip030)\\\" d=\\\"M83.0984 1457.12 L87.9827 1457.12 L87.9827 1463 L83.0984 1463 L83.0984 1457.12 Z\\\" fill=\\\"#000000\\\" fill-rule=\\\"evenodd\\\" fill-opacity=\\\"1\\\" \\/><path clip-path=\\\"url(#clip030)\\\" d=\\\"M108.168 1431.51 Q104.557 1431.51 102.728 1435.08 Q100.922 1438.62 100.922 1445.75 Q100.922 1452.86 102.728 1456.42 Q104.557 1459.96 108.168 1459.96 Q111.802 1459.96 113.608 1456.42 Q115.436 1452.86 115.436 1445.75 Q115.436 1438.62 113.608 1435.08 Q111.802 1431.51 108.168 1431.51 M108.168 1427.81 Q113.978 1427.81 117.033 1432.42 Q120.112 1437 120.112 1445.75 Q120.112 1454.48 117.033 1459.08 Q113.978 1463.67 108.168 1463.67 Q102.358 1463.67 99.2789 1459.08 Q96.2234 1454.48 96.2234 1445.75 Q96.2234 1437 99.2789 1432.42 Q102.358 1427.81 108.168 1427.81 Z\\\" fill=\\\"#000000\\\" fill-rule=\\\"evenodd\\\" fill-opacity=\\\"1\\\" \\/><path clip-path=\\\"url(#clip030)\\\" d=\\\"M138.33 1431.51 Q134.719 1431.51 132.89 1435.08 Q131.084 1438.62 131.084 1445.75 Q131.084 1452.86 132.89 1456.42 Q134.719 1459.96 138.33 1459.96 Q141.964 1459.96 143.769 1456.42 Q145.598 1452.86 145.598 1445.75 Q145.598 1438.62 143.769 1435.08 Q141.964 1431.51 138.33 1431.51 M138.33 1427.81 Q144.14 1427.81 147.195 1432.42 Q150.274 1437 150.274 1445.75 Q150.274 1454.48 147.195 1459.08 Q144.14 1463.67 138.33 1463.67 Q132.519 1463.67 129.441 1459.08 Q126.385 1454.48 126.385 1445.75 Q126.385 1437 129.441 1432.42 Q132.519 1427.81 138.33 1427.81 Z\\\" fill=\\\"#000000\\\" fill-rule=\\\"evenodd\\\" fill-opacity=\\\"1\\\" \\/><path clip-path=\\\"url(#clip030)\\\" d=\\\"M63.9319 1111.29 Q60.3208 1111.29 58.4921 1114.86 Q56.6865 1118.4 56.6865 1125.53 Q56.6865 1132.64 58.4921 1136.2 Q60.3208 1139.74 63.9319 1139.74 Q67.5661 1139.74 69.3717 1136.2 Q71.2004 1132.64 71.2004 1125.53 Q71.2004 1118.4 69.3717 1114.86 Q67.5661 1111.29 63.9319 1111.29 M63.9319 1107.59 Q69.742 1107.59 72.7976 1112.2 Q75.8763 1116.78 75.8763 1125.53 Q75.8763 1134.26 72.7976 1138.86 Q69.742 1143.45 63.9319 1143.45 Q58.1217 1143.45 55.043 1138.86 Q51.9875 1134.26 51.9875 1125.53 Q51.9875 1116.78 55.043 1112.2 Q58.1217 1107.59 63.9319 1107.59 Z\\\" fill=\\\"#000000\\\" fill-rule=\\\"evenodd\\\" fill-opacity=\\\"1\\\" \\/><path clip-path=\\\"url(#clip030)\\\" d=\\\"M84.0938 1136.89 L88.978 1136.89 L88.978 1142.77 L84.0938 1142.77 L84.0938 1136.89 Z\\\" fill=\\\"#000000\\\" fill-rule=\\\"evenodd\\\" fill-opacity=\\\"1\\\" \\/><path clip-path=\\\"url(#clip030)\\\" d=\\\"M109.163 1111.29 Q105.552 1111.29 103.723 1114.86 Q101.918 1118.4 101.918 1125.53 Q101.918 1132.64 103.723 1136.2 Q105.552 1139.74 109.163 1139.74 Q112.797 1139.74 114.603 1136.2 Q116.432 1132.64 116.432 1125.53 Q116.432 1118.4 114.603 1114.86 Q112.797 1111.29 109.163 1111.29 M109.163 1107.59 Q114.973 1107.59 118.029 1112.2 Q121.107 1116.78 121.107 1125.53 Q121.107 1134.26 118.029 1138.86 Q114.973 1143.45 109.163 1143.45 Q103.353 1143.45 100.274 1138.86 Q97.2187 1134.26 97.2187 1125.53 Q97.2187 1116.78 100.274 1112.2 Q103.353 1107.59 109.163 1107.59 Z\\\" fill=\\\"#000000\\\" fill-rule=\\\"evenodd\\\" fill-opacity=\\\"1\\\" \\/><path clip-path=\\\"url(#clip030)\\\" d=\\\"M129.371 1108.21 L147.728 1108.21 L147.728 1112.15 L133.654 1112.15 L133.654 1120.62 Q134.672 1120.27 135.691 1120.11 Q136.709 1119.93 137.728 1119.93 Q143.515 1119.93 146.894 1123.1 Q150.274 1126.27 150.274 1131.69 Q150.274 1137.26 146.802 1140.37 Q143.33 1143.45 137.01 1143.45 Q134.834 1143.45 132.566 1143.08 Q130.32 1142.7 127.913 1141.96 L127.913 1137.26 Q129.996 1138.4 132.219 1138.95 Q134.441 1139.51 136.918 1139.51 Q140.922 1139.51 143.26 1137.4 Q145.598 1135.3 145.598 1131.69 Q145.598 1128.08 143.26 1125.97 Q140.922 1123.86 136.918 1123.86 Q135.043 1123.86 133.168 1124.28 Q131.316 1124.7 129.371 1125.58 L129.371 1108.21 Z\\\" fill=\\\"#000000\\\" fill-rule=\\\"evenodd\\\" fill-opacity=\\\"1\\\" \\/><path clip-path=\\\"url(#clip030)\\\" d=\\\"M62.9365 791.071 Q59.3254 791.071 57.4967 794.636 Q55.6912 798.178 55.6912 805.307 Q55.6912 812.414 57.4967 815.979 Q59.3254 819.52 62.9365 819.52 Q66.5707 819.52 68.3763 815.979 Q70.205 812.414 70.205 805.307 Q70.205 798.178 68.3763 794.636 Q66.5707 791.071 62.9365 791.071 M62.9365 787.368 Q68.7467 787.368 71.8022 791.974 Q74.8809 796.557 74.8809 805.307 Q74.8809 814.034 71.8022 818.641 Q68.7467 823.224 62.9365 823.224 Q57.1264 823.224 54.0477 818.641 Q50.9921 814.034 50.9921 805.307 Q50.9921 796.557 54.0477 791.974 Q57.1264 787.368 62.9365 787.368 Z\\\" fill=\\\"#000000\\\" fill-rule=\\\"evenodd\\\" fill-opacity=\\\"1\\\" \\/><path clip-path=\\\"url(#clip030)\\\" d=\\\"M83.0984 816.673 L87.9827 816.673 L87.9827 822.553 L83.0984 822.553 L83.0984 816.673 Z\\\" fill=\\\"#000000\\\" fill-rule=\\\"evenodd\\\" fill-opacity=\\\"1\\\" \\/><path clip-path=\\\"url(#clip030)\\\" d=\\\"M98.978 818.617 L106.617 818.617 L106.617 792.252 L98.3067 793.918 L98.3067 789.659 L106.571 787.993 L111.246 787.993 L111.246 818.617 L118.885 818.617 L118.885 822.553 L98.978 822.553 L98.978 818.617 Z\\\" fill=\\\"#000000\\\" fill-rule=\\\"evenodd\\\" fill-opacity=\\\"1\\\" \\/><path clip-path=\\\"url(#clip030)\\\" d=\\\"M138.33 791.071 Q134.719 791.071 132.89 794.636 Q131.084 798.178 131.084 805.307 Q131.084 812.414 132.89 815.979 Q134.719 819.52 138.33 819.52 Q141.964 819.52 143.769 815.979 Q145.598 812.414 145.598 805.307 Q145.598 798.178 143.769 794.636 Q141.964 791.071 138.33 791.071 M138.33 787.368 Q144.14 787.368 147.195 791.974 Q150.274 796.557 150.274 805.307 Q150.274 814.034 147.195 818.641 Q144.14 823.224 138.33 823.224 Q132.519 823.224 129.441 818.641 Q126.385 814.034 126.385 805.307 Q126.385 796.557 129.441 791.974 Q132.519 787.368 138.33 787.368 Z\\\" fill=\\\"#000000\\\" fill-rule=\\\"evenodd\\\" fill-opacity=\\\"1\\\" \\/><path clip-path=\\\"url(#clip030)\\\" d=\\\"M63.9319 470.85 Q60.3208 470.85 58.4921 474.414 Q56.6865 477.956 56.6865 485.086 Q56.6865 492.192 58.4921 495.757 Q60.3208 499.299 63.9319 499.299 Q67.5661 499.299 69.3717 495.757 Q71.2004 492.192 71.2004 485.086 Q71.2004 477.956 69.3717 474.414 Q67.5661 470.85 63.9319 470.85 M63.9319 467.146 Q69.742 467.146 72.7976 471.752 Q75.8763 476.336 75.8763 485.086 Q75.8763 493.813 72.7976 498.419 Q69.742 503.002 63.9319 503.002 Q58.1217 503.002 55.043 498.419 Q51.9875 493.813 51.9875 485.086 Q51.9875 476.336 55.043 471.752 Q58.1217 467.146 63.9319 467.146 Z\\\" fill=\\\"#000000\\\" fill-rule=\\\"evenodd\\\" fill-opacity=\\\"1\\\" \\/><path clip-path=\\\"url(#clip030)\\\" d=\\\"M84.0938 496.451 L88.978 496.451 L88.978 502.331 L84.0938 502.331 L84.0938 496.451 Z\\\" fill=\\\"#000000\\\" fill-rule=\\\"evenodd\\\" fill-opacity=\\\"1\\\" \\/><path clip-path=\\\"url(#clip030)\\\" d=\\\"M99.9733 498.396 L107.612 498.396 L107.612 472.03 L99.3021 473.697 L99.3021 469.438 L107.566 467.771 L112.242 467.771 L112.242 498.396 L119.881 498.396 L119.881 502.331 L99.9733 502.331 L99.9733 498.396 Z\\\" fill=\\\"#000000\\\" fill-rule=\\\"evenodd\\\" fill-opacity=\\\"1\\\" \\/><path clip-path=\\\"url(#clip030)\\\" d=\\\"M129.371 467.771 L147.728 467.771 L147.728 471.706 L133.654 471.706 L133.654 480.178 Q134.672 479.831 135.691 479.669 Q136.709 479.484 137.728 479.484 Q143.515 479.484 146.894 482.655 Q150.274 485.826 150.274 491.243 Q150.274 496.822 146.802 499.924 Q143.33 503.002 137.01 503.002 Q134.834 503.002 132.566 502.632 Q130.32 502.262 127.913 501.521 L127.913 496.822 Q129.996 497.956 132.219 498.512 Q134.441 499.067 136.918 499.067 Q140.922 499.067 143.26 496.961 Q145.598 494.854 145.598 491.243 Q145.598 487.632 143.26 485.526 Q140.922 483.419 136.918 483.419 Q135.043 483.419 133.168 483.836 Q131.316 484.252 129.371 485.132 L129.371 467.771 Z\\\" fill=\\\"#000000\\\" fill-rule=\\\"evenodd\\\" fill-opacity=\\\"1\\\" \\/><path clip-path=\\\"url(#clip030)\\\" d=\\\"M62.9365 150.628 Q59.3254 150.628 57.4967 154.193 Q55.6912 157.735 55.6912 164.864 Q55.6912 171.971 57.4967 175.535 Q59.3254 179.077 62.9365 179.077 Q66.5707 179.077 68.3763 175.535 Q70.205 171.971 70.205 164.864 Q70.205 157.735 68.3763 154.193 Q66.5707 150.628 62.9365 150.628 M62.9365 146.924 Q68.7467 146.924 71.8022 151.531 Q74.8809 156.114 74.8809 164.864 Q74.8809 173.591 71.8022 178.197 Q68.7467 182.781 62.9365 182.781 Q57.1264 182.781 54.0477 178.197 Q50.9921 173.591 50.9921 164.864 Q50.9921 156.114 54.0477 151.531 Q57.1264 146.924 62.9365 146.924 Z\\\" fill=\\\"#000000\\\" fill-rule=\\\"evenodd\\\" fill-opacity=\\\"1\\\" \\/><path clip-path=\\\"url(#clip030)\\\" d=\\\"M83.0984 176.23 L87.9827 176.23 L87.9827 182.109 L83.0984 182.109 L83.0984 176.23 Z\\\" fill=\\\"#000000\\\" fill-rule=\\\"evenodd\\\" fill-opacity=\\\"1\\\" \\/><path clip-path=\\\"url(#clip030)\\\" d=\\\"M102.196 178.174 L118.515 178.174 L118.515 182.109 L96.5706 182.109 L96.5706 178.174 Q99.2326 175.42 103.816 170.79 Q108.422 166.137 109.603 164.795 Q111.848 162.272 112.728 160.535 Q113.631 158.776 113.631 157.086 Q113.631 154.332 111.686 152.596 Q109.765 150.86 106.663 150.86 Q104.464 150.86 102.01 151.624 Q99.5798 152.387 96.8021 153.938 L96.8021 149.216 Q99.6261 148.082 102.08 147.503 Q104.534 146.924 106.571 146.924 Q111.941 146.924 115.135 149.61 Q118.33 152.295 118.33 156.786 Q118.33 158.915 117.52 160.836 Q116.733 162.735 114.626 165.327 Q114.047 165.998 110.946 169.216 Q107.844 172.41 102.196 178.174 Z\\\" fill=\\\"#000000\\\" fill-rule=\\\"evenodd\\\" fill-opacity=\\\"1\\\" \\/><path clip-path=\\\"url(#clip030)\\\" d=\\\"M138.33 150.628 Q134.719 150.628 132.89 154.193 Q131.084 157.735 131.084 164.864 Q131.084 171.971 132.89 175.535 Q134.719 179.077 138.33 179.077 Q141.964 179.077 143.769 175.535 Q145.598 171.971 145.598 164.864 Q145.598 157.735 143.769 154.193 Q141.964 150.628 138.33 150.628 M138.33 146.924 Q144.14 146.924 147.195 151.531 Q150.274 156.114 150.274 164.864 Q150.274 173.591 147.195 178.197 Q144.14 182.781 138.33 182.781 Q132.519 182.781 129.441 178.197 Q126.385 173.591 126.385 164.864 Q126.385 156.114 129.441 151.531 Q132.519 146.924 138.33 146.924 Z\\\" fill=\\\"#000000\\\" fill-rule=\\\"evenodd\\\" fill-opacity=\\\"1\\\" \\/><path clip-path=\\\"url(#clip032)\\\" d=\\\"M305.434 1432.91 L305.434 1445.72 L330.154 1445.72 L330.154 1432.91 L305.434 1432.91 L305.434 1432.91  Z\\\" fill=\\\"#009af9\\\" fill-rule=\\\"evenodd\\\" fill-opacity=\\\"1\\\"\\/>\\n<polyline clip-path=\\\"url(#clip032)\\\" style=\\\"stroke:#000000; stroke-linecap:round; stroke-linejoin:round; stroke-width:4; stroke-opacity:1; fill:none\\\" points=\\\"305.434,1432.91 305.434,1445.72 330.154,1445.72 330.154,1432.91 305.434,1432.91 \\\"\\/>\\n<path clip-path=\\\"url(#clip032)\\\" d=\\\"M330.154 1445.72 L330.154 1445.72 L354.874 1445.72 L354.874 1445.72 L330.154 1445.72 L330.154 1445.72  Z\\\" fill=\\\"#009af9\\\" fill-rule=\\\"evenodd\\\" fill-opacity=\\\"1\\\"\\/>\\n<polyline clip-path=\\\"url(#clip032)\\\" style=\\\"stroke:#000000; stroke-linecap:round; stroke-linejoin:round; stroke-width:4; stroke-opacity:1; fill:none\\\" points=\\\"330.154,1445.72 330.154,1445.72 354.874,1445.72 330.154,1445.72 \\\"\\/>\\n<path clip-path=\\\"url(#clip032)\\\" d=\\\"M354.874 1445.72 L354.874 1445.72 L379.594 1445.72 L379.594 1445.72 L354.874 1445.72 L354.874 1445.72  Z\\\" fill=\\\"#009af9\\\" fill-rule=\\\"evenodd\\\" fill-opacity=\\\"1\\\"\\/>\\n<polyline clip-path=\\\"url(#clip032)\\\" style=\\\"stroke:#000000; stroke-linecap:round; stroke-linejoin:round; stroke-width:4; stroke-opacity:1; fill:none\\\" points=\\\"354.874,1445.72 354.874,1445.72 379.594,1445.72 354.874,1445.72 \\\"\\/>\\n<path clip-path=\\\"url(#clip032)\\\" d=\\\"M379.594 1445.72 L379.594 1445.72 L404.314 1445.72 L404.314 1445.72 L379.594 1445.72 L379.594 1445.72  Z\\\" fill=\\\"#009af9\\\" fill-rule=\\\"evenodd\\\" fill-opacity=\\\"1\\\"\\/>\\n<polyline clip-path=\\\"url(#clip032)\\\" style=\\\"stroke:#000000; stroke-linecap:round; stroke-linejoin:round; stroke-width:4; stroke-opacity:1; fill:none\\\" points=\\\"379.594,1445.72 379.594,1445.72 404.314,1445.72 379.594,1445.72 \\\"\\/>\\n<path clip-path=\\\"url(#clip032)\\\" d=\\\"M404.314 1432.91 L404.314 1445.72 L429.034 1445.72 L429.034 1432.91 L404.314 1432.91 L404.314 1432.91  Z\\\" fill=\\\"#009af9\\\" fill-rule=\\\"evenodd\\\" fill-opacity=\\\"1\\\"\\/>\\n<polyline clip-path=\\\"url(#clip032)\\\" style=\\\"stroke:#000000; stroke-linecap:round; stroke-linejoin:round; stroke-width:4; stroke-opacity:1; fill:none\\\" points=\\\"404.314,1432.91 404.314,1445.72 429.034,1445.72 429.034,1432.91 404.314,1432.91 \\\"\\/>\\n<path clip-path=\\\"url(#clip032)\\\" d=\\\"M429.034 1445.72 L429.034 1445.72 L453.754 1445.72 L453.754 1445.72 L429.034 1445.72 L429.034 1445.72  Z\\\" fill=\\\"#009af9\\\" fill-rule=\\\"evenodd\\\" fill-opacity=\\\"1\\\"\\/>\\n<polyline clip-path=\\\"url(#clip032)\\\" style=\\\"stroke:#000000; stroke-linecap:round; stroke-linejoin:round; stroke-width:4; stroke-opacity:1; fill:none\\\" points=\\\"429.034,1445.72 429.034,1445.72 453.754,1445.72 429.034,1445.72 \\\"\\/>\\n<path clip-path=\\\"url(#clip032)\\\" d=\\\"M453.754 1420.1 L453.754 1445.72 L478.474 1445.72 L478.474 1420.1 L453.754 1420.1 L453.754 1420.1  Z\\\" fill=\\\"#009af9\\\" fill-rule=\\\"evenodd\\\" fill-opacity=\\\"1\\\"\\/>\\n<polyline clip-path=\\\"url(#clip032)\\\" style=\\\"stroke:#000000; stroke-linecap:round; stroke-linejoin:round; stroke-width:4; stroke-opacity:1; fill:none\\\" points=\\\"453.754,1420.1 453.754,1445.72 478.474,1445.72 478.474,1420.1 453.754,1420.1 \\\"\\/>\\n<path clip-path=\\\"url(#clip032)\\\" d=\\\"M478.474 1445.72 L478.474 1445.72 L503.194 1445.72 L503.194 1445.72 L478.474 1445.72 L478.474 1445.72  Z\\\" fill=\\\"#009af9\\\" fill-rule=\\\"evenodd\\\" fill-opacity=\\\"1\\\"\\/>\\n<polyline clip-path=\\\"url(#clip032)\\\" style=\\\"stroke:#000000; stroke-linecap:round; stroke-linejoin:round; stroke-width:4; stroke-opacity:1; fill:none\\\" points=\\\"478.474,1445.72 478.474,1445.72 503.194,1445.72 478.474,1445.72 \\\"\\/>\\n<path clip-path=\\\"url(#clip032)\\\" d=\\\"M503.194 1432.91 L503.194 1445.72 L527.914 1445.72 L527.914 1432.91 L503.194 1432.91 L503.194 1432.91  Z\\\" fill=\\\"#009af9\\\" fill-rule=\\\"evenodd\\\" fill-opacity=\\\"1\\\"\\/>\\n<polyline clip-path=\\\"url(#clip032)\\\" style=\\\"stroke:#000000; stroke-linecap:round; stroke-linejoin:round; stroke-width:4; stroke-opacity:1; fill:none\\\" points=\\\"503.194,1432.91 503.194,1445.72 527.914,1445.72 527.914,1432.91 503.194,1432.91 \\\"\\/>\\n<path clip-path=\\\"url(#clip032)\\\" d=\\\"M527.914 1407.29 L527.914 1445.72 L552.635 1445.72 L552.635 1407.29 L527.914 1407.29 L527.914 1407.29  Z\\\" fill=\\\"#009af9\\\" fill-rule=\\\"evenodd\\\" fill-opacity=\\\"1\\\"\\/>\\n<polyline clip-path=\\\"url(#clip032)\\\" style=\\\"stroke:#000000; stroke-linecap:round; stroke-linejoin:round; stroke-width:4; stroke-opacity:1; fill:none\\\" points=\\\"527.914,1407.29 527.914,1445.72 552.635,1445.72 552.635,1407.29 527.914,1407.29 \\\"\\/>\\n<path clip-path=\\\"url(#clip032)\\\" d=\\\"M552.635 1407.29 L552.635 1445.72 L577.355 1445.72 L577.355 1407.29 L552.635 1407.29 L552.635 1407.29  Z\\\" fill=\\\"#009af9\\\" fill-rule=\\\"evenodd\\\" fill-opacity=\\\"1\\\"\\/>\\n<polyline clip-path=\\\"url(#clip032)\\\" style=\\\"stroke:#000000; stroke-linecap:round; stroke-linejoin:round; stroke-width:4; stroke-opacity:1; fill:none\\\" points=\\\"552.635,1407.29 552.635,1445.72 577.355,1445.72 577.355,1407.29 552.635,1407.29 \\\"\\/>\\n<path clip-path=\\\"url(#clip032)\\\" d=\\\"M577.355 1420.1 L577.355 1445.72 L602.075 1445.72 L602.075 1420.1 L577.355 1420.1 L577.355 1420.1  Z\\\" fill=\\\"#009af9\\\" fill-rule=\\\"evenodd\\\" fill-opacity=\\\"1\\\"\\/>\\n<polyline clip-path=\\\"url(#clip032)\\\" style=\\\"stroke:#000000; stroke-linecap:round; stroke-linejoin:round; stroke-width:4; stroke-opacity:1; fill:none\\\" points=\\\"577.355,1420.1 577.355,1445.72 602.075,1445.72 602.075,1420.1 577.355,1420.1 \\\"\\/>\\n<path clip-path=\\\"url(#clip032)\\\" d=\\\"M602.075 1330.44 L602.075 1445.72 L626.795 1445.72 L626.795 1330.44 L602.075 1330.44 L602.075 1330.44  Z\\\" fill=\\\"#009af9\\\" fill-rule=\\\"evenodd\\\" fill-opacity=\\\"1\\\"\\/>\\n<polyline clip-path=\\\"url(#clip032)\\\" style=\\\"stroke:#000000; stroke-linecap:round; stroke-linejoin:round; stroke-width:4; stroke-opacity:1; fill:none\\\" points=\\\"602.075,1330.44 602.075,1445.72 626.795,1445.72 626.795,1330.44 602.075,1330.44 \\\"\\/>\\n<path clip-path=\\\"url(#clip032)\\\" d=\\\"M626.795 1407.29 L626.795 1445.72 L651.515 1445.72 L651.515 1407.29 L626.795 1407.29 L626.795 1407.29  Z\\\" fill=\\\"#009af9\\\" fill-rule=\\\"evenodd\\\" fill-opacity=\\\"1\\\"\\/>\\n<polyline clip-path=\\\"url(#clip032)\\\" style=\\\"stroke:#000000; stroke-linecap:round; stroke-linejoin:round; stroke-width:4; stroke-opacity:1; fill:none\\\" points=\\\"626.795,1407.29 626.795,1445.72 651.515,1445.72 651.515,1407.29 626.795,1407.29 \\\"\\/>\\n<path clip-path=\\\"url(#clip032)\\\" d=\\\"M651.515 1330.44 L651.515 1445.72 L676.235 1445.72 L676.235 1330.44 L651.515 1330.44 L651.515 1330.44  Z\\\" fill=\\\"#009af9\\\" fill-rule=\\\"evenodd\\\" fill-opacity=\\\"1\\\"\\/>\\n<polyline clip-path=\\\"url(#clip032)\\\" style=\\\"stroke:#000000; stroke-linecap:round; stroke-linejoin:round; stroke-width:4; stroke-opacity:1; fill:none\\\" points=\\\"651.515,1330.44 651.515,1445.72 676.235,1445.72 676.235,1330.44 651.515,1330.44 \\\"\\/>\\n<path clip-path=\\\"url(#clip032)\\\" d=\\\"M676.235 1343.24 L676.235 1445.72 L700.955 1445.72 L700.955 1343.24 L676.235 1343.24 L676.235 1343.24  Z\\\" fill=\\\"#009af9\\\" fill-rule=\\\"evenodd\\\" fill-opacity=\\\"1\\\"\\/>\\n<polyline clip-path=\\\"url(#clip032)\\\" style=\\\"stroke:#000000; stroke-linecap:round; stroke-linejoin:round; stroke-width:4; stroke-opacity:1; fill:none\\\" points=\\\"676.235,1343.24 676.235,1445.72 700.955,1445.72 700.955,1343.24 676.235,1343.24 \\\"\\/>\\n<path clip-path=\\\"url(#clip032)\\\" d=\\\"M700.955 1279.2 L700.955 1445.72 L725.675 1445.72 L725.675 1279.2 L700.955 1279.2 L700.955 1279.2  Z\\\" fill=\\\"#009af9\\\" fill-rule=\\\"evenodd\\\" fill-opacity=\\\"1\\\"\\/>\\n<polyline clip-path=\\\"url(#clip032)\\\" style=\\\"stroke:#000000; stroke-linecap:round; stroke-linejoin:round; stroke-width:4; stroke-opacity:1; fill:none\\\" points=\\\"700.955,1279.2 700.955,1445.72 725.675,1445.72 725.675,1279.2 700.955,1279.2 \\\"\\/>\\n<path clip-path=\\\"url(#clip032)\\\" d=\\\"M725.675 1292.01 L725.675 1445.72 L750.395 1445.72 L750.395 1292.01 L725.675 1292.01 L725.675 1292.01  Z\\\" fill=\\\"#009af9\\\" fill-rule=\\\"evenodd\\\" fill-opacity=\\\"1\\\"\\/>\\n<polyline clip-path=\\\"url(#clip032)\\\" style=\\\"stroke:#000000; stroke-linecap:round; stroke-linejoin:round; stroke-width:4; stroke-opacity:1; fill:none\\\" points=\\\"725.675,1292.01 725.675,1445.72 750.395,1445.72 750.395,1292.01 725.675,1292.01 \\\"\\/>\\n<path clip-path=\\\"url(#clip032)\\\" d=\\\"M750.395 1240.77 L750.395 1445.72 L775.115 1445.72 L775.115 1240.77 L750.395 1240.77 L750.395 1240.77  Z\\\" fill=\\\"#009af9\\\" fill-rule=\\\"evenodd\\\" fill-opacity=\\\"1\\\"\\/>\\n<polyline clip-path=\\\"url(#clip032)\\\" style=\\\"stroke:#000000; stroke-linecap:round; stroke-linejoin:round; stroke-width:4; stroke-opacity:1; fill:none\\\" points=\\\"750.395,1240.77 750.395,1445.72 775.115,1445.72 775.115,1240.77 750.395,1240.77 \\\"\\/>\\n<path clip-path=\\\"url(#clip032)\\\" d=\\\"M775.115 1125.49 L775.115 1445.72 L799.835 1445.72 L799.835 1125.49 L775.115 1125.49 L775.115 1125.49  Z\\\" fill=\\\"#009af9\\\" fill-rule=\\\"evenodd\\\" fill-opacity=\\\"1\\\"\\/>\\n<polyline clip-path=\\\"url(#clip032)\\\" style=\\\"stroke:#000000; stroke-linecap:round; stroke-linejoin:round; stroke-width:4; stroke-opacity:1; fill:none\\\" points=\\\"775.115,1125.49 775.115,1445.72 799.835,1445.72 799.835,1125.49 775.115,1125.49 \\\"\\/>\\n<path clip-path=\\\"url(#clip032)\\\" d=\\\"M799.835 1253.58 L799.835 1445.72 L824.555 1445.72 L824.555 1253.58 L799.835 1253.58 L799.835 1253.58  Z\\\" fill=\\\"#009af9\\\" fill-rule=\\\"evenodd\\\" fill-opacity=\\\"1\\\"\\/>\\n<polyline clip-path=\\\"url(#clip032)\\\" style=\\\"stroke:#000000; stroke-linecap:round; stroke-linejoin:round; stroke-width:4; stroke-opacity:1; fill:none\\\" points=\\\"799.835,1253.58 799.835,1445.72 824.555,1445.72 824.555,1253.58 799.835,1253.58 \\\"\\/>\\n<path clip-path=\\\"url(#clip032)\\\" d=\\\"M824.555 984.597 L824.555 1445.72 L849.275 1445.72 L849.275 984.597 L824.555 984.597 L824.555 984.597  Z\\\" fill=\\\"#009af9\\\" fill-rule=\\\"evenodd\\\" fill-opacity=\\\"1\\\"\\/>\\n<polyline clip-path=\\\"url(#clip032)\\\" style=\\\"stroke:#000000; stroke-linecap:round; stroke-linejoin:round; stroke-width:4; stroke-opacity:1; fill:none\\\" points=\\\"824.555,984.597 824.555,1445.72 849.275,1445.72 849.275,984.597 824.555,984.597 \\\"\\/>\\n<path clip-path=\\\"url(#clip032)\\\" d=\\\"M849.275 882.126 L849.275 1445.72 L873.995 1445.72 L873.995 882.126 L849.275 882.126 L849.275 882.126  Z\\\" fill=\\\"#009af9\\\" fill-rule=\\\"evenodd\\\" fill-opacity=\\\"1\\\"\\/>\\n<polyline clip-path=\\\"url(#clip032)\\\" style=\\\"stroke:#000000; stroke-linecap:round; stroke-linejoin:round; stroke-width:4; stroke-opacity:1; fill:none\\\" points=\\\"849.275,882.126 849.275,1445.72 873.995,1445.72 873.995,882.126 849.275,882.126 \\\"\\/>\\n<path clip-path=\\\"url(#clip032)\\\" d=\\\"M873.995 1010.21 L873.995 1445.72 L898.715 1445.72 L898.715 1010.21 L873.995 1010.21 L873.995 1010.21  Z\\\" fill=\\\"#009af9\\\" fill-rule=\\\"evenodd\\\" fill-opacity=\\\"1\\\"\\/>\\n<polyline clip-path=\\\"url(#clip032)\\\" style=\\\"stroke:#000000; stroke-linecap:round; stroke-linejoin:round; stroke-width:4; stroke-opacity:1; fill:none\\\" points=\\\"873.995,1010.21 873.995,1445.72 898.715,1445.72 898.715,1010.21 873.995,1010.21 \\\"\\/>\\n<path clip-path=\\\"url(#clip032)\\\" d=\\\"M898.715 766.846 L898.715 1445.72 L923.435 1445.72 L923.435 766.846 L898.715 766.846 L898.715 766.846  Z\\\" fill=\\\"#009af9\\\" fill-rule=\\\"evenodd\\\" fill-opacity=\\\"1\\\"\\/>\\n<polyline clip-path=\\\"url(#clip032)\\\" style=\\\"stroke:#000000; stroke-linecap:round; stroke-linejoin:round; stroke-width:4; stroke-opacity:1; fill:none\\\" points=\\\"898.715,766.846 898.715,1445.72 923.435,1445.72 923.435,766.846 898.715,766.846 \\\"\\/>\\n<path clip-path=\\\"url(#clip032)\\\" d=\\\"M923.435 638.757 L923.435 1445.72 L948.155 1445.72 L948.155 638.757 L923.435 638.757 L923.435 638.757  Z\\\" fill=\\\"#009af9\\\" fill-rule=\\\"evenodd\\\" fill-opacity=\\\"1\\\"\\/>\\n<polyline clip-path=\\\"url(#clip032)\\\" style=\\\"stroke:#000000; stroke-linecap:round; stroke-linejoin:round; stroke-width:4; stroke-opacity:1; fill:none\\\" points=\\\"923.435,638.757 923.435,1445.72 948.155,1445.72 948.155,638.757 923.435,638.757 \\\"\\/>\\n<path clip-path=\\\"url(#clip032)\\\" d=\\\"M948.155 766.846 L948.155 1445.72 L972.875 1445.72 L972.875 766.846 L948.155 766.846 L948.155 766.846  Z\\\" fill=\\\"#009af9\\\" fill-rule=\\\"evenodd\\\" fill-opacity=\\\"1\\\"\\/>\\n<polyline clip-path=\\\"url(#clip032)\\\" style=\\\"stroke:#000000; stroke-linecap:round; stroke-linejoin:round; stroke-width:4; stroke-opacity:1; fill:none\\\" points=\\\"948.155,766.846 948.155,1445.72 972.875,1445.72 972.875,766.846 948.155,766.846 \\\"\\/>\\n<path clip-path=\\\"url(#clip032)\\\" d=\\\"M972.875 638.757 L972.875 1445.72 L997.595 1445.72 L997.595 638.757 L972.875 638.757 L972.875 638.757  Z\\\" fill=\\\"#009af9\\\" fill-rule=\\\"evenodd\\\" fill-opacity=\\\"1\\\"\\/>\\n<polyline clip-path=\\\"url(#clip032)\\\" style=\\\"stroke:#000000; stroke-linecap:round; stroke-linejoin:round; stroke-width:4; stroke-opacity:1; fill:none\\\" points=\\\"972.875,638.757 972.875,1445.72 997.595,1445.72 997.595,638.757 972.875,638.757 \\\"\\/>\\n<path clip-path=\\\"url(#clip032)\\\" d=\\\"M997.595 638.757 L997.595 1445.72 L1022.31 1445.72 L1022.31 638.757 L997.595 638.757 L997.595 638.757  Z\\\" fill=\\\"#009af9\\\" fill-rule=\\\"evenodd\\\" fill-opacity=\\\"1\\\"\\/>\\n<polyline clip-path=\\\"url(#clip032)\\\" style=\\\"stroke:#000000; stroke-linecap:round; stroke-linejoin:round; stroke-width:4; stroke-opacity:1; fill:none\\\" points=\\\"997.595,638.757 997.595,1445.72 1022.31,1445.72 1022.31,638.757 997.595,638.757 \\\"\\/>\\n<path clip-path=\\\"url(#clip032)\\\" d=\\\"M1022.31 369.771 L1022.31 1445.72 L1047.03 1445.72 L1047.03 369.771 L1022.31 369.771 L1022.31 369.771  Z\\\" fill=\\\"#009af9\\\" fill-rule=\\\"evenodd\\\" fill-opacity=\\\"1\\\"\\/>\\n<polyline clip-path=\\\"url(#clip032)\\\" style=\\\"stroke:#000000; stroke-linecap:round; stroke-linejoin:round; stroke-width:4; stroke-opacity:1; fill:none\\\" points=\\\"1022.31,369.771 1022.31,1445.72 1047.03,1445.72 1047.03,369.771 1022.31,369.771 \\\"\\/>\\n<path clip-path=\\\"url(#clip032)\\\" d=\\\"M1047.03 549.095 L1047.03 1445.72 L1071.75 1445.72 L1071.75 549.095 L1047.03 549.095 L1047.03 549.095  Z\\\" fill=\\\"#009af9\\\" fill-rule=\\\"evenodd\\\" fill-opacity=\\\"1\\\"\\/>\\n<polyline clip-path=\\\"url(#clip032)\\\" style=\\\"stroke:#000000; stroke-linecap:round; stroke-linejoin:round; stroke-width:4; stroke-opacity:1; fill:none\\\" points=\\\"1047.03,549.095 1047.03,1445.72 1071.75,1445.72 1071.75,549.095 1047.03,549.095 \\\"\\/>\\n<path clip-path=\\\"url(#clip032)\\\" d=\\\"M1071.75 331.345 L1071.75 1445.72 L1096.47 1445.72 L1096.47 331.345 L1071.75 331.345 L1071.75 331.345  Z\\\" fill=\\\"#009af9\\\" fill-rule=\\\"evenodd\\\" fill-opacity=\\\"1\\\"\\/>\\n<polyline clip-path=\\\"url(#clip032)\\\" style=\\\"stroke:#000000; stroke-linecap:round; stroke-linejoin:round; stroke-width:4; stroke-opacity:1; fill:none\\\" points=\\\"1071.75,331.345 1071.75,1445.72 1096.47,1445.72 1096.47,331.345 1071.75,331.345 \\\"\\/>\\n<path clip-path=\\\"url(#clip032)\\\" d=\\\"M1096.47 395.389 L1096.47 1445.72 L1121.19 1445.72 L1121.19 395.389 L1096.47 395.389 L1096.47 395.389  Z\\\" fill=\\\"#009af9\\\" fill-rule=\\\"evenodd\\\" fill-opacity=\\\"1\\\"\\/>\\n<polyline clip-path=\\\"url(#clip032)\\\" style=\\\"stroke:#000000; stroke-linecap:round; stroke-linejoin:round; stroke-width:4; stroke-opacity:1; fill:none\\\" points=\\\"1096.47,395.389 1096.47,1445.72 1121.19,1445.72 1121.19,395.389 1096.47,395.389 \\\"\\/>\\n<path clip-path=\\\"url(#clip032)\\\" d=\\\"M1121.19 139.212 L1121.19 1445.72 L1145.91 1445.72 L1145.91 139.212 L1121.19 139.212 L1121.19 139.212  Z\\\" fill=\\\"#009af9\\\" fill-rule=\\\"evenodd\\\" fill-opacity=\\\"1\\\"\\/>\\n<polyline clip-path=\\\"url(#clip032)\\\" style=\\\"stroke:#000000; stroke-linecap:round; stroke-linejoin:round; stroke-width:4; stroke-opacity:1; fill:none\\\" points=\\\"1121.19,139.212 1121.19,1445.72 1145.91,1445.72 1145.91,139.212 1121.19,139.212 \\\"\\/>\\n<path clip-path=\\\"url(#clip032)\\\" d=\\\"M1145.91 152.021 L1145.91 1445.72 L1170.63 1445.72 L1170.63 152.021 L1145.91 152.021 L1145.91 152.021  Z\\\" fill=\\\"#009af9\\\" fill-rule=\\\"evenodd\\\" fill-opacity=\\\"1\\\"\\/>\\n<polyline clip-path=\\\"url(#clip032)\\\" style=\\\"stroke:#000000; stroke-linecap:round; stroke-linejoin:round; stroke-width:4; stroke-opacity:1; fill:none\\\" points=\\\"1145.91,152.021 1145.91,1445.72 1170.63,1445.72 1170.63,152.021 1145.91,152.021 \\\"\\/>\\n<path clip-path=\\\"url(#clip032)\\\" d=\\\"M1170.63 203.256 L1170.63 1445.72 L1195.35 1445.72 L1195.35 203.256 L1170.63 203.256 L1170.63 203.256  Z\\\" fill=\\\"#009af9\\\" fill-rule=\\\"evenodd\\\" fill-opacity=\\\"1\\\"\\/>\\n<polyline clip-path=\\\"url(#clip032)\\\" style=\\\"stroke:#000000; stroke-linecap:round; stroke-linejoin:round; stroke-width:4; stroke-opacity:1; fill:none\\\" points=\\\"1170.63,203.256 1170.63,1445.72 1195.35,1445.72 1195.35,203.256 1170.63,203.256 \\\"\\/>\\n<path clip-path=\\\"url(#clip032)\\\" d=\\\"M1195.35 177.638 L1195.35 1445.72 L1220.07 1445.72 L1220.07 177.638 L1195.35 177.638 L1195.35 177.638  Z\\\" fill=\\\"#009af9\\\" fill-rule=\\\"evenodd\\\" fill-opacity=\\\"1\\\"\\/>\\n<polyline clip-path=\\\"url(#clip032)\\\" style=\\\"stroke:#000000; stroke-linecap:round; stroke-linejoin:round; stroke-width:4; stroke-opacity:1; fill:none\\\" points=\\\"1195.35,177.638 1195.35,1445.72 1220.07,1445.72 1220.07,177.638 1195.35,177.638 \\\"\\/>\\n<path clip-path=\\\"url(#clip032)\\\" d=\\\"M1220.07 216.065 L1220.07 1445.72 L1244.79 1445.72 L1244.79 216.065 L1220.07 216.065 L1220.07 216.065  Z\\\" fill=\\\"#009af9\\\" fill-rule=\\\"evenodd\\\" fill-opacity=\\\"1\\\"\\/>\\n<polyline clip-path=\\\"url(#clip032)\\\" style=\\\"stroke:#000000; stroke-linecap:round; stroke-linejoin:round; stroke-width:4; stroke-opacity:1; fill:none\\\" points=\\\"1220.07,216.065 1220.07,1445.72 1244.79,1445.72 1244.79,216.065 1220.07,216.065 \\\"\\/>\\n<path clip-path=\\\"url(#clip032)\\\" d=\\\"M1244.79 87.9763 L1244.79 1445.72 L1269.51 1445.72 L1269.51 87.9763 L1244.79 87.9763 L1244.79 87.9763  Z\\\" fill=\\\"#009af9\\\" fill-rule=\\\"evenodd\\\" fill-opacity=\\\"1\\\"\\/>\\n<polyline clip-path=\\\"url(#clip032)\\\" style=\\\"stroke:#000000; stroke-linecap:round; stroke-linejoin:round; stroke-width:4; stroke-opacity:1; fill:none\\\" points=\\\"1244.79,87.9763 1244.79,1445.72 1269.51,1445.72 1269.51,87.9763 1244.79,87.9763 \\\"\\/>\\n<path clip-path=\\\"url(#clip032)\\\" d=\\\"M1269.51 356.962 L1269.51 1445.72 L1294.23 1445.72 L1294.23 356.962 L1269.51 356.962 L1269.51 356.962  Z\\\" fill=\\\"#009af9\\\" fill-rule=\\\"evenodd\\\" fill-opacity=\\\"1\\\"\\/>\\n<polyline clip-path=\\\"url(#clip032)\\\" style=\\\"stroke:#000000; stroke-linecap:round; stroke-linejoin:round; stroke-width:4; stroke-opacity:1; fill:none\\\" points=\\\"1269.51,356.962 1269.51,1445.72 1294.23,1445.72 1294.23,356.962 1269.51,356.962 \\\"\\/>\\n<path clip-path=\\\"url(#clip032)\\\" d=\\\"M1294.23 292.918 L1294.23 1445.72 L1318.95 1445.72 L1318.95 292.918 L1294.23 292.918 L1294.23 292.918  Z\\\" fill=\\\"#009af9\\\" fill-rule=\\\"evenodd\\\" fill-opacity=\\\"1\\\"\\/>\\n<polyline clip-path=\\\"url(#clip032)\\\" style=\\\"stroke:#000000; stroke-linecap:round; stroke-linejoin:round; stroke-width:4; stroke-opacity:1; fill:none\\\" points=\\\"1294.23,292.918 1294.23,1445.72 1318.95,1445.72 1318.95,292.918 1294.23,292.918 \\\"\\/>\\n<path clip-path=\\\"url(#clip032)\\\" d=\\\"M1318.95 216.065 L1318.95 1445.72 L1343.67 1445.72 L1343.67 216.065 L1318.95 216.065 L1318.95 216.065  Z\\\" fill=\\\"#009af9\\\" fill-rule=\\\"evenodd\\\" fill-opacity=\\\"1\\\"\\/>\\n<polyline clip-path=\\\"url(#clip032)\\\" style=\\\"stroke:#000000; stroke-linecap:round; stroke-linejoin:round; stroke-width:4; stroke-opacity:1; fill:none\\\" points=\\\"1318.95,216.065 1318.95,1445.72 1343.67,1445.72 1343.67,216.065 1318.95,216.065 \\\"\\/>\\n<path clip-path=\\\"url(#clip032)\\\" d=\\\"M1343.67 254.491 L1343.67 1445.72 L1368.4 1445.72 L1368.4 254.491 L1343.67 254.491 L1343.67 254.491  Z\\\" fill=\\\"#009af9\\\" fill-rule=\\\"evenodd\\\" fill-opacity=\\\"1\\\"\\/>\\n<polyline clip-path=\\\"url(#clip032)\\\" style=\\\"stroke:#000000; stroke-linecap:round; stroke-linejoin:round; stroke-width:4; stroke-opacity:1; fill:none\\\" points=\\\"1343.67,254.491 1343.67,1445.72 1368.4,1445.72 1368.4,254.491 1343.67,254.491 \\\"\\/>\\n<path clip-path=\\\"url(#clip032)\\\" d=\\\"M1368.4 318.536 L1368.4 1445.72 L1393.12 1445.72 L1393.12 318.536 L1368.4 318.536 L1368.4 318.536  Z\\\" fill=\\\"#009af9\\\" fill-rule=\\\"evenodd\\\" fill-opacity=\\\"1\\\"\\/>\\n<polyline clip-path=\\\"url(#clip032)\\\" style=\\\"stroke:#000000; stroke-linecap:round; stroke-linejoin:round; stroke-width:4; stroke-opacity:1; fill:none\\\" points=\\\"1368.4,318.536 1368.4,1445.72 1393.12,1445.72 1393.12,318.536 1368.4,318.536 \\\"\\/>\\n<path clip-path=\\\"url(#clip032)\\\" d=\\\"M1393.12 561.904 L1393.12 1445.72 L1417.84 1445.72 L1417.84 561.904 L1393.12 561.904 L1393.12 561.904  Z\\\" fill=\\\"#009af9\\\" fill-rule=\\\"evenodd\\\" fill-opacity=\\\"1\\\"\\/>\\n<polyline clip-path=\\\"url(#clip032)\\\" style=\\\"stroke:#000000; stroke-linecap:round; stroke-linejoin:round; stroke-width:4; stroke-opacity:1; fill:none\\\" points=\\\"1393.12,561.904 1393.12,1445.72 1417.84,1445.72 1417.84,561.904 1393.12,561.904 \\\"\\/>\\n<path clip-path=\\\"url(#clip032)\\\" d=\\\"M1417.84 292.918 L1417.84 1445.72 L1442.56 1445.72 L1442.56 292.918 L1417.84 292.918 L1417.84 292.918  Z\\\" fill=\\\"#009af9\\\" fill-rule=\\\"evenodd\\\" fill-opacity=\\\"1\\\"\\/>\\n<polyline clip-path=\\\"url(#clip032)\\\" style=\\\"stroke:#000000; stroke-linecap:round; stroke-linejoin:round; stroke-width:4; stroke-opacity:1; fill:none\\\" points=\\\"1417.84,292.918 1417.84,1445.72 1442.56,1445.72 1442.56,292.918 1417.84,292.918 \\\"\\/>\\n<path clip-path=\\\"url(#clip032)\\\" d=\\\"M1442.56 651.566 L1442.56 1445.72 L1467.28 1445.72 L1467.28 651.566 L1442.56 651.566 L1442.56 651.566  Z\\\" fill=\\\"#009af9\\\" fill-rule=\\\"evenodd\\\" fill-opacity=\\\"1\\\"\\/>\\n<polyline clip-path=\\\"url(#clip032)\\\" style=\\\"stroke:#000000; stroke-linecap:round; stroke-linejoin:round; stroke-width:4; stroke-opacity:1; fill:none\\\" points=\\\"1442.56,651.566 1442.56,1445.72 1467.28,1445.72 1467.28,651.566 1442.56,651.566 \\\"\\/>\\n<path clip-path=\\\"url(#clip032)\\\" d=\\\"M1467.28 907.743 L1467.28 1445.72 L1492 1445.72 L1492 907.743 L1467.28 907.743 L1467.28 907.743  Z\\\" fill=\\\"#009af9\\\" fill-rule=\\\"evenodd\\\" fill-opacity=\\\"1\\\"\\/>\\n<polyline clip-path=\\\"url(#clip032)\\\" style=\\\"stroke:#000000; stroke-linecap:round; stroke-linejoin:round; stroke-width:4; stroke-opacity:1; fill:none\\\" points=\\\"1467.28,907.743 1467.28,1445.72 1492,1445.72 1492,907.743 1467.28,907.743 \\\"\\/>\\n<path clip-path=\\\"url(#clip032)\\\" d=\\\"M1492 882.126 L1492 1445.72 L1516.72 1445.72 L1516.72 882.126 L1492 882.126 L1492 882.126  Z\\\" fill=\\\"#009af9\\\" fill-rule=\\\"evenodd\\\" fill-opacity=\\\"1\\\"\\/>\\n<polyline clip-path=\\\"url(#clip032)\\\" style=\\\"stroke:#000000; stroke-linecap:round; stroke-linejoin:round; stroke-width:4; stroke-opacity:1; fill:none\\\" points=\\\"1492,882.126 1492,1445.72 1516.72,1445.72 1516.72,882.126 1492,882.126 \\\"\\/>\\n<path clip-path=\\\"url(#clip032)\\\" d=\\\"M1516.72 843.699 L1516.72 1445.72 L1541.44 1445.72 L1541.44 843.699 L1516.72 843.699 L1516.72 843.699  Z\\\" fill=\\\"#009af9\\\" fill-rule=\\\"evenodd\\\" fill-opacity=\\\"1\\\"\\/>\\n<polyline clip-path=\\\"url(#clip032)\\\" style=\\\"stroke:#000000; stroke-linecap:round; stroke-linejoin:round; stroke-width:4; stroke-opacity:1; fill:none\\\" points=\\\"1516.72,843.699 1516.72,1445.72 1541.44,1445.72 1541.44,843.699 1516.72,843.699 \\\"\\/>\\n<path clip-path=\\\"url(#clip032)\\\" d=\\\"M1541.44 830.89 L1541.44 1445.72 L1566.16 1445.72 L1566.16 830.89 L1541.44 830.89 L1541.44 830.89  Z\\\" fill=\\\"#009af9\\\" fill-rule=\\\"evenodd\\\" fill-opacity=\\\"1\\\"\\/>\\n<polyline clip-path=\\\"url(#clip032)\\\" style=\\\"stroke:#000000; stroke-linecap:round; stroke-linejoin:round; stroke-width:4; stroke-opacity:1; fill:none\\\" points=\\\"1541.44,830.89 1541.44,1445.72 1566.16,1445.72 1566.16,830.89 1541.44,830.89 \\\"\\/>\\n<path clip-path=\\\"url(#clip032)\\\" d=\\\"M1566.16 1048.64 L1566.16 1445.72 L1590.88 1445.72 L1590.88 1048.64 L1566.16 1048.64 L1566.16 1048.64  Z\\\" fill=\\\"#009af9\\\" fill-rule=\\\"evenodd\\\" fill-opacity=\\\"1\\\"\\/>\\n<polyline clip-path=\\\"url(#clip032)\\\" style=\\\"stroke:#000000; stroke-linecap:round; stroke-linejoin:round; stroke-width:4; stroke-opacity:1; fill:none\\\" points=\\\"1566.16,1048.64 1566.16,1445.72 1590.88,1445.72 1590.88,1048.64 1566.16,1048.64 \\\"\\/>\\n<path clip-path=\\\"url(#clip032)\\\" d=\\\"M1590.88 1087.07 L1590.88 1445.72 L1615.6 1445.72 L1615.6 1087.07 L1590.88 1087.07 L1590.88 1087.07  Z\\\" fill=\\\"#009af9\\\" fill-rule=\\\"evenodd\\\" fill-opacity=\\\"1\\\"\\/>\\n<polyline clip-path=\\\"url(#clip032)\\\" style=\\\"stroke:#000000; stroke-linecap:round; stroke-linejoin:round; stroke-width:4; stroke-opacity:1; fill:none\\\" points=\\\"1590.88,1087.07 1590.88,1445.72 1615.6,1445.72 1615.6,1087.07 1590.88,1087.07 \\\"\\/>\\n<path clip-path=\\\"url(#clip032)\\\" d=\\\"M1615.6 971.788 L1615.6 1445.72 L1640.32 1445.72 L1640.32 971.788 L1615.6 971.788 L1615.6 971.788  Z\\\" fill=\\\"#009af9\\\" fill-rule=\\\"evenodd\\\" fill-opacity=\\\"1\\\"\\/>\\n<polyline clip-path=\\\"url(#clip032)\\\" style=\\\"stroke:#000000; stroke-linecap:round; stroke-linejoin:round; stroke-width:4; stroke-opacity:1; fill:none\\\" points=\\\"1615.6,971.788 1615.6,1445.72 1640.32,1445.72 1640.32,971.788 1615.6,971.788 \\\"\\/>\\n<path clip-path=\\\"url(#clip032)\\\" d=\\\"M1640.32 1176.73 L1640.32 1445.72 L1665.04 1445.72 L1665.04 1176.73 L1640.32 1176.73 L1640.32 1176.73  Z\\\" fill=\\\"#009af9\\\" fill-rule=\\\"evenodd\\\" fill-opacity=\\\"1\\\"\\/>\\n<polyline clip-path=\\\"url(#clip032)\\\" style=\\\"stroke:#000000; stroke-linecap:round; stroke-linejoin:round; stroke-width:4; stroke-opacity:1; fill:none\\\" points=\\\"1640.32,1176.73 1640.32,1445.72 1665.04,1445.72 1665.04,1176.73 1640.32,1176.73 \\\"\\/>\\n<path clip-path=\\\"url(#clip032)\\\" d=\\\"M1665.04 1215.16 L1665.04 1445.72 L1689.76 1445.72 L1689.76 1215.16 L1665.04 1215.16 L1665.04 1215.16  Z\\\" fill=\\\"#009af9\\\" fill-rule=\\\"evenodd\\\" fill-opacity=\\\"1\\\"\\/>\\n<polyline clip-path=\\\"url(#clip032)\\\" style=\\\"stroke:#000000; stroke-linecap:round; stroke-linejoin:round; stroke-width:4; stroke-opacity:1; fill:none\\\" points=\\\"1665.04,1215.16 1665.04,1445.72 1689.76,1445.72 1689.76,1215.16 1665.04,1215.16 \\\"\\/>\\n<path clip-path=\\\"url(#clip032)\\\" d=\\\"M1689.76 1292.01 L1689.76 1445.72 L1714.48 1445.72 L1714.48 1292.01 L1689.76 1292.01 L1689.76 1292.01  Z\\\" fill=\\\"#009af9\\\" fill-rule=\\\"evenodd\\\" fill-opacity=\\\"1\\\"\\/>\\n<polyline clip-path=\\\"url(#clip032)\\\" style=\\\"stroke:#000000; stroke-linecap:round; stroke-linejoin:round; stroke-width:4; stroke-opacity:1; fill:none\\\" points=\\\"1689.76,1292.01 1689.76,1445.72 1714.48,1445.72 1714.48,1292.01 1689.76,1292.01 \\\"\\/>\\n<path clip-path=\\\"url(#clip032)\\\" d=\\\"M1714.48 1317.63 L1714.48 1445.72 L1739.2 1445.72 L1739.2 1317.63 L1714.48 1317.63 L1714.48 1317.63  Z\\\" fill=\\\"#009af9\\\" fill-rule=\\\"evenodd\\\" fill-opacity=\\\"1\\\"\\/>\\n<polyline clip-path=\\\"url(#clip032)\\\" style=\\\"stroke:#000000; stroke-linecap:round; stroke-linejoin:round; stroke-width:4; stroke-opacity:1; fill:none\\\" points=\\\"1714.48,1317.63 1714.48,1445.72 1739.2,1445.72 1739.2,1317.63 1714.48,1317.63 \\\"\\/>\\n<path clip-path=\\\"url(#clip032)\\\" d=\\\"M1739.2 1356.05 L1739.2 1445.72 L1763.92 1445.72 L1763.92 1356.05 L1739.2 1356.05 L1739.2 1356.05  Z\\\" fill=\\\"#009af9\\\" fill-rule=\\\"evenodd\\\" fill-opacity=\\\"1\\\"\\/>\\n<polyline clip-path=\\\"url(#clip032)\\\" style=\\\"stroke:#000000; stroke-linecap:round; stroke-linejoin:round; stroke-width:4; stroke-opacity:1; fill:none\\\" points=\\\"1739.2,1356.05 1739.2,1445.72 1763.92,1445.72 1763.92,1356.05 1739.2,1356.05 \\\"\\/>\\n<path clip-path=\\\"url(#clip032)\\\" d=\\\"M1763.92 1381.67 L1763.92 1445.72 L1788.64 1445.72 L1788.64 1381.67 L1763.92 1381.67 L1763.92 1381.67  Z\\\" fill=\\\"#009af9\\\" fill-rule=\\\"evenodd\\\" fill-opacity=\\\"1\\\"\\/>\\n<polyline clip-path=\\\"url(#clip032)\\\" style=\\\"stroke:#000000; stroke-linecap:round; stroke-linejoin:round; stroke-width:4; stroke-opacity:1; fill:none\\\" points=\\\"1763.92,1381.67 1763.92,1445.72 1788.64,1445.72 1788.64,1381.67 1763.92,1381.67 \\\"\\/>\\n<path clip-path=\\\"url(#clip032)\\\" d=\\\"M1788.64 1368.86 L1788.64 1445.72 L1813.36 1445.72 L1813.36 1368.86 L1788.64 1368.86 L1788.64 1368.86  Z\\\" fill=\\\"#009af9\\\" fill-rule=\\\"evenodd\\\" fill-opacity=\\\"1\\\"\\/>\\n<polyline clip-path=\\\"url(#clip032)\\\" style=\\\"stroke:#000000; stroke-linecap:round; stroke-linejoin:round; stroke-width:4; stroke-opacity:1; fill:none\\\" points=\\\"1788.64,1368.86 1788.64,1445.72 1813.36,1445.72 1813.36,1368.86 1788.64,1368.86 \\\"\\/>\\n<path clip-path=\\\"url(#clip032)\\\" d=\\\"M1813.36 1407.29 L1813.36 1445.72 L1838.08 1445.72 L1838.08 1407.29 L1813.36 1407.29 L1813.36 1407.29  Z\\\" fill=\\\"#009af9\\\" fill-rule=\\\"evenodd\\\" fill-opacity=\\\"1\\\"\\/>\\n<polyline clip-path=\\\"url(#clip032)\\\" style=\\\"stroke:#000000; stroke-linecap:round; stroke-linejoin:round; stroke-width:4; stroke-opacity:1; fill:none\\\" points=\\\"1813.36,1407.29 1813.36,1445.72 1838.08,1445.72 1838.08,1407.29 1813.36,1407.29 \\\"\\/>\\n<path clip-path=\\\"url(#clip032)\\\" d=\\\"M1838.08 1420.1 L1838.08 1445.72 L1862.8 1445.72 L1862.8 1420.1 L1838.08 1420.1 L1838.08 1420.1  Z\\\" fill=\\\"#009af9\\\" fill-rule=\\\"evenodd\\\" fill-opacity=\\\"1\\\"\\/>\\n<polyline clip-path=\\\"url(#clip032)\\\" style=\\\"stroke:#000000; stroke-linecap:round; stroke-linejoin:round; stroke-width:4; stroke-opacity:1; fill:none\\\" points=\\\"1838.08,1420.1 1838.08,1445.72 1862.8,1445.72 1862.8,1420.1 1838.08,1420.1 \\\"\\/>\\n<path clip-path=\\\"url(#clip032)\\\" d=\\\"M1862.8 1432.91 L1862.8 1445.72 L1887.52 1445.72 L1887.52 1432.91 L1862.8 1432.91 L1862.8 1432.91  Z\\\" fill=\\\"#009af9\\\" fill-rule=\\\"evenodd\\\" fill-opacity=\\\"1\\\"\\/>\\n<polyline clip-path=\\\"url(#clip032)\\\" style=\\\"stroke:#000000; stroke-linecap:round; stroke-linejoin:round; stroke-width:4; stroke-opacity:1; fill:none\\\" points=\\\"1862.8,1432.91 1862.8,1445.72 1887.52,1445.72 1887.52,1432.91 1862.8,1432.91 \\\"\\/>\\n<path clip-path=\\\"url(#clip032)\\\" d=\\\"M1887.52 1420.1 L1887.52 1445.72 L1912.24 1445.72 L1912.24 1420.1 L1887.52 1420.1 L1887.52 1420.1  Z\\\" fill=\\\"#009af9\\\" fill-rule=\\\"evenodd\\\" fill-opacity=\\\"1\\\"\\/>\\n<polyline clip-path=\\\"url(#clip032)\\\" style=\\\"stroke:#000000; stroke-linecap:round; stroke-linejoin:round; stroke-width:4; stroke-opacity:1; fill:none\\\" points=\\\"1887.52,1420.1 1887.52,1445.72 1912.24,1445.72 1912.24,1420.1 1887.52,1420.1 \\\"\\/>\\n<path clip-path=\\\"url(#clip032)\\\" d=\\\"M1912.24 1407.29 L1912.24 1445.72 L1936.96 1445.72 L1936.96 1407.29 L1912.24 1407.29 L1912.24 1407.29  Z\\\" fill=\\\"#009af9\\\" fill-rule=\\\"evenodd\\\" fill-opacity=\\\"1\\\"\\/>\\n<polyline clip-path=\\\"url(#clip032)\\\" style=\\\"stroke:#000000; stroke-linecap:round; stroke-linejoin:round; stroke-width:4; stroke-opacity:1; fill:none\\\" points=\\\"1912.24,1407.29 1912.24,1445.72 1936.96,1445.72 1936.96,1407.29 1912.24,1407.29 \\\"\\/>\\n<path clip-path=\\\"url(#clip032)\\\" d=\\\"M1936.96 1445.72 L1936.96 1445.72 L1961.68 1445.72 L1961.68 1445.72 L1936.96 1445.72 L1936.96 1445.72  Z\\\" fill=\\\"#009af9\\\" fill-rule=\\\"evenodd\\\" fill-opacity=\\\"1\\\"\\/>\\n<polyline clip-path=\\\"url(#clip032)\\\" style=\\\"stroke:#000000; stroke-linecap:round; stroke-linejoin:round; stroke-width:4; stroke-opacity:1; fill:none\\\" points=\\\"1936.96,1445.72 1936.96,1445.72 1961.68,1445.72 1936.96,1445.72 \\\"\\/>\\n<path clip-path=\\\"url(#clip032)\\\" d=\\\"M1961.68 1445.72 L1961.68 1445.72 L1986.4 1445.72 L1986.4 1445.72 L1961.68 1445.72 L1961.68 1445.72  Z\\\" fill=\\\"#009af9\\\" fill-rule=\\\"evenodd\\\" fill-opacity=\\\"1\\\"\\/>\\n<polyline clip-path=\\\"url(#clip032)\\\" style=\\\"stroke:#000000; stroke-linecap:round; stroke-linejoin:round; stroke-width:4; stroke-opacity:1; fill:none\\\" points=\\\"1961.68,1445.72 1961.68,1445.72 1986.4,1445.72 1961.68,1445.72 \\\"\\/>\\n<path clip-path=\\\"url(#clip032)\\\" d=\\\"M1986.4 1445.72 L1986.4 1445.72 L2011.12 1445.72 L2011.12 1445.72 L1986.4 1445.72 L1986.4 1445.72  Z\\\" fill=\\\"#009af9\\\" fill-rule=\\\"evenodd\\\" fill-opacity=\\\"1\\\"\\/>\\n<polyline clip-path=\\\"url(#clip032)\\\" style=\\\"stroke:#000000; stroke-linecap:round; stroke-linejoin:round; stroke-width:4; stroke-opacity:1; fill:none\\\" points=\\\"1986.4,1445.72 1986.4,1445.72 2011.12,1445.72 1986.4,1445.72 \\\"\\/>\\n<path clip-path=\\\"url(#clip032)\\\" d=\\\"M2011.12 1432.91 L2011.12 1445.72 L2035.84 1445.72 L2035.84 1432.91 L2011.12 1432.91 L2011.12 1432.91  Z\\\" fill=\\\"#009af9\\\" fill-rule=\\\"evenodd\\\" fill-opacity=\\\"1\\\"\\/>\\n<polyline clip-path=\\\"url(#clip032)\\\" style=\\\"stroke:#000000; stroke-linecap:round; stroke-linejoin:round; stroke-width:4; stroke-opacity:1; fill:none\\\" points=\\\"2011.12,1432.91 2011.12,1445.72 2035.84,1445.72 2035.84,1432.91 2011.12,1432.91 \\\"\\/>\\n<path clip-path=\\\"url(#clip032)\\\" d=\\\"M2035.84 1420.1 L2035.84 1445.72 L2060.56 1445.72 L2060.56 1420.1 L2035.84 1420.1 L2035.84 1420.1  Z\\\" fill=\\\"#009af9\\\" fill-rule=\\\"evenodd\\\" fill-opacity=\\\"1\\\"\\/>\\n<polyline clip-path=\\\"url(#clip032)\\\" style=\\\"stroke:#000000; stroke-linecap:round; stroke-linejoin:round; stroke-width:4; stroke-opacity:1; fill:none\\\" points=\\\"2035.84,1420.1 2035.84,1445.72 2060.56,1445.72 2060.56,1420.1 2035.84,1420.1 \\\"\\/>\\n<path clip-path=\\\"url(#clip032)\\\" d=\\\"M2060.56 1445.72 L2060.56 1445.72 L2085.28 1445.72 L2085.28 1445.72 L2060.56 1445.72 L2060.56 1445.72  Z\\\" fill=\\\"#009af9\\\" fill-rule=\\\"evenodd\\\" fill-opacity=\\\"1\\\"\\/>\\n<polyline clip-path=\\\"url(#clip032)\\\" style=\\\"stroke:#000000; stroke-linecap:round; stroke-linejoin:round; stroke-width:4; stroke-opacity:1; fill:none\\\" points=\\\"2060.56,1445.72 2060.56,1445.72 2085.28,1445.72 2060.56,1445.72 \\\"\\/>\\n<path clip-path=\\\"url(#clip032)\\\" d=\\\"M2085.28 1445.72 L2085.28 1445.72 L2110 1445.72 L2110 1445.72 L2085.28 1445.72 L2085.28 1445.72  Z\\\" fill=\\\"#009af9\\\" fill-rule=\\\"evenodd\\\" fill-opacity=\\\"1\\\"\\/>\\n<polyline clip-path=\\\"url(#clip032)\\\" style=\\\"stroke:#000000; stroke-linecap:round; stroke-linejoin:round; stroke-width:4; stroke-opacity:1; fill:none\\\" points=\\\"2085.28,1445.72 2085.28,1445.72 2110,1445.72 2085.28,1445.72 \\\"\\/>\\n<path clip-path=\\\"url(#clip032)\\\" d=\\\"M2110 1445.72 L2110 1445.72 L2134.72 1445.72 L2134.72 1445.72 L2110 1445.72 L2110 1445.72  Z\\\" fill=\\\"#009af9\\\" fill-rule=\\\"evenodd\\\" fill-opacity=\\\"1\\\"\\/>\\n<polyline clip-path=\\\"url(#clip032)\\\" style=\\\"stroke:#000000; stroke-linecap:round; stroke-linejoin:round; stroke-width:4; stroke-opacity:1; fill:none\\\" points=\\\"2110,1445.72 2110,1445.72 2134.72,1445.72 2110,1445.72 \\\"\\/>\\n<path clip-path=\\\"url(#clip032)\\\" d=\\\"M2134.72 1445.72 L2134.72 1445.72 L2159.44 1445.72 L2159.44 1445.72 L2134.72 1445.72 L2134.72 1445.72  Z\\\" fill=\\\"#009af9\\\" fill-rule=\\\"evenodd\\\" fill-opacity=\\\"1\\\"\\/>\\n<polyline clip-path=\\\"url(#clip032)\\\" style=\\\"stroke:#000000; stroke-linecap:round; stroke-linejoin:round; stroke-width:4; stroke-opacity:1; fill:none\\\" points=\\\"2134.72,1445.72 2134.72,1445.72 2159.44,1445.72 2134.72,1445.72 \\\"\\/>\\n<path clip-path=\\\"url(#clip032)\\\" d=\\\"M2159.44 1445.72 L2159.44 1445.72 L2184.16 1445.72 L2184.16 1445.72 L2159.44 1445.72 L2159.44 1445.72  Z\\\" fill=\\\"#009af9\\\" fill-rule=\\\"evenodd\\\" fill-opacity=\\\"1\\\"\\/>\\n<polyline clip-path=\\\"url(#clip032)\\\" style=\\\"stroke:#000000; stroke-linecap:round; stroke-linejoin:round; stroke-width:4; stroke-opacity:1; fill:none\\\" points=\\\"2159.44,1445.72 2159.44,1445.72 2184.16,1445.72 2159.44,1445.72 \\\"\\/>\\n<path clip-path=\\\"url(#clip032)\\\" d=\\\"M2184.16 1445.72 L2184.16 1445.72 L2208.88 1445.72 L2208.88 1445.72 L2184.16 1445.72 L2184.16 1445.72  Z\\\" fill=\\\"#009af9\\\" fill-rule=\\\"evenodd\\\" fill-opacity=\\\"1\\\"\\/>\\n<polyline clip-path=\\\"url(#clip032)\\\" style=\\\"stroke:#000000; stroke-linecap:round; stroke-linejoin:round; stroke-width:4; stroke-opacity:1; fill:none\\\" points=\\\"2184.16,1445.72 2184.16,1445.72 2208.88,1445.72 2184.16,1445.72 \\\"\\/>\\n<path clip-path=\\\"url(#clip032)\\\" d=\\\"M2208.88 1432.91 L2208.88 1445.72 L2233.6 1445.72 L2233.6 1432.91 L2208.88 1432.91 L2208.88 1432.91  Z\\\" fill=\\\"#009af9\\\" fill-rule=\\\"evenodd\\\" fill-opacity=\\\"1\\\"\\/>\\n<polyline clip-path=\\\"url(#clip032)\\\" style=\\\"stroke:#000000; stroke-linecap:round; stroke-linejoin:round; stroke-width:4; stroke-opacity:1; fill:none\\\" points=\\\"2208.88,1432.91 2208.88,1445.72 2233.6,1445.72 2233.6,1432.91 2208.88,1432.91 \\\"\\/>\\n<circle clip-path=\\\"url(#clip032)\\\" style=\\\"fill:#009af9; stroke:none; fill-opacity:0\\\" cx=\\\"317.794\\\" cy=\\\"1432.91\\\" r=\\\"2\\\"\\/>\\n<circle clip-path=\\\"url(#clip032)\\\" style=\\\"fill:#009af9; stroke:none; fill-opacity:0\\\" cx=\\\"342.514\\\" cy=\\\"1445.72\\\" r=\\\"2\\\"\\/>\\n<circle clip-path=\\\"url(#clip032)\\\" style=\\\"fill:#009af9; stroke:none; fill-opacity:0\\\" cx=\\\"367.234\\\" cy=\\\"1445.72\\\" r=\\\"2\\\"\\/>\\n<circle clip-path=\\\"url(#clip032)\\\" style=\\\"fill:#009af9; stroke:none; fill-opacity:0\\\" cx=\\\"391.954\\\" cy=\\\"1445.72\\\" r=\\\"2\\\"\\/>\\n<circle clip-path=\\\"url(#clip032)\\\" style=\\\"fill:#009af9; stroke:none; fill-opacity:0\\\" cx=\\\"416.674\\\" cy=\\\"1432.91\\\" r=\\\"2\\\"\\/>\\n<circle clip-path=\\\"url(#clip032)\\\" style=\\\"fill:#009af9; stroke:none; fill-opacity:0\\\" cx=\\\"441.394\\\" cy=\\\"1445.72\\\" r=\\\"2\\\"\\/>\\n<circle clip-path=\\\"url(#clip032)\\\" style=\\\"fill:#009af9; stroke:none; fill-opacity:0\\\" cx=\\\"466.114\\\" cy=\\\"1420.1\\\" r=\\\"2\\\"\\/>\\n<circle clip-path=\\\"url(#clip032)\\\" style=\\\"fill:#009af9; stroke:none; fill-opacity:0\\\" cx=\\\"490.834\\\" cy=\\\"1445.72\\\" r=\\\"2\\\"\\/>\\n<circle clip-path=\\\"url(#clip032)\\\" style=\\\"fill:#009af9; stroke:none; fill-opacity:0\\\" cx=\\\"515.554\\\" cy=\\\"1432.91\\\" r=\\\"2\\\"\\/>\\n<circle clip-path=\\\"url(#clip032)\\\" style=\\\"fill:#009af9; stroke:none; fill-opacity:0\\\" cx=\\\"540.275\\\" cy=\\\"1407.29\\\" r=\\\"2\\\"\\/>\\n<circle clip-path=\\\"url(#clip032)\\\" style=\\\"fill:#009af9; stroke:none; fill-opacity:0\\\" cx=\\\"564.995\\\" cy=\\\"1407.29\\\" r=\\\"2\\\"\\/>\\n<circle clip-path=\\\"url(#clip032)\\\" style=\\\"fill:#009af9; stroke:none; fill-opacity:0\\\" cx=\\\"589.715\\\" cy=\\\"1420.1\\\" r=\\\"2\\\"\\/>\\n<circle clip-path=\\\"url(#clip032)\\\" style=\\\"fill:#009af9; stroke:none; fill-opacity:0\\\" cx=\\\"614.435\\\" cy=\\\"1330.44\\\" r=\\\"2\\\"\\/>\\n<circle clip-path=\\\"url(#clip032)\\\" style=\\\"fill:#009af9; stroke:none; fill-opacity:0\\\" cx=\\\"639.155\\\" cy=\\\"1407.29\\\" r=\\\"2\\\"\\/>\\n<circle clip-path=\\\"url(#clip032)\\\" style=\\\"fill:#009af9; stroke:none; fill-opacity:0\\\" cx=\\\"663.875\\\" cy=\\\"1330.44\\\" r=\\\"2\\\"\\/>\\n<circle clip-path=\\\"url(#clip032)\\\" style=\\\"fill:#009af9; stroke:none; fill-opacity:0\\\" cx=\\\"688.595\\\" cy=\\\"1343.24\\\" r=\\\"2\\\"\\/>\\n<circle clip-path=\\\"url(#clip032)\\\" style=\\\"fill:#009af9; stroke:none; fill-opacity:0\\\" cx=\\\"713.315\\\" cy=\\\"1279.2\\\" r=\\\"2\\\"\\/>\\n<circle clip-path=\\\"url(#clip032)\\\" style=\\\"fill:#009af9; stroke:none; fill-opacity:0\\\" cx=\\\"738.035\\\" cy=\\\"1292.01\\\" r=\\\"2\\\"\\/>\\n<circle clip-path=\\\"url(#clip032)\\\" style=\\\"fill:#009af9; stroke:none; fill-opacity:0\\\" cx=\\\"762.755\\\" cy=\\\"1240.77\\\" r=\\\"2\\\"\\/>\\n<circle clip-path=\\\"url(#clip032)\\\" style=\\\"fill:#009af9; stroke:none; fill-opacity:0\\\" cx=\\\"787.475\\\" cy=\\\"1125.49\\\" r=\\\"2\\\"\\/>\\n<circle clip-path=\\\"url(#clip032)\\\" style=\\\"fill:#009af9; stroke:none; fill-opacity:0\\\" cx=\\\"812.195\\\" cy=\\\"1253.58\\\" r=\\\"2\\\"\\/>\\n<circle clip-path=\\\"url(#clip032)\\\" style=\\\"fill:#009af9; stroke:none; fill-opacity:0\\\" cx=\\\"836.915\\\" cy=\\\"984.597\\\" r=\\\"2\\\"\\/>\\n<circle clip-path=\\\"url(#clip032)\\\" style=\\\"fill:#009af9; stroke:none; fill-opacity:0\\\" cx=\\\"861.635\\\" cy=\\\"882.126\\\" r=\\\"2\\\"\\/>\\n<circle clip-path=\\\"url(#clip032)\\\" style=\\\"fill:#009af9; stroke:none; fill-opacity:0\\\" cx=\\\"886.355\\\" cy=\\\"1010.21\\\" r=\\\"2\\\"\\/>\\n<circle clip-path=\\\"url(#clip032)\\\" style=\\\"fill:#009af9; stroke:none; fill-opacity:0\\\" cx=\\\"911.075\\\" cy=\\\"766.846\\\" r=\\\"2\\\"\\/>\\n<circle clip-path=\\\"url(#clip032)\\\" style=\\\"fill:#009af9; stroke:none; fill-opacity:0\\\" cx=\\\"935.795\\\" cy=\\\"638.757\\\" r=\\\"2\\\"\\/>\\n<circle clip-path=\\\"url(#clip032)\\\" style=\\\"fill:#009af9; stroke:none; fill-opacity:0\\\" cx=\\\"960.515\\\" cy=\\\"766.846\\\" r=\\\"2\\\"\\/>\\n<circle clip-path=\\\"url(#clip032)\\\" style=\\\"fill:#009af9; stroke:none; fill-opacity:0\\\" cx=\\\"985.235\\\" cy=\\\"638.757\\\" r=\\\"2\\\"\\/>\\n<circle clip-path=\\\"url(#clip032)\\\" style=\\\"fill:#009af9; stroke:none; fill-opacity:0\\\" cx=\\\"1009.95\\\" cy=\\\"638.757\\\" r=\\\"2\\\"\\/>\\n<circle clip-path=\\\"url(#clip032)\\\" style=\\\"fill:#009af9; stroke:none; fill-opacity:0\\\" cx=\\\"1034.67\\\" cy=\\\"369.771\\\" r=\\\"2\\\"\\/>\\n<circle clip-path=\\\"url(#clip032)\\\" style=\\\"fill:#009af9; stroke:none; fill-opacity:0\\\" cx=\\\"1059.39\\\" cy=\\\"549.095\\\" r=\\\"2\\\"\\/>\\n<circle clip-path=\\\"url(#clip032)\\\" style=\\\"fill:#009af9; stroke:none; fill-opacity:0\\\" cx=\\\"1084.11\\\" cy=\\\"331.345\\\" r=\\\"2\\\"\\/>\\n<circle clip-path=\\\"url(#clip032)\\\" style=\\\"fill:#009af9; stroke:none; fill-opacity:0\\\" cx=\\\"1108.83\\\" cy=\\\"395.389\\\" r=\\\"2\\\"\\/>\\n<circle clip-path=\\\"url(#clip032)\\\" style=\\\"fill:#009af9; stroke:none; fill-opacity:0\\\" cx=\\\"1133.55\\\" cy=\\\"139.212\\\" r=\\\"2\\\"\\/>\\n<circle clip-path=\\\"url(#clip032)\\\" style=\\\"fill:#009af9; stroke:none; fill-opacity:0\\\" cx=\\\"1158.27\\\" cy=\\\"152.021\\\" r=\\\"2\\\"\\/>\\n<circle clip-path=\\\"url(#clip032)\\\" style=\\\"fill:#009af9; stroke:none; fill-opacity:0\\\" cx=\\\"1182.99\\\" cy=\\\"203.256\\\" r=\\\"2\\\"\\/>\\n<circle clip-path=\\\"url(#clip032)\\\" style=\\\"fill:#009af9; stroke:none; fill-opacity:0\\\" cx=\\\"1207.71\\\" cy=\\\"177.638\\\" r=\\\"2\\\"\\/>\\n<circle clip-path=\\\"url(#clip032)\\\" style=\\\"fill:#009af9; stroke:none; fill-opacity:0\\\" cx=\\\"1232.43\\\" cy=\\\"216.065\\\" r=\\\"2\\\"\\/>\\n<circle clip-path=\\\"url(#clip032)\\\" style=\\\"fill:#009af9; stroke:none; fill-opacity:0\\\" cx=\\\"1257.15\\\" cy=\\\"87.9763\\\" r=\\\"2\\\"\\/>\\n<circle clip-path=\\\"url(#clip032)\\\" style=\\\"fill:#009af9; stroke:none; fill-opacity:0\\\" cx=\\\"1281.87\\\" cy=\\\"356.962\\\" r=\\\"2\\\"\\/>\\n<circle clip-path=\\\"url(#clip032)\\\" style=\\\"fill:#009af9; stroke:none; fill-opacity:0\\\" cx=\\\"1306.59\\\" cy=\\\"292.918\\\" r=\\\"2\\\"\\/>\\n<circle clip-path=\\\"url(#clip032)\\\" style=\\\"fill:#009af9; stroke:none; fill-opacity:0\\\" cx=\\\"1331.31\\\" cy=\\\"216.065\\\" r=\\\"2\\\"\\/>\\n<circle clip-path=\\\"url(#clip032)\\\" style=\\\"fill:#009af9; stroke:none; fill-opacity:0\\\" cx=\\\"1356.04\\\" cy=\\\"254.491\\\" r=\\\"2\\\"\\/>\\n<circle clip-path=\\\"url(#clip032)\\\" style=\\\"fill:#009af9; stroke:none; fill-opacity:0\\\" cx=\\\"1380.76\\\" cy=\\\"318.536\\\" r=\\\"2\\\"\\/>\\n<circle clip-path=\\\"url(#clip032)\\\" style=\\\"fill:#009af9; stroke:none; fill-opacity:0\\\" cx=\\\"1405.48\\\" cy=\\\"561.904\\\" r=\\\"2\\\"\\/>\\n<circle clip-path=\\\"url(#clip032)\\\" style=\\\"fill:#009af9; stroke:none; fill-opacity:0\\\" cx=\\\"1430.2\\\" cy=\\\"292.918\\\" r=\\\"2\\\"\\/>\\n<circle clip-path=\\\"url(#clip032)\\\" style=\\\"fill:#009af9; stroke:none; fill-opacity:0\\\" cx=\\\"1454.92\\\" cy=\\\"651.566\\\" r=\\\"2\\\"\\/>\\n<circle clip-path=\\\"url(#clip032)\\\" style=\\\"fill:#009af9; stroke:none; fill-opacity:0\\\" cx=\\\"1479.64\\\" cy=\\\"907.743\\\" r=\\\"2\\\"\\/>\\n<circle clip-path=\\\"url(#clip032)\\\" style=\\\"fill:#009af9; stroke:none; fill-opacity:0\\\" cx=\\\"1504.36\\\" cy=\\\"882.126\\\" r=\\\"2\\\"\\/>\\n<circle clip-path=\\\"url(#clip032)\\\" style=\\\"fill:#009af9; stroke:none; fill-opacity:0\\\" cx=\\\"1529.08\\\" cy=\\\"843.699\\\" r=\\\"2\\\"\\/>\\n<circle clip-path=\\\"url(#clip032)\\\" style=\\\"fill:#009af9; stroke:none; fill-opacity:0\\\" cx=\\\"1553.8\\\" cy=\\\"830.89\\\" r=\\\"2\\\"\\/>\\n<circle clip-path=\\\"url(#clip032)\\\" style=\\\"fill:#009af9; stroke:none; fill-opacity:0\\\" cx=\\\"1578.52\\\" cy=\\\"1048.64\\\" r=\\\"2\\\"\\/>\\n<circle clip-path=\\\"url(#clip032)\\\" style=\\\"fill:#009af9; stroke:none; fill-opacity:0\\\" cx=\\\"1603.24\\\" cy=\\\"1087.07\\\" r=\\\"2\\\"\\/>\\n<circle clip-path=\\\"url(#clip032)\\\" style=\\\"fill:#009af9; stroke:none; fill-opacity:0\\\" cx=\\\"1627.96\\\" cy=\\\"971.788\\\" r=\\\"2\\\"\\/>\\n<circle clip-path=\\\"url(#clip032)\\\" style=\\\"fill:#009af9; stroke:none; fill-opacity:0\\\" cx=\\\"1652.68\\\" cy=\\\"1176.73\\\" r=\\\"2\\\"\\/>\\n<circle clip-path=\\\"url(#clip032)\\\" style=\\\"fill:#009af9; stroke:none; fill-opacity:0\\\" cx=\\\"1677.4\\\" cy=\\\"1215.16\\\" r=\\\"2\\\"\\/>\\n<circle clip-path=\\\"url(#clip032)\\\" style=\\\"fill:#009af9; stroke:none; fill-opacity:0\\\" cx=\\\"1702.12\\\" cy=\\\"1292.01\\\" r=\\\"2\\\"\\/>\\n<circle clip-path=\\\"url(#clip032)\\\" style=\\\"fill:#009af9; stroke:none; fill-opacity:0\\\" cx=\\\"1726.84\\\" cy=\\\"1317.63\\\" r=\\\"2\\\"\\/>\\n<circle clip-path=\\\"url(#clip032)\\\" style=\\\"fill:#009af9; stroke:none; fill-opacity:0\\\" cx=\\\"1751.56\\\" cy=\\\"1356.05\\\" r=\\\"2\\\"\\/>\\n<circle clip-path=\\\"url(#clip032)\\\" style=\\\"fill:#009af9; stroke:none; fill-opacity:0\\\" cx=\\\"1776.28\\\" cy=\\\"1381.67\\\" r=\\\"2\\\"\\/>\\n<circle clip-path=\\\"url(#clip032)\\\" style=\\\"fill:#009af9; stroke:none; fill-opacity:0\\\" cx=\\\"1801\\\" cy=\\\"1368.86\\\" r=\\\"2\\\"\\/>\\n<circle clip-path=\\\"url(#clip032)\\\" style=\\\"fill:#009af9; stroke:none; fill-opacity:0\\\" cx=\\\"1825.72\\\" cy=\\\"1407.29\\\" r=\\\"2\\\"\\/>\\n<circle clip-path=\\\"url(#clip032)\\\" style=\\\"fill:#009af9; stroke:none; fill-opacity:0\\\" cx=\\\"1850.44\\\" cy=\\\"1420.1\\\" r=\\\"2\\\"\\/>\\n<circle clip-path=\\\"url(#clip032)\\\" style=\\\"fill:#009af9; stroke:none; fill-opacity:0\\\" cx=\\\"1875.16\\\" cy=\\\"1432.91\\\" r=\\\"2\\\"\\/>\\n<circle clip-path=\\\"url(#clip032)\\\" style=\\\"fill:#009af9; stroke:none; fill-opacity:0\\\" cx=\\\"1899.88\\\" cy=\\\"1420.1\\\" r=\\\"2\\\"\\/>\\n<circle clip-path=\\\"url(#clip032)\\\" style=\\\"fill:#009af9; stroke:none; fill-opacity:0\\\" cx=\\\"1924.6\\\" cy=\\\"1407.29\\\" r=\\\"2\\\"\\/>\\n<circle clip-path=\\\"url(#clip032)\\\" style=\\\"fill:#009af9; stroke:none; fill-opacity:0\\\" cx=\\\"1949.32\\\" cy=\\\"1445.72\\\" r=\\\"2\\\"\\/>\\n<circle clip-path=\\\"url(#clip032)\\\" style=\\\"fill:#009af9; stroke:none; fill-opacity:0\\\" cx=\\\"1974.04\\\" cy=\\\"1445.72\\\" r=\\\"2\\\"\\/>\\n<circle clip-path=\\\"url(#clip032)\\\" style=\\\"fill:#009af9; stroke:none; fill-opacity:0\\\" cx=\\\"1998.76\\\" cy=\\\"1445.72\\\" r=\\\"2\\\"\\/>\\n<circle clip-path=\\\"url(#clip032)\\\" style=\\\"fill:#009af9; stroke:none; fill-opacity:0\\\" cx=\\\"2023.48\\\" cy=\\\"1432.91\\\" r=\\\"2\\\"\\/>\\n<circle clip-path=\\\"url(#clip032)\\\" style=\\\"fill:#009af9; stroke:none; fill-opacity:0\\\" cx=\\\"2048.2\\\" cy=\\\"1420.1\\\" r=\\\"2\\\"\\/>\\n<circle clip-path=\\\"url(#clip032)\\\" style=\\\"fill:#009af9; stroke:none; fill-opacity:0\\\" cx=\\\"2072.92\\\" cy=\\\"1445.72\\\" r=\\\"2\\\"\\/>\\n<circle clip-path=\\\"url(#clip032)\\\" style=\\\"fill:#009af9; stroke:none; fill-opacity:0\\\" cx=\\\"2097.64\\\" cy=\\\"1445.72\\\" r=\\\"2\\\"\\/>\\n<circle clip-path=\\\"url(#clip032)\\\" style=\\\"fill:#009af9; stroke:none; fill-opacity:0\\\" cx=\\\"2122.36\\\" cy=\\\"1445.72\\\" r=\\\"2\\\"\\/>\\n<circle clip-path=\\\"url(#clip032)\\\" style=\\\"fill:#009af9; stroke:none; fill-opacity:0\\\" cx=\\\"2147.08\\\" cy=\\\"1445.72\\\" r=\\\"2\\\"\\/>\\n<circle clip-path=\\\"url(#clip032)\\\" style=\\\"fill:#009af9; stroke:none; fill-opacity:0\\\" cx=\\\"2171.8\\\" cy=\\\"1445.72\\\" r=\\\"2\\\"\\/>\\n<circle clip-path=\\\"url(#clip032)\\\" style=\\\"fill:#009af9; stroke:none; fill-opacity:0\\\" cx=\\\"2196.52\\\" cy=\\\"1445.72\\\" r=\\\"2\\\"\\/>\\n<circle clip-path=\\\"url(#clip032)\\\" style=\\\"fill:#009af9; stroke:none; fill-opacity:0\\\" cx=\\\"2221.24\\\" cy=\\\"1432.91\\\" r=\\\"2\\\"\\/>\\n<polyline clip-path=\\\"url(#clip032)\\\" style=\\\"stroke:#e26f46; stroke-linecap:round; stroke-linejoin:round; stroke-width:4; stroke-opacity:1; fill:none\\\" points=\\\"300.733,1444.45 306.719,1444.33 312.704,1444.2 368.048,1442.35 423.392,1438.62 456.651,1434.87 489.911,1429.43 518.031,1423.07 546.151,1414.64 561.424,1409.01 576.698,1402.52 591.971,1395.08 607.244,1386.59 621.325,1377.73 635.406,1367.8 649.486,1356.71 663.567,1344.36 678.663,1329.64 693.759,1313.28 708.855,1295.17 723.95,1275.22 741.44,1249.7 758.931,1221.49 776.421,1190.49 793.911,1156.66 809.454,1124.2 824.997,1089.51 840.54,1052.63 856.083,1013.64 869.713,977.812 883.343,940.549 896.973,901.973 910.603,862.229 940.323,772.336 970.044,679.746 999.941,586.382 1029.84,495.637 1038.1,471.423 1046.37,447.707 1054.63,424.556 1062.89,402.035 1071.16,380.208 1079.42,359.14 1087.68,338.893 1095.95,319.528 1103.81,301.976 1111.67,285.324 1119.54,269.621 1127.4,254.91 1135.26,241.235 1143.13,228.635 1150.99,217.146 1158.85,206.803 1167.03,197.296 1175.2,189.092 1183.38,182.216 1191.55,176.692 1199.73,172.536 1207.9,169.764 1216.08,168.383 1224.25,168.399 1231.14,169.495 1238.02,171.578 1244.9,174.643 1251.78,178.683 1258.66,183.688 1265.55,189.648 1272.43,196.548 1279.31,204.373 1287.71,215.153 1296.12,227.248 1304.52,240.618 1312.92,255.217 1321.32,270.997 1329.72,287.906 1338.13,305.889 1346.53,324.888 1361.92,362.133 1377.32,402.194 1385.01,423.154 1392.71,444.664 1400.41,466.671 1408.1,489.122 1436.54,575.039 1464.97,663.657 1493.78,753.631 1522.58,841.513 1538.72,889.099 1554.86,935.118 1571,979.324 1587.14,1021.52 1601.77,1057.87 1616.39,1092.35 1631.02,1124.89 1645.64,1155.45 1662.39,1188 1679.13,1217.94 1695.88,1245.32 1712.63,1270.22 1728.13,1291.14 1743.64,1310.11 1759.14,1327.21 1774.65,1342.56 1789.93,1356.09 1805.22,1368.15 1820.5,1378.84 1835.79,1388.28 1850.63,1396.34 1865.47,1403.43 1880.31,1409.63 1895.15,1415.03 1925.58,1423.96 1956.01,1430.52 1989.35,1435.64 2022.69,1439.15 2071.12,1442.31 2119.55,1444.01 2129.48,1444.24 2139.42,1444.45 \\\"\\/>\\n<path clip-path=\\\"url(#clip030)\\\" d=\\\"M2011.46 250.738 L2280.54 250.738 L2280.54 95.2176 L2011.46 95.2176  Z\\\" fill=\\\"#ffffff\\\" fill-rule=\\\"evenodd\\\" fill-opacity=\\\"1\\\"\\/>\\n<polyline clip-path=\\\"url(#clip030)\\\" style=\\\"stroke:#000000; stroke-linecap:round; stroke-linejoin:round; stroke-width:4; stroke-opacity:1; fill:none\\\" points=\\\"2011.46,250.738 2280.54,250.738 2280.54,95.2176 2011.46,95.2176 2011.46,250.738 \\\"\\/>\\n<path clip-path=\\\"url(#clip030)\\\" d=\\\"M2035.53 167.794 L2179.97 167.794 L2179.97 126.322 L2035.53 126.322 L2035.53 167.794  Z\\\" fill=\\\"#009af9\\\" fill-rule=\\\"evenodd\\\" fill-opacity=\\\"1\\\"\\/>\\n<polyline clip-path=\\\"url(#clip030)\\\" style=\\\"stroke:#000000; stroke-linecap:round; stroke-linejoin:round; stroke-width:4; stroke-opacity:1; fill:none\\\" points=\\\"2035.53,167.794 2179.97,167.794 2179.97,126.322 2035.53,126.322 2035.53,167.794 \\\"\\/>\\n<path clip-path=\\\"url(#clip030)\\\" d=\\\"M2217.88 166.745 Q2216.07 171.375 2214.36 172.787 Q2212.65 174.199 2209.78 174.199 L2206.38 174.199 L2206.38 170.634 L2208.88 170.634 Q2210.63 170.634 2211.61 169.8 Q2212.58 168.967 2213.76 165.865 L2214.52 163.921 L2204.04 138.412 L2208.55 138.412 L2216.65 158.689 L2224.76 138.412 L2229.27 138.412 L2217.88 166.745 Z\\\" fill=\\\"#000000\\\" fill-rule=\\\"evenodd\\\" fill-opacity=\\\"1\\\" \\/><path clip-path=\\\"url(#clip030)\\\" d=\\\"M2236.56 160.402 L2244.2 160.402 L2244.2 134.037 L2235.89 135.703 L2235.89 131.444 L2244.15 129.778 L2248.83 129.778 L2248.83 160.402 L2256.47 160.402 L2256.47 164.338 L2236.56 164.338 L2236.56 160.402 Z\\\" fill=\\\"#000000\\\" fill-rule=\\\"evenodd\\\" fill-opacity=\\\"1\\\" \\/><polyline clip-path=\\\"url(#clip030)\\\" style=\\\"stroke:#e26f46; stroke-linecap:round; stroke-linejoin:round; stroke-width:4; stroke-opacity:1; fill:none\\\" points=\\\"2035.53,198.898 2179.97,198.898 \\\"\\/>\\n<path clip-path=\\\"url(#clip030)\\\" d=\\\"M2217.88 218.585 Q2216.07 223.215 2214.36 224.627 Q2212.65 226.039 2209.78 226.039 L2206.38 226.039 L2206.38 222.474 L2208.88 222.474 Q2210.63 222.474 2211.61 221.64 Q2212.58 220.807 2213.76 217.705 L2214.52 215.761 L2204.04 190.252 L2208.55 190.252 L2216.65 210.529 L2224.76 190.252 L2229.27 190.252 L2217.88 218.585 Z\\\" fill=\\\"#000000\\\" fill-rule=\\\"evenodd\\\" fill-opacity=\\\"1\\\" \\/><path clip-path=\\\"url(#clip030)\\\" d=\\\"M2239.78 212.242 L2256.1 212.242 L2256.1 216.178 L2234.15 216.178 L2234.15 212.242 Q2236.82 209.488 2241.4 204.858 Q2246 200.205 2247.19 198.863 Q2249.43 196.34 2250.31 194.604 Q2251.21 192.844 2251.21 191.155 Q2251.21 188.4 2249.27 186.664 Q2247.35 184.928 2244.25 184.928 Q2242.05 184.928 2239.59 185.692 Q2237.16 186.455 2234.38 188.006 L2234.38 183.284 Q2237.21 182.15 2239.66 181.571 Q2242.12 180.993 2244.15 180.993 Q2249.52 180.993 2252.72 183.678 Q2255.91 186.363 2255.91 190.854 Q2255.91 192.983 2255.1 194.905 Q2254.32 196.803 2252.21 199.395 Q2251.63 200.067 2248.53 203.284 Q2245.43 206.479 2239.78 212.242 Z\\\" fill=\\\"#000000\\\" fill-rule=\\\"evenodd\\\" fill-opacity=\\\"1\\\" \\/><\\/svg>\\n\"},\"nodeType\":\"DOM\",\"type\":\"node\",\"instanceArgs\":{\"namespace\":\"html\",\"tag\":\"div\"},\"children\":[]}]}}}},\"children\":[{\"props\":{},\"nodeType\":\"ObservableNode\",\"type\":\"node\",\"instanceArgs\":{\"id\":\"10856859476677294397\",\"name\":\"obs-node\"},\"children\":[]}]}]},\n",
       "        window,\n",
       "    );\n",
       "    })()\n",
       "    </script>\n",
       "</div>\n"
      ],
      "text/plain": [
       "Node{WebIO.DOM}(WebIO.DOM(:html, :div), Any[Node{WebIO.DOM}(WebIO.DOM(:html, :div), Any[Scope(Node{WebIO.DOM}(WebIO.DOM(:html, :div), Any[Node{WebIO.DOM}(WebIO.DOM(:html, :div), Any[Node{WebIO.DOM}(WebIO.DOM(:html, :label), Any[\"N\"], Dict{Symbol, Any}(:className => \"interact \", :style => Dict{Any, Any}(:padding => \"5px 10px 0px 10px\")))], Dict{Symbol, Any}(:className => \"interact-flex-row-left\")), Node{WebIO.DOM}(WebIO.DOM(:html, :div), Any[Node{WebIO.DOM}(WebIO.DOM(:html, :input), Any[], Dict{Symbol, Any}(:max => 50, :min => 1, :attributes => Dict{Any, Any}(:type => \"range\", Symbol(\"data-bind\") => \"numericValue: index, valueUpdate: 'input', event: {change: function (){this.changes(this.changes()+1)}}\", \"orient\" => \"horizontal\"), :step => 1, :className => \"slider slider is-fullwidth\", :style => Dict{Any, Any}()))], Dict{Symbol, Any}(:className => \"interact-flex-row-center\")), Node{WebIO.DOM}(WebIO.DOM(:html, :div), Any[Node{WebIO.DOM}(WebIO.DOM(:html, :p), Any[], Dict{Symbol, Any}(:attributes => Dict(\"data-bind\" => \"text: formatted_val\")))], Dict{Symbol, Any}(:className => \"interact-flex-row-right\"))], Dict{Symbol, Any}(:className => \"interact-flex-row interact-widget\")), Dict{String, Tuple{AbstractObservable, Union{Nothing, Bool}}}(\"changes\" => (Observable(0), nothing), \"index\" => (Observable{Any}(25), nothing)), Set{String}(), nothing, Asset[Asset(\"js\", \"knockout\", \"/Users/weishangjie/.julia/packages/Knockout/HReiN/src/../assets/knockout.js\"), Asset(\"js\", \"knockout_punches\", \"/Users/weishangjie/.julia/packages/Knockout/HReiN/src/../assets/knockout_punches.js\"), Asset(\"js\", nothing, \"/Users/weishangjie/.julia/packages/InteractBase/Qhvxg/src/../assets/all.js\"), Asset(\"css\", nothing, \"/Users/weishangjie/.julia/packages/InteractBase/Qhvxg/src/../assets/style.css\"), Asset(\"css\", nothing, \"/Users/weishangjie/.julia/packages/Interact/PENUy/src/../assets/bulma_confined.min.css\")], Dict{Any, Any}(\"changes\" => Any[WebIO.JSString(\"(function (val){return (val!=this.model[\\\"changes\\\"]()) ? (this.valueFromJulia[\\\"changes\\\"]=true, this.model[\\\"changes\\\"](val)) : undefined})\")], \"index\" => Any[WebIO.JSString(\"(function (val){return (val!=this.model[\\\"index\\\"]()) ? (this.valueFromJulia[\\\"index\\\"]=true, this.model[\\\"index\\\"](val)) : undefined})\")]), WebIO.ConnectionPool(Channel{Any}(32), Set{AbstractConnection}(), Condition(Base.InvasiveLinkedList{Task}(Task (runnable) @0x00000001749215a0, Task (runnable) @0x00000001749215a0), Base.AlwaysLockedST(1))), WebIO.JSString[WebIO.JSString(\"function () {\\n    var handler = (function (ko, koPunches) {\\n    ko.punches.enableAll();\\n    ko.bindingHandlers.numericValue = {\\n        init: function(element, valueAccessor, allBindings, data, context) {\\n            var stringified = ko.observable(ko.unwrap(valueAccessor()));\\n            stringified.subscribe(function(value) {\\n                var val = parseFloat(value);\\n                if (!isNaN(val)) {\\n                    valueAccessor()(val);\\n                }\\n            });\\n            valueAccessor().subscribe(function(value) {\\n                var str = JSON.stringify(value);\\n                if ((str == \\\"0\\\") && ([\\\"-0\\\", \\\"-0.\\\"].indexOf(stringified()) >= 0))\\n                     return;\\n                 if ([\\\"null\\\", \\\"\\\"].indexOf(str) >= 0)\\n                     return;\\n                stringified(str);\\n            });\\n            ko.applyBindingsToNode(\\n                element,\\n                {\\n                    value: stringified,\\n                    valueUpdate: allBindings.get('valueUpdate'),\\n                },\\n                context,\\n            );\\n        }\\n    };\\n    var json_data = {\\\"formatted_vals\\\":[\\\"100\\\",\\\"200\\\",\\\"300\\\",\\\"400\\\",\\\"500\\\",\\\"600\\\",\\\"700\\\",\\\"800\\\",\\\"900\\\",\\\"1000\\\",\\\"1100\\\",\\\"1200\\\",\\\"1300\\\",\\\"1400\\\",\\\"1500\\\",\\\"1600\\\",\\\"1700\\\",\\\"1800\\\",\\\"1900\\\",\\\"2000\\\",\\\"2100\\\",\\\"2200\\\",\\\"2300\\\",\\\"2400\\\",\\\"2500\\\",\\\"2600\\\",\\\"2700\\\",\\\"2800\\\",\\\"2900\\\",\\\"3000\\\",\\\"3100\\\",\\\"3200\\\",\\\"3300\\\",\\\"3400\\\",\\\"3500\\\",\\\"3600\\\",\\\"3700\\\",\\\"3800\\\",\\\"3900\\\",\\\"4000\\\",\\\"4100\\\",\\\"4200\\\",\\\"4300\\\",\\\"4400\\\",\\\"4500\\\",\\\"4600\\\",\\\"4700\\\",\\\"4800\\\",\\\"4900\\\",\\\"5000\\\"],\\\"changes\\\":WebIO.getval({\\\"name\\\":\\\"changes\\\",\\\"scope\\\":\\\"10869037484298168700\\\",\\\"id\\\":\\\"13948050655769685440\\\",\\\"type\\\":\\\"observable\\\"}),\\\"index\\\":WebIO.getval({\\\"name\\\":\\\"index\\\",\\\"scope\\\":\\\"10869037484298168700\\\",\\\"id\\\":\\\"4079954422847599131\\\",\\\"type\\\":\\\"observable\\\"})};\\n    var self = this;\\n    function AppViewModel() {\\n        for (var key in json_data) {\\n            var el = json_data[key];\\n            this[key] = Array.isArray(el) ? ko.observableArray(el) : ko.observable(el);\\n        }\\n        \\n        [this[\\\"formatted_val\\\"]=ko.computed(    function(){\\n        return this.formatted_vals()[parseInt(this.index())-(1)];\\n    }\\n,this)]\\n        [this[\\\"changes\\\"].subscribe((function (val){!(this.valueFromJulia[\\\"changes\\\"]) ? (WebIO.setval({\\\"name\\\":\\\"changes\\\",\\\"scope\\\":\\\"10869037484298168700\\\",\\\"id\\\":\\\"13948050655769685440\\\",\\\"type\\\":\\\"observable\\\"},val)) : undefined; return this.valueFromJulia[\\\"changes\\\"]=false}),self),this[\\\"index\\\"].subscribe((function (val){!(this.valueFromJulia[\\\"index\\\"]) ? (WebIO.setval({\\\"name\\\":\\\"index\\\",\\\"scope\\\":\\\"10869037484298168700\\\",\\\"id\\\":\\\"4079954422847599131\\\",\\\"type\\\":\\\"observable\\\"},val)) : undefined; return this.valueFromJulia[\\\"index\\\"]=false}),self)]\\n        \\n    }\\n    self.model = new AppViewModel();\\n    self.valueFromJulia = {};\\n    for (var key in json_data) {\\n        self.valueFromJulia[key] = false;\\n    }\\n    ko.applyBindings(self.model, self.dom);\\n}\\n);\\n    (WebIO.importBlock({\\\"data\\\":[{\\\"name\\\":\\\"knockout\\\",\\\"type\\\":\\\"js\\\",\\\"url\\\":\\\"/assetserver/a16295f7201a23921bdb5954d071b56dd01fff86-knockout.js\\\"},{\\\"name\\\":\\\"knockout_punches\\\",\\\"type\\\":\\\"js\\\",\\\"url\\\":\\\"/assetserver/bdf0f43413c13fff2af7420ea9d32413f277b99c-knockout_punches.js\\\"}],\\\"type\\\":\\\"async_block\\\"})).then((imports) => handler.apply(this, imports));\\n}\\n\")])], Dict{Symbol, Any}(:className => \"field interact-widget\")), Observable(Node{WebIO.DOM}(WebIO.DOM(:html, :div), Any[Plot{Plots.GRBackend() n=2}], Dict{Symbol, Any}(:className => \"interact-flex-row interact-widget\")))], Dict{Symbol, Any}())"
      ]
     },
     "execution_count": 1,
     "metadata": {
      "application/vnd.webio.node+json": {
       "kernelId": "a883aaf7-3808-405c-b56c-15bca7b4e067"
      }
     },
     "output_type": "execute_result"
    }
   ],
   "source": [
    "#using Pkg; Pkg.add([\"Distributions\", \"Plots\", \"Interact\", \"WebIO\", \"StatsPlots\", \"LaTeXStrings\"])\n",
    "using Distributions, Plots, Interact, WebIO, StatsPlots, LaTeXStrings\n",
    "\n",
    "d = Normal(-1,2) #note that 2 is std dev. not variance\n",
    "\n",
    "@manipulate for N in (100:100:5000)  # 100,200,300,...,5000  \n",
    "    histogram(rand(d,N), normalize=true,  bins=100)  # hjw\n",
    "    plot!(d)\n",
    "end\n",
    "\n",
    "#下面的 N 拉來拉去時 會發現相同的Ｎ 但每次拉的圖都不一樣 因為random\n",
    "#normalize=false 出來的是次數\n",
    "#normalize=true 出來的是機率 （次數/總次數）\n",
    "# bins=100 切割成100等分\n",
    "\n",
    "# Question: What if I want to show the \"exact\" same graphs everytime I run the code?\n",
    "# Ans: use random seed, where should I write it?"
   ]
  },
  {
   "cell_type": "code",
   "execution_count": null,
   "id": "d2f2ba21",
   "metadata": {},
   "outputs": [],
   "source": [
    "using Distributions, Plots, Interact, WebIO, StatsPlots, LaTeXStrings, Random\n",
    "\n",
    "d = Normal(-1,2) #note that 2 is std dev. not variance\n",
    "\n",
    "@manipulate for N in (100:100:5000)  # 100,200,300,...,5000 \n",
    "    Random.seed!(123) # Set the random number generator seed HERE\n",
    "    histogram(rand(d,N), normalize=true,  bins=100)  # hjw\n",
    "    plot!(d)\n",
    "end"
   ]
  },
  {
   "cell_type": "markdown",
   "id": "25213fed",
   "metadata": {},
   "source": [
    "# Other Comments\n",
    "\n",
    "- Don't assume random numbers will be the same between Julia versions. See the [doc](https://docs.julialang.org/en/v1.5/stdlib/Random/) here. That is, if you apply the same code `myrandom = rand(MersenneTwister(123), 10)` to different versions of Julia, you'll get different `myrandom`, even if you've specified the local RNG. This may cause problems because you may not be able to reproduce the exact same results of your program after your Julia is upgraded. So, at least you have to document your version of Julia in your results. (BTW, different OS, different types of CPUs, may also have influences on numerical details. Documentation is important.)\n",
    "\n",
    "\n",
    "- If you want random numbers to be the same between versions use [StableRNGs](https://juliahub.com/ui/Packages/StableRNGs/fu6AW/1.0.0). For instance, `rng = StableRNG(seed::Integer)`.\n",
    "\n",
    "  - ```julia\n",
    "using StableRNGs  \n",
    "rng = StableRNG(123)\n",
    "A = randn(rng, 10, 10) # instead of randn(10, 10)\n",
    "@test inv(inv(A)) ≈ A  # if not random, may not be inverted because of deficient rank\n",
    "x = [1.1, 2.2, 3.1, 4.5, 5.3, 6.1, 4.4, 3.2, 2.9, 9.0] # any vector of 10\n",
    "@test A \\ (A*x) ≈ x   # another test of RNG\n",
    "```\n",
    "\n",
    "- StableRNG is currently an alias for LehmerRNG, and implements a well understood linear congruential generator (LCG); an LCG is not state of the art, but is fast and is believed to have reasonably good statistical properties.\n",
    "\n",
    "\n",
    "- The StableRNG is not as good as MersenneTwister or Xoshiro, but it is simple and less pron to problems.\n",
    "\n",
    "\n",
    "- Starting from Julia 1.7, the default RNG is switched from from MersenneTwister to Xoshiro (a much faster and easier to parallelize pseudo RNG; also has better statistical properties). Julia 1.7 will also have a different RNG object per task, which will also change the stream of random numbers. \n",
    "\n",
    "\n",
    "- Also note that due to performance improvements and improvements to numerical accuracy, exact bitpatterns for floating point results are not guaranteed between versions.\n",
    "\n",
    "\n",
    "[//]: # \"If students have learned Stata, ask some of them to do a presentation on DataFrames vs. Stata, also introducing DataFramesMeta (and something like that). Resources [here](https://dataframes.juliadata.org/stable/man/comparisons/), [here](https://pandas.pydata.org/docs/getting_started/comparison/comparison_with_stata.html), [here](https://ahsmart.com/assets/pages/data-wrangling-with-data-frames-jl-cheat-sheet/DataFramesCheatSheet_v0.21_rev3.pdf), and [here](https://towardsdatascience.com/going-from-stata-to-pandas-706888525acf).\"\n"
   ]
  },
  {
   "cell_type": "code",
   "execution_count": null,
   "id": "153ddef0",
   "metadata": {},
   "outputs": [],
   "source": []
  }
 ],
 "metadata": {
  "@webio": {
   "lastCommId": "264ea8d822a54dc08f6735a71fb2eb7f",
   "lastKernelId": "a883aaf7-3808-405c-b56c-15bca7b4e067"
  },
  "kernelspec": {
   "display_name": "Julia 1.7.2",
   "language": "julia",
   "name": "julia-1.7"
  },
  "language_info": {
   "file_extension": ".jl",
   "mimetype": "application/julia",
   "name": "julia",
   "version": "1.7.2"
  },
  "toc": {
   "base_numbering": 1,
   "nav_menu": {},
   "number_sections": true,
   "sideBar": true,
   "skip_h1_title": false,
   "title_cell": "Table of Contents",
   "title_sidebar": "Contents",
   "toc_cell": false,
   "toc_position": {
    "height": "calc(100% - 180px)",
    "left": "10px",
    "top": "150px",
    "width": "242.08px"
   },
   "toc_section_display": true,
   "toc_window_display": false
  }
 },
 "nbformat": 4,
 "nbformat_minor": 5
}
