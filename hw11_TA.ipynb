{
 "cells": [
  {
   "cell_type": "code",
   "execution_count": 2,
   "id": "af4ad71e-6fad-412c-9cc4-16400354b0aa",
   "metadata": {
    "tags": []
   },
   "outputs": [],
   "source": [
    "using Plots, Printf, BenchmarkTools"
   ]
  },
  {
   "cell_type": "markdown",
   "id": "ddf7c8c7",
   "metadata": {},
   "source": [
    "# Homework\n",
    "\n",
    "[//]: # \"##### Write a Julia function of the bisection method that has the following specifications.\n",
    "\n",
    "- The function name has to be `bisection_a`. (So that TA can test your code by simply pasting a test code to your homework.)\n",
    "\n",
    "- An example of its usage is: `bisection_a(f, -1, 2, 1e-6, 10)`\n",
    "   - `f` is the name of a function to be subjected for root-finding,   \n",
    "   - `-1` is the lower bound of the initial bracket,\n",
    "   - `2` is the upper bound of the initial bracket,\n",
    "   - `1e-6` is the convergence criterion,\n",
    "   - `10` is the maximum number of iterations.\n",
    "   \n",
    "- It should check whether the initial bracket contains the root.   \n",
    "   \n",
    "- If it hits the maximum number of iterations before convergence, it should print the result from the last iteration with an informative error message.\n",
    "\n",
    "-  Consider the function $f(x) = x^3 + 4x^2 - 10$. \n",
    "  - Plot the function using `Plots`.\n",
    "  - Use `bisection_a` to find the root of $f(x)$.\"\n",
    "\n",
    "\n",
    "\n",
    "\n",
    "\n",
    "\n",
    "## The following `bisection` is a Julia program for root finding using the bisection method.\n",
    "- Add comments to places marked by `##` to explain the lines.\n",
    "  - For instance (a silly example): `iter=1   ## starts the iteration count`.\n",
    "  - Your comments should be more extensive than what you normally do for your own code, because the purpose is to see if you understand the purpose of the code. "
   ]
  },
  {
   "cell_type": "code",
   "execution_count": 2,
   "id": "6b65e8cc",
   "metadata": {
    "tags": []
   },
   "outputs": [
    {
     "data": {
      "text/plain": [
       "bisection (generic function with 1 method)"
      ]
     },
     "execution_count": 2,
     "metadata": {},
     "output_type": "execute_result"
    }
   ],
   "source": [
    "function bisection(f::Function,a,b,eps,imax)\n",
    "    f(a)f(b) < 0 || throw(\"The ($a, $b) does not contain the solution.\")  ## check the existence of the root\n",
    "    \n",
    "    iter=1                           \n",
    "    p=0.0      \n",
    "    while iter <= imax                ##  set the maximum number of iterations preventing from the infinite loop\n",
    "        p = a+(b-a)/2                 ##  find the midpoint\n",
    "        if f(p) == 0 || abs(a-b)<eps  ##  if the error tolerance satisfied, return the answer\n",
    "            return println(\"p is $p and the iteration number is $iter\")\n",
    "        end      \n",
    "    \n",
    "        f(a)f(p) < 0 ? b = p : a = p  ## update the interval\n",
    "        \n",
    "        iter += 1\n",
    "    end\n",
    "    y=f(p)                            ## last function value\n",
    "    println(\"Maximum number of iterations is researched and the method did not converge. The last iteration gives $p with function value $y\")   ##\n",
    "end"
   ]
  },
  {
   "cell_type": "markdown",
   "id": "dea7ceda-1b45-4576-a19a-254269629763",
   "metadata": {},
   "source": [
    "-  Consider the function $f(x) = x^3 + 4x^2 - 10$. \n",
    "  - Plot the function using the `Plots` package.\n",
    "  - Use `bisection` to find the root of $f(x)$. "
   ]
  },
  {
   "cell_type": "code",
   "execution_count": 3,
   "id": "5ea8e2ee-f28e-4eac-b3bb-25f80a4c0ab2",
   "metadata": {
    "tags": []
   },
   "outputs": [
    {
     "data": {
      "image/svg+xml": [
       "<?xml version=\"1.0\" encoding=\"utf-8\"?>\n",
       "<svg xmlns=\"http://www.w3.org/2000/svg\" xmlns:xlink=\"http://www.w3.org/1999/xlink\" width=\"600\" height=\"400\" viewBox=\"0 0 2400 1600\">\n",
       "<defs>\n",
       "  <clipPath id=\"clip470\">\n",
       "    <rect x=\"0\" y=\"0\" width=\"2400\" height=\"1600\"/>\n",
       "  </clipPath>\n",
       "</defs>\n",
       "<path clip-path=\"url(#clip470)\" d=\"M0 1600 L2400 1600 L2400 0 L0 0  Z\" fill=\"#ffffff\" fill-rule=\"evenodd\" fill-opacity=\"1\"/>\n",
       "<defs>\n",
       "  <clipPath id=\"clip471\">\n",
       "    <rect x=\"480\" y=\"0\" width=\"1681\" height=\"1600\"/>\n",
       "  </clipPath>\n",
       "</defs>\n",
       "<path clip-path=\"url(#clip470)\" d=\"M170.857 1486.45 L2352.76 1486.45 L2352.76 47.2441 L170.857 47.2441  Z\" fill=\"#ffffff\" fill-rule=\"evenodd\" fill-opacity=\"1\"/>\n",
       "<defs>\n",
       "  <clipPath id=\"clip472\">\n",
       "    <rect x=\"170\" y=\"47\" width=\"2183\" height=\"1440\"/>\n",
       "  </clipPath>\n",
       "</defs>\n",
       "<polyline clip-path=\"url(#clip472)\" style=\"stroke:#000000; stroke-linecap:round; stroke-linejoin:round; stroke-width:2; stroke-opacity:0.1; fill:none\" points=\"170.857,1486.45 170.857,47.2441 \"/>\n",
       "<polyline clip-path=\"url(#clip472)\" style=\"stroke:#000000; stroke-linecap:round; stroke-linejoin:round; stroke-width:2; stroke-opacity:0.1; fill:none\" points=\"716.332,1486.45 716.332,47.2441 \"/>\n",
       "<polyline clip-path=\"url(#clip472)\" style=\"stroke:#000000; stroke-linecap:round; stroke-linejoin:round; stroke-width:2; stroke-opacity:0.1; fill:none\" points=\"1261.81,1486.45 1261.81,47.2441 \"/>\n",
       "<polyline clip-path=\"url(#clip472)\" style=\"stroke:#000000; stroke-linecap:round; stroke-linejoin:round; stroke-width:2; stroke-opacity:0.1; fill:none\" points=\"1807.28,1486.45 1807.28,47.2441 \"/>\n",
       "<polyline clip-path=\"url(#clip472)\" style=\"stroke:#000000; stroke-linecap:round; stroke-linejoin:round; stroke-width:2; stroke-opacity:0.1; fill:none\" points=\"2352.76,1486.45 2352.76,47.2441 \"/>\n",
       "<polyline clip-path=\"url(#clip470)\" style=\"stroke:#000000; stroke-linecap:round; stroke-linejoin:round; stroke-width:4; stroke-opacity:1; fill:none\" points=\"170.857,1486.45 2352.76,1486.45 \"/>\n",
       "<polyline clip-path=\"url(#clip470)\" style=\"stroke:#000000; stroke-linecap:round; stroke-linejoin:round; stroke-width:4; stroke-opacity:1; fill:none\" points=\"170.857,1486.45 170.857,1467.55 \"/>\n",
       "<polyline clip-path=\"url(#clip470)\" style=\"stroke:#000000; stroke-linecap:round; stroke-linejoin:round; stroke-width:4; stroke-opacity:1; fill:none\" points=\"716.332,1486.45 716.332,1467.55 \"/>\n",
       "<polyline clip-path=\"url(#clip470)\" style=\"stroke:#000000; stroke-linecap:round; stroke-linejoin:round; stroke-width:4; stroke-opacity:1; fill:none\" points=\"1261.81,1486.45 1261.81,1467.55 \"/>\n",
       "<polyline clip-path=\"url(#clip470)\" style=\"stroke:#000000; stroke-linecap:round; stroke-linejoin:round; stroke-width:4; stroke-opacity:1; fill:none\" points=\"1807.28,1486.45 1807.28,1467.55 \"/>\n",
       "<polyline clip-path=\"url(#clip470)\" style=\"stroke:#000000; stroke-linecap:round; stroke-linejoin:round; stroke-width:4; stroke-opacity:1; fill:none\" points=\"2352.76,1486.45 2352.76,1467.55 \"/>\n",
       "<path clip-path=\"url(#clip470)\" d=\"M117.385 1532.02 L147.061 1532.02 L147.061 1535.95 L117.385 1535.95 L117.385 1532.02 Z\" fill=\"#000000\" fill-rule=\"nonzero\" fill-opacity=\"1\" /><path clip-path=\"url(#clip470)\" d=\"M157.2 1514.29 L175.556 1514.29 L175.556 1518.22 L161.482 1518.22 L161.482 1526.7 Q162.501 1526.35 163.519 1526.19 Q164.538 1526 165.557 1526 Q171.344 1526 174.723 1529.17 Q178.103 1532.34 178.103 1537.76 Q178.103 1543.34 174.631 1546.44 Q171.158 1549.52 164.839 1549.52 Q162.663 1549.52 160.395 1549.15 Q158.149 1548.78 155.742 1548.04 L155.742 1543.34 Q157.825 1544.47 160.047 1545.03 Q162.27 1545.58 164.746 1545.58 Q168.751 1545.58 171.089 1543.48 Q173.427 1541.37 173.427 1537.76 Q173.427 1534.15 171.089 1532.04 Q168.751 1529.94 164.746 1529.94 Q162.871 1529.94 160.996 1530.35 Q159.145 1530.77 157.2 1531.65 L157.2 1514.29 Z\" fill=\"#000000\" fill-rule=\"nonzero\" fill-opacity=\"1\" /><path clip-path=\"url(#clip470)\" d=\"M187.316 1542.97 L192.2 1542.97 L192.2 1548.85 L187.316 1548.85 L187.316 1542.97 Z\" fill=\"#000000\" fill-rule=\"nonzero\" fill-opacity=\"1\" /><path clip-path=\"url(#clip470)\" d=\"M212.385 1517.37 Q208.774 1517.37 206.945 1520.93 Q205.14 1524.47 205.14 1531.6 Q205.14 1538.71 206.945 1542.27 Q208.774 1545.82 212.385 1545.82 Q216.019 1545.82 217.825 1542.27 Q219.653 1538.71 219.653 1531.6 Q219.653 1524.47 217.825 1520.93 Q216.019 1517.37 212.385 1517.37 M212.385 1513.66 Q218.195 1513.66 221.251 1518.27 Q224.329 1522.85 224.329 1531.6 Q224.329 1540.33 221.251 1544.94 Q218.195 1549.52 212.385 1549.52 Q206.575 1549.52 203.496 1544.94 Q200.441 1540.33 200.441 1531.6 Q200.441 1522.85 203.496 1518.27 Q206.575 1513.66 212.385 1513.66 Z\" fill=\"#000000\" fill-rule=\"nonzero\" fill-opacity=\"1\" /><path clip-path=\"url(#clip470)\" d=\"M663.358 1532.02 L693.034 1532.02 L693.034 1535.95 L663.358 1535.95 L663.358 1532.02 Z\" fill=\"#000000\" fill-rule=\"nonzero\" fill-opacity=\"1\" /><path clip-path=\"url(#clip470)\" d=\"M707.154 1544.91 L723.473 1544.91 L723.473 1548.85 L701.529 1548.85 L701.529 1544.91 Q704.191 1542.16 708.774 1537.53 Q713.381 1532.88 714.561 1531.53 Q716.807 1529.01 717.686 1527.27 Q718.589 1525.51 718.589 1523.82 Q718.589 1521.07 716.645 1519.33 Q714.723 1517.6 711.621 1517.6 Q709.422 1517.6 706.969 1518.36 Q704.538 1519.13 701.76 1520.68 L701.76 1515.95 Q704.584 1514.82 707.038 1514.24 Q709.492 1513.66 711.529 1513.66 Q716.899 1513.66 720.094 1516.35 Q723.288 1519.03 723.288 1523.52 Q723.288 1525.65 722.478 1527.57 Q721.691 1529.47 719.584 1532.07 Q719.006 1532.74 715.904 1535.95 Q712.802 1539.15 707.154 1544.91 Z\" fill=\"#000000\" fill-rule=\"nonzero\" fill-opacity=\"1\" /><path clip-path=\"url(#clip470)\" d=\"M733.288 1542.97 L738.172 1542.97 L738.172 1548.85 L733.288 1548.85 L733.288 1542.97 Z\" fill=\"#000000\" fill-rule=\"nonzero\" fill-opacity=\"1\" /><path clip-path=\"url(#clip470)\" d=\"M748.404 1514.29 L766.76 1514.29 L766.76 1518.22 L752.686 1518.22 L752.686 1526.7 Q753.705 1526.35 754.723 1526.19 Q755.742 1526 756.76 1526 Q762.547 1526 765.927 1529.17 Q769.306 1532.34 769.306 1537.76 Q769.306 1543.34 765.834 1546.44 Q762.362 1549.52 756.042 1549.52 Q753.867 1549.52 751.598 1549.15 Q749.353 1548.78 746.945 1548.04 L746.945 1543.34 Q749.029 1544.47 751.251 1545.03 Q753.473 1545.58 755.95 1545.58 Q759.954 1545.58 762.292 1543.48 Q764.63 1541.37 764.63 1537.76 Q764.63 1534.15 762.292 1532.04 Q759.954 1529.94 755.95 1529.94 Q754.075 1529.94 752.2 1530.35 Q750.348 1530.77 748.404 1531.65 L748.404 1514.29 Z\" fill=\"#000000\" fill-rule=\"nonzero\" fill-opacity=\"1\" /><path clip-path=\"url(#clip470)\" d=\"M1239.19 1517.37 Q1235.58 1517.37 1233.75 1520.93 Q1231.95 1524.47 1231.95 1531.6 Q1231.95 1538.71 1233.75 1542.27 Q1235.58 1545.82 1239.19 1545.82 Q1242.83 1545.82 1244.63 1542.27 Q1246.46 1538.71 1246.46 1531.6 Q1246.46 1524.47 1244.63 1520.93 Q1242.83 1517.37 1239.19 1517.37 M1239.19 1513.66 Q1245 1513.66 1248.06 1518.27 Q1251.14 1522.85 1251.14 1531.6 Q1251.14 1540.33 1248.06 1544.94 Q1245 1549.52 1239.19 1549.52 Q1233.38 1549.52 1230.3 1544.94 Q1227.25 1540.33 1227.25 1531.6 Q1227.25 1522.85 1230.3 1518.27 Q1233.38 1513.66 1239.19 1513.66 Z\" fill=\"#000000\" fill-rule=\"nonzero\" fill-opacity=\"1\" /><path clip-path=\"url(#clip470)\" d=\"M1259.35 1542.97 L1264.24 1542.97 L1264.24 1548.85 L1259.35 1548.85 L1259.35 1542.97 Z\" fill=\"#000000\" fill-rule=\"nonzero\" fill-opacity=\"1\" /><path clip-path=\"url(#clip470)\" d=\"M1284.42 1517.37 Q1280.81 1517.37 1278.98 1520.93 Q1277.18 1524.47 1277.18 1531.6 Q1277.18 1538.71 1278.98 1542.27 Q1280.81 1545.82 1284.42 1545.82 Q1288.06 1545.82 1289.86 1542.27 Q1291.69 1538.71 1291.69 1531.6 Q1291.69 1524.47 1289.86 1520.93 Q1288.06 1517.37 1284.42 1517.37 M1284.42 1513.66 Q1290.23 1513.66 1293.29 1518.27 Q1296.37 1522.85 1296.37 1531.6 Q1296.37 1540.33 1293.29 1544.94 Q1290.23 1549.52 1284.42 1549.52 Q1278.61 1549.52 1275.53 1544.94 Q1272.48 1540.33 1272.48 1531.6 Q1272.48 1522.85 1275.53 1518.27 Q1278.61 1513.66 1284.42 1513.66 Z\" fill=\"#000000\" fill-rule=\"nonzero\" fill-opacity=\"1\" /><path clip-path=\"url(#clip470)\" d=\"M1779.02 1544.91 L1795.34 1544.91 L1795.34 1548.85 L1773.39 1548.85 L1773.39 1544.91 Q1776.05 1542.16 1780.64 1537.53 Q1785.24 1532.88 1786.42 1531.53 Q1788.67 1529.01 1789.55 1527.27 Q1790.45 1525.51 1790.45 1523.82 Q1790.45 1521.07 1788.51 1519.33 Q1786.59 1517.6 1783.49 1517.6 Q1781.29 1517.6 1778.83 1518.36 Q1776.4 1519.13 1773.62 1520.68 L1773.62 1515.95 Q1776.45 1514.82 1778.9 1514.24 Q1781.36 1513.66 1783.39 1513.66 Q1788.76 1513.66 1791.96 1516.35 Q1795.15 1519.03 1795.15 1523.52 Q1795.15 1525.65 1794.34 1527.57 Q1793.55 1529.47 1791.45 1532.07 Q1790.87 1532.74 1787.77 1535.95 Q1784.67 1539.15 1779.02 1544.91 Z\" fill=\"#000000\" fill-rule=\"nonzero\" fill-opacity=\"1\" /><path clip-path=\"url(#clip470)\" d=\"M1805.15 1542.97 L1810.04 1542.97 L1810.04 1548.85 L1805.15 1548.85 L1805.15 1542.97 Z\" fill=\"#000000\" fill-rule=\"nonzero\" fill-opacity=\"1\" /><path clip-path=\"url(#clip470)\" d=\"M1820.27 1514.29 L1838.62 1514.29 L1838.62 1518.22 L1824.55 1518.22 L1824.55 1526.7 Q1825.57 1526.35 1826.59 1526.19 Q1827.61 1526 1828.62 1526 Q1834.41 1526 1837.79 1529.17 Q1841.17 1532.34 1841.17 1537.76 Q1841.17 1543.34 1837.7 1546.44 Q1834.23 1549.52 1827.91 1549.52 Q1825.73 1549.52 1823.46 1549.15 Q1821.22 1548.78 1818.81 1548.04 L1818.81 1543.34 Q1820.89 1544.47 1823.11 1545.03 Q1825.34 1545.58 1827.81 1545.58 Q1831.82 1545.58 1834.16 1543.48 Q1836.49 1541.37 1836.49 1537.76 Q1836.49 1534.15 1834.16 1532.04 Q1831.82 1529.94 1827.81 1529.94 Q1825.94 1529.94 1824.06 1530.35 Q1822.21 1530.77 1820.27 1531.65 L1820.27 1514.29 Z\" fill=\"#000000\" fill-rule=\"nonzero\" fill-opacity=\"1\" /><path clip-path=\"url(#clip470)\" d=\"M2319.92 1514.29 L2338.28 1514.29 L2338.28 1518.22 L2324.2 1518.22 L2324.2 1526.7 Q2325.22 1526.35 2326.24 1526.19 Q2327.26 1526 2328.28 1526 Q2334.06 1526 2337.44 1529.17 Q2340.82 1532.34 2340.82 1537.76 Q2340.82 1543.34 2337.35 1546.44 Q2333.88 1549.52 2327.56 1549.52 Q2325.38 1549.52 2323.11 1549.15 Q2320.87 1548.78 2318.46 1548.04 L2318.46 1543.34 Q2320.55 1544.47 2322.77 1545.03 Q2324.99 1545.58 2327.47 1545.58 Q2331.47 1545.58 2333.81 1543.48 Q2336.15 1541.37 2336.15 1537.76 Q2336.15 1534.15 2333.81 1532.04 Q2331.47 1529.94 2327.47 1529.94 Q2325.59 1529.94 2323.72 1530.35 Q2321.86 1530.77 2319.92 1531.65 L2319.92 1514.29 Z\" fill=\"#000000\" fill-rule=\"nonzero\" fill-opacity=\"1\" /><path clip-path=\"url(#clip470)\" d=\"M2350.04 1542.97 L2354.92 1542.97 L2354.92 1548.85 L2350.04 1548.85 L2350.04 1542.97 Z\" fill=\"#000000\" fill-rule=\"nonzero\" fill-opacity=\"1\" /><path clip-path=\"url(#clip470)\" d=\"M2375.11 1517.37 Q2371.49 1517.37 2369.67 1520.93 Q2367.86 1524.47 2367.86 1531.6 Q2367.86 1538.71 2369.67 1542.27 Q2371.49 1545.82 2375.11 1545.82 Q2378.74 1545.82 2380.55 1542.27 Q2382.37 1538.71 2382.37 1531.6 Q2382.37 1524.47 2380.55 1520.93 Q2378.74 1517.37 2375.11 1517.37 M2375.11 1513.66 Q2380.92 1513.66 2383.97 1518.27 Q2387.05 1522.85 2387.05 1531.6 Q2387.05 1540.33 2383.97 1544.94 Q2380.92 1549.52 2375.11 1549.52 Q2369.3 1549.52 2366.22 1544.94 Q2363.16 1540.33 2363.16 1531.6 Q2363.16 1522.85 2366.22 1518.27 Q2369.3 1513.66 2375.11 1513.66 Z\" fill=\"#000000\" fill-rule=\"nonzero\" fill-opacity=\"1\" /><polyline clip-path=\"url(#clip472)\" style=\"stroke:#000000; stroke-linecap:round; stroke-linejoin:round; stroke-width:2; stroke-opacity:0.1; fill:none\" points=\"170.857,1255.63 2352.76,1255.63 \"/>\n",
       "<polyline clip-path=\"url(#clip472)\" style=\"stroke:#000000; stroke-linecap:round; stroke-linejoin:round; stroke-width:2; stroke-opacity:0.1; fill:none\" points=\"170.857,984.084 2352.76,984.084 \"/>\n",
       "<polyline clip-path=\"url(#clip472)\" style=\"stroke:#000000; stroke-linecap:round; stroke-linejoin:round; stroke-width:2; stroke-opacity:0.1; fill:none\" points=\"170.857,712.536 2352.76,712.536 \"/>\n",
       "<polyline clip-path=\"url(#clip472)\" style=\"stroke:#000000; stroke-linecap:round; stroke-linejoin:round; stroke-width:2; stroke-opacity:0.1; fill:none\" points=\"170.857,440.989 2352.76,440.989 \"/>\n",
       "<polyline clip-path=\"url(#clip472)\" style=\"stroke:#000000; stroke-linecap:round; stroke-linejoin:round; stroke-width:2; stroke-opacity:0.1; fill:none\" points=\"170.857,169.441 2352.76,169.441 \"/>\n",
       "<polyline clip-path=\"url(#clip470)\" style=\"stroke:#000000; stroke-linecap:round; stroke-linejoin:round; stroke-width:4; stroke-opacity:1; fill:none\" points=\"170.857,1486.45 170.857,47.2441 \"/>\n",
       "<polyline clip-path=\"url(#clip470)\" style=\"stroke:#000000; stroke-linecap:round; stroke-linejoin:round; stroke-width:4; stroke-opacity:1; fill:none\" points=\"170.857,1255.63 189.755,1255.63 \"/>\n",
       "<polyline clip-path=\"url(#clip470)\" style=\"stroke:#000000; stroke-linecap:round; stroke-linejoin:round; stroke-width:4; stroke-opacity:1; fill:none\" points=\"170.857,984.084 189.755,984.084 \"/>\n",
       "<polyline clip-path=\"url(#clip470)\" style=\"stroke:#000000; stroke-linecap:round; stroke-linejoin:round; stroke-width:4; stroke-opacity:1; fill:none\" points=\"170.857,712.536 189.755,712.536 \"/>\n",
       "<polyline clip-path=\"url(#clip470)\" style=\"stroke:#000000; stroke-linecap:round; stroke-linejoin:round; stroke-width:4; stroke-opacity:1; fill:none\" points=\"170.857,440.989 189.755,440.989 \"/>\n",
       "<polyline clip-path=\"url(#clip470)\" style=\"stroke:#000000; stroke-linecap:round; stroke-linejoin:round; stroke-width:4; stroke-opacity:1; fill:none\" points=\"170.857,169.441 189.755,169.441 \"/>\n",
       "<path clip-path=\"url(#clip470)\" d=\"M122.913 1241.43 Q119.302 1241.43 117.473 1245 Q115.668 1248.54 115.668 1255.67 Q115.668 1262.77 117.473 1266.34 Q119.302 1269.88 122.913 1269.88 Q126.547 1269.88 128.353 1266.34 Q130.182 1262.77 130.182 1255.67 Q130.182 1248.54 128.353 1245 Q126.547 1241.43 122.913 1241.43 M122.913 1237.73 Q128.723 1237.73 131.779 1242.33 Q134.857 1246.92 134.857 1255.67 Q134.857 1264.39 131.779 1269 Q128.723 1273.58 122.913 1273.58 Q117.103 1273.58 114.024 1269 Q110.969 1264.39 110.969 1255.67 Q110.969 1246.92 114.024 1242.33 Q117.103 1237.73 122.913 1237.73 Z\" fill=\"#000000\" fill-rule=\"nonzero\" fill-opacity=\"1\" /><path clip-path=\"url(#clip470)\" d=\"M82.7975 966.804 L101.154 966.804 L101.154 970.739 L87.0799 970.739 L87.0799 979.212 Q88.0984 978.864 89.1169 978.702 Q90.1354 978.517 91.1539 978.517 Q96.941 978.517 100.321 981.688 Q103.7 984.86 103.7 990.276 Q103.7 995.855 100.228 998.957 Q96.7558 1002.04 90.4364 1002.04 Q88.2604 1002.04 85.9919 1001.67 Q83.7466 1001.29 81.3392 1000.55 L81.3392 995.855 Q83.4225 996.989 85.6447 997.545 Q87.8669 998.1 90.3438 998.1 Q94.3484 998.1 96.6863 995.994 Q99.0243 993.887 99.0243 990.276 Q99.0243 986.665 96.6863 984.559 Q94.3484 982.452 90.3438 982.452 Q88.4688 982.452 86.5938 982.869 Q84.7419 983.286 82.7975 984.165 L82.7975 966.804 Z\" fill=\"#000000\" fill-rule=\"nonzero\" fill-opacity=\"1\" /><path clip-path=\"url(#clip470)\" d=\"M122.913 969.883 Q119.302 969.883 117.473 973.448 Q115.668 976.989 115.668 984.119 Q115.668 991.225 117.473 994.79 Q119.302 998.332 122.913 998.332 Q126.547 998.332 128.353 994.79 Q130.182 991.225 130.182 984.119 Q130.182 976.989 128.353 973.448 Q126.547 969.883 122.913 969.883 M122.913 966.179 Q128.723 966.179 131.779 970.786 Q134.857 975.369 134.857 984.119 Q134.857 992.846 131.779 997.452 Q128.723 1002.04 122.913 1002.04 Q117.103 1002.04 114.024 997.452 Q110.969 992.846 110.969 984.119 Q110.969 975.369 114.024 970.786 Q117.103 966.179 122.913 966.179 Z\" fill=\"#000000\" fill-rule=\"nonzero\" fill-opacity=\"1\" /><path clip-path=\"url(#clip470)\" d=\"M53.3995 725.881 L61.0384 725.881 L61.0384 699.516 L52.7282 701.182 L52.7282 696.923 L60.9921 695.256 L65.668 695.256 L65.668 725.881 L73.3068 725.881 L73.3068 729.816 L53.3995 729.816 L53.3995 725.881 Z\" fill=\"#000000\" fill-rule=\"nonzero\" fill-opacity=\"1\" /><path clip-path=\"url(#clip470)\" d=\"M92.7512 698.335 Q89.1401 698.335 87.3114 701.9 Q85.5058 705.442 85.5058 712.571 Q85.5058 719.678 87.3114 723.242 Q89.1401 726.784 92.7512 726.784 Q96.3854 726.784 98.1909 723.242 Q100.02 719.678 100.02 712.571 Q100.02 705.442 98.1909 701.9 Q96.3854 698.335 92.7512 698.335 M92.7512 694.631 Q98.5613 694.631 101.617 699.238 Q104.696 703.821 104.696 712.571 Q104.696 721.298 101.617 725.904 Q98.5613 730.488 92.7512 730.488 Q86.941 730.488 83.8623 725.904 Q80.8068 721.298 80.8068 712.571 Q80.8068 703.821 83.8623 699.238 Q86.941 694.631 92.7512 694.631 Z\" fill=\"#000000\" fill-rule=\"nonzero\" fill-opacity=\"1\" /><path clip-path=\"url(#clip470)\" d=\"M122.913 698.335 Q119.302 698.335 117.473 701.9 Q115.668 705.442 115.668 712.571 Q115.668 719.678 117.473 723.242 Q119.302 726.784 122.913 726.784 Q126.547 726.784 128.353 723.242 Q130.182 719.678 130.182 712.571 Q130.182 705.442 128.353 701.9 Q126.547 698.335 122.913 698.335 M122.913 694.631 Q128.723 694.631 131.779 699.238 Q134.857 703.821 134.857 712.571 Q134.857 721.298 131.779 725.904 Q128.723 730.488 122.913 730.488 Q117.103 730.488 114.024 725.904 Q110.969 721.298 110.969 712.571 Q110.969 703.821 114.024 699.238 Q117.103 694.631 122.913 694.631 Z\" fill=\"#000000\" fill-rule=\"nonzero\" fill-opacity=\"1\" /><path clip-path=\"url(#clip470)\" d=\"M53.3995 454.333 L61.0384 454.333 L61.0384 427.968 L52.7282 429.634 L52.7282 425.375 L60.9921 423.709 L65.668 423.709 L65.668 454.333 L73.3068 454.333 L73.3068 458.269 L53.3995 458.269 L53.3995 454.333 Z\" fill=\"#000000\" fill-rule=\"nonzero\" fill-opacity=\"1\" /><path clip-path=\"url(#clip470)\" d=\"M82.7975 423.709 L101.154 423.709 L101.154 427.644 L87.0799 427.644 L87.0799 436.116 Q88.0984 435.769 89.1169 435.607 Q90.1354 435.421 91.1539 435.421 Q96.941 435.421 100.321 438.593 Q103.7 441.764 103.7 447.181 Q103.7 452.759 100.228 455.861 Q96.7558 458.94 90.4364 458.94 Q88.2604 458.94 85.9919 458.569 Q83.7466 458.199 81.3392 457.458 L81.3392 452.759 Q83.4225 453.894 85.6447 454.449 Q87.8669 455.005 90.3438 455.005 Q94.3484 455.005 96.6863 452.898 Q99.0243 450.792 99.0243 447.181 Q99.0243 443.57 96.6863 441.463 Q94.3484 439.357 90.3438 439.357 Q88.4688 439.357 86.5938 439.773 Q84.7419 440.19 82.7975 441.07 L82.7975 423.709 Z\" fill=\"#000000\" fill-rule=\"nonzero\" fill-opacity=\"1\" /><path clip-path=\"url(#clip470)\" d=\"M122.913 426.787 Q119.302 426.787 117.473 430.352 Q115.668 433.894 115.668 441.023 Q115.668 448.13 117.473 451.694 Q119.302 455.236 122.913 455.236 Q126.547 455.236 128.353 451.694 Q130.182 448.13 130.182 441.023 Q130.182 433.894 128.353 430.352 Q126.547 426.787 122.913 426.787 M122.913 423.084 Q128.723 423.084 131.779 427.69 Q134.857 432.273 134.857 441.023 Q134.857 449.75 131.779 454.357 Q128.723 458.94 122.913 458.94 Q117.103 458.94 114.024 454.357 Q110.969 449.75 110.969 441.023 Q110.969 432.273 114.024 427.69 Q117.103 423.084 122.913 423.084 Z\" fill=\"#000000\" fill-rule=\"nonzero\" fill-opacity=\"1\" /><path clip-path=\"url(#clip470)\" d=\"M56.6171 182.785 L72.9365 182.785 L72.9365 186.721 L50.9921 186.721 L50.9921 182.785 Q53.6541 180.031 58.2375 175.401 Q62.8439 170.749 64.0245 169.406 Q66.2698 166.883 67.1494 165.147 Q68.0522 163.387 68.0522 161.698 Q68.0522 158.943 66.1078 157.207 Q64.1865 155.471 61.0847 155.471 Q58.8856 155.471 56.4319 156.235 Q54.0014 156.999 51.2236 158.549 L51.2236 153.827 Q54.0477 152.693 56.5014 152.114 Q58.955 151.536 60.9921 151.536 Q66.3624 151.536 69.5568 154.221 Q72.7513 156.906 72.7513 161.397 Q72.7513 163.526 71.9411 165.448 Q71.1541 167.346 69.0476 169.938 Q68.4689 170.61 65.367 173.827 Q62.2652 177.022 56.6171 182.785 Z\" fill=\"#000000\" fill-rule=\"nonzero\" fill-opacity=\"1\" /><path clip-path=\"url(#clip470)\" d=\"M92.7512 155.239 Q89.1401 155.239 87.3114 158.804 Q85.5058 162.346 85.5058 169.475 Q85.5058 176.582 87.3114 180.147 Q89.1401 183.688 92.7512 183.688 Q96.3854 183.688 98.1909 180.147 Q100.02 176.582 100.02 169.475 Q100.02 162.346 98.1909 158.804 Q96.3854 155.239 92.7512 155.239 M92.7512 151.536 Q98.5613 151.536 101.617 156.142 Q104.696 160.725 104.696 169.475 Q104.696 178.202 101.617 182.809 Q98.5613 187.392 92.7512 187.392 Q86.941 187.392 83.8623 182.809 Q80.8068 178.202 80.8068 169.475 Q80.8068 160.725 83.8623 156.142 Q86.941 151.536 92.7512 151.536 Z\" fill=\"#000000\" fill-rule=\"nonzero\" fill-opacity=\"1\" /><path clip-path=\"url(#clip470)\" d=\"M122.913 155.239 Q119.302 155.239 117.473 158.804 Q115.668 162.346 115.668 169.475 Q115.668 176.582 117.473 180.147 Q119.302 183.688 122.913 183.688 Q126.547 183.688 128.353 180.147 Q130.182 176.582 130.182 169.475 Q130.182 162.346 128.353 158.804 Q126.547 155.239 122.913 155.239 M122.913 151.536 Q128.723 151.536 131.779 156.142 Q134.857 160.725 134.857 169.475 Q134.857 178.202 131.779 182.809 Q128.723 187.392 122.913 187.392 Q117.103 187.392 114.024 182.809 Q110.969 178.202 110.969 169.475 Q110.969 160.725 114.024 156.142 Q117.103 151.536 122.913 151.536 Z\" fill=\"#000000\" fill-rule=\"nonzero\" fill-opacity=\"1\" /><polyline clip-path=\"url(#clip472)\" style=\"stroke:#009af9; stroke-linecap:round; stroke-linejoin:round; stroke-width:4; stroke-opacity:1; fill:none\" points=\"170.857,1445.72 174.409,1442.64 177.96,1439.59 181.511,1436.58 185.063,1433.59 217.9,1407.46 250.737,1383.87 283.575,1362.71 316.412,1343.88 355.879,1324.17 395.347,1307.47 428.716,1295.55 462.086,1285.52 498.334,1276.64 534.583,1269.7 568.001,1264.9 601.419,1261.52 637.246,1259.32 673.074,1258.47 714.583,1258.97 756.093,1260.86 829.871,1266.94 894.567,1274.3 965.104,1283.43 1036.06,1292.7 1114.51,1301.71 1189.15,1307.73 1227.96,1309.44 1266.77,1309.93 1299.43,1309.27 1332.1,1307.51 1371.98,1303.7 1411.86,1297.9 1448.4,1290.66 1484.93,1281.42 1518.68,1270.97 1552.42,1258.57 1586.6,1243.89 1620.78,1226.96 1659.08,1205.14 1697.39,1180.15 1732.1,1154.63 1766.81,1126.23 1786.69,1108.62 1806.56,1090.01 1826.43,1070.36 1846.3,1049.65 1864.7,1029.51 1883.1,1008.41 1901.5,986.354 1919.9,963.306 1938.03,939.597 1956.17,914.889 1974.31,889.165 1992.45,862.404 2010.06,835.414 2027.68,807.412 2045.29,778.381 2062.9,748.306 2080.95,716.371 2099.01,683.302 2117.06,649.079 2135.12,613.683 2154.9,573.537 2174.68,531.937 2194.46,488.859 2214.24,444.279 2242.97,376.795 2271.71,306.016 2300.44,231.867 2329.18,154.274 2335.07,137.924 2340.97,121.424 2346.86,104.775 2352.76,87.9763 \"/>\n",
       "<polyline clip-path=\"url(#clip472)\" style=\"stroke:#e26f46; stroke-linecap:round; stroke-linejoin:round; stroke-width:4; stroke-opacity:1; fill:none\" points=\"-2011.04,1255.63 4534.65,1255.63 \"/>\n",
       "<path clip-path=\"url(#clip470)\" d=\"M243.587 198.898 L538.351 198.898 L538.351 95.2176 L243.587 95.2176  Z\" fill=\"#ffffff\" fill-rule=\"evenodd\" fill-opacity=\"1\"/>\n",
       "<polyline clip-path=\"url(#clip470)\" style=\"stroke:#000000; stroke-linecap:round; stroke-linejoin:round; stroke-width:4; stroke-opacity:1; fill:none\" points=\"243.587,198.898 538.351,198.898 538.351,95.2176 243.587,95.2176 243.587,198.898 \"/>\n",
       "<polyline clip-path=\"url(#clip470)\" style=\"stroke:#009af9; stroke-linecap:round; stroke-linejoin:round; stroke-width:4; stroke-opacity:1; fill:none\" points=\"267.831,147.058 413.291,147.058 \"/>\n",
       "<path clip-path=\"url(#clip470)\" d=\"M454.038 128.319 L454.038 131.861 L449.964 131.861 Q447.673 131.861 446.77 132.787 Q445.89 133.713 445.89 136.12 L445.89 138.412 L452.904 138.412 L452.904 141.722 L445.89 141.722 L445.89 164.338 L441.608 164.338 L441.608 141.722 L437.534 141.722 L437.534 138.412 L441.608 138.412 L441.608 136.606 Q441.608 132.278 443.622 130.31 Q445.636 128.319 450.011 128.319 L454.038 128.319 Z\" fill=\"#000000\" fill-rule=\"nonzero\" fill-opacity=\"1\" /><path clip-path=\"url(#clip470)\" d=\"M467.835 128.366 Q464.733 133.69 463.228 138.898 Q461.724 144.106 461.724 149.453 Q461.724 154.801 463.228 160.055 Q464.756 165.287 467.835 170.588 L464.131 170.588 Q460.659 165.148 458.923 159.893 Q457.21 154.639 457.21 149.453 Q457.21 144.291 458.923 139.06 Q460.636 133.828 464.131 128.366 L467.835 128.366 Z\" fill=\"#000000\" fill-rule=\"nonzero\" fill-opacity=\"1\" /><path clip-path=\"url(#clip470)\" d=\"M497.649 138.412 L488.274 151.027 L498.135 164.338 L493.112 164.338 L485.566 154.152 L478.02 164.338 L472.997 164.338 L483.066 150.773 L473.853 138.412 L478.876 138.412 L485.751 147.648 L492.626 138.412 L497.649 138.412 Z\" fill=\"#000000\" fill-rule=\"nonzero\" fill-opacity=\"1\" /><path clip-path=\"url(#clip470)\" d=\"M503.483 128.366 L507.186 128.366 Q510.659 133.828 512.371 139.06 Q514.108 144.291 514.108 149.453 Q514.108 154.639 512.371 159.893 Q510.659 165.148 507.186 170.588 L503.483 170.588 Q506.561 165.287 508.066 160.055 Q509.594 154.801 509.594 149.453 Q509.594 144.106 508.066 138.898 Q506.561 133.69 503.483 128.366 Z\" fill=\"#000000\" fill-rule=\"nonzero\" fill-opacity=\"1\" /></svg>\n"
      ]
     },
     "execution_count": 3,
     "metadata": {},
     "output_type": "execute_result"
    }
   ],
   "source": [
    "f = x -> x^3 + 4x^2 - 10\n",
    "plot(f, xlim=[-5, 5], label=\"f(x)\")\n",
    "hline!([0], label=\"\")"
   ]
  },
  {
   "cell_type": "code",
   "execution_count": 4,
   "id": "2b4c1201-477b-459d-9a80-c7ee60895966",
   "metadata": {
    "tags": []
   },
   "outputs": [
    {
     "name": "stdout",
     "output_type": "stream",
     "text": [
      "p is 1.365230013616383 and the iteration number is 31\n"
     ]
    }
   ],
   "source": [
    "bisection(f, -5, 5, 1e-8, 2000)"
   ]
  },
  {
   "cell_type": "markdown",
   "id": "195b665d",
   "metadata": {},
   "source": [
    "## Suppose you are dealing with functions that have multiple roots such as the `h(x)` given below.  In general, it is not possible to find all the roots for such functions without further information. Nevertheless, if the roots are reasonably spaced apart (e.g., the distance between them is much larger than the error tolerance used in checking convergence), we could find the roots that fall in a given interval $[a, b]$.\n",
    "\n",
    "- Use the package `Plots` to plot the function $h(x) = 0.1 + \\sin(x) + \\cos(x) - 0.01x^3$ for $x$ in the range of $[-10, 10]$. \n",
    "  - The graph is to give you an idea of what multiple roots mean."
   ]
  },
  {
   "cell_type": "code",
   "execution_count": 12,
   "id": "db3e66e2-4944-4dfe-b76f-9a17476ff66c",
   "metadata": {
    "tags": []
   },
   "outputs": [
    {
     "data": {
      "image/svg+xml": [
       "<?xml version=\"1.0\" encoding=\"utf-8\"?>\n",
       "<svg xmlns=\"http://www.w3.org/2000/svg\" xmlns:xlink=\"http://www.w3.org/1999/xlink\" width=\"600\" height=\"400\" viewBox=\"0 0 2400 1600\">\n",
       "<defs>\n",
       "  <clipPath id=\"clip290\">\n",
       "    <rect x=\"0\" y=\"0\" width=\"2400\" height=\"1600\"/>\n",
       "  </clipPath>\n",
       "</defs>\n",
       "<path clip-path=\"url(#clip290)\" d=\"M0 1600 L2400 1600 L2400 0 L0 0  Z\" fill=\"#ffffff\" fill-rule=\"evenodd\" fill-opacity=\"1\"/>\n",
       "<defs>\n",
       "  <clipPath id=\"clip291\">\n",
       "    <rect x=\"480\" y=\"0\" width=\"1681\" height=\"1600\"/>\n",
       "  </clipPath>\n",
       "</defs>\n",
       "<path clip-path=\"url(#clip290)\" d=\"M178.867 1486.45 L2352.76 1486.45 L2352.76 47.2441 L178.867 47.2441  Z\" fill=\"#ffffff\" fill-rule=\"evenodd\" fill-opacity=\"1\"/>\n",
       "<defs>\n",
       "  <clipPath id=\"clip292\">\n",
       "    <rect x=\"178\" y=\"47\" width=\"2175\" height=\"1440\"/>\n",
       "  </clipPath>\n",
       "</defs>\n",
       "<polyline clip-path=\"url(#clip292)\" style=\"stroke:#000000; stroke-linecap:round; stroke-linejoin:round; stroke-width:2; stroke-opacity:0.1; fill:none\" points=\"178.867,1486.45 178.867,47.2441 \"/>\n",
       "<polyline clip-path=\"url(#clip292)\" style=\"stroke:#000000; stroke-linecap:round; stroke-linejoin:round; stroke-width:2; stroke-opacity:0.1; fill:none\" points=\"722.339,1486.45 722.339,47.2441 \"/>\n",
       "<polyline clip-path=\"url(#clip292)\" style=\"stroke:#000000; stroke-linecap:round; stroke-linejoin:round; stroke-width:2; stroke-opacity:0.1; fill:none\" points=\"1265.81,1486.45 1265.81,47.2441 \"/>\n",
       "<polyline clip-path=\"url(#clip292)\" style=\"stroke:#000000; stroke-linecap:round; stroke-linejoin:round; stroke-width:2; stroke-opacity:0.1; fill:none\" points=\"1809.28,1486.45 1809.28,47.2441 \"/>\n",
       "<polyline clip-path=\"url(#clip292)\" style=\"stroke:#000000; stroke-linecap:round; stroke-linejoin:round; stroke-width:2; stroke-opacity:0.1; fill:none\" points=\"2352.76,1486.45 2352.76,47.2441 \"/>\n",
       "<polyline clip-path=\"url(#clip290)\" style=\"stroke:#000000; stroke-linecap:round; stroke-linejoin:round; stroke-width:4; stroke-opacity:1; fill:none\" points=\"178.867,1486.45 2352.76,1486.45 \"/>\n",
       "<polyline clip-path=\"url(#clip290)\" style=\"stroke:#000000; stroke-linecap:round; stroke-linejoin:round; stroke-width:4; stroke-opacity:1; fill:none\" points=\"178.867,1486.45 178.867,1467.55 \"/>\n",
       "<polyline clip-path=\"url(#clip290)\" style=\"stroke:#000000; stroke-linecap:round; stroke-linejoin:round; stroke-width:4; stroke-opacity:1; fill:none\" points=\"722.339,1486.45 722.339,1467.55 \"/>\n",
       "<polyline clip-path=\"url(#clip290)\" style=\"stroke:#000000; stroke-linecap:round; stroke-linejoin:round; stroke-width:4; stroke-opacity:1; fill:none\" points=\"1265.81,1486.45 1265.81,1467.55 \"/>\n",
       "<polyline clip-path=\"url(#clip290)\" style=\"stroke:#000000; stroke-linecap:round; stroke-linejoin:round; stroke-width:4; stroke-opacity:1; fill:none\" points=\"1809.28,1486.45 1809.28,1467.55 \"/>\n",
       "<polyline clip-path=\"url(#clip290)\" style=\"stroke:#000000; stroke-linecap:round; stroke-linejoin:round; stroke-width:4; stroke-opacity:1; fill:none\" points=\"2352.76,1486.45 2352.76,1467.55 \"/>\n",
       "<path clip-path=\"url(#clip290)\" d=\"M132.929 1532.02 L162.605 1532.02 L162.605 1535.95 L132.929 1535.95 L132.929 1532.02 Z\" fill=\"#000000\" fill-rule=\"nonzero\" fill-opacity=\"1\" /><path clip-path=\"url(#clip290)\" d=\"M173.508 1544.91 L181.147 1544.91 L181.147 1518.55 L172.837 1520.21 L172.837 1515.95 L181.1 1514.29 L185.776 1514.29 L185.776 1544.91 L193.415 1544.91 L193.415 1548.85 L173.508 1548.85 L173.508 1544.91 Z\" fill=\"#000000\" fill-rule=\"nonzero\" fill-opacity=\"1\" /><path clip-path=\"url(#clip290)\" d=\"M212.86 1517.37 Q209.248 1517.37 207.42 1520.93 Q205.614 1524.47 205.614 1531.6 Q205.614 1538.71 207.42 1542.27 Q209.248 1545.82 212.86 1545.82 Q216.494 1545.82 218.299 1542.27 Q220.128 1538.71 220.128 1531.6 Q220.128 1524.47 218.299 1520.93 Q216.494 1517.37 212.86 1517.37 M212.86 1513.66 Q218.67 1513.66 221.725 1518.27 Q224.804 1522.85 224.804 1531.6 Q224.804 1540.33 221.725 1544.94 Q218.67 1549.52 212.86 1549.52 Q207.049 1549.52 203.971 1544.94 Q200.915 1540.33 200.915 1531.6 Q200.915 1522.85 203.971 1518.27 Q207.049 1513.66 212.86 1513.66 Z\" fill=\"#000000\" fill-rule=\"nonzero\" fill-opacity=\"1\" /><path clip-path=\"url(#clip290)\" d=\"M691.98 1532.02 L721.656 1532.02 L721.656 1535.95 L691.98 1535.95 L691.98 1532.02 Z\" fill=\"#000000\" fill-rule=\"nonzero\" fill-opacity=\"1\" /><path clip-path=\"url(#clip290)\" d=\"M731.795 1514.29 L750.151 1514.29 L750.151 1518.22 L736.077 1518.22 L736.077 1526.7 Q737.096 1526.35 738.114 1526.19 Q739.133 1526 740.151 1526 Q745.938 1526 749.318 1529.17 Q752.698 1532.34 752.698 1537.76 Q752.698 1543.34 749.225 1546.44 Q745.753 1549.52 739.434 1549.52 Q737.258 1549.52 734.989 1549.15 Q732.744 1548.78 730.337 1548.04 L730.337 1543.34 Q732.42 1544.47 734.642 1545.03 Q736.864 1545.58 739.341 1545.58 Q743.346 1545.58 745.684 1543.48 Q748.022 1541.37 748.022 1537.76 Q748.022 1534.15 745.684 1532.04 Q743.346 1529.94 739.341 1529.94 Q737.466 1529.94 735.591 1530.35 Q733.739 1530.77 731.795 1531.65 L731.795 1514.29 Z\" fill=\"#000000\" fill-rule=\"nonzero\" fill-opacity=\"1\" /><path clip-path=\"url(#clip290)\" d=\"M1265.81 1517.37 Q1262.2 1517.37 1260.37 1520.93 Q1258.57 1524.47 1258.57 1531.6 Q1258.57 1538.71 1260.37 1542.27 Q1262.2 1545.82 1265.81 1545.82 Q1269.45 1545.82 1271.25 1542.27 Q1273.08 1538.71 1273.08 1531.6 Q1273.08 1524.47 1271.25 1520.93 Q1269.45 1517.37 1265.81 1517.37 M1265.81 1513.66 Q1271.62 1513.66 1274.68 1518.27 Q1277.76 1522.85 1277.76 1531.6 Q1277.76 1540.33 1274.68 1544.94 Q1271.62 1549.52 1265.81 1549.52 Q1260 1549.52 1256.92 1544.94 Q1253.87 1540.33 1253.87 1531.6 Q1253.87 1522.85 1256.92 1518.27 Q1260 1513.66 1265.81 1513.66 Z\" fill=\"#000000\" fill-rule=\"nonzero\" fill-opacity=\"1\" /><path clip-path=\"url(#clip290)\" d=\"M1799.56 1514.29 L1817.92 1514.29 L1817.92 1518.22 L1803.84 1518.22 L1803.84 1526.7 Q1804.86 1526.35 1805.88 1526.19 Q1806.9 1526 1807.92 1526 Q1813.7 1526 1817.08 1529.17 Q1820.46 1532.34 1820.46 1537.76 Q1820.46 1543.34 1816.99 1546.44 Q1813.52 1549.52 1807.2 1549.52 Q1805.02 1549.52 1802.76 1549.15 Q1800.51 1548.78 1798.1 1548.04 L1798.1 1543.34 Q1800.19 1544.47 1802.41 1545.03 Q1804.63 1545.58 1807.11 1545.58 Q1811.11 1545.58 1813.45 1543.48 Q1815.79 1541.37 1815.79 1537.76 Q1815.79 1534.15 1813.45 1532.04 Q1811.11 1529.94 1807.11 1529.94 Q1805.23 1529.94 1803.36 1530.35 Q1801.51 1530.77 1799.56 1531.65 L1799.56 1514.29 Z\" fill=\"#000000\" fill-rule=\"nonzero\" fill-opacity=\"1\" /><path clip-path=\"url(#clip290)\" d=\"M2327.44 1544.91 L2335.08 1544.91 L2335.08 1518.55 L2326.77 1520.21 L2326.77 1515.95 L2335.04 1514.29 L2339.71 1514.29 L2339.71 1544.91 L2347.35 1544.91 L2347.35 1548.85 L2327.44 1548.85 L2327.44 1544.91 Z\" fill=\"#000000\" fill-rule=\"nonzero\" fill-opacity=\"1\" /><path clip-path=\"url(#clip290)\" d=\"M2366.8 1517.37 Q2363.18 1517.37 2361.36 1520.93 Q2359.55 1524.47 2359.55 1531.6 Q2359.55 1538.71 2361.36 1542.27 Q2363.18 1545.82 2366.8 1545.82 Q2370.43 1545.82 2372.23 1542.27 Q2374.06 1538.71 2374.06 1531.6 Q2374.06 1524.47 2372.23 1520.93 Q2370.43 1517.37 2366.8 1517.37 M2366.8 1513.66 Q2372.61 1513.66 2375.66 1518.27 Q2378.74 1522.85 2378.74 1531.6 Q2378.74 1540.33 2375.66 1544.94 Q2372.61 1549.52 2366.8 1549.52 Q2360.99 1549.52 2357.91 1544.94 Q2354.85 1540.33 2354.85 1531.6 Q2354.85 1522.85 2357.91 1518.27 Q2360.99 1513.66 2366.8 1513.66 Z\" fill=\"#000000\" fill-rule=\"nonzero\" fill-opacity=\"1\" /><polyline clip-path=\"url(#clip292)\" style=\"stroke:#000000; stroke-linecap:round; stroke-linejoin:round; stroke-width:2; stroke-opacity:0.1; fill:none\" points=\"178.867,1363.1 2352.76,1363.1 \"/>\n",
       "<polyline clip-path=\"url(#clip292)\" style=\"stroke:#000000; stroke-linecap:round; stroke-linejoin:round; stroke-width:2; stroke-opacity:0.1; fill:none\" points=\"178.867,1041.18 2352.76,1041.18 \"/>\n",
       "<polyline clip-path=\"url(#clip292)\" style=\"stroke:#000000; stroke-linecap:round; stroke-linejoin:round; stroke-width:2; stroke-opacity:0.1; fill:none\" points=\"178.867,719.261 2352.76,719.261 \"/>\n",
       "<polyline clip-path=\"url(#clip292)\" style=\"stroke:#000000; stroke-linecap:round; stroke-linejoin:round; stroke-width:2; stroke-opacity:0.1; fill:none\" points=\"178.867,397.34 2352.76,397.34 \"/>\n",
       "<polyline clip-path=\"url(#clip292)\" style=\"stroke:#000000; stroke-linecap:round; stroke-linejoin:round; stroke-width:2; stroke-opacity:0.1; fill:none\" points=\"178.867,75.4181 2352.76,75.4181 \"/>\n",
       "<polyline clip-path=\"url(#clip290)\" style=\"stroke:#000000; stroke-linecap:round; stroke-linejoin:round; stroke-width:4; stroke-opacity:1; fill:none\" points=\"178.867,1486.45 178.867,47.2441 \"/>\n",
       "<polyline clip-path=\"url(#clip290)\" style=\"stroke:#000000; stroke-linecap:round; stroke-linejoin:round; stroke-width:4; stroke-opacity:1; fill:none\" points=\"178.867,1363.1 197.764,1363.1 \"/>\n",
       "<polyline clip-path=\"url(#clip290)\" style=\"stroke:#000000; stroke-linecap:round; stroke-linejoin:round; stroke-width:4; stroke-opacity:1; fill:none\" points=\"178.867,1041.18 197.764,1041.18 \"/>\n",
       "<polyline clip-path=\"url(#clip290)\" style=\"stroke:#000000; stroke-linecap:round; stroke-linejoin:round; stroke-width:4; stroke-opacity:1; fill:none\" points=\"178.867,719.261 197.764,719.261 \"/>\n",
       "<polyline clip-path=\"url(#clip290)\" style=\"stroke:#000000; stroke-linecap:round; stroke-linejoin:round; stroke-width:4; stroke-opacity:1; fill:none\" points=\"178.867,397.34 197.764,397.34 \"/>\n",
       "<polyline clip-path=\"url(#clip290)\" style=\"stroke:#000000; stroke-linecap:round; stroke-linejoin:round; stroke-width:4; stroke-opacity:1; fill:none\" points=\"178.867,75.4181 197.764,75.4181 \"/>\n",
       "<path clip-path=\"url(#clip290)\" d=\"M50.9921 1363.56 L80.6679 1363.56 L80.6679 1367.49 L50.9921 1367.49 L50.9921 1363.56 Z\" fill=\"#000000\" fill-rule=\"nonzero\" fill-opacity=\"1\" /><path clip-path=\"url(#clip290)\" d=\"M91.5706 1376.45 L99.2095 1376.45 L99.2095 1350.08 L90.8993 1351.75 L90.8993 1347.49 L99.1632 1345.82 L103.839 1345.82 L103.839 1376.45 L111.478 1376.45 L111.478 1380.38 L91.5706 1380.38 L91.5706 1376.45 Z\" fill=\"#000000\" fill-rule=\"nonzero\" fill-opacity=\"1\" /><path clip-path=\"url(#clip290)\" d=\"M130.922 1348.9 Q127.311 1348.9 125.482 1352.47 Q123.677 1356.01 123.677 1363.14 Q123.677 1370.25 125.482 1373.81 Q127.311 1377.35 130.922 1377.35 Q134.556 1377.35 136.362 1373.81 Q138.191 1370.25 138.191 1363.14 Q138.191 1356.01 136.362 1352.47 Q134.556 1348.9 130.922 1348.9 M130.922 1345.2 Q136.732 1345.2 139.788 1349.81 Q142.867 1354.39 142.867 1363.14 Q142.867 1371.87 139.788 1376.47 Q136.732 1381.06 130.922 1381.06 Q125.112 1381.06 122.033 1376.47 Q118.978 1371.87 118.978 1363.14 Q118.978 1354.39 122.033 1349.81 Q125.112 1345.2 130.922 1345.2 Z\" fill=\"#000000\" fill-rule=\"nonzero\" fill-opacity=\"1\" /><path clip-path=\"url(#clip290)\" d=\"M82.1494 1041.63 L111.825 1041.63 L111.825 1045.57 L82.1494 1045.57 L82.1494 1041.63 Z\" fill=\"#000000\" fill-rule=\"nonzero\" fill-opacity=\"1\" /><path clip-path=\"url(#clip290)\" d=\"M121.964 1023.9 L140.32 1023.9 L140.32 1027.84 L126.246 1027.84 L126.246 1036.31 Q127.265 1035.96 128.283 1035.8 Q129.302 1035.62 130.32 1035.62 Q136.107 1035.62 139.487 1038.79 Q142.867 1041.96 142.867 1047.38 Q142.867 1052.95 139.394 1056.06 Q135.922 1059.13 129.603 1059.13 Q127.427 1059.13 125.158 1058.76 Q122.913 1058.39 120.506 1057.65 L120.506 1052.95 Q122.589 1054.09 124.811 1054.64 Q127.033 1055.2 129.51 1055.2 Q133.515 1055.2 135.853 1053.09 Q138.191 1050.99 138.191 1047.38 Q138.191 1043.76 135.853 1041.66 Q133.515 1039.55 129.51 1039.55 Q127.635 1039.55 125.76 1039.97 Q123.908 1040.38 121.964 1041.26 L121.964 1023.9 Z\" fill=\"#000000\" fill-rule=\"nonzero\" fill-opacity=\"1\" /><path clip-path=\"url(#clip290)\" d=\"M130.922 705.06 Q127.311 705.06 125.482 708.625 Q123.677 712.166 123.677 719.296 Q123.677 726.403 125.482 729.967 Q127.311 733.509 130.922 733.509 Q134.556 733.509 136.362 729.967 Q138.191 726.403 138.191 719.296 Q138.191 712.166 136.362 708.625 Q134.556 705.06 130.922 705.06 M130.922 701.356 Q136.732 701.356 139.788 705.963 Q142.867 710.546 142.867 719.296 Q142.867 728.023 139.788 732.629 Q136.732 737.213 130.922 737.213 Q125.112 737.213 122.033 732.629 Q118.978 728.023 118.978 719.296 Q118.978 710.546 122.033 705.963 Q125.112 701.356 130.922 701.356 Z\" fill=\"#000000\" fill-rule=\"nonzero\" fill-opacity=\"1\" /><path clip-path=\"url(#clip290)\" d=\"M121.964 380.06 L140.32 380.06 L140.32 383.995 L126.246 383.995 L126.246 392.467 Q127.265 392.12 128.283 391.958 Q129.302 391.773 130.32 391.773 Q136.107 391.773 139.487 394.944 Q142.867 398.115 142.867 403.532 Q142.867 409.11 139.394 412.212 Q135.922 415.291 129.603 415.291 Q127.427 415.291 125.158 414.921 Q122.913 414.55 120.506 413.81 L120.506 409.11 Q122.589 410.245 124.811 410.8 Q127.033 411.356 129.51 411.356 Q133.515 411.356 135.853 409.249 Q138.191 407.143 138.191 403.532 Q138.191 399.921 135.853 397.814 Q133.515 395.708 129.51 395.708 Q127.635 395.708 125.76 396.124 Q123.908 396.541 121.964 397.421 L121.964 380.06 Z\" fill=\"#000000\" fill-rule=\"nonzero\" fill-opacity=\"1\" /><path clip-path=\"url(#clip290)\" d=\"M91.5706 88.7629 L99.2095 88.7629 L99.2095 62.3973 L90.8993 64.064 L90.8993 59.8047 L99.1632 58.1381 L103.839 58.1381 L103.839 88.7629 L111.478 88.7629 L111.478 92.6981 L91.5706 92.6981 L91.5706 88.7629 Z\" fill=\"#000000\" fill-rule=\"nonzero\" fill-opacity=\"1\" /><path clip-path=\"url(#clip290)\" d=\"M130.922 61.2168 Q127.311 61.2168 125.482 64.7816 Q123.677 68.3232 123.677 75.4528 Q123.677 82.5593 125.482 86.124 Q127.311 89.6657 130.922 89.6657 Q134.556 89.6657 136.362 86.124 Q138.191 82.5593 138.191 75.4528 Q138.191 68.3232 136.362 64.7816 Q134.556 61.2168 130.922 61.2168 M130.922 57.5131 Q136.732 57.5131 139.788 62.1195 Q142.867 66.7029 142.867 75.4528 Q142.867 84.1796 139.788 88.7861 Q136.732 93.3694 130.922 93.3694 Q125.112 93.3694 122.033 88.7861 Q118.978 84.1796 118.978 75.4528 Q118.978 66.7029 122.033 62.1195 Q125.112 57.5131 130.922 57.5131 Z\" fill=\"#000000\" fill-rule=\"nonzero\" fill-opacity=\"1\" /><polyline clip-path=\"url(#clip292)\" style=\"stroke:#009af9; stroke-linecap:round; stroke-linejoin:round; stroke-width:4; stroke-opacity:1; fill:none\" points=\"178.867,87.9763 182.405,97.1317 185.943,106.223 189.482,115.248 193.02,124.202 209.378,164.615 225.737,203.206 242.095,239.729 258.453,273.963 274.812,305.721 291.17,334.853 307.528,361.251 323.887,384.852 333.717,397.679 343.548,409.493 353.379,420.304 363.209,430.127 373.04,438.984 382.871,446.905 392.701,453.921 402.532,460.072 419.156,468.629 435.779,475.079 452.403,479.697 469.026,482.781 505.141,485.752 541.257,486.438 574.552,487.938 607.847,492.651 625.695,497.151 643.543,503.302 661.391,511.243 679.239,521.05 699.918,534.754 720.597,550.876 741.275,569.209 761.954,589.439 798.708,628.765 835.461,669.925 867.691,704.966 899.92,736.688 917.49,751.837 935.059,765.094 952.628,776.207 970.198,784.975 987.872,791.28 1005.55,794.97 1023.22,796.015 1040.89,794.449 1060.43,789.795 1079.97,782.285 1099.52,772.218 1119.06,759.972 1156.24,732.27 1193.43,701.783 1212.76,686.075 1232.09,671.149 1251.42,657.499 1270.75,645.579 1287.03,637.179 1303.3,630.488 1319.57,625.67 1335.85,622.846 1355.71,622.213 1375.58,624.718 1385.52,627.135 1395.45,630.31 1405.38,634.222 1415.32,638.843 1433.52,649.034 1451.72,661.243 1469.92,675.17 1488.12,690.473 1521.74,721.077 1555.36,752.566 1589.41,782.788 1623.47,808.982 1642.55,821.18 1661.63,831.285 1680.71,839.137 1699.8,844.661 1717.09,847.662 1734.38,848.828 1751.67,848.284 1768.96,846.207 1808.56,836.99 1848.16,824.557 1866.49,818.891 1884.82,813.905 1903.15,810.052 1921.48,807.767 1939.56,807.45 1957.63,809.414 1975.7,813.973 1993.77,821.386 2011.32,831.506 2028.87,844.632 2046.42,860.831 2063.96,880.105 2081.95,902.995 2099.94,928.931 2117.93,957.725 2135.91,989.132 2155.62,1026.2 2175.33,1065.61 2195.04,1106.88 2214.75,1149.51 2243.38,1212.79 2272,1276.3 2300.63,1338.66 2329.26,1398.72 2335.14,1410.68 2341.01,1422.5 2346.88,1434.18 2352.76,1445.72 \"/>\n",
       "<polyline clip-path=\"url(#clip292)\" style=\"stroke:#e26f46; stroke-linecap:round; stroke-linejoin:round; stroke-width:4; stroke-opacity:1; fill:none\" points=\"-1995.02,719.261 4526.65,719.261 \"/>\n",
       "<path clip-path=\"url(#clip290)\" d=\"M1976.19 198.898 L2280.29 198.898 L2280.29 95.2176 L1976.19 95.2176  Z\" fill=\"#ffffff\" fill-rule=\"evenodd\" fill-opacity=\"1\"/>\n",
       "<polyline clip-path=\"url(#clip290)\" style=\"stroke:#000000; stroke-linecap:round; stroke-linejoin:round; stroke-width:4; stroke-opacity:1; fill:none\" points=\"1976.19,198.898 2280.29,198.898 2280.29,95.2176 1976.19,95.2176 1976.19,198.898 \"/>\n",
       "<polyline clip-path=\"url(#clip290)\" style=\"stroke:#009af9; stroke-linecap:round; stroke-linejoin:round; stroke-width:4; stroke-opacity:1; fill:none\" points=\"2000.35,147.058 2145.27,147.058 \"/>\n",
       "<path clip-path=\"url(#clip290)\" d=\"M2191.14 148.689 L2191.14 164.338 L2186.88 164.338 L2186.88 148.828 Q2186.88 145.148 2185.44 143.319 Q2184.01 141.49 2181.14 141.49 Q2177.69 141.49 2175.7 143.69 Q2173.71 145.889 2173.71 149.685 L2173.71 164.338 L2169.43 164.338 L2169.43 128.319 L2173.71 128.319 L2173.71 142.44 Q2175.24 140.102 2177.3 138.944 Q2179.38 137.787 2182.09 137.787 Q2186.56 137.787 2188.85 140.565 Q2191.14 143.319 2191.14 148.689 Z\" fill=\"#000000\" fill-rule=\"nonzero\" fill-opacity=\"1\" /><path clip-path=\"url(#clip290)\" d=\"M2209.87 128.366 Q2206.76 133.69 2205.26 138.898 Q2203.75 144.106 2203.75 149.453 Q2203.75 154.801 2205.26 160.055 Q2206.79 165.287 2209.87 170.588 L2206.16 170.588 Q2202.69 165.148 2200.95 159.893 Q2199.24 154.639 2199.24 149.453 Q2199.24 144.291 2200.95 139.06 Q2202.67 133.828 2206.16 128.366 L2209.87 128.366 Z\" fill=\"#000000\" fill-rule=\"nonzero\" fill-opacity=\"1\" /><path clip-path=\"url(#clip290)\" d=\"M2239.68 138.412 L2230.31 151.027 L2240.17 164.338 L2235.14 164.338 L2227.6 154.152 L2220.05 164.338 L2215.03 164.338 L2225.1 150.773 L2215.88 138.412 L2220.91 138.412 L2227.78 147.648 L2234.66 138.412 L2239.68 138.412 Z\" fill=\"#000000\" fill-rule=\"nonzero\" fill-opacity=\"1\" /><path clip-path=\"url(#clip290)\" d=\"M2245.51 128.366 L2249.22 128.366 Q2252.69 133.828 2254.4 139.06 Q2256.14 144.291 2256.14 149.453 Q2256.14 154.639 2254.4 159.893 Q2252.69 165.148 2249.22 170.588 L2245.51 170.588 Q2248.59 165.287 2250.1 160.055 Q2251.62 154.801 2251.62 149.453 Q2251.62 144.106 2250.1 138.898 Q2248.59 133.69 2245.51 128.366 Z\" fill=\"#000000\" fill-rule=\"nonzero\" fill-opacity=\"1\" /></svg>\n"
      ]
     },
     "execution_count": 12,
     "metadata": {},
     "output_type": "execute_result"
    }
   ],
   "source": [
    "h(x) = 0.1 + sin(x) + cos(x) - 0.01x^3\n",
    "\n",
    "plot(h, xlim=[-10, 10], label=\"h(x)\")\n",
    "hline!([0], label=\"\")"
   ]
  },
  {
   "cell_type": "markdown",
   "id": "485103be-d95c-490f-b68b-61b3ff436750",
   "metadata": {},
   "source": [
    "- Modify `bisection` so that it can deal with functions that have multiple roots in the range of $[a,b]$.  Name the function `bisection_b`.\n",
    "  - Hint: You may start from one end of the bracket, find the first root, use it to find the next one.\n",
    "  - The function should not be tailored to $h(x)$ given above. It should be general enough for other multiple-roots functions."
   ]
  },
  {
   "cell_type": "markdown",
   "id": "3a68fcdc-c404-4280-93f1-46b0437f2078",
   "metadata": {},
   "source": [
    "- Suppose you are given the function $h(x) = 0.1 + \\sin(x) + \\cos(x) - 0.01x^3$ and you are NOT allowed to plot the function for inspection. The only information you have is that it has multiple roots in $[-7,7]$. Use `bisection_b` to find the roots of $h(x)$."
   ]
  },
  {
   "cell_type": "code",
   "execution_count": 8,
   "id": "39a8221e-b895-4648-a739-b73a59ed8ed3",
   "metadata": {
    "tags": []
   },
   "outputs": [],
   "source": [
    "function bisection_b_1(f::Function, a, b, interval)\n",
    "    roots=Float64[]\n",
    "    \n",
    "    c = a + interval\n",
    "    while c <= b\n",
    "        p = (a + c) / 2\n",
    "        (f(p) == 0 || f(a)f(c) < 0) && push!(roots, p)\n",
    "            \n",
    "        a = c\n",
    "        c = a + interval\n",
    "    end\n",
    "    \n",
    "    return roots\n",
    "end;"
   ]
  },
  {
   "cell_type": "code",
   "execution_count": 13,
   "id": "5ef4fc52-af76-4740-96c6-dafed980229e",
   "metadata": {
    "tags": []
   },
   "outputs": [
    {
     "data": {
      "text/plain": [
       "3-element Vector{Float64}:\n",
       " -3.5341251960637536\n",
       " -0.8606883607648186\n",
       "  2.3366872649912307"
      ]
     },
     "execution_count": 13,
     "metadata": {},
     "output_type": "execute_result"
    }
   ],
   "source": [
    "root1 = bisection_b_1(h, -7, 7, 1e-8)"
   ]
  },
  {
   "cell_type": "code",
   "execution_count": 9,
   "id": "28ec9f31-439e-45a6-8319-6a60a0595ada",
   "metadata": {
    "tags": []
   },
   "outputs": [],
   "source": [
    "function bisection_b_2(f::Function, a, b, interval, roots=Float64[])\n",
    "    p = (a + b) / 2\n",
    "    if p - a < interval || b - p < interval\n",
    "        f(a)f(p) < 0 && push!(roots, (a+p)/2)\n",
    "        f(p)f(b) < 0 && push!(roots, (p+b)/2)\n",
    "        return\n",
    "    else\n",
    "        bisection_b_2(f, a, p, interval, roots)\n",
    "        bisection_b_2(f, p, b, interval, roots)\n",
    "    end\n",
    "    \n",
    "    return roots\n",
    "end;"
   ]
  },
  {
   "cell_type": "code",
   "execution_count": 14,
   "id": "192f2ff0-f0fd-4df0-8686-50ae28d4e909",
   "metadata": {
    "tags": []
   },
   "outputs": [
    {
     "data": {
      "text/plain": [
       "3-element Vector{Float64}:\n",
       " -3.5341251962818205\n",
       " -0.8606883543543518\n",
       "  2.3366872644983232"
      ]
     },
     "execution_count": 14,
     "metadata": {},
     "output_type": "execute_result"
    }
   ],
   "source": [
    "root2 = bisection_b_2(h, -7, 7, 1e-8)"
   ]
  },
  {
   "cell_type": "code",
   "execution_count": 7,
   "id": "7b3f5c55-6422-4974-b9dd-0a16b9833b50",
   "metadata": {
    "tags": []
   },
   "outputs": [],
   "source": [
    "function bisection_a(f::Function, a, b, eps, imax)\n",
    "    iter = 1                           \n",
    "    p = zero(float(Int))   \n",
    "    while iter <= imax\n",
    "        p = (a + b) / 2          \n",
    "        if f(p) == 0 || abs(a-b)<eps\n",
    "            return p\n",
    "        end\n",
    "    \n",
    "        f(a)f(p) < 0 ? b = p : a = p \n",
    "        iter += 1\n",
    "    end\n",
    "    println(\"Maximum number of iterations is researched\")\n",
    "    return p\n",
    "end\n",
    "\n",
    "function bisection_b_boost(f::Function, a, b, eps, imax; warmup::Function, interval)\n",
    "    _roots = warmup(f, a, b, interval)\n",
    "    sub_interval = minimum(diff(_roots)) * 0.1\n",
    "    roots = [\n",
    "        bisection_a(f, i-sub_interval, i+sub_interval, eps, imax)\n",
    "        for i in _roots\n",
    "    ]\n",
    "    \n",
    "    \n",
    "    return _roots, roots\n",
    "end\n",
    "\n",
    "Base.show(io::IO, f::Float64) = @printf(io, \"%.16f\", f);"
   ]
  },
  {
   "cell_type": "code",
   "execution_count": 14,
   "id": "ed0f9bb5-cef0-45fe-ae82-5d721792d5ce",
   "metadata": {
    "tags": []
   },
   "outputs": [
    {
     "data": {
      "text/plain": [
       "3×3 Matrix{Float64}:\n",
       " -3.5341500000060089  -3.5341252006926123  -3.5341251960637536\n",
       " -0.8606500000028966  -0.8606883602581084  -0.8606883607648186\n",
       "  2.3366499999975314   2.3366872607169196   2.3366872649912307"
      ]
     },
     "execution_count": 14,
     "metadata": {},
     "output_type": "execute_result"
    }
   ],
   "source": [
    "_roots, roots = bisection_b_boost(\n",
    "    h, -7, 7, 1e-8, 50; \n",
    "    warmup=bisection_b_1, interval=1e-4\n",
    ")\n",
    "\n",
    "[_roots roots root1]"
   ]
  },
  {
   "cell_type": "code",
   "execution_count": 33,
   "id": "e2280d41-1ff5-4840-bd07-b6eeca31e7ec",
   "metadata": {
    "tags": []
   },
   "outputs": [
    {
     "data": {
      "text/plain": [
       "3×3 Matrix{Float64}:\n",
       " -3.5340995788574219  -3.5341251977427648  -3.5341251962818205\n",
       " -0.8607139587402344  -0.8606883557895115  -0.8606883543543518\n",
       "  2.3366889953613281   2.3366872624714015   2.3366872644983232"
      ]
     },
     "execution_count": 33,
     "metadata": {},
     "output_type": "execute_result"
    }
   ],
   "source": [
    "_roots, roots = bisection_b_boost(\n",
    "    h, -7, 7, 1e-8, 50; \n",
    "    warmup=bisection_b_2, interval=1e-4\n",
    ")\n",
    "\n",
    "[_roots roots root2]"
   ]
  },
  {
   "cell_type": "code",
   "execution_count": 30,
   "id": "dd646803-ae5b-4b94-839e-6e32cd940f1d",
   "metadata": {
    "tags": []
   },
   "outputs": [
    {
     "name": "stdout",
     "output_type": "stream",
     "text": [
      "  6.208 μs (4 allocations: 304 bytes)\n",
      "  7.552 μs (10 allocations: 464 bytes)\n"
     ]
    }
   ],
   "source": [
    "@btime bisection_b_boost(\n",
    "    h, -7, 7, 1e-8, 50; \n",
    "    warmup=bisection_b_1, interval=0.1\n",
    ")\n",
    "\n",
    "@btime bisection_b_boost(\n",
    "    h, -7, 7, 1e-8, 50; \n",
    "    warmup=bisection_b_2, interval=0.1\n",
    ");"
   ]
  },
  {
   "cell_type": "code",
   "execution_count": 31,
   "id": "1fee1bc6-bfae-48c5-abc6-87735cdbf4c2",
   "metadata": {
    "tags": []
   },
   "outputs": [
    {
     "name": "stdout",
     "output_type": "stream",
     "text": [
      "  363.006 ms (4 allocations: 304 bytes)\n",
      "  312.677 ms (10 allocations: 464 bytes)\n"
     ]
    }
   ],
   "source": [
    "@btime bisection_b_boost(\n",
    "    h, -7, 7, 1e-8, 50; \n",
    "    warmup=bisection_b_1, interval=1e-6\n",
    ")\n",
    "\n",
    "@btime bisection_b_boost(\n",
    "    h, -7, 7, 1e-8, 50; \n",
    "    warmup=bisection_b_2, interval=1e-6\n",
    ");"
   ]
  },
  {
   "cell_type": "code",
   "execution_count": 15,
   "id": "129fd7cc-ea78-4495-ae16-7ef8c5f656a5",
   "metadata": {
    "tags": []
   },
   "outputs": [
    {
     "data": {
      "image/svg+xml": [
       "<?xml version=\"1.0\" encoding=\"utf-8\"?>\n",
       "<svg xmlns=\"http://www.w3.org/2000/svg\" xmlns:xlink=\"http://www.w3.org/1999/xlink\" width=\"600\" height=\"400\" viewBox=\"0 0 2400 1600\">\n",
       "<defs>\n",
       "  <clipPath id=\"clip330\">\n",
       "    <rect x=\"0\" y=\"0\" width=\"2400\" height=\"1600\"/>\n",
       "  </clipPath>\n",
       "</defs>\n",
       "<path clip-path=\"url(#clip330)\" d=\"M0 1600 L2400 1600 L2400 0 L0 0  Z\" fill=\"#ffffff\" fill-rule=\"evenodd\" fill-opacity=\"1\"/>\n",
       "<defs>\n",
       "  <clipPath id=\"clip331\">\n",
       "    <rect x=\"480\" y=\"0\" width=\"1681\" height=\"1600\"/>\n",
       "  </clipPath>\n",
       "</defs>\n",
       "<path clip-path=\"url(#clip330)\" d=\"M149.191 1486.45 L2352.76 1486.45 L2352.76 47.2441 L149.191 47.2441  Z\" fill=\"#ffffff\" fill-rule=\"evenodd\" fill-opacity=\"1\"/>\n",
       "<defs>\n",
       "  <clipPath id=\"clip332\">\n",
       "    <rect x=\"149\" y=\"47\" width=\"2205\" height=\"1440\"/>\n",
       "  </clipPath>\n",
       "</defs>\n",
       "<polyline clip-path=\"url(#clip332)\" style=\"stroke:#000000; stroke-linecap:round; stroke-linejoin:round; stroke-width:2; stroke-opacity:0.1; fill:none\" points=\"149.191,1486.45 149.191,47.2441 \"/>\n",
       "<polyline clip-path=\"url(#clip332)\" style=\"stroke:#000000; stroke-linecap:round; stroke-linejoin:round; stroke-width:2; stroke-opacity:0.1; fill:none\" points=\"700.082,1486.45 700.082,47.2441 \"/>\n",
       "<polyline clip-path=\"url(#clip332)\" style=\"stroke:#000000; stroke-linecap:round; stroke-linejoin:round; stroke-width:2; stroke-opacity:0.1; fill:none\" points=\"1250.97,1486.45 1250.97,47.2441 \"/>\n",
       "<polyline clip-path=\"url(#clip332)\" style=\"stroke:#000000; stroke-linecap:round; stroke-linejoin:round; stroke-width:2; stroke-opacity:0.1; fill:none\" points=\"1801.86,1486.45 1801.86,47.2441 \"/>\n",
       "<polyline clip-path=\"url(#clip332)\" style=\"stroke:#000000; stroke-linecap:round; stroke-linejoin:round; stroke-width:2; stroke-opacity:0.1; fill:none\" points=\"2352.76,1486.45 2352.76,47.2441 \"/>\n",
       "<polyline clip-path=\"url(#clip330)\" style=\"stroke:#000000; stroke-linecap:round; stroke-linejoin:round; stroke-width:4; stroke-opacity:1; fill:none\" points=\"149.191,1486.45 2352.76,1486.45 \"/>\n",
       "<polyline clip-path=\"url(#clip330)\" style=\"stroke:#000000; stroke-linecap:round; stroke-linejoin:round; stroke-width:4; stroke-opacity:1; fill:none\" points=\"149.191,1486.45 149.191,1467.55 \"/>\n",
       "<polyline clip-path=\"url(#clip330)\" style=\"stroke:#000000; stroke-linecap:round; stroke-linejoin:round; stroke-width:4; stroke-opacity:1; fill:none\" points=\"700.082,1486.45 700.082,1467.55 \"/>\n",
       "<polyline clip-path=\"url(#clip330)\" style=\"stroke:#000000; stroke-linecap:round; stroke-linejoin:round; stroke-width:4; stroke-opacity:1; fill:none\" points=\"1250.97,1486.45 1250.97,1467.55 \"/>\n",
       "<polyline clip-path=\"url(#clip330)\" style=\"stroke:#000000; stroke-linecap:round; stroke-linejoin:round; stroke-width:4; stroke-opacity:1; fill:none\" points=\"1801.86,1486.45 1801.86,1467.55 \"/>\n",
       "<polyline clip-path=\"url(#clip330)\" style=\"stroke:#000000; stroke-linecap:round; stroke-linejoin:round; stroke-width:4; stroke-opacity:1; fill:none\" points=\"2352.76,1486.45 2352.76,1467.55 \"/>\n",
       "<path clip-path=\"url(#clip330)\" d=\"M103.254 1532.02 L132.929 1532.02 L132.929 1535.95 L103.254 1535.95 L103.254 1532.02 Z\" fill=\"#000000\" fill-rule=\"nonzero\" fill-opacity=\"1\" /><path clip-path=\"url(#clip330)\" d=\"M147.05 1544.91 L163.369 1544.91 L163.369 1548.85 L141.425 1548.85 L141.425 1544.91 Q144.087 1542.16 148.67 1537.53 Q153.276 1532.88 154.457 1531.53 Q156.702 1529.01 157.582 1527.27 Q158.485 1525.51 158.485 1523.82 Q158.485 1521.07 156.54 1519.33 Q154.619 1517.6 151.517 1517.6 Q149.318 1517.6 146.864 1518.36 Q144.434 1519.13 141.656 1520.68 L141.656 1515.95 Q144.48 1514.82 146.934 1514.24 Q149.388 1513.66 151.425 1513.66 Q156.795 1513.66 159.989 1516.35 Q163.184 1519.03 163.184 1523.52 Q163.184 1525.65 162.374 1527.57 Q161.587 1529.47 159.48 1532.07 Q158.901 1532.74 155.8 1535.95 Q152.698 1539.15 147.05 1544.91 Z\" fill=\"#000000\" fill-rule=\"nonzero\" fill-opacity=\"1\" /><path clip-path=\"url(#clip330)\" d=\"M183.184 1517.37 Q179.573 1517.37 177.744 1520.93 Q175.938 1524.47 175.938 1531.6 Q175.938 1538.71 177.744 1542.27 Q179.573 1545.82 183.184 1545.82 Q186.818 1545.82 188.624 1542.27 Q190.452 1538.71 190.452 1531.6 Q190.452 1524.47 188.624 1520.93 Q186.818 1517.37 183.184 1517.37 M183.184 1513.66 Q188.994 1513.66 192.049 1518.27 Q195.128 1522.85 195.128 1531.6 Q195.128 1540.33 192.049 1544.94 Q188.994 1549.52 183.184 1549.52 Q177.374 1549.52 174.295 1544.94 Q171.239 1540.33 171.239 1531.6 Q171.239 1522.85 174.295 1518.27 Q177.374 1513.66 183.184 1513.66 Z\" fill=\"#000000\" fill-rule=\"nonzero\" fill-opacity=\"1\" /><path clip-path=\"url(#clip330)\" d=\"M654.145 1532.02 L683.821 1532.02 L683.821 1535.95 L654.145 1535.95 L654.145 1532.02 Z\" fill=\"#000000\" fill-rule=\"nonzero\" fill-opacity=\"1\" /><path clip-path=\"url(#clip330)\" d=\"M694.723 1544.91 L702.362 1544.91 L702.362 1518.55 L694.052 1520.21 L694.052 1515.95 L702.316 1514.29 L706.992 1514.29 L706.992 1544.91 L714.631 1544.91 L714.631 1548.85 L694.723 1548.85 L694.723 1544.91 Z\" fill=\"#000000\" fill-rule=\"nonzero\" fill-opacity=\"1\" /><path clip-path=\"url(#clip330)\" d=\"M734.075 1517.37 Q730.464 1517.37 728.635 1520.93 Q726.83 1524.47 726.83 1531.6 Q726.83 1538.71 728.635 1542.27 Q730.464 1545.82 734.075 1545.82 Q737.709 1545.82 739.515 1542.27 Q741.343 1538.71 741.343 1531.6 Q741.343 1524.47 739.515 1520.93 Q737.709 1517.37 734.075 1517.37 M734.075 1513.66 Q739.885 1513.66 742.941 1518.27 Q746.019 1522.85 746.019 1531.6 Q746.019 1540.33 742.941 1544.94 Q739.885 1549.52 734.075 1549.52 Q728.265 1549.52 725.186 1544.94 Q722.131 1540.33 722.131 1531.6 Q722.131 1522.85 725.186 1518.27 Q728.265 1513.66 734.075 1513.66 Z\" fill=\"#000000\" fill-rule=\"nonzero\" fill-opacity=\"1\" /><path clip-path=\"url(#clip330)\" d=\"M1250.97 1517.37 Q1247.36 1517.37 1245.53 1520.93 Q1243.73 1524.47 1243.73 1531.6 Q1243.73 1538.71 1245.53 1542.27 Q1247.36 1545.82 1250.97 1545.82 Q1254.61 1545.82 1256.41 1542.27 Q1258.24 1538.71 1258.24 1531.6 Q1258.24 1524.47 1256.41 1520.93 Q1254.61 1517.37 1250.97 1517.37 M1250.97 1513.66 Q1256.78 1513.66 1259.84 1518.27 Q1262.92 1522.85 1262.92 1531.6 Q1262.92 1540.33 1259.84 1544.94 Q1256.78 1549.52 1250.97 1549.52 Q1245.16 1549.52 1242.08 1544.94 Q1239.03 1540.33 1239.03 1531.6 Q1239.03 1522.85 1242.08 1518.27 Q1245.16 1513.66 1250.97 1513.66 Z\" fill=\"#000000\" fill-rule=\"nonzero\" fill-opacity=\"1\" /><path clip-path=\"url(#clip330)\" d=\"M1776.55 1544.91 L1784.19 1544.91 L1784.19 1518.55 L1775.88 1520.21 L1775.88 1515.95 L1784.14 1514.29 L1788.82 1514.29 L1788.82 1544.91 L1796.46 1544.91 L1796.46 1548.85 L1776.55 1548.85 L1776.55 1544.91 Z\" fill=\"#000000\" fill-rule=\"nonzero\" fill-opacity=\"1\" /><path clip-path=\"url(#clip330)\" d=\"M1815.9 1517.37 Q1812.29 1517.37 1810.46 1520.93 Q1808.66 1524.47 1808.66 1531.6 Q1808.66 1538.71 1810.46 1542.27 Q1812.29 1545.82 1815.9 1545.82 Q1819.54 1545.82 1821.34 1542.27 Q1823.17 1538.71 1823.17 1531.6 Q1823.17 1524.47 1821.34 1520.93 Q1819.54 1517.37 1815.9 1517.37 M1815.9 1513.66 Q1821.71 1513.66 1824.77 1518.27 Q1827.85 1522.85 1827.85 1531.6 Q1827.85 1540.33 1824.77 1544.94 Q1821.71 1549.52 1815.9 1549.52 Q1810.09 1549.52 1807.02 1544.94 Q1803.96 1540.33 1803.96 1531.6 Q1803.96 1522.85 1807.02 1518.27 Q1810.09 1513.66 1815.9 1513.66 Z\" fill=\"#000000\" fill-rule=\"nonzero\" fill-opacity=\"1\" /><path clip-path=\"url(#clip330)\" d=\"M2331.53 1544.91 L2347.85 1544.91 L2347.85 1548.85 L2325.9 1548.85 L2325.9 1544.91 Q2328.57 1542.16 2333.15 1537.53 Q2337.76 1532.88 2338.94 1531.53 Q2341.18 1529.01 2342.06 1527.27 Q2342.96 1525.51 2342.96 1523.82 Q2342.96 1521.07 2341.02 1519.33 Q2339.1 1517.6 2336 1517.6 Q2333.8 1517.6 2331.34 1518.36 Q2328.91 1519.13 2326.14 1520.68 L2326.14 1515.95 Q2328.96 1514.82 2331.41 1514.24 Q2333.87 1513.66 2335.9 1513.66 Q2341.27 1513.66 2344.47 1516.35 Q2347.66 1519.03 2347.66 1523.52 Q2347.66 1525.65 2346.85 1527.57 Q2346.07 1529.47 2343.96 1532.07 Q2343.38 1532.74 2340.28 1535.95 Q2337.18 1539.15 2331.53 1544.91 Z\" fill=\"#000000\" fill-rule=\"nonzero\" fill-opacity=\"1\" /><path clip-path=\"url(#clip330)\" d=\"M2367.66 1517.37 Q2364.05 1517.37 2362.22 1520.93 Q2360.42 1524.47 2360.42 1531.6 Q2360.42 1538.71 2362.22 1542.27 Q2364.05 1545.82 2367.66 1545.82 Q2371.3 1545.82 2373.1 1542.27 Q2374.93 1538.71 2374.93 1531.6 Q2374.93 1524.47 2373.1 1520.93 Q2371.3 1517.37 2367.66 1517.37 M2367.66 1513.66 Q2373.47 1513.66 2376.53 1518.27 Q2379.61 1522.85 2379.61 1531.6 Q2379.61 1540.33 2376.53 1544.94 Q2373.47 1549.52 2367.66 1549.52 Q2361.85 1549.52 2358.77 1544.94 Q2355.72 1540.33 2355.72 1531.6 Q2355.72 1522.85 2358.77 1518.27 Q2361.85 1513.66 2367.66 1513.66 Z\" fill=\"#000000\" fill-rule=\"nonzero\" fill-opacity=\"1\" /><polyline clip-path=\"url(#clip332)\" style=\"stroke:#000000; stroke-linecap:round; stroke-linejoin:round; stroke-width:2; stroke-opacity:0.1; fill:none\" points=\"149.191,1352.75 2352.76,1352.75 \"/>\n",
       "<polyline clip-path=\"url(#clip332)\" style=\"stroke:#000000; stroke-linecap:round; stroke-linejoin:round; stroke-width:2; stroke-opacity:0.1; fill:none\" points=\"149.191,1123.13 2352.76,1123.13 \"/>\n",
       "<polyline clip-path=\"url(#clip332)\" style=\"stroke:#000000; stroke-linecap:round; stroke-linejoin:round; stroke-width:2; stroke-opacity:0.1; fill:none\" points=\"149.191,893.506 2352.76,893.506 \"/>\n",
       "<polyline clip-path=\"url(#clip332)\" style=\"stroke:#000000; stroke-linecap:round; stroke-linejoin:round; stroke-width:2; stroke-opacity:0.1; fill:none\" points=\"149.191,663.883 2352.76,663.883 \"/>\n",
       "<polyline clip-path=\"url(#clip332)\" style=\"stroke:#000000; stroke-linecap:round; stroke-linejoin:round; stroke-width:2; stroke-opacity:0.1; fill:none\" points=\"149.191,434.261 2352.76,434.261 \"/>\n",
       "<polyline clip-path=\"url(#clip332)\" style=\"stroke:#000000; stroke-linecap:round; stroke-linejoin:round; stroke-width:2; stroke-opacity:0.1; fill:none\" points=\"149.191,204.639 2352.76,204.639 \"/>\n",
       "<polyline clip-path=\"url(#clip330)\" style=\"stroke:#000000; stroke-linecap:round; stroke-linejoin:round; stroke-width:4; stroke-opacity:1; fill:none\" points=\"149.191,1486.45 149.191,47.2441 \"/>\n",
       "<polyline clip-path=\"url(#clip330)\" style=\"stroke:#000000; stroke-linecap:round; stroke-linejoin:round; stroke-width:4; stroke-opacity:1; fill:none\" points=\"149.191,1352.75 168.089,1352.75 \"/>\n",
       "<polyline clip-path=\"url(#clip330)\" style=\"stroke:#000000; stroke-linecap:round; stroke-linejoin:round; stroke-width:4; stroke-opacity:1; fill:none\" points=\"149.191,1123.13 168.089,1123.13 \"/>\n",
       "<polyline clip-path=\"url(#clip330)\" style=\"stroke:#000000; stroke-linecap:round; stroke-linejoin:round; stroke-width:4; stroke-opacity:1; fill:none\" points=\"149.191,893.506 168.089,893.506 \"/>\n",
       "<polyline clip-path=\"url(#clip330)\" style=\"stroke:#000000; stroke-linecap:round; stroke-linejoin:round; stroke-width:4; stroke-opacity:1; fill:none\" points=\"149.191,663.883 168.089,663.883 \"/>\n",
       "<polyline clip-path=\"url(#clip330)\" style=\"stroke:#000000; stroke-linecap:round; stroke-linejoin:round; stroke-width:4; stroke-opacity:1; fill:none\" points=\"149.191,434.261 168.089,434.261 \"/>\n",
       "<polyline clip-path=\"url(#clip330)\" style=\"stroke:#000000; stroke-linecap:round; stroke-linejoin:round; stroke-width:4; stroke-opacity:1; fill:none\" points=\"149.191,204.639 168.089,204.639 \"/>\n",
       "<path clip-path=\"url(#clip330)\" d=\"M50.9921 1353.2 L80.6679 1353.2 L80.6679 1357.14 L50.9921 1357.14 L50.9921 1353.2 Z\" fill=\"#000000\" fill-rule=\"nonzero\" fill-opacity=\"1\" /><path clip-path=\"url(#clip330)\" d=\"M103.608 1339.54 L91.8021 1357.99 L103.608 1357.99 L103.608 1339.54 M102.381 1335.47 L108.26 1335.47 L108.26 1357.99 L113.191 1357.99 L113.191 1361.88 L108.26 1361.88 L108.26 1370.03 L103.608 1370.03 L103.608 1361.88 L88.0058 1361.88 L88.0058 1357.37 L102.381 1335.47 Z\" fill=\"#000000\" fill-rule=\"nonzero\" fill-opacity=\"1\" /><path clip-path=\"url(#clip330)\" d=\"M52.1264 1123.58 L81.8021 1123.58 L81.8021 1127.51 L52.1264 1127.51 L52.1264 1123.58 Z\" fill=\"#000000\" fill-rule=\"nonzero\" fill-opacity=\"1\" /><path clip-path=\"url(#clip330)\" d=\"M106.061 1121.77 Q109.418 1122.49 111.293 1124.76 Q113.191 1127.03 113.191 1130.36 Q113.191 1135.48 109.672 1138.28 Q106.154 1141.08 99.6724 1141.08 Q97.4965 1141.08 95.1817 1140.64 Q92.89 1140.22 90.4364 1139.37 L90.4364 1134.85 Q92.3808 1135.99 94.6956 1136.57 Q97.0104 1137.14 99.5335 1137.14 Q103.932 1137.14 106.223 1135.41 Q108.538 1133.67 108.538 1130.36 Q108.538 1127.31 106.385 1125.59 Q104.256 1123.86 100.436 1123.86 L96.4085 1123.86 L96.4085 1120.01 L100.621 1120.01 Q104.071 1120.01 105.899 1118.65 Q107.728 1117.26 107.728 1114.67 Q107.728 1112.01 105.83 1110.59 Q103.955 1109.16 100.436 1109.16 Q98.515 1109.16 96.316 1109.57 Q94.1169 1109.99 91.478 1110.87 L91.478 1106.7 Q94.14 1105.96 96.4548 1105.59 Q98.7928 1105.22 100.853 1105.22 Q106.177 1105.22 109.279 1107.65 Q112.381 1110.06 112.381 1114.18 Q112.381 1117.05 110.737 1119.04 Q109.094 1121.01 106.061 1121.77 Z\" fill=\"#000000\" fill-rule=\"nonzero\" fill-opacity=\"1\" /><path clip-path=\"url(#clip330)\" d=\"M53.0754 893.957 L82.7512 893.957 L82.7512 897.892 L53.0754 897.892 L53.0754 893.957 Z\" fill=\"#000000\" fill-rule=\"nonzero\" fill-opacity=\"1\" /><path clip-path=\"url(#clip330)\" d=\"M96.8715 906.85 L113.191 906.85 L113.191 910.786 L91.2465 910.786 L91.2465 906.85 Q93.9086 904.096 98.4919 899.466 Q103.098 894.813 104.279 893.471 Q106.524 890.948 107.404 889.212 Q108.307 887.452 108.307 885.763 Q108.307 883.008 106.362 881.272 Q104.441 879.536 101.339 879.536 Q99.14 879.536 96.6863 880.3 Q94.2558 881.063 91.478 882.614 L91.478 877.892 Q94.3021 876.758 96.7558 876.179 Q99.2095 875.601 101.246 875.601 Q106.617 875.601 109.811 878.286 Q113.006 880.971 113.006 885.462 Q113.006 887.591 112.196 889.512 Q111.408 891.411 109.302 894.003 Q108.723 894.675 105.621 897.892 Q102.52 901.087 96.8715 906.85 Z\" fill=\"#000000\" fill-rule=\"nonzero\" fill-opacity=\"1\" /><path clip-path=\"url(#clip330)\" d=\"M52.7051 664.335 L82.3808 664.335 L82.3808 668.27 L52.7051 668.27 L52.7051 664.335 Z\" fill=\"#000000\" fill-rule=\"nonzero\" fill-opacity=\"1\" /><path clip-path=\"url(#clip330)\" d=\"M93.2836 677.228 L100.922 677.228 L100.922 650.862 L92.6123 652.529 L92.6123 648.27 L100.876 646.603 L105.552 646.603 L105.552 677.228 L113.191 677.228 L113.191 681.163 L93.2836 681.163 L93.2836 677.228 Z\" fill=\"#000000\" fill-rule=\"nonzero\" fill-opacity=\"1\" /><path clip-path=\"url(#clip330)\" d=\"M101.246 420.06 Q97.6354 420.06 95.8067 423.624 Q94.0012 427.166 94.0012 434.296 Q94.0012 441.402 95.8067 444.967 Q97.6354 448.509 101.246 448.509 Q104.881 448.509 106.686 444.967 Q108.515 441.402 108.515 434.296 Q108.515 427.166 106.686 423.624 Q104.881 420.06 101.246 420.06 M101.246 416.356 Q107.057 416.356 110.112 420.962 Q113.191 425.546 113.191 434.296 Q113.191 443.023 110.112 447.629 Q107.057 452.212 101.246 452.212 Q95.4363 452.212 92.3576 447.629 Q89.3021 443.023 89.3021 434.296 Q89.3021 425.546 92.3576 420.962 Q95.4363 416.356 101.246 416.356 Z\" fill=\"#000000\" fill-rule=\"nonzero\" fill-opacity=\"1\" /><path clip-path=\"url(#clip330)\" d=\"M93.2836 217.984 L100.922 217.984 L100.922 191.618 L92.6123 193.285 L92.6123 189.025 L100.876 187.359 L105.552 187.359 L105.552 217.984 L113.191 217.984 L113.191 221.919 L93.2836 221.919 L93.2836 217.984 Z\" fill=\"#000000\" fill-rule=\"nonzero\" fill-opacity=\"1\" /><polyline clip-path=\"url(#clip332)\" style=\"stroke:#009af9; stroke-linecap:round; stroke-linejoin:round; stroke-width:4; stroke-opacity:1; fill:none\" points=\"149.191,1445.72 152.777,1419.76 156.364,1393.43 159.951,1366.79 163.537,1339.94 171.828,1277.54 180.119,1215.59 188.41,1155.17 196.701,1097.35 200.846,1069.73 204.991,1043.14 209.137,1017.67 213.282,993.457 217.428,970.581 221.573,949.141 225.719,929.22 229.864,910.895 234.009,894.234 238.155,879.294 242.3,866.125 246.446,854.764 250.591,845.24 254.736,837.572 258.882,831.768 263.027,827.825 267.173,825.73 271.318,825.46 275.463,826.982 279.609,830.252 283.754,835.218 287.9,841.817 292.045,849.977 296.191,859.618 301.173,873.04 306.155,888.305 311.138,905.229 316.12,923.616 326.085,963.938 336.05,1007.5 346.015,1052.42 355.98,1096.79 360.962,1118.17 365.945,1138.72 370.927,1158.2 375.91,1176.4 380.122,1190.64 384.335,1203.71 388.547,1215.5 392.76,1225.9 396.973,1234.82 401.185,1242.18 405.398,1247.91 409.61,1251.93 413.823,1254.2 418.036,1254.67 422.248,1253.31 426.461,1250.09 430.673,1244.99 434.886,1238.03 439.099,1229.21 443.311,1218.55 447.887,1204.93 452.463,1189.22 457.039,1171.52 461.615,1151.89 466.191,1130.43 470.767,1107.26 475.344,1082.5 479.92,1056.29 489.072,1000.06 498.224,939.847 507.376,877.009 516.528,812.995 524.965,754.214 533.403,696.85 537.622,669.053 541.84,642.03 546.059,615.91 550.278,590.823 554.497,566.887 558.715,544.218 562.934,522.921 567.153,503.098 571.371,484.836 575.59,468.219 579.809,453.319 584.028,440.196 588.55,428.162 593.073,418.282 597.596,410.592 602.119,405.114 606.642,401.855 611.165,400.806 615.688,401.946 620.211,405.236 624.734,410.627 629.257,418.052 633.78,427.433 638.303,438.678 642.825,451.683 647.348,466.332 651.871,482.498 656.394,500.045 661.634,521.91 666.875,545.192 672.115,569.639 677.355,594.988 687.836,647.305 698.316,699.931 708.797,750.647 719.277,797.31 724.517,818.491 729.758,837.929 734.998,855.408 740.238,870.736 744.895,882.408 749.552,892.133 754.209,899.815 758.866,905.374 763.523,908.746 768.179,909.883 772.836,908.751 777.493,905.335 782.15,899.634 786.807,891.666 791.464,881.465 796.121,869.08 800.778,854.576 805.435,838.035 810.092,819.551 814.748,799.235 818.832,780.008 822.916,759.557 827,737.981 831.083,715.382 839.251,667.563 847.418,617.036 863.753,511.892 880.087,408.274 884.54,381.39 888.992,355.395 893.444,330.441 897.897,306.678 902.349,284.242 906.801,263.267 911.254,243.873 915.706,226.173 920.158,210.266 924.611,196.242 929.063,184.178 933.515,174.139 937.968,166.176 942.42,160.327 946.872,156.616 951.324,155.055 955.803,155.651 960.282,158.401 964.761,163.274 969.24,170.226 973.718,179.197 978.197,190.117 982.676,202.899 987.155,217.449 991.633,233.658 996.112,251.406 1000.59,270.566 1005.07,290.999 1009.55,312.559 1014.03,335.094 1018.51,358.443 1022.98,382.441 1032.89,436.969 1042.79,491.977 1052.7,545.591 1062.6,595.983 1067.55,619.428 1072.5,641.436 1077.46,661.817 1082.41,680.396 1087.36,697.013 1092.31,711.524 1097.26,723.802 1102.21,733.737 1106.93,740.935 1111.64,745.871 1116.35,748.503 1121.06,748.803 1125.77,746.763 1130.48,742.391 1135.2,735.712 1139.91,726.769 1144.62,715.623 1149.33,702.347 1154.04,687.035 1158.75,669.793 1163.47,650.741 1168.18,630.015 1172.89,607.762 1177.6,584.14 1187.4,531.379 1197.2,475.071 1206.99,416.966 1216.79,358.873 1221.69,330.4 1226.59,302.608 1231.49,275.714 1236.39,249.931 1241.29,225.46 1246.18,202.495 1251.08,181.217 1255.98,161.793 1260.11,146.993 1264.23,133.7 1268.35,121.988 1272.48,111.924 1276.6,103.564 1280.73,96.9561 1284.85,92.1386 1288.97,89.1393 1293.1,87.9763 1297.22,88.6575 1301.35,91.1807 1305.47,95.5333 1309.59,101.693 1313.72,109.627 1317.84,119.293 1321.96,130.64 1327,146.681 1332.03,165.005 1337.07,185.465 1342.1,207.895 1347.14,232.114 1352.17,257.926 1357.21,285.12 1362.24,313.478 1372.31,372.754 1382.38,433.84 1392.45,494.763 1402.52,553.563 1407.13,579.267 1411.75,603.955 1416.36,627.463 1420.97,649.634 1425.58,670.32 1430.19,689.386 1434.81,706.706 1439.42,722.168 1444.03,735.673 1448.64,747.135 1453.25,756.484 1457.87,763.664 1462.48,768.634 1467.09,771.371 1471.7,771.865 1476.32,770.123 1480.58,766.549 1484.83,761.117 1489.09,753.87 1493.35,744.859 1497.61,734.148 1501.87,721.811 1506.13,707.929 1510.39,692.597 1514.65,675.916 1518.91,657.995 1523.17,638.952 1527.43,618.911 1535.95,576.362 1544.47,531.449 1553.1,484.733 1561.73,438.024 1570.36,392.561 1578.99,349.561 1583.31,329.348 1587.62,310.179 1591.93,292.183 1596.25,275.486 1600.56,260.202 1604.88,246.44 1609.19,234.299 1613.51,223.866 1618.35,214.301 1623.18,207.075 1628.02,202.265 1632.85,199.927 1637.69,200.103 1642.52,202.811 1647.36,208.054 1652.2,215.813 1657.03,226.05 1661.87,238.71 1666.7,253.719 1671.54,270.983 1676.38,290.394 1681.21,311.825 1686.05,335.137 1690.88,360.173 1695.26,384.209 1699.65,409.39 1704.03,435.576 1708.41,462.619 1717.18,518.666 1725.94,576.271 1734.7,634.137 1743.47,690.962 1752.23,745.475 1761,796.467 1766.01,823.636 1771.03,849.089 1776.05,872.647 1781.06,894.149 1786.08,913.449 1791.1,930.42 1796.12,944.957 1801.13,956.972 1806.15,966.401 1811.17,973.199 1816.18,977.347 1821.2,978.844 1826.22,977.714 1831.24,974.003 1836.25,967.777 1841.27,959.126 1845.92,949.047 1850.56,937.081 1855.21,923.346 1859.85,907.967 1864.5,891.084 1869.14,872.849 1873.79,853.42 1878.43,832.969 1887.72,789.707 1897.01,744.543 1906.31,699.015 1915.6,654.674 1920.18,633.72 1924.76,613.603 1929.34,594.493 1933.92,576.554 1938.5,559.942 1943.08,544.807 1947.66,531.284 1952.24,519.501 1956.82,509.573 1961.4,501.601 1965.98,495.675 1970.55,491.87 1975.13,490.246 1979.71,490.849 1984.29,493.71 1988.87,498.845 1993.32,506.004 1997.77,515.292 2002.21,526.681 2006.66,540.128 2011.11,555.581 2015.55,572.97 2020,592.217 2024.45,613.23 2028.89,635.905 2033.34,660.129 2037.79,685.779 2042.23,712.721 2046.68,740.815 2051.13,769.913 2055.57,799.86 2060.02,830.497 2069.14,894.768 2078.25,959.794 2087.37,1024.11 2096.49,1086.27 2101.05,1116.1 2105.6,1144.89 2110.16,1172.47 2114.72,1198.69 2119.28,1223.42 2123.84,1246.53 2128.4,1267.89 2132.95,1287.42 2137.95,1306.58 2142.94,1323.32 2147.94,1337.55 2152.93,1349.21 2157.93,1358.26 2162.92,1364.68 2167.91,1368.48 2172.91,1369.68 2177.9,1368.33 2182.9,1364.49 2187.89,1358.26 2192.89,1349.75 2197.88,1339.07 2202.87,1326.39 2207.87,1311.86 2212.86,1295.67 2220.12,1269.56 2227.37,1240.98 2234.63,1210.6 2241.88,1179.14 2249.14,1147.33 2256.39,1115.9 2263.65,1085.6 2270.9,1057.14 2274.53,1043.81 2278.16,1031.2 2281.78,1019.38 2285.41,1008.43 2289.04,998.423 2292.67,989.424 2296.29,981.498 2299.92,974.703 2303.55,969.095 2307.18,964.723 2310.8,961.63 2314.43,959.855 2318.06,959.432 2321.69,960.387 2325.31,962.742 2328.94,966.511 2331.92,970.668 2334.9,975.787 2337.87,981.865 2340.85,988.901 2343.83,996.888 2346.8,1005.82 2349.78,1015.68 2352.76,1026.45 \"/>\n",
       "<polyline clip-path=\"url(#clip332)\" style=\"stroke:#e26f46; stroke-linecap:round; stroke-linejoin:round; stroke-width:4; stroke-opacity:1; fill:none\" points=\"-2054.37,434.261 4556.32,434.261 \"/>\n",
       "<path clip-path=\"url(#clip330)\" d=\"M1972.23 198.898 L2279.3 198.898 L2279.3 95.2176 L1972.23 95.2176  Z\" fill=\"#ffffff\" fill-rule=\"evenodd\" fill-opacity=\"1\"/>\n",
       "<polyline clip-path=\"url(#clip330)\" style=\"stroke:#000000; stroke-linecap:round; stroke-linejoin:round; stroke-width:4; stroke-opacity:1; fill:none\" points=\"1972.23,198.898 2279.3,198.898 2279.3,95.2176 1972.23,95.2176 1972.23,198.898 \"/>\n",
       "<polyline clip-path=\"url(#clip330)\" style=\"stroke:#009af9; stroke-linecap:round; stroke-linejoin:round; stroke-width:4; stroke-opacity:1; fill:none\" points=\"1996.72,147.058 2143.62,147.058 \"/>\n",
       "<path clip-path=\"url(#clip330)\" d=\"M2189.82 148.689 L2189.82 164.338 L2185.56 164.338 L2185.56 148.828 Q2185.56 145.148 2184.13 143.319 Q2182.69 141.49 2179.82 141.49 Q2176.37 141.49 2174.38 143.69 Q2172.39 145.889 2172.39 149.685 L2172.39 164.338 L2168.11 164.338 L2168.11 128.319 L2172.39 128.319 L2172.39 142.44 Q2173.92 140.102 2175.98 138.944 Q2178.06 137.787 2180.77 137.787 Q2185.24 137.787 2187.53 140.565 Q2189.82 143.319 2189.82 148.689 Z\" fill=\"#000000\" fill-rule=\"nonzero\" fill-opacity=\"1\" /><path clip-path=\"url(#clip330)\" d=\"M2208.55 128.366 Q2205.44 133.69 2203.94 138.898 Q2202.44 144.106 2202.44 149.453 Q2202.44 154.801 2203.94 160.055 Q2205.47 165.287 2208.55 170.588 L2204.84 170.588 Q2201.37 165.148 2199.63 159.893 Q2197.92 154.639 2197.92 149.453 Q2197.92 144.291 2199.63 139.06 Q2201.35 133.828 2204.84 128.366 L2208.55 128.366 Z\" fill=\"#000000\" fill-rule=\"nonzero\" fill-opacity=\"1\" /><path clip-path=\"url(#clip330)\" d=\"M2238.36 138.412 L2228.99 151.027 L2238.85 164.338 L2233.82 164.338 L2226.28 154.152 L2218.73 164.338 L2213.71 164.338 L2223.78 150.773 L2214.57 138.412 L2219.59 138.412 L2226.46 147.648 L2233.34 138.412 L2238.36 138.412 Z\" fill=\"#000000\" fill-rule=\"nonzero\" fill-opacity=\"1\" /><path clip-path=\"url(#clip330)\" d=\"M2244.19 128.366 L2247.9 128.366 Q2251.37 133.828 2253.08 139.06 Q2254.82 144.291 2254.82 149.453 Q2254.82 154.639 2253.08 159.893 Q2251.37 165.148 2247.9 170.588 L2244.19 170.588 Q2247.27 165.287 2248.78 160.055 Q2250.31 154.801 2250.31 149.453 Q2250.31 144.106 2248.78 138.898 Q2247.27 133.69 2244.19 128.366 Z\" fill=\"#000000\" fill-rule=\"nonzero\" fill-opacity=\"1\" /></svg>\n"
      ]
     },
     "execution_count": 15,
     "metadata": {},
     "output_type": "execute_result"
    }
   ],
   "source": [
    "h(x) = 0.1 + sin(x) + cos(x) - 0.01x^2\n",
    "\n",
    "plot(h, xlim=[-20, 20], label=\"h(x)\")\n",
    "hline!([0], label=\"\")"
   ]
  },
  {
   "cell_type": "code",
   "execution_count": 16,
   "id": "879ec39f-ffae-42d9-adf2-79f7a961c595",
   "metadata": {
    "tags": []
   },
   "outputs": [
    {
     "data": {
      "text/plain": [
       "8-element Vector{Float64}:\n",
       " -12.0679864587023111\n",
       " -11.1521511829257669\n",
       "  -6.8085826193564358\n",
       "  -3.9676031666224056\n",
       "  -0.8510346639094128\n",
       "   2.3866329514945854\n",
       "   5.6537322416388847\n",
       "   8.2201204455923556"
      ]
     },
     "execution_count": 16,
     "metadata": {},
     "output_type": "execute_result"
    }
   ],
   "source": [
    "root1 = bisection_b_1(h, -20, 20, 1e-8)"
   ]
  },
  {
   "cell_type": "code",
   "execution_count": 17,
   "id": "fab625ae-f31b-42e8-a342-2653bd440b09",
   "metadata": {
    "tags": []
   },
   "outputs": [
    {
     "data": {
      "text/plain": [
       "8×3 Matrix{Float64}:\n",
       " -12.0679500000184863  -12.0679864552342959  -12.0679864587023111\n",
       " -11.1521500000206206  -11.1521511872646766  -11.1521511829257669\n",
       "  -6.8085500000307437   -6.8085826123968252   -6.8085826193564358\n",
       "  -3.9676500000372208   -3.9676031680354154   -3.9676031666224056\n",
       "  -0.8510500000331952   -0.8510346695737198   -0.8510346639094128\n",
       "   2.3866499999673394    2.3866329445923595    2.3866329514945854\n",
       "   5.6537499999668901    5.6537322458919608    5.6537322416388847\n",
       "   8.2201499999609098    8.2201204498657106    8.2201204455923556"
      ]
     },
     "execution_count": 17,
     "metadata": {},
     "output_type": "execute_result"
    }
   ],
   "source": [
    "_roots, roots = bisection_b_boost(\n",
    "    h, -20, 20, 1e-8, 50; \n",
    "    warmup=bisection_b_1, interval=1e-4\n",
    ")\n",
    "\n",
    "[_roots roots root1]"
   ]
  },
  {
   "cell_type": "code",
   "execution_count": 18,
   "id": "3edb8a44-fd83-46c9-ab6a-45563d1c42e9",
   "metadata": {
    "tags": []
   },
   "outputs": [
    {
     "data": {
      "text/plain": [
       "8-element Vector{Float64}:\n",
       " -12.0679864520207047\n",
       " -11.1521511850878596\n",
       "  -6.8085826141759753\n",
       "  -3.9676031703129411\n",
       "  -0.8510346664115787\n",
       "   2.3866329481825233\n",
       "   5.6537322467193007\n",
       "   8.2201204495504498"
      ]
     },
     "execution_count": 18,
     "metadata": {},
     "output_type": "execute_result"
    }
   ],
   "source": [
    "root2 = bisection_b_2(h, -20, 20, 1e-8)"
   ]
  },
  {
   "cell_type": "code",
   "execution_count": 19,
   "id": "43922604-1721-4133-bf79-71f11097169b",
   "metadata": {
    "tags": []
   },
   "outputs": [
    {
     "data": {
      "text/plain": [
       "8×3 Matrix{Float64}:\n",
       " -12.0679855346679688  -12.0679864544736120  -12.0679864520207047\n",
       " -11.1521530151367188  -11.1521511837136131  -11.1521511850878596\n",
       "  -6.8085861206054688   -6.8085826133346927   -6.8085826141759753\n",
       "  -3.9676284790039062   -3.9676031693370533   -3.9676031703129411\n",
       "  -0.8510208129882812   -0.8510346701195886   -0.8510346664115787\n",
       "   2.3866653442382812    2.3866329490656426    2.3866329481825233\n",
       "   5.6537246704101562    5.6537322444773963    5.6537322467193007\n",
       "   8.2201004028320312    8.2201204447692362    8.2201204495504498"
      ]
     },
     "execution_count": 19,
     "metadata": {},
     "output_type": "execute_result"
    }
   ],
   "source": [
    "_roots, roots = bisection_b_boost(\n",
    "    h, -20, 20, 1e-8, 50; \n",
    "    warmup=bisection_b_2, interval=1e-4\n",
    ")\n",
    "\n",
    "[_roots roots root2]"
   ]
  },
  {
   "cell_type": "code",
   "execution_count": 20,
   "id": "b76845d9-dde3-4764-b857-ee07e2a1ae0c",
   "metadata": {
    "tags": []
   },
   "outputs": [
    {
     "name": "stdout",
     "output_type": "stream",
     "text": [
      "  11.332 ms (4 allocations: 384 bytes)\n",
      "  10.720 ms (10 allocations: 544 bytes)\n"
     ]
    }
   ],
   "source": [
    "@btime bisection_b_boost(\n",
    "    h, -20, 20, 1e-8, 50; \n",
    "    warmup=bisection_b_1, interval=1e-4\n",
    ")\n",
    "\n",
    "@btime bisection_b_boost(\n",
    "    h, -20, 20, 1e-8, 50; \n",
    "    warmup=bisection_b_2, interval=1e-4\n",
    ");"
   ]
  }
 ],
 "metadata": {
  "kernelspec": {
   "display_name": "Julia 1.8.3",
   "language": "julia",
   "name": "julia-1.8"
  },
  "language_info": {
   "file_extension": ".jl",
   "mimetype": "application/julia",
   "name": "julia",
   "version": "1.8.3"
  },
  "toc": {
   "base_numbering": 1,
   "nav_menu": {},
   "number_sections": true,
   "sideBar": true,
   "skip_h1_title": false,
   "title_cell": "Table of Contents",
   "title_sidebar": "Contents",
   "toc_cell": false,
   "toc_position": {},
   "toc_section_display": true,
   "toc_window_display": false
  }
 },
 "nbformat": 4,
 "nbformat_minor": 5
}
