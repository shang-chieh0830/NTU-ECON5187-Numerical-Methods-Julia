{
 "cells": [
  {
   "cell_type": "markdown",
   "id": "46b9a2ff",
   "metadata": {},
   "source": [
    "-----------------------\n",
    "### MLE  Properties\n",
    "\n",
    "Suppose there is the data $\\{ X_i \\}_{i=1}^{n} \\overset{i.i.d}{\\sim} f(x|\\theta)$\n",
    "\n",
    "$S(\\theta) = \\frac{\\partial lnf(x|\\theta)}{\\partial \\theta} $ is score function\n",
    "\n",
    "$H(\\theta) = \\frac{\\partial^2 lnf(x|\\theta)}{\\partial \\theta^2}$ is hessian function\n",
    "\n",
    "$I(\\theta)$ is fisher information function, and $I(\\theta) = -H(\\theta)$\n",
    "\n",
    "Because MLE is maximizing the $\\sum_{i=1}^{n} lnf(x_i|\\theta)$, $\\sum_{i=1}^{n} S_i(\\theta)=0$ and $\\sum_{i=1}^{n} H_i(\\theta)$ will always be negative.\n",
    "\n",
    "However, in practice we are minimizing the $-\\sum lnf(x|\\theta)$, $\\sum H(\\theta)$ is positive.\n",
    " \n",
    "#### Cramér–Rao Lower Bound\n",
    "If $\\hat \\theta$ is an unbiased estimator, then\n",
    "$$\n",
    "Var(\\hat \\theta) \\geq \\frac{1}{nI(\\theta)}\n",
    "$$\n",
    "\n",
    "#### Asymptotic Normality\n",
    "$$\n",
    "\\hat \\theta_{MLE} \\overset{A}{\\sim} N(\\theta, \\frac{1}{-nE(H_i(\\theta))} )\n",
    "$$\n",
    "\n",
    "MLE is **asymptotic relative efficiency**\n",
    "$$\n",
    "\\lim_{n\\to\\infty} Var(\\hat \\theta) = \\frac{1}{I(\\theta)}\n",
    "$$\n",
    "\n",
    "reference: https://gregorygundersen.com/blog/2019/11/28/asymptotic-normality-mle/"
   ]
  },
  {
   "cell_type": "markdown",
   "id": "870964a9",
   "metadata": {},
   "source": [
    "### Some MLE advantage\n",
    "\n",
    "##### Q (申大昀)\n",
    "\n",
    "想請教老師，實際上套用SFM時，是不是都不會加上intercept? (感覺加了就會和inefficiency distribution的mean有些混淆)\n",
    "\n",
    "這樣實務上通常會如何區分total factor productivity和inefficiency呢? 還是使用SFM就不會再特別考慮total factor productivity?\n",
    "\n",
    "謝謝老師。\n",
    "\n",
    "##### Ans (王泓仁)\n",
    "\n",
    "好問題。其實 SFM 通常都會加上 intercept, 只是加上它之後，必需採用 distribution-based 的估計方法（例如，MLE）才能把這個截距項和 inefficiency 區分開來。如果採用的是 distribution-free 的方法（即不對 u 的分配做假設），例如 modified OLS, 那麼截距項的確無法與 inefficiency 分開認定。這也是為什麼 distribution-based 的估計方法（有時稱爲 parametric approach）是 SFM 文獻的主流。\n",
    "\n",
    "為何 OLS 的方法不行、MLE就可以？簡單說，OLS 在估計時採用的資訊有限（這也是它容易估計的原因），因此在有限的資訊下，無法把截距項、以及 u 的平均數區分開來。而 MLE 因為是完整的估計整個分配，因此直覺上可以說，MLE 把資料的 higher moments 的資訊都用到了；u 的 平均數藏在了所有的 higher moments 當中，不會被模型的截距項蓋掉，所以可以正確認定。\n",
    "\n",
    "所以，我們可以在估計 SFM 模型之後，同時討論 TFP 和 inefficiency，沒有問題。"
   ]
  },
  {
   "cell_type": "markdown",
   "id": "a8d97058",
   "metadata": {},
   "source": [
    "----------\n",
    "### Delta Method\n",
    "Suppose \n",
    "$$\n",
    "\\bar X_n \\overset{A}{\\sim} N(\\mu, \\frac{\\sigma^2}{n} )\n",
    "$$\n",
    "and $g$ is a continuous function, $g'(\\mu) \\neq 0$. Then\n",
    "$$\n",
    "g(\\bar X_n) \\overset{A}{\\sim} N(g(\\mu), [g'(\\mu)]^2\\frac{\\sigma^2}{n} )\n",
    "$$\n",
    "\n",
    "reference: https://bookdown.org/ts_robinson1994/10_fundamental_theorems_for_econometrics/dm.html"
   ]
  },
  {
   "cell_type": "markdown",
   "id": "a0e2cc83",
   "metadata": {},
   "source": [
    "---------------\n",
    "### Hypothesis Test\n",
    "\n",
    "#### hypothesis\n",
    "$$\n",
    "H_0: \\beta = 0 \\\\ \n",
    "H_1: \\beta \\neq 0\n",
    "$$\n",
    "\n",
    "#### pivotal\n",
    "$$\n",
    "\\phi = \\frac{\\hat \\beta - 0}{\\hat \\sigma_{\\beta}} \\overset{A}{\\sim} N(0,1)\n",
    "$$\n",
    "\n",
    "Give significant level $\\alpha$, find the $RR = \\{\\phi |\\  \\phi > Z_{\\alpha/2} \\}$.\n",
    "\n",
    "If $\\phi^* \\in RR$, reject the hypothesis."
   ]
  }
 ],
 "metadata": {
  "kernelspec": {
   "display_name": "Julia 1.7.2",
   "language": "julia",
   "name": "julia-1.7"
  },
  "language_info": {
   "file_extension": ".jl",
   "mimetype": "application/julia",
   "name": "julia",
   "version": "1.7.2"
  }
 },
 "nbformat": 4,
 "nbformat_minor": 5
}
