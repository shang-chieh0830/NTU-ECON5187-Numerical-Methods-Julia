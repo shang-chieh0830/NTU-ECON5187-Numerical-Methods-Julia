{
 "cells": [
  {
   "cell_type": "markdown",
   "id": "c6c1c1f9",
   "metadata": {},
   "source": [
    "# 語言基礎"
   ]
  },
  {
   "cell_type": "markdown",
   "id": "a5c6cd23",
   "metadata": {},
   "source": [
    "## operations"
   ]
  },
  {
   "cell_type": "code",
   "execution_count": 8,
   "id": "a396f473",
   "metadata": {},
   "outputs": [
    {
     "data": {
      "text/plain": [
       "1"
      ]
     },
     "execution_count": 8,
     "metadata": {},
     "output_type": "execute_result"
    }
   ],
   "source": [
    "5 ÷ 3"
   ]
  },
  {
   "cell_type": "code",
   "execution_count": 20,
   "id": "8ac178df",
   "metadata": {},
   "outputs": [
    {
     "ename": "LoadError",
     "evalue": "UndefVarError: α not defined",
     "output_type": "error",
     "traceback": [
      "UndefVarError: α not defined",
      ""
     ]
    }
   ],
   "source": [
    "α\n",
    "π\n",
    "∑\n",
    "≥\n",
    "≤\n",
    "≠\n",
    "⊂\n",
    "⊃\n",
    "🍎"
   ]
  },
  {
   "cell_type": "code",
   "execution_count": 21,
   "id": "b92f2646",
   "metadata": {},
   "outputs": [
    {
     "name": "stdout",
     "output_type": "stream",
     "text": [
      "\"\u001b[36m÷\u001b[39m\" can be typed by \u001b[36m\\div<tab>\u001b[39m\n",
      "\n",
      "search: \u001b[0m\u001b[1m÷\u001b[22m\n",
      "\n"
     ]
    },
    {
     "data": {
      "text/latex": [
       "\\begin{verbatim}\n",
       "div(x, y)\n",
       "÷(x, y)\n",
       "\\end{verbatim}\n",
       "The quotient from Euclidean (integer) division. Generally equivalent to a mathematical operation x/y without a fractional part.\n",
       "\n",
       "See also: \\href{@ref}{\\texttt{cld}}, \\href{@ref}{\\texttt{fld}}, \\href{@ref}{\\texttt{rem}}, \\href{@ref}{\\texttt{divrem}}.\n",
       "\n",
       "\\section{Examples}\n",
       "\\begin{verbatim}\n",
       "julia> 9 ÷ 4\n",
       "2\n",
       "\n",
       "julia> -5 ÷ 3\n",
       "-1\n",
       "\n",
       "julia> 5.0 ÷ 2\n",
       "2.0\n",
       "\n",
       "julia> div.(-5:5, 3)'\n",
       "1×11 adjoint(::Vector{Int64}) with eltype Int64:\n",
       " -1  -1  -1  0  0  0  0  0  1  1  1\n",
       "\\end{verbatim}\n",
       "\\rule{\\textwidth}{1pt}\n",
       "\\begin{verbatim}\n",
       "div(x, y, r::RoundingMode=RoundToZero)\n",
       "\\end{verbatim}\n",
       "The quotient from Euclidean (integer) division. Computes x/y, rounded to an integer according to the rounding mode \\texttt{r}. In other words, the quantity\n",
       "\n",
       "\\begin{verbatim}\n",
       "round(x/y,r)\n",
       "\\end{verbatim}\n",
       "without any intermediate rounding.\n",
       "\n",
       "See also \\href{@ref}{\\texttt{fld}} and \\href{@ref}{\\texttt{cld}}, which are special cases of this function.\n",
       "\n",
       "\\section{Examples:}\n",
       "\\begin{verbatim}\n",
       "julia> div(4, 3, RoundDown) # Matches fld(4, 3)\n",
       "1\n",
       "julia> div(4, 3, RoundUp) # Matches cld(4, 3)\n",
       "2\n",
       "julia> div(5, 2, RoundNearest)\n",
       "2\n",
       "julia> div(5, 2, RoundNearestTiesAway)\n",
       "3\n",
       "julia> div(-5, 2, RoundNearest)\n",
       "-2\n",
       "julia> div(-5, 2, RoundNearestTiesAway)\n",
       "-3\n",
       "julia> div(-5, 2, RoundNearestTiesUp)\n",
       "-2\n",
       "\\end{verbatim}\n"
      ],
      "text/markdown": [
       "```\n",
       "div(x, y)\n",
       "÷(x, y)\n",
       "```\n",
       "\n",
       "The quotient from Euclidean (integer) division. Generally equivalent to a mathematical operation x/y without a fractional part.\n",
       "\n",
       "See also: [`cld`](@ref), [`fld`](@ref), [`rem`](@ref), [`divrem`](@ref).\n",
       "\n",
       "# Examples\n",
       "\n",
       "```jldoctest\n",
       "julia> 9 ÷ 4\n",
       "2\n",
       "\n",
       "julia> -5 ÷ 3\n",
       "-1\n",
       "\n",
       "julia> 5.0 ÷ 2\n",
       "2.0\n",
       "\n",
       "julia> div.(-5:5, 3)'\n",
       "1×11 adjoint(::Vector{Int64}) with eltype Int64:\n",
       " -1  -1  -1  0  0  0  0  0  1  1  1\n",
       "```\n",
       "\n",
       "---\n",
       "\n",
       "```\n",
       "div(x, y, r::RoundingMode=RoundToZero)\n",
       "```\n",
       "\n",
       "The quotient from Euclidean (integer) division. Computes x/y, rounded to an integer according to the rounding mode `r`. In other words, the quantity\n",
       "\n",
       "```\n",
       "round(x/y,r)\n",
       "```\n",
       "\n",
       "without any intermediate rounding.\n",
       "\n",
       "See also [`fld`](@ref) and [`cld`](@ref), which are special cases of this function.\n",
       "\n",
       "# Examples:\n",
       "\n",
       "```jldoctest\n",
       "julia> div(4, 3, RoundDown) # Matches fld(4, 3)\n",
       "1\n",
       "julia> div(4, 3, RoundUp) # Matches cld(4, 3)\n",
       "2\n",
       "julia> div(5, 2, RoundNearest)\n",
       "2\n",
       "julia> div(5, 2, RoundNearestTiesAway)\n",
       "3\n",
       "julia> div(-5, 2, RoundNearest)\n",
       "-2\n",
       "julia> div(-5, 2, RoundNearestTiesAway)\n",
       "-3\n",
       "julia> div(-5, 2, RoundNearestTiesUp)\n",
       "-2\n",
       "```\n"
      ],
      "text/plain": [
       "\u001b[36m  div(x, y)\u001b[39m\n",
       "\u001b[36m  ÷(x, y)\u001b[39m\n",
       "\n",
       "  The quotient from Euclidean (integer) division. Generally equivalent to a\n",
       "  mathematical operation x/y without a fractional part.\n",
       "\n",
       "  See also: \u001b[36mcld\u001b[39m, \u001b[36mfld\u001b[39m, \u001b[36mrem\u001b[39m, \u001b[36mdivrem\u001b[39m.\n",
       "\n",
       "\u001b[1m  Examples\u001b[22m\n",
       "\u001b[1m  ≡≡≡≡≡≡≡≡≡≡\u001b[22m\n",
       "\n",
       "\u001b[36m  julia> 9 ÷ 4\u001b[39m\n",
       "\u001b[36m  2\u001b[39m\n",
       "\u001b[36m  \u001b[39m\n",
       "\u001b[36m  julia> -5 ÷ 3\u001b[39m\n",
       "\u001b[36m  -1\u001b[39m\n",
       "\u001b[36m  \u001b[39m\n",
       "\u001b[36m  julia> 5.0 ÷ 2\u001b[39m\n",
       "\u001b[36m  2.0\u001b[39m\n",
       "\u001b[36m  \u001b[39m\n",
       "\u001b[36m  julia> div.(-5:5, 3)'\u001b[39m\n",
       "\u001b[36m  1×11 adjoint(::Vector{Int64}) with eltype Int64:\u001b[39m\n",
       "\u001b[36m   -1  -1  -1  0  0  0  0  0  1  1  1\u001b[39m\n",
       "\n",
       "  ────────────────────────────────────────────────────────────────────────────\n",
       "\n",
       "\u001b[36m  div(x, y, r::RoundingMode=RoundToZero)\u001b[39m\n",
       "\n",
       "  The quotient from Euclidean (integer) division. Computes x/y, rounded to an\n",
       "  integer according to the rounding mode \u001b[36mr\u001b[39m. In other words, the quantity\n",
       "\n",
       "\u001b[36m  round(x/y,r)\u001b[39m\n",
       "\n",
       "  without any intermediate rounding.\n",
       "\n",
       "  See also \u001b[36mfld\u001b[39m and \u001b[36mcld\u001b[39m, which are special cases of this function.\n",
       "\n",
       "\u001b[1m  Examples:\u001b[22m\n",
       "\u001b[1m  ≡≡≡≡≡≡≡≡≡≡≡\u001b[22m\n",
       "\n",
       "\u001b[36m  julia> div(4, 3, RoundDown) # Matches fld(4, 3)\u001b[39m\n",
       "\u001b[36m  1\u001b[39m\n",
       "\u001b[36m  julia> div(4, 3, RoundUp) # Matches cld(4, 3)\u001b[39m\n",
       "\u001b[36m  2\u001b[39m\n",
       "\u001b[36m  julia> div(5, 2, RoundNearest)\u001b[39m\n",
       "\u001b[36m  2\u001b[39m\n",
       "\u001b[36m  julia> div(5, 2, RoundNearestTiesAway)\u001b[39m\n",
       "\u001b[36m  3\u001b[39m\n",
       "\u001b[36m  julia> div(-5, 2, RoundNearest)\u001b[39m\n",
       "\u001b[36m  -2\u001b[39m\n",
       "\u001b[36m  julia> div(-5, 2, RoundNearestTiesAway)\u001b[39m\n",
       "\u001b[36m  -3\u001b[39m\n",
       "\u001b[36m  julia> div(-5, 2, RoundNearestTiesUp)\u001b[39m\n",
       "\u001b[36m  -2\u001b[39m"
      ]
     },
     "execution_count": 21,
     "metadata": {},
     "output_type": "execute_result"
    }
   ],
   "source": [
    "?÷"
   ]
  },
  {
   "cell_type": "code",
   "execution_count": 11,
   "id": "d92a1333",
   "metadata": {},
   "outputs": [
    {
     "data": {
      "text/plain": [
       "1"
      ]
     },
     "execution_count": 11,
     "metadata": {},
     "output_type": "execute_result"
    }
   ],
   "source": [
    "10%3  #取餘"
   ]
  },
  {
   "cell_type": "code",
   "execution_count": 12,
   "id": "762a92b2",
   "metadata": {},
   "outputs": [
    {
     "data": {
      "text/plain": [
       "1"
      ]
     },
     "execution_count": 12,
     "metadata": {},
     "output_type": "execute_result"
    }
   ],
   "source": [
    "rem(10,3) #取餘"
   ]
  },
  {
   "cell_type": "code",
   "execution_count": 13,
   "id": "6f5ae01b",
   "metadata": {},
   "outputs": [
    {
     "data": {
      "text/plain": [
       "(3, 1)"
      ]
     },
     "execution_count": 13,
     "metadata": {},
     "output_type": "execute_result"
    }
   ],
   "source": [
    "divrem(10,3) #商和余数"
   ]
  },
  {
   "cell_type": "markdown",
   "id": "76fdc977",
   "metadata": {},
   "source": [
    "## string and character"
   ]
  },
  {
   "cell_type": "code",
   "execution_count": 15,
   "id": "7cab135c",
   "metadata": {},
   "outputs": [
    {
     "data": {
      "text/plain": [
       "Char"
      ]
     },
     "execution_count": 15,
     "metadata": {},
     "output_type": "execute_result"
    }
   ],
   "source": [
    "a='A'\n",
    "typeof(a)"
   ]
  },
  {
   "cell_type": "code",
   "execution_count": 16,
   "id": "8ab74a98",
   "metadata": {},
   "outputs": [
    {
     "data": {
      "text/plain": [
       "\"这是第一行\\n这是第二行\\n三个双撇号界定的字符串中间的单个双撇号\\\"不需要转义\\n\\n\""
      ]
     },
     "execution_count": 16,
     "metadata": {},
     "output_type": "execute_result"
    }
   ],
   "source": [
    "\"\"\"\n",
    "这是第一行\n",
    "这是第二行\n",
    "三个双撇号界定的字符串中间的单个双撇号\"不需要转义\n",
    "\n",
    "\"\"\"\n"
   ]
  },
  {
   "cell_type": "code",
   "execution_count": 17,
   "id": "65097e50",
   "metadata": {},
   "outputs": [
    {
     "data": {
      "text/plain": [
       "\"#这是美好的一天。\""
      ]
     },
     "execution_count": 17,
     "metadata": {},
     "output_type": "execute_result"
    }
   ],
   "source": [
    "#use * 串接\n",
    "\n",
    "'#' * \"这是\" * \"美好的一天\" * \"。\"\n"
   ]
  },
  {
   "cell_type": "code",
   "execution_count": 18,
   "id": "7c69fbd7",
   "metadata": {},
   "outputs": [
    {
     "data": {
      "text/plain": [
       "\"---------\""
      ]
     },
     "execution_count": 18,
     "metadata": {},
     "output_type": "execute_result"
    }
   ],
   "source": [
    "\"---\"^3"
   ]
  },
  {
   "cell_type": "markdown",
   "id": "0c633c8f",
   "metadata": {},
   "source": [
    "字符串中可以用`$变量名`或`$(表达式)`的格式插入变量或表达式的值"
   ]
  },
  {
   "cell_type": "code",
   "execution_count": 22,
   "id": "edf2157c",
   "metadata": {},
   "outputs": [
    {
     "data": {
      "text/plain": [
       "\"My name is John\""
      ]
     },
     "execution_count": 22,
     "metadata": {},
     "output_type": "execute_result"
    }
   ],
   "source": [
    "name=\"John\"; \"My name is $name\""
   ]
  },
  {
   "cell_type": "code",
   "execution_count": 24,
   "id": "6e5e7cf4",
   "metadata": {},
   "outputs": [
    {
     "data": {
      "text/plain": [
       "\"100John999\""
      ]
     },
     "execution_count": 24,
     "metadata": {},
     "output_type": "execute_result"
    }
   ],
   "source": [
    "\"100$(name)999\""
   ]
  },
  {
   "cell_type": "markdown",
   "id": "88477e84",
   "metadata": {},
   "source": [
    "## Logical operation"
   ]
  },
  {
   "cell_type": "code",
   "execution_count": 25,
   "id": "90ffb8eb",
   "metadata": {},
   "outputs": [
    {
     "data": {
      "text/plain": [
       "false"
      ]
     },
     "execution_count": 25,
     "metadata": {},
     "output_type": "execute_result"
    }
   ],
   "source": [
    "\"abc\"==\"ABC\""
   ]
  },
  {
   "cell_type": "code",
   "execution_count": 29,
   "id": "021610a8",
   "metadata": {},
   "outputs": [
    {
     "data": {
      "text/plain": [
       "false"
      ]
     },
     "execution_count": 29,
     "metadata": {},
     "output_type": "execute_result"
    }
   ],
   "source": [
    "age=35\n",
    "sex=\"F\"\n",
    "age>18 && sex==\"T\""
   ]
  },
  {
   "cell_type": "code",
   "execution_count": 44,
   "id": "7b17e15a",
   "metadata": {},
   "outputs": [
    {
     "data": {
      "text/plain": [
       "true"
      ]
     },
     "execution_count": 44,
     "metadata": {},
     "output_type": "execute_result"
    }
   ],
   "source": [
    "age<18 || sex==\"F\""
   ]
  },
  {
   "cell_type": "markdown",
   "id": "bcf8d9b6",
   "metadata": {},
   "source": [
    "`&&`和`||`都是短路运算符， 对`expr1 && expr2`， 只要表达式`expr1`是假值， 就直接返回假值，不会再计算`expr2`。 类似地， 对`expr1 || expr2`， 只要表达式`expr1`是真值， 就直接返回真值，不会再计算`expr2`。"
   ]
  },
  {
   "cell_type": "markdown",
   "id": "5ef8cdda",
   "metadata": {},
   "source": [
    "## Simple output"
   ]
  },
  {
   "cell_type": "markdown",
   "id": "9eac695b",
   "metadata": {},
   "source": [
    "`println()`函数输出会将后续输出设置到下一行， 而`print()`函数与`println()`类似但是将后续输出设置在当前行。"
   ]
  },
  {
   "cell_type": "code",
   "execution_count": 31,
   "id": "93842d68",
   "metadata": {},
   "outputs": [
    {
     "name": "stdout",
     "output_type": "stream",
     "text": [
      "1 + 2 = 3\n"
     ]
    },
    {
     "data": {
      "text/plain": [
       "3"
      ]
     },
     "execution_count": 31,
     "metadata": {},
     "output_type": "execute_result"
    }
   ],
   "source": [
    "@show 1+2"
   ]
  },
  {
   "cell_type": "code",
   "execution_count": 34,
   "id": "73d5680e",
   "metadata": {},
   "outputs": [
    {
     "data": {
      "text/plain": [
       "3"
      ]
     },
     "metadata": {},
     "output_type": "display_data"
    }
   ],
   "source": [
    "display(1+2)"
   ]
  },
  {
   "cell_type": "code",
   "execution_count": 35,
   "id": "3bbb27c7",
   "metadata": {},
   "outputs": [
    {
     "name": "stdout",
     "output_type": "stream",
     "text": [
      "3\n"
     ]
    }
   ],
   "source": [
    "println(1+2)"
   ]
  },
  {
   "cell_type": "markdown",
   "id": "261b2bb1",
   "metadata": {},
   "source": [
    "## Compound expr"
   ]
  },
  {
   "cell_type": "code",
   "execution_count": 37,
   "id": "e24437c3",
   "metadata": {},
   "outputs": [
    {
     "data": {
      "text/plain": [
       "3"
      ]
     },
     "execution_count": 37,
     "metadata": {},
     "output_type": "execute_result"
    }
   ],
   "source": [
    "z=begin\n",
    "    x=1\n",
    "    y=2\n",
    "    x+y\n",
    "end\n",
    "z"
   ]
  },
  {
   "cell_type": "code",
   "execution_count": 38,
   "id": "1e605b5a",
   "metadata": {},
   "outputs": [
    {
     "data": {
      "text/plain": [
       "3"
      ]
     },
     "execution_count": 38,
     "metadata": {},
     "output_type": "execute_result"
    }
   ],
   "source": [
    "z=(x=1;y=2;x+y)"
   ]
  },
  {
   "cell_type": "code",
   "execution_count": 39,
   "id": "9c6112e4",
   "metadata": {},
   "outputs": [
    {
     "name": "stdout",
     "output_type": "stream",
     "text": [
      "x=3\n"
     ]
    }
   ],
   "source": [
    "x=1+2; println(\"x=$(x)\")"
   ]
  },
  {
   "cell_type": "markdown",
   "id": "d2777c28",
   "metadata": {},
   "source": [
    "## 短路(short-circuted)与运算以及分支结构"
   ]
  },
  {
   "cell_type": "code",
   "execution_count": 40,
   "id": "c9161050",
   "metadata": {},
   "outputs": [
    {
     "name": "stdout",
     "output_type": "stream",
     "text": [
      "calculate square root: wrong domain, x=-1.44\n"
     ]
    }
   ],
   "source": [
    "x=-1.44\n",
    "x<0 && println(\"calculate square root: wrong domain, x=\", x)"
   ]
  },
  {
   "cell_type": "code",
   "execution_count": 41,
   "id": "a0416cf9",
   "metadata": {},
   "outputs": [
    {
     "data": {
      "text/plain": [
       "true"
      ]
     },
     "execution_count": 41,
     "metadata": {},
     "output_type": "execute_result"
    }
   ],
   "source": [
    "# 平方根时当自变量不为负时才计算平方根：\n",
    "x<0 || (y=sqrt(x))  #第一個條件是true 則直接是true 不算第二個cond"
   ]
  },
  {
   "cell_type": "markdown",
   "id": "8daa6366",
   "metadata": {},
   "source": [
    "## if-end"
   ]
  },
  {
   "cell_type": "code",
   "execution_count": 47,
   "id": "77720456",
   "metadata": {},
   "outputs": [
    {
     "name": "stdout",
     "output_type": "stream",
     "text": [
      "√1.44=1.2\n"
     ]
    }
   ],
   "source": [
    "x=1.44\n",
    "if x>=0\n",
    "    y=sqrt(x)\n",
    "    println(\"√\",x, \"=\", y)\n",
    "end\n"
   ]
  },
  {
   "cell_type": "code",
   "execution_count": 50,
   "id": "e5d9fe51",
   "metadata": {},
   "outputs": [
    {
     "name": "stdout",
     "output_type": "stream",
     "text": [
      "√-1.44=1.2 i\n"
     ]
    }
   ],
   "source": [
    "x=-1.44\n",
    "if x>=0\n",
    "    y=sqrt(x)\n",
    "    println(\"√\",x, \"=\", y)\n",
    "else\n",
    "    y=sqrt(-x)\n",
    "    println(\"√\",x,\"=\",y,\" i\")\n",
    "end\n",
    "\n"
   ]
  },
  {
   "cell_type": "code",
   "execution_count": 51,
   "id": "716195ff",
   "metadata": {},
   "outputs": [
    {
     "name": "stdout",
     "output_type": "stream",
     "text": [
      "adult\n"
     ]
    }
   ],
   "source": [
    "age=35\n",
    "if age<18\n",
    "    println(\"young\")\n",
    "elseif age<60\n",
    "    println(\"adult\")\n",
    "elseif age <100\n",
    "    println(\"old\")\n",
    "else \n",
    "    println(\"dead\")\n",
    "end"
   ]
  },
  {
   "cell_type": "markdown",
   "id": "f4c79a78",
   "metadata": {},
   "source": [
    "`cond ? expr1 : expr2`表示比较简单的两分支选择， 当`cond`成立时结果为`expr1`的结果， 当`cond`不成立时结果为`expr2`的结果"
   ]
  },
  {
   "cell_type": "code",
   "execution_count": 55,
   "id": "e0c3c4f2",
   "metadata": {},
   "outputs": [
    {
     "data": {
      "text/plain": [
       "1.2"
      ]
     },
     "execution_count": 55,
     "metadata": {},
     "output_type": "execute_result"
    }
   ],
   "source": [
    "x=-1.44\n",
    "y= x>=0 ? sqrt(x) : sqrt(-x)"
   ]
  },
  {
   "cell_type": "code",
   "execution_count": 52,
   "id": "1ee1bdc9",
   "metadata": {},
   "outputs": [
    {
     "ename": "LoadError",
     "evalue": "DomainError with -1.44:\nsqrt will only return a complex result if called with a complex argument. Try sqrt(Complex(x)).",
     "output_type": "error",
     "traceback": [
      "DomainError with -1.44:\nsqrt will only return a complex result if called with a complex argument. Try sqrt(Complex(x)).",
      "",
      "Stacktrace:",
      " [1] throw_complex_domainerror(f::Symbol, x::Float64)",
      "   @ Base.Math ./math.jl:33",
      " [2] sqrt(x::Float64)",
      "   @ Base.Math ./math.jl:567",
      " [3] top-level scope",
      "   @ In[52]:2"
     ]
    }
   ],
   "source": [
    "x=-1.44\n",
    "y=ifelse(x>=0, sqrt(x), sqrt(-x))"
   ]
  },
  {
   "cell_type": "markdown",
   "id": "cdb8f11b",
   "metadata": {},
   "source": [
    "## for loop"
   ]
  },
  {
   "cell_type": "code",
   "execution_count": null,
   "id": "0cd34f97",
   "metadata": {},
   "outputs": [],
   "source": [
    "for loopvar=a:b\n",
    "    expr1\n",
    "    expr2\n",
    "    ...\n",
    "end"
   ]
  },
  {
   "cell_type": "code",
   "execution_count": 57,
   "id": "98c877fa",
   "metadata": {},
   "outputs": [
    {
     "name": "stdout",
     "output_type": "stream",
     "text": [
      "1^3= 1\n",
      "2^3= 8\n",
      "3^3= 27\n"
     ]
    }
   ],
   "source": [
    "for i =1:3\n",
    "    y=i^3\n",
    "    println(i, \"^3= \",y)\n",
    "end"
   ]
  },
  {
   "cell_type": "code",
   "execution_count": 58,
   "id": "c55c8b0c",
   "metadata": {},
   "outputs": [
    {
     "name": "stdout",
     "output_type": "stream",
     "text": [
      "120\n"
     ]
    }
   ],
   "source": [
    "n=5\n",
    "p=1\n",
    "for i = 1:n\n",
    "    global p #use vari outside loop: need `global`\n",
    "    p*=i\n",
    "end\n",
    "println(p)"
   ]
  },
  {
   "cell_type": "code",
   "execution_count": 59,
   "id": "505852af",
   "metadata": {},
   "outputs": [
    {
     "name": "stdout",
     "output_type": "stream",
     "text": [
      "1x1=1 \n",
      "1x2=2 2x2=4 \n",
      "1x3=3 2x3=6 3x3=9 \n",
      "1x4=4 2x4=8 3x4=12 4x4=16 \n",
      "1x5=5 2x5=10 3x5=15 4x5=20 5x5=25 \n",
      "1x6=6 2x6=12 3x6=18 4x6=24 5x6=30 6x6=36 \n",
      "1x7=7 2x7=14 3x7=21 4x7=28 5x7=35 6x7=42 7x7=49 \n",
      "1x8=8 2x8=16 3x8=24 4x8=32 5x8=40 6x8=48 7x8=56 8x8=64 \n",
      "1x9=9 2x9=18 3x9=27 4x9=36 5x9=45 6x9=54 7x9=63 8x9=72 9x9=81 \n"
     ]
    }
   ],
   "source": [
    "for i=1:9\n",
    "    for j=1:i\n",
    "        print(j, \"x\", i, \"=\", i*j,\" \")\n",
    "    end\n",
    "    println()\n",
    "end"
   ]
  },
  {
   "cell_type": "markdown",
   "id": "ccba22f4",
   "metadata": {},
   "source": [
    "## while loop"
   ]
  },
  {
   "cell_type": "code",
   "execution_count": 61,
   "id": "9ea989b2",
   "metadata": {},
   "outputs": [
    {
     "name": "stdout",
     "output_type": "stream",
     "text": [
      "120\n"
     ]
    }
   ],
   "source": [
    "s=1\n",
    "i=0\n",
    "while i<5\n",
    "    global i, s\n",
    "    i+=1\n",
    "    s*=i\n",
    "end\n",
    "println(s)"
   ]
  },
  {
   "cell_type": "markdown",
   "id": "120a9da3",
   "metadata": {},
   "source": [
    "$\\ 210  mod  24 = 18$\n",
    "\n",
    "$\\ 24mod 18=6$\n",
    "\n",
    "$\\ 18 mod 6=0$"
   ]
  },
  {
   "cell_type": "code",
   "execution_count": 62,
   "id": "30e01bee",
   "metadata": {},
   "outputs": [
    {
     "data": {
      "text/plain": [
       "6"
      ]
     },
     "execution_count": 62,
     "metadata": {},
     "output_type": "execute_result"
    }
   ],
   "source": [
    "#find greatest common divisor\n",
    "\n",
    "function mygcd(m,n)\n",
    "    local r\n",
    "    while n≠0\n",
    "        r=m%n\n",
    "        m,n = n, r\n",
    "    end\n",
    "    \n",
    "    return m\n",
    "end\n",
    "\n",
    "mygcd(210,24)"
   ]
  },
  {
   "cell_type": "markdown",
   "id": "d50337b8",
   "metadata": {},
   "source": [
    "$\\ f(u)=u^2-x=0$\n",
    "\n",
    "$\\ f'(u)= 2u$\n",
    "\n",
    "\n",
    "$\\ f(u)=f(u_0)+f'(u_0)(u-u_0)+o(u-u_0)$\n",
    "\n",
    "$\\ u_n=u_{n-1}- \\frac{f(u_n-1)}{f'(u_n-1)}= u_{n-1}- \\frac{u_{n-1}^2}{2u_n-1}=\\frac{1} {2} (u_{n-1}+\\frac{x}{u_{n-1}})$\n",
    "\n",
    "$\\ Given\\quad  an \\quad initial \\quad value \\quad u_0, \\quad\n",
    "and\\quad then\\quad iterate\\quad until\\quad |u_n-u_{n-1}|< \\epsilon $"
   ]
  },
  {
   "cell_type": "code",
   "execution_count": 63,
   "id": "4895857a",
   "metadata": {},
   "outputs": [
    {
     "data": {
      "text/plain": [
       "1.414213562373095"
      ]
     },
     "execution_count": 63,
     "metadata": {},
     "output_type": "execute_result"
    }
   ],
   "source": [
    "function mysqrt(x, eps=1E-16)\n",
    "    u=1.0\n",
    "    u1=0.0\n",
    "    while abs(u-u1)>=eps\n",
    "        u1=u\n",
    "        u=0.5*(u+x/u)\n",
    "    end\n",
    "    return u\n",
    "end\n",
    "\n",
    "mysqrt(2)"
   ]
  },
  {
   "cell_type": "markdown",
   "id": "13eb7f0b",
   "metadata": {},
   "source": [
    "$ \\frac{1}{\\pi}= \\frac{2\\sqrt{2}}{9801} \\sum_{k=0}^{\\infty} \\frac{(4k)!(1103+26390k)}{(k!)^4 396^{4k}} $"
   ]
  },
  {
   "cell_type": "code",
   "execution_count": 73,
   "id": "27704df2",
   "metadata": {},
   "outputs": [
    {
     "name": "stdout",
     "output_type": "stream",
     "text": [
      "k=2 estimate = 0.3183098861837907\n",
      "Error = 0.0\n"
     ]
    },
    {
     "data": {
      "text/plain": [
       "0.3183098861837907"
      ]
     },
     "execution_count": 73,
     "metadata": {},
     "output_type": "execute_result"
    }
   ],
   "source": [
    "k = 0\n",
    "x = 2*sqrt(2)/9801\n",
    "y = 1103\n",
    "z = x*y\n",
    "s = z\n",
    "while z > 1E-15\n",
    "    k += 1\n",
    "    k4 = 4*k\n",
    "    x *= k4*(k4-1)*(k4-2)*(k4-3)/k^4/396^4\n",
    "    y += 26390\n",
    "    z = x*y\n",
    "    s += z\n",
    "end\n",
    "println(\"k=\", k, \" estimate = \", s)\n",
    "println(\"Error = \", s - 1/π)\n",
    "## k=2 estimate = 0.3183098861837907\n",
    "## Error = 0.0\n",
    "1/π\n",
    "## 0.3183098861837907"
   ]
  },
  {
   "cell_type": "markdown",
   "id": "fceb8bea",
   "metadata": {},
   "source": [
    "## break & continue"
   ]
  },
  {
   "cell_type": "markdown",
   "id": "b2e0eec4",
   "metadata": {},
   "source": [
    "$\\ log(1+x)= x+\\sum_{k=2}^{\\infty}(-1)^{k-1}\\frac{x^k}{k} $"
   ]
  },
  {
   "cell_type": "code",
   "execution_count": 74,
   "id": "ff675606",
   "metadata": {},
   "outputs": [
    {
     "name": "stdout",
     "output_type": "stream",
     "text": [
      "eps = 0.0001 log(1+1.0) = 0.6931971730609582 Iterations: 10001\n"
     ]
    }
   ],
   "source": [
    "eps = 0.0001\n",
    "x = 1.0\n",
    "y = x; xk = x; sgn = 1; k = 1\n",
    "while true\n",
    "  global k, sgn, xk, y, eps\n",
    "  k += 1; sgn *= -1; xk *= x\n",
    "  item = xk / k\n",
    "  y += sgn*item\n",
    "  item < eps && break\n",
    "end\n",
    "println(\"eps = \", eps, \" log(1+\", x, \") = \", y, \n",
    "  \" Iterations: \", k)\n",
    "## eps = 0.0001 log(1+1.0) = 0.6931971730609582 Iterations: 10001"
   ]
  },
  {
   "cell_type": "code",
   "execution_count": 75,
   "id": "c1abfa0d",
   "metadata": {},
   "outputs": [
    {
     "name": "stdout",
     "output_type": "stream",
     "text": [
      "1\n",
      "1\n",
      "2\n",
      "4\n",
      "3\n",
      "4\n",
      "16\n",
      "5\n",
      "25\n"
     ]
    }
   ],
   "source": [
    "for i =1:5\n",
    "    println(i)\n",
    "    if i==3\n",
    "        continue\n",
    "    end\n",
    "    y=i*i\n",
    "    println(y)\n",
    "end"
   ]
  },
  {
   "cell_type": "markdown",
   "id": "3b7f5452",
   "metadata": {},
   "source": [
    " `break`仅退出当前所在的循环"
   ]
  },
  {
   "cell_type": "markdown",
   "id": "48ee29f6",
   "metadata": {},
   "source": [
    "## function"
   ]
  },
  {
   "cell_type": "markdown",
   "id": "3fb6a8aa",
   "metadata": {},
   "source": [
    "$\\ f(x)=x^2 +3x+1$"
   ]
  },
  {
   "cell_type": "code",
   "execution_count": 76,
   "id": "c6f4dabe",
   "metadata": {},
   "outputs": [
    {
     "data": {
      "text/plain": [
       "f (generic function with 1 method)"
      ]
     },
     "execution_count": 76,
     "metadata": {},
     "output_type": "execute_result"
    }
   ],
   "source": [
    "f(x)=x^2+3*x+1"
   ]
  },
  {
   "cell_type": "code",
   "execution_count": 77,
   "id": "7825ac27",
   "metadata": {},
   "outputs": [
    {
     "data": {
      "text/plain": [
       "11"
      ]
     },
     "execution_count": 77,
     "metadata": {},
     "output_type": "execute_result"
    }
   ],
   "source": [
    "f(2)"
   ]
  },
  {
   "cell_type": "code",
   "execution_count": 78,
   "id": "70e70414",
   "metadata": {},
   "outputs": [
    {
     "data": {
      "text/plain": [
       "5.510000000000001"
      ]
     },
     "execution_count": 78,
     "metadata": {},
     "output_type": "execute_result"
    }
   ],
   "source": [
    "f(1.1)"
   ]
  },
  {
   "cell_type": "markdown",
   "id": "7ddad3f2",
   "metadata": {},
   "source": [
    "$\\ s=\\sqrt{\\frac{1}{n-1}\\sum_{i=1}^{n}(x_i-\\bar{x})^2}$"
   ]
  },
  {
   "cell_type": "code",
   "execution_count": 83,
   "id": "6b8ed205",
   "metadata": {},
   "outputs": [
    {
     "data": {
      "text/plain": [
       "mysd (generic function with 1 method)"
      ]
     },
     "execution_count": 83,
     "metadata": {},
     "output_type": "execute_result"
    }
   ],
   "source": [
    "function mysd(x)\n",
    "    n=length(x)\n",
    "    mx=sum(x)/n\n",
    "    s=0.0\n",
    "    for z in x \n",
    "        s+=(z-mx)^2\n",
    "    end\n",
    "    sqrt(s/(n-1))\n",
    "end"
   ]
  },
  {
   "cell_type": "code",
   "execution_count": 84,
   "id": "2365a809",
   "metadata": {},
   "outputs": [
    {
     "data": {
      "text/plain": [
       "1.5811388300841898"
      ]
     },
     "execution_count": 84,
     "metadata": {},
     "output_type": "execute_result"
    }
   ],
   "source": [
    "mysd([1, 2, 3, 4 , 5])"
   ]
  },
  {
   "cell_type": "code",
   "execution_count": 85,
   "id": "622998bf",
   "metadata": {},
   "outputs": [
    {
     "data": {
      "text/plain": [
       "mysd_simple (generic function with 1 method)"
      ]
     },
     "execution_count": 85,
     "metadata": {},
     "output_type": "execute_result"
    }
   ],
   "source": [
    "function mysd_simple(x)\n",
    "    n=length(x)\n",
    "    mx=sum(x)/n\n",
    "    sqrt(sum(x.-mx)/(n-1))  #dot operator\n",
    "end"
   ]
  },
  {
   "cell_type": "markdown",
   "id": "bf90fde7",
   "metadata": {},
   "source": [
    "## 可选参数(Optional argument)和关键词参数(Keyword arguments)"
   ]
  },
  {
   "cell_type": "code",
   "execution_count": 86,
   "id": "6e5fd3c2",
   "metadata": {},
   "outputs": [
    {
     "data": {
      "text/plain": [
       "f_quad (generic function with 4 methods)"
      ]
     },
     "execution_count": 86,
     "metadata": {},
     "output_type": "execute_result"
    }
   ],
   "source": [
    "f_quad(x, a=1, b=0, c=0) = a*x^2 + b*x + c\n",
    "## f_quad (generic function with 4 methods)"
   ]
  },
  {
   "cell_type": "markdown",
   "id": "5692a330",
   "metadata": {},
   "source": [
    "另外一种带有缺省值的参数称为关键字参数， 在定义函数时这些参数必须写在分号的后面。 关键字参数一般是函数的一些选项， 调用函数时仅当需要使用与缺省选择不同的选项时才输入关键字参数的值， 必须使用“参数名=参数值”的格式输入实参值， 而不允许按位置对应。 调用时关键字参数前面可以用逗号， 而不是必须用分号。"
   ]
  },
  {
   "cell_type": "code",
   "execution_count": 88,
   "id": "6bde9a60",
   "metadata": {},
   "outputs": [
    {
     "data": {
      "text/plain": [
       "f_quad2 (generic function with 4 methods)"
      ]
     },
     "execution_count": 88,
     "metadata": {},
     "output_type": "execute_result"
    }
   ],
   "source": [
    "function f_quad2(x, a=1, b=0, c=0; descending=true)\n",
    "    if descending\n",
    "        return a*x^2+b*x+c\n",
    "    else\n",
    "        return c*x^2+b*x+a\n",
    "    end\n",
    "end\n"
   ]
  },
  {
   "cell_type": "markdown",
   "id": "4a2b723f",
   "metadata": {},
   "source": [
    "return nothing。 nothing表示“不存在”。"
   ]
  },
  {
   "cell_type": "code",
   "execution_count": 89,
   "id": "c94f2c5c",
   "metadata": {},
   "outputs": [
    {
     "name": "stdout",
     "output_type": "stream",
     "text": [
      "3.0, 11.0\n"
     ]
    }
   ],
   "source": [
    "function summ(x)\n",
    "    xm=sum(x)/length(x)\n",
    "    xs=sum(x.^2)/length(x)\n",
    "    return xm, xs\n",
    "end\n",
    "res1, res2=summ([1,2,3,4,5])\n",
    "println(res1,\", \", res2)"
   ]
  }
 ],
 "metadata": {
  "kernelspec": {
   "display_name": "Julia 1.7.2",
   "language": "julia",
   "name": "julia-1.7"
  },
  "language_info": {
   "file_extension": ".jl",
   "mimetype": "application/julia",
   "name": "julia",
   "version": "1.7.2"
  }
 },
 "nbformat": 4,
 "nbformat_minor": 5
}
