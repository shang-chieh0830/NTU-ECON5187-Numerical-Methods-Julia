{
 "cells": [
  {
   "cell_type": "markdown",
   "id": "c471dc72",
   "metadata": {},
   "source": [
    "# 作業2"
   ]
  },
  {
   "cell_type": "markdown",
   "id": "54d1a0f9",
   "metadata": {},
   "source": [
    "## Draw Random Numbers from Uniform Distributions\n"
   ]
  },
  {
   "cell_type": "markdown",
   "id": "dd61af66",
   "metadata": {},
   "source": [
    "### Write code to draw a set of 10,000 random numbers that is uniformly distributed in (-2,3). \n",
    " - Hint: Stretch $U(0,1)$ to fit the bound of $U(-2,3)$."
   ]
  },
  {
   "cell_type": "code",
   "execution_count": 1,
   "id": "e61b9766",
   "metadata": {},
   "outputs": [
    {
     "data": {
      "text/plain": [
       "10000-element Vector{Float64}:\n",
       "  2.531498193987405\n",
       "  0.21746866229802286\n",
       "  1.7283669056969702\n",
       "  0.5604152001830718\n",
       " -0.7307545552924521\n",
       " -0.3292423180904058\n",
       "  0.1366394043679957\n",
       "  2.33773600127979\n",
       " -1.5043319257819792\n",
       " -1.3735629615422482\n",
       "  1.4610433102736953\n",
       " -1.3172426243127133\n",
       " -1.8395166332362638\n",
       "  ⋮\n",
       " -1.2926166268116366\n",
       "  2.4532212744055286\n",
       "  2.534988425824621\n",
       "  0.6848462508464195\n",
       "  0.012016257922934592\n",
       "  0.7141451488643304\n",
       "  0.047574664567274105\n",
       "  0.6425886323990513\n",
       "  0.5171579955244585\n",
       " -1.2438671341528074\n",
       "  2.9380322389357154\n",
       "  2.2763546577676426"
      ]
     },
     "execution_count": 1,
     "metadata": {},
     "output_type": "execute_result"
    }
   ],
   "source": [
    "using Random\n",
    "\n",
    "Random.seed!(123)\n",
    "\n",
    "vec1= rand(10000)  # draw 10000 random number from U(0,1)\n",
    "\n",
    "vec2= vec1*5       # U(0,5)\n",
    "\n",
    "vec3= vec2 .- 2    # U(-2,3)\n"
   ]
  },
  {
   "cell_type": "markdown",
   "id": "0b4e1b82",
   "metadata": {},
   "source": [
    "### What are the theoretical mean and standard deviation of the distribution $U(-2,3)$ ?"
   ]
  },
  {
   "cell_type": "markdown",
   "id": "df982456",
   "metadata": {},
   "source": [
    "$ \\text{The theoretical mean of } U(a,b) \\text{ is }\\frac{a+b}{2}. $  \n",
    "$ \\text{The theoretical standard deviation of } U(a,b) \\text{ is } \\sqrt{\\frac{(b-a)^2}{12}}. $  \n",
    "$ \\text{Hence, the theoretical mean of } U(-2,3) \\text{ is } \\frac{3-2}{2}=0.5 \\text{ and the standard deviation of } U(-2,3) \\text{ is } \\sqrt{\\frac{(3-(-2))^2}{12}} \\approx1.083$\n"
   ]
  },
  {
   "cell_type": "markdown",
   "id": "cdd77ec8",
   "metadata": {},
   "source": [
    "### Show the mean and the standard deviation of the set of random numbers you've drawn. "
   ]
  },
  {
   "cell_type": "code",
   "execution_count": 2,
   "id": "3c407fd5",
   "metadata": {},
   "outputs": [
    {
     "name": "stdout",
     "output_type": "stream",
     "text": [
      "mean(vec3) = 0.5052948303444671\n",
      "std(vec3) = 1.440600975309783\n"
     ]
    },
    {
     "data": {
      "text/plain": [
       "1.440600975309783"
      ]
     },
     "execution_count": 2,
     "metadata": {},
     "output_type": "execute_result"
    }
   ],
   "source": [
    "using Statistics\n",
    "\n",
    "@show mean(vec3)   \n",
    "@show std(vec3)"
   ]
  },
  {
   "cell_type": "markdown",
   "id": "71bf5a93",
   "metadata": {},
   "source": [
    "## Draw Random Numbers from Normal Distributions\n"
   ]
  },
  {
   "cell_type": "markdown",
   "id": "c99e7de1",
   "metadata": {},
   "source": [
    "### Use `randn()` to draw a $1000\\times 2$ matrix of random numbers from $N(2,3)$ (a normal distribution with mean=2 and variance=3). Use `mean()` and `var()` to show that the empirical mean and variance are close to the theoretical values.\n",
    "- Hint: `randn()` generates N(0,1) random variables; you have to scale it to the appropriate mean and variance.\n",
    "- Hint: For constants `a` and `b`: $x \\sim N(\\mu, \\sigma^2)$, then $a*x \\sim N(a*\\mu, \\ a^2 \\sigma^2)$ and $x+b \\sim N(\\mu+b, \\ \\sigma^2)$."
   ]
  },
  {
   "cell_type": "code",
   "execution_count": 9,
   "id": "cd38b9ab",
   "metadata": {},
   "outputs": [
    {
     "name": "stdout",
     "output_type": "stream",
     "text": [
      "mean(vec3) = 1.9549979184134927\n",
      "var(vec3) = 2.973121950912073\n"
     ]
    },
    {
     "data": {
      "text/plain": [
       "2.973121950912073"
      ]
     },
     "execution_count": 9,
     "metadata": {},
     "output_type": "execute_result"
    }
   ],
   "source": [
    "using Random, Statistics\n",
    "Random.seed!(123)\n",
    "\n",
    "vec1= randn(1000,2)\n",
    "\n",
    "vec2= vec1 * sqrt(3)\n",
    "\n",
    "vec3= vec2 .+ 2\n",
    "\n",
    "@show mean(vec3)\n",
    "@show var(vec3)"
   ]
  },
  {
   "cell_type": "markdown",
   "id": "5462f4cc",
   "metadata": {},
   "source": [
    "### Use `rand()` to draw a $1000\\times 2$ matrix of random numbers from $N(2,3)$. Use `mean()` and `var()` to show that the empirical mean and variance are close to the theoretical values.\n",
    "- Hint: `rand()` could take distributions as arguments, as we've shown in the class."
   ]
  },
  {
   "cell_type": "code",
   "execution_count": 6,
   "id": "ce1b7fd1",
   "metadata": {},
   "outputs": [
    {
     "data": {
      "text/plain": [
       "Normal{Float64}(μ=2.0, σ=1.7320508075688772)"
      ]
     },
     "execution_count": 6,
     "metadata": {},
     "output_type": "execute_result"
    }
   ],
   "source": [
    "using Distributions\n",
    "\n",
    "d= Normal(2, sqrt(3))\n",
    "\n"
   ]
  },
  {
   "cell_type": "code",
   "execution_count": 8,
   "id": "26e2534f",
   "metadata": {},
   "outputs": [
    {
     "name": "stdout",
     "output_type": "stream",
     "text": [
      "mean(mat) = 1.965122969076173\n",
      "var(mat) = 2.968564501198857\n"
     ]
    },
    {
     "data": {
      "text/plain": [
       "2.968564501198857"
      ]
     },
     "execution_count": 8,
     "metadata": {},
     "output_type": "execute_result"
    }
   ],
   "source": [
    "using Random\n",
    "\n",
    "mat = rand(d, 1000, 2)  # 1000x2\n",
    "\n",
    "@show mean(mat)\n",
    "@show var(mat)"
   ]
  },
  {
   "cell_type": "markdown",
   "id": "87cf30eb",
   "metadata": {},
   "source": [
    "## Draw Regression Data: Cross-Sectional Model\n",
    "\n",
    "Suppose you write your own routine to do fancy estimation on cross-sectional and panel data models. You want to conduct a Monte Carlo analysis to see if the routine works as expected and the returned answer is correct. The first thing you have to do is to generate data with pre-specified parameter values. (So that you could apply your estimation routine to the data and see if the estimated parameter values match the pre-specified (*true*) values.) \n",
    "\n",
    "Let's start from the cross-sectional model. The model is:\n",
    "\\begin{aligned} \n",
    "  y_i & = \\alpha + \\beta' x_i + \\epsilon_i,\\qquad i=1,\\ldots,N,\\\\\n",
    "  \\epsilon_i & \\sim N(0, \\sigma^2).\n",
    "\\end{aligned}   \n",
    "\n",
    "There could be more than one $x_i$ variable in the model; let's denote the number of $x_i$ as $\\textrm{nofX}$. Write a function to generate data $\\{y_i, x_i\\}$.The function should allow users to choose values of $\\{\\alpha, \\beta, \\sigma^2, \\textrm{nofX}, N\\}$.\n",
    "  - Hint: The $x_i$s are assumed (in econometrics) to be fixed and exogenous and therefore the distribution from which they are generated is inconsequential. （前面那句看不懂意思沒關係，重要是下面這句：）You may assume that they are generated from normal distributions."
   ]
  },
  {
   "cell_type": "markdown",
   "id": "9e30caf6",
   "metadata": {},
   "source": [
    "$ \\text{In matrix form, it should be } Y=X\\beta+ \\epsilon$  \n",
    "\n",
    "Y is N x 1 matrix. N is the number of obs.  \n",
    "X is N x (nofX+1) matrix. nofX is the number of independent variables. We plus 1 to include the intercept.  \n",
    "$\\beta$ is (nofX+1) x 1 matrix.  \n",
    "$\\epsilon$ is N x 1 matrix.\n",
    " "
   ]
  },
  {
   "cell_type": "code",
   "execution_count": 25,
   "id": "eae108b5",
   "metadata": {},
   "outputs": [
    {
     "data": {
      "text/plain": [
       "Regression_Data (generic function with 1 method)"
      ]
     },
     "execution_count": 25,
     "metadata": {},
     "output_type": "execute_result"
    }
   ],
   "source": [
    "using Random, Distributions\n",
    "\n",
    "function Regression_Data(; alpha::Real, beta::Vector, sigma_squared::Real, nofX::Int, N::Int)\n",
    "    \n",
    "    sigma=sqrt(sigma_squared)\n",
    "    X=randn(N,nofX)  # X is a N by nofX matrix\n",
    "    errors=rand(Normal(0, sigma), N)\n",
    "    \n",
    "    Y= alpha .+ X*beta .+ errors\n",
    "    \n",
    "    return Y, X\n",
    "end"
   ]
  },
  {
   "cell_type": "code",
   "execution_count": 26,
   "id": "a9438fab",
   "metadata": {},
   "outputs": [
    {
     "data": {
      "text/plain": [
       "([6.953153023183896, -3.6070280198786517, -5.272297467650319, 1.3155458901269552, -2.2308705616729787, 3.406181151450773, -2.917292531825376, 0.3663025189244533, 2.755629773939812, 0.16423261073184414  …  -3.530772274732671, -8.723874463124904, 1.8812353695133266, 9.397518233956394, -2.242611329627276, 2.5388480412233703, 0.31266930626090617, 7.553207859959147, -5.593196304860311, 1.7875849291584642], [-0.18706368588768155 1.5070202282526264 0.037660303141450205; -1.3259652642501223 -0.2389057665035784 -0.27724441542203515; … ; -0.5116699658900369 -1.3549358359671198 -0.31908842821495287; 0.6380873241077928 -0.8919591420699102 0.4656869218881949])"
      ]
     },
     "execution_count": 26,
     "metadata": {},
     "output_type": "execute_result"
    }
   ],
   "source": [
    "Y, X=Regression_Data(alpha=1,beta=[2,3,4], sigma_squared=1, nofX=3, N=100)\n"
   ]
  },
  {
   "cell_type": "markdown",
   "id": "32631c5c",
   "metadata": {},
   "source": [
    "## Draw Regression Data: Panel Model\n",
    "\n",
    "Suppose you also want to generate panel data to test your routine. The model is\n",
    "\\begin{aligned}\n",
    "    y_{it} & = \\alpha_i + \\beta x_{it} + \\epsilon_{it},\\qquad i=1,\\ldots,N,\\ t=1,\\ldots,T,\\\\\n",
    "   \\epsilon_{it} & \\sim N(0, \\sigma^2).\n",
    "\\end{aligned}   \n",
    "\n",
    "Here, $i$ is the individual index and $t$ is the time index. For instance, $w_{13}$ means the value of $w$ for the 1st individual at 3rd time period. Assume the above model is the random-effect (RE) panel data model where $\\alpha_i \\sim N(0,\\sigma_a^2)$ is a random variable which is independently distributed from $x_{it}$. Write a function to generate data of $\\{y_{it}, x_{it}\\}$ with the options of $\\{\\beta, \\sigma^2, \\sigma_a^2, \\textrm{nofX}, N, T\\}$. \n",
    "\n",
    "  - Hint: Draw $\\alpha_i$ and expand it (`repeat()`) to fill the time periods. Generate $x_{it}$ and $\\epsilon_{it}$. Then combine these elements according to the equation to create $y_{it}$.\n",
    "  - Hint: You don't really need to understand what is RE model to generate the data. Just follow the notation and it should be ok.\n",
    "  - Hint: `repeat()` would be useful here.\n",
    "  - Hint: The structure of the dataset should look like the following. Note that $\\alpha_i$ is constant within a given $i$ but would change acorss different $i$'s. \n",
    "\n",
    "\n",
    "|\ti\t|\tt\t|\ty_it\t|\talpha_i\t|\tx_it\t|\n",
    "| ---\t| ---\t|\t--- \t| ---\t\t|\t---     |\n",
    "|\t1\t|\t1\t|\t0.173 \t|\t0.12\t|\t0.183 \t|\n",
    "|\t1\t|\t2\t|\t0.372 \t|\t0.12\t|\t0.804 \t|\n",
    "|\t1\t|\t3\t|\t0.239 \t|\t0.12\t|\t0.072 \t|\n",
    "|\t1\t|\t4\t|\t0.791 \t|\t0.12\t|\t0.272 \t|\n",
    "|\t2\t|\t1\t|\t0.443 \t|\t-0.45\t|\t0.705 \t|\n",
    "|\t2\t|\t2\t|\t0.825 \t|\t-0.45\t|\t0.619 \t|\n",
    "|\t2\t|\t3\t|\t0.681 \t|\t-0.45\t|\t0.769 \t|\n",
    "|\t2\t|\t4\t|\t0.694 \t|\t-0.45\t|\t0.575 \t|\n",
    "|\t3\t|\t1\t|\t0.192 \t|\t1.29\t|\t0.067 \t|\n",
    "|\t3\t|\t2\t|\t0.072 \t|\t1.29\t|\t0.553 \t|\n",
    "|\t3\t|\t3\t|\t0.522 \t|\t1.29\t|\t0.280 \t|\n",
    "|\t3\t|\t4\t|\t0.021 \t|\t1.29\t|\t0.306 \t|\n",
    "\n",
    "\n",
    "\n",
    "\n",
    "\n"
   ]
  },
  {
   "cell_type": "code",
   "execution_count": 100,
   "id": "66d8345e",
   "metadata": {},
   "outputs": [
    {
     "data": {
      "text/plain": [
       "9-element Vector{Int64}:\n",
       " 1\n",
       " 2\n",
       " 3\n",
       " 1\n",
       " 2\n",
       " 3\n",
       " 1\n",
       " 2\n",
       " 3"
      ]
     },
     "execution_count": 100,
     "metadata": {},
     "output_type": "execute_result"
    }
   ],
   "source": [
    "alpha=[1,2,3]\n",
    "repeat(alpha,3)"
   ]
  },
  {
   "cell_type": "code",
   "execution_count": 101,
   "id": "83a49734",
   "metadata": {},
   "outputs": [
    {
     "data": {
      "text/plain": [
       "9-element Vector{Int64}:\n",
       " 1\n",
       " 1\n",
       " 1\n",
       " 2\n",
       " 2\n",
       " 2\n",
       " 3\n",
       " 3\n",
       " 3"
      ]
     },
     "execution_count": 101,
     "metadata": {},
     "output_type": "execute_result"
    }
   ],
   "source": [
    "repeat(alpha, inner=3)"
   ]
  },
  {
   "cell_type": "code",
   "execution_count": 102,
   "id": "f1ad8d32",
   "metadata": {},
   "outputs": [
    {
     "data": {
      "text/plain": [
       "3×3 Matrix{Int64}:\n",
       " 1  1  1\n",
       " 2  2  2\n",
       " 3  3  3"
      ]
     },
     "execution_count": 102,
     "metadata": {},
     "output_type": "execute_result"
    }
   ],
   "source": [
    "repeat(alpha, outer=[1,3]) #outer=[row, col] row出現1次 col出現3次"
   ]
  },
  {
   "cell_type": "code",
   "execution_count": 108,
   "id": "4250ac4f",
   "metadata": {},
   "outputs": [
    {
     "data": {
      "text/plain": [
       "6×3 Matrix{Int64}:\n",
       " 1  1  1\n",
       " 2  2  2\n",
       " 3  3  3\n",
       " 1  1  1\n",
       " 2  2  2\n",
       " 3  3  3"
      ]
     },
     "execution_count": 108,
     "metadata": {},
     "output_type": "execute_result"
    }
   ],
   "source": [
    "repeat(alpha, outer=[2,3]) #row出現2次 col出現3次"
   ]
  },
  {
   "cell_type": "code",
   "execution_count": 22,
   "id": "dcff0ceb",
   "metadata": {},
   "outputs": [
    {
     "data": {
      "text/plain": [
       "Panel_Data (generic function with 1 method)"
      ]
     },
     "execution_count": 22,
     "metadata": {},
     "output_type": "execute_result"
    }
   ],
   "source": [
    "using Random, Distributions\n",
    "\n",
    "\n",
    "\n",
    "function Panel_Data(; beta::Vector, sigma_squared::Real, sigma_squared_alpha::Real, nofX::Int, N::Int, T::Int)\n",
    "    sigma=sqrt(sigma_squared)\n",
    "    sigma_alpha=sqrt(sigma_squared_alpha)\n",
    "\n",
    "    alpha=rand(Normal(0, sigma_alpha),N)  #or alpha= randn(N) .* sigma_alpha\n",
    "    \n",
    "    alpha_tiled = repeat(alpha,inner=T) \n",
    "    \n",
    "    X = randn(N*T, nofX)  # NT x nofX matrix\n",
    "    \n",
    "    errors = randn(N*T) .* sigma\n",
    "    \n",
    "    \n",
    "    Y= alpha_tiled .+ X*beta .+errors\n",
    "    \n",
    "    \n",
    "    return Y, X\n",
    "    \n",
    "end\n",
    "\n"
   ]
  },
  {
   "cell_type": "code",
   "execution_count": 23,
   "id": "dbec3739",
   "metadata": {},
   "outputs": [
    {
     "data": {
      "text/plain": [
       "([-3.142348803733829, -2.8792339189708467, -4.17257687596944, 3.90615371638058, -3.2085122891928686, 1.9065822767642786, -1.0016124906171315, 4.635482372071168, 3.8050669242985204, 3.3187819275175863, 1.6358431544614145, 3.059907343135486], [-0.6513083078833882 -0.696970340868155; 0.25420445585623486 -1.2025644570738383; … ; 0.11970663933230476 0.8683073105941759; 0.2076172841891845 0.8579112719186806])"
      ]
     },
     "execution_count": 23,
     "metadata": {},
     "output_type": "execute_result"
    }
   ],
   "source": [
    "beta=[1,2]\n",
    "Panel_Data(beta=[1,2], sigma_squared=1.0, sigma_squared_alpha=0.5, nofX=length(beta), N=3, T=4)"
   ]
  }
 ],
 "metadata": {
  "@webio": {
   "lastCommId": null,
   "lastKernelId": null
  },
  "kernelspec": {
   "display_name": "Julia 1.7.2",
   "language": "julia",
   "name": "julia-1.7"
  },
  "language_info": {
   "file_extension": ".jl",
   "mimetype": "application/julia",
   "name": "julia",
   "version": "1.7.2"
  },
  "toc": {
   "base_numbering": 1,
   "nav_menu": {},
   "number_sections": true,
   "sideBar": true,
   "skip_h1_title": true,
   "title_cell": "Table of Contents",
   "title_sidebar": "Contents",
   "toc_cell": false,
   "toc_position": {},
   "toc_section_display": true,
   "toc_window_display": true
  }
 },
 "nbformat": 4,
 "nbformat_minor": 5
}
