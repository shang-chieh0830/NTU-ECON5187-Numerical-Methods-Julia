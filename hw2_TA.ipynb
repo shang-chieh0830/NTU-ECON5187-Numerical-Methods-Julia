{
 "cells": [
  {
   "cell_type": "code",
   "execution_count": 2,
   "id": "84b09014",
   "metadata": {},
   "outputs": [],
   "source": [
    "using Random, Statistics, Distributions, DataFrames"
   ]
  },
  {
   "cell_type": "markdown",
   "id": "403f65be",
   "metadata": {},
   "source": [
    "## Draw Random Numbers from Uniform Distributions\n",
    "\n",
    "#### Write code to draw a set of 10,000 random numbers that is uniformly distributed in (-2,3). \n",
    " - Hint: Stretch $U(0,1)$ to fit the bound of $U(-2,3)$.\n",
    " \n",
    "#### What are the theoretical mean and standard deviation of the distribution $U(-2,3)$ ?\n",
    " \n",
    "#### Show the mean and the standard deviation of the set of random numbers you've drawn. "
   ]
  },
  {
   "cell_type": "markdown",
   "id": "dbbb32bb",
   "metadata": {},
   "source": [
    "*劉浩揚*\n",
    "##### suppose $x \\sim U(0,1)$ then $(5x-2) \\sim U(-2,3)$\n",
    "\n",
    "*魏上傑*\n",
    "\n",
    "$ \\text{The theoretical mean of } U(a,b) \\text{ is }\\frac{a+b}{2}. $  \n",
    "$ \\text{The theoretical standard deviation of } U(a,b) \\text{ is } \n",
    "\\sqrt{\\frac{(b-a)^2}{12}}. $  \n",
    "$ \\text{Hence, the theoretical mean of } U(-2,3) \\text{ is }\n",
    "\\frac{3-2}{2}=0.5, \n",
    "\\text{ and the standard deviation of } U(-2,3) \n",
    "\\text{ is } \\sqrt{\\frac{(3-(-2))^2}{12}} \\approx1.44$"
   ]
  },
  {
   "cell_type": "code",
   "execution_count": 68,
   "id": "2da37d2a",
   "metadata": {},
   "outputs": [
    {
     "name": "stdout",
     "output_type": "stream",
     "text": [
      "The sample mean is 0.51\n",
      "The sample standard deviation is 1.44\n"
     ]
    }
   ],
   "source": [
    "x_1 = -2 .+ 5 .* rand(10000)\n",
    "\n",
    "println(\"The sample mean is \" , round(mean(x_1) ; digits = 2 ) )\n",
    "println(\"The sample standard deviation is \" , round(std(x_1) ; digits = 2 ) )"
   ]
  },
  {
   "cell_type": "code",
   "execution_count": 10,
   "id": "c90eae17",
   "metadata": {},
   "outputs": [
    {
     "name": "stdout",
     "output_type": "stream",
     "text": [
      "theoretical mean = 0.5\n",
      "theoretical standard deviation = 1.4433756729740645\n",
      "mean = 0.5865395243573632\n",
      "standard deviation = 1.4203939785081834\n"
     ]
    }
   ],
   "source": [
    "d = Uniform(-2, 3);\n",
    "println(\"theoretical mean = \", mean(d));\n",
    "println(\"theoretical standard deviation = \", sqrt(var(d)));\n",
    "\n",
    "a1 = rand(d, 1000);\n",
    "println(\"mean = \", mean(a1));\n",
    "println(\"standard deviation = \", sqrt(var(a1)));"
   ]
  },
  {
   "cell_type": "markdown",
   "id": "d7283f68",
   "metadata": {},
   "source": [
    "## Draw Random Numbers from Normal Distributions\n",
    "\n",
    "### Use `randn()` to draw a $1000\\times 2$ matrix of random numbers from $N(2,3)$ (a normal distribution with mean=2 and variance=3). Use `mean()` and `var()` to show that the empirical mean and variance are close to the theoretical values.\n",
    "- Hint: `randn()` generates N(0,1) random variables; you have to scale it to the appropriate mean and variance.\n",
    "- Hint: For constants `a` and `b`: $x \\sim N(\\mu, \\sigma^2)$, then $a*x \\sim N(a*\\mu, \\ a^2 \\sigma^2)$ and $x+b \\sim N(\\mu+b, \\ \\sigma^2)$.\n",
    "\n",
    "### Use `rand()` to draw a $1000\\times 2$ matrix of random numbers from $N(2,3)$. Use `mean()` and `var()` to show that the empirical mean and variance are close to the theoretical values.\n",
    "- Hint: `rand()` could take distributions as arguments, as we've shown in the class."
   ]
  },
  {
   "cell_type": "code",
   "execution_count": 11,
   "id": "a5490203",
   "metadata": {},
   "outputs": [
    {
     "name": "stdout",
     "output_type": "stream",
     "text": [
      "m1 mean(empirical) = 2.0479601096093774\n",
      "m1 variance(empirical) = 2.971758986826394\n",
      "m2 mean(empirical) = 2.020465885597819\n",
      "m2 variance(empirical) = 2.9590113329909977\n"
     ]
    }
   ],
   "source": [
    "m1 = randn(1000, 2) * sqrt(3) .+ 2;\n",
    "println(\"m1 mean(empirical) = \", mean(m1));\n",
    "println(\"m1 variance(empirical) = \", var(m1));\n",
    "\n",
    "d = Normal(2, sqrt(3));\n",
    "m2 = rand(d, (1000, 2));\n",
    "println(\"m2 mean(empirical) = \", mean(m2));\n",
    "println(\"m2 variance(empirical) = \", var(m2));"
   ]
  },
  {
   "cell_type": "markdown",
   "id": "4608fa33",
   "metadata": {},
   "source": [
    "## Draw Regression Data: Cross-Sectional Model\n",
    "\n",
    "Suppose you write your own routine to do fancy estimation on cross-sectional and panel data models. You want to conduct a Monte Carlo analysis to see if the routine works as expected and the returned answer is correct. The first thing you have to do is to generate data with pre-specified parameter values. (So that you could apply your estimation routine to the data and see if the estimated parameter values match the pre-specified (*true*) values.) \n",
    "\n",
    "Let's start from the cross-sectional model. The model is:\n",
    "\\begin{aligned} \n",
    "  y_i & = \\alpha + \\beta' x_i + \\epsilon_i,\\qquad i=1,\\ldots,N,\\\\\n",
    "  \\epsilon_i & \\sim N(0, \\sigma^2).\n",
    "\\end{aligned}   \n",
    "\n",
    "There could be more than one $x_i$ variable in the model; let's denote the number of $x_i$ as $\\textrm{nofX}$. Write a function to generate data $\\{y_i, x_i\\}$.The function should allow users to choose values of $\\{\\alpha, \\beta, \\sigma^2, \\textrm{nofX}, N\\}$.\n",
    "  - Hint: The $x_i$s are assumed (in econometrics) to be fixed and exogenous and therefore the distribution from which they are generated is inconsequential. （前面那句看不懂意思沒關係，重要是下面這句：）You may assume that they are generated from normal distributions."
   ]
  },
  {
   "cell_type": "code",
   "execution_count": 69,
   "id": "f8447056",
   "metadata": {},
   "outputs": [
    {
     "data": {
      "text/html": [
       "<div><div style = \"float: left;\"><span>6×5 DataFrame</span></div><div style = \"clear: both;\"></div></div><div class = \"data-frame\" style = \"overflow-x: scroll;\"><table class = \"data-frame\" style = \"margin-bottom: 6px;\"><thead><tr class = \"header\"><th class = \"rowNumber\" style = \"font-weight: bold; text-align: right;\">Row</th><th style = \"text-align: left;\">i</th><th style = \"text-align: left;\">y</th><th style = \"text-align: left;\">x_1</th><th style = \"text-align: left;\">x_2</th><th style = \"text-align: left;\">x_3</th></tr><tr class = \"subheader headerLastRow\"><th class = \"rowNumber\" style = \"font-weight: bold; text-align: right;\"></th><th title = \"Float64\" style = \"text-align: left;\">Float64</th><th title = \"Float64\" style = \"text-align: left;\">Float64</th><th title = \"Float64\" style = \"text-align: left;\">Float64</th><th title = \"Float64\" style = \"text-align: left;\">Float64</th><th title = \"Float64\" style = \"text-align: left;\">Float64</th></tr></thead><tbody><tr><td class = \"rowNumber\" style = \"font-weight: bold; text-align: right;\">1</td><td style = \"text-align: right;\">1.0</td><td style = \"text-align: right;\">1.82067</td><td style = \"text-align: right;\">0.0584865</td><td style = \"text-align: right;\">0.721556</td><td style = \"text-align: right;\">0.126647</td></tr><tr><td class = \"rowNumber\" style = \"font-weight: bold; text-align: right;\">2</td><td style = \"text-align: right;\">2.0</td><td style = \"text-align: right;\">7.50526</td><td style = \"text-align: right;\">-0.932962</td><td style = \"text-align: right;\">0.415234</td><td style = \"text-align: right;\">2.12783</td></tr><tr><td class = \"rowNumber\" style = \"font-weight: bold; text-align: right;\">3</td><td style = \"text-align: right;\">3.0</td><td style = \"text-align: right;\">8.01874</td><td style = \"text-align: right;\">-1.27465</td><td style = \"text-align: right;\">1.21139</td><td style = \"text-align: right;\">1.24602</td></tr><tr><td class = \"rowNumber\" style = \"font-weight: bold; text-align: right;\">4</td><td style = \"text-align: right;\">4.0</td><td style = \"text-align: right;\">7.88548</td><td style = \"text-align: right;\">0.424825</td><td style = \"text-align: right;\">1.32257</td><td style = \"text-align: right;\">1.08737</td></tr><tr><td class = \"rowNumber\" style = \"font-weight: bold; text-align: right;\">5</td><td style = \"text-align: right;\">5.0</td><td style = \"text-align: right;\">-1.22088</td><td style = \"text-align: right;\">-0.454669</td><td style = \"text-align: right;\">-1.23507</td><td style = \"text-align: right;\">0.254427</td></tr><tr><td class = \"rowNumber\" style = \"font-weight: bold; text-align: right;\">6</td><td style = \"text-align: right;\">6.0</td><td style = \"text-align: right;\">5.87114</td><td style = \"text-align: right;\">1.12323</td><td style = \"text-align: right;\">-0.783457</td><td style = \"text-align: right;\">1.00569</td></tr></tbody></table></div>"
      ],
      "text/latex": [
       "\\begin{tabular}{r|ccccc}\n",
       "\t& i & y & x\\_1 & x\\_2 & x\\_3\\\\\n",
       "\t\\hline\n",
       "\t& Float64 & Float64 & Float64 & Float64 & Float64\\\\\n",
       "\t\\hline\n",
       "\t1 & 1.0 & 1.82067 & 0.0584865 & 0.721556 & 0.126647 \\\\\n",
       "\t2 & 2.0 & 7.50526 & -0.932962 & 0.415234 & 2.12783 \\\\\n",
       "\t3 & 3.0 & 8.01874 & -1.27465 & 1.21139 & 1.24602 \\\\\n",
       "\t4 & 4.0 & 7.88548 & 0.424825 & 1.32257 & 1.08737 \\\\\n",
       "\t5 & 5.0 & -1.22088 & -0.454669 & -1.23507 & 0.254427 \\\\\n",
       "\t6 & 6.0 & 5.87114 & 1.12323 & -0.783457 & 1.00569 \\\\\n",
       "\\end{tabular}\n"
      ],
      "text/plain": [
       "\u001b[1m6×5 DataFrame\u001b[0m\n",
       "\u001b[1m Row \u001b[0m│\u001b[1m i       \u001b[0m\u001b[1m y        \u001b[0m\u001b[1m x_1        \u001b[0m\u001b[1m x_2       \u001b[0m\u001b[1m x_3      \u001b[0m\n",
       "     │\u001b[90m Float64 \u001b[0m\u001b[90m Float64  \u001b[0m\u001b[90m Float64    \u001b[0m\u001b[90m Float64   \u001b[0m\u001b[90m Float64  \u001b[0m\n",
       "─────┼────────────────────────────────────────────────────\n",
       "   1 │     1.0   1.82067   0.0584865   0.721556  0.126647\n",
       "   2 │     2.0   7.50526  -0.932962    0.415234  2.12783\n",
       "   3 │     3.0   8.01874  -1.27465     1.21139   1.24602\n",
       "   4 │     4.0   7.88548   0.424825    1.32257   1.08737\n",
       "   5 │     5.0  -1.22088  -0.454669   -1.23507   0.254427\n",
       "   6 │     6.0   5.87114   1.12323    -0.783457  1.00569"
      ]
     },
     "execution_count": 69,
     "metadata": {},
     "output_type": "execute_result"
    }
   ],
   "source": [
    "#吳天冷\n",
    "\n",
    "#建立Cross-Sectional Model，其中y是N*1，α為N*1（但大家α都一樣），β為M*1，x是N*M，ϵ是N*1，維度不對會報錯\n",
    "function CSM(; α = 0, β = [1], σ² = 1, M = 1, N = 1) \n",
    "    x = rand(Normal(0, sqrt(1)), N, M)\n",
    "    # @show size(x)\n",
    "    # @show x\n",
    "    # @show size(β)\n",
    "    y = α .+ x * β + rand(Normal(0, sqrt(σ²)), N)\n",
    "    # @show y\n",
    "    #建立Dataframe（從matrix建），並命名column\n",
    "    matrix =  hcat(repeat(1:N), y, x)\n",
    "    df = DataFrame(matrix, :auto)\n",
    "    rename!(df, [Symbol(\"x_$i\") for i in -1:M])\n",
    "    rename!(df, Dict(:\"x_-1\" => \"i\", :\"x_0\" => \"y\"))\n",
    "    return df\n",
    "end\n",
    "\n",
    "CSM(; α = 1, β = [2, 3, 4], σ² = 3, M = 3, N = 6) #範例"
   ]
  },
  {
   "cell_type": "code",
   "execution_count": null,
   "id": "6840e4b0",
   "metadata": {},
   "outputs": [],
   "source": [
    "# 曾勁松\n",
    "\n",
    "rng = MersenneTwister(1234)\n",
    "A=Normal(2,sqrt(3))\n",
    "function f(α,β,σ2,nofX,N)\n",
    "    ϵ=rand(Normal(0,sqrt(σ2)),(N,1))\n",
    "    x_i=rand(rng,A,(N,nofX)) #從N(2,3)中抽樣出x\n",
    "    α=fill(α,(N,1))\n",
    "    β=fill(β,(nofX,1))\n",
    "    y_i=α+x_i*β+ϵ\n",
    "    dy=DataFrame(y=vec(y_i), x1=x_i[:,1])\n",
    "    dx=DataFrame(x_i,:auto)\n",
    "    return innerjoin(dy,dx,on=:x1)\n",
    "end\n",
    "f(2,3,1,7,3)"
   ]
  },
  {
   "cell_type": "markdown",
   "id": "2761c4b3",
   "metadata": {},
   "source": [
    "## Draw Regression Data: Panel Model\n",
    "\n",
    "Suppose you also want to generate panel data to test your routine. The model is\n",
    "\\begin{aligned}\n",
    "    y_{it} & = \\alpha_i + \\beta x_{it} + \\epsilon_{it},\\qquad i=1,\\ldots,N,\\ t=1,\\ldots,T,\\\\\n",
    "   \\epsilon_{it} & \\sim N(0, \\sigma^2).\n",
    "\\end{aligned}   \n",
    "\n",
    "Here, $i$ is the individual index and $t$ is the time index. For instance, $w_{13}$ means the value of $w$ for the 1st individual at 3rd time period. Assume the above model is the random-effect (RE) panel data model where $\\alpha_i \\sim N(0,\\sigma_a^2)$ is a random variable which is independently distributed from $x_{it}$. Write a function to generate data of $\\{y_{it}, x_{it}\\}$ with the options of $\\{\\beta, \\sigma^2, \\sigma_a^2, \\textrm{nofX}, N, T\\}$. \n",
    "\n",
    "  - Hint: Draw $\\alpha_i$ and expand it (`repeat()`) to fill the time periods. Generate $x_{it}$ and $\\epsilon_{it}$. Then combine these elements according to the equation to create $y_{it}$.\n",
    "  - Hint: You don't really need to understand what is RE model to generate the data. Just follow the notation and it should be ok.\n",
    "  - Hint: `repeat()` would be useful here.\n",
    "  - Hint: The structure of the dataset should look like the following. Note that $\\alpha_i$ is constant within a given $i$ but would change acorss different $i$'s. \n",
    "\n",
    "\n",
    "|\ti\t|\tt\t|\ty_it\t|\talpha_i\t|\tx_it\t|\n",
    "| ---\t| ---\t|\t--- \t| ---\t\t|\t---     |\n",
    "|\t1\t|\t1\t|\t0.173 \t|\t0.12\t|\t0.183 \t|\n",
    "|\t1\t|\t2\t|\t0.372 \t|\t0.12\t|\t0.804 \t|\n",
    "|\t1\t|\t3\t|\t0.239 \t|\t0.12\t|\t0.072 \t|\n",
    "|\t1\t|\t4\t|\t0.791 \t|\t0.12\t|\t0.272 \t|\n",
    "|\t2\t|\t1\t|\t0.443 \t|\t-0.45\t|\t0.705 \t|\n",
    "|\t2\t|\t2\t|\t0.825 \t|\t-0.45\t|\t0.619 \t|\n",
    "|\t2\t|\t3\t|\t0.681 \t|\t-0.45\t|\t0.769 \t|\n",
    "|\t2\t|\t4\t|\t0.694 \t|\t-0.45\t|\t0.575 \t|\n",
    "|\t3\t|\t1\t|\t0.192 \t|\t1.29\t|\t0.067 \t|\n",
    "|\t3\t|\t2\t|\t0.072 \t|\t1.29\t|\t0.553 \t|\n",
    "|\t3\t|\t3\t|\t0.522 \t|\t1.29\t|\t0.280 \t|\n",
    "|\t3\t|\t4\t|\t0.021 \t|\t1.29\t|\t0.306 \t|\n",
    "\n",
    "\n",
    "\n",
    "\n",
    "\n"
   ]
  },
  {
   "cell_type": "code",
   "execution_count": 4,
   "id": "ba1511b1",
   "metadata": {},
   "outputs": [
    {
     "data": {
      "text/plain": [
       "6×3 Matrix{Float64}:\n",
       " 1.0  1.0  -0.879908\n",
       " 1.0  2.0  -0.162918\n",
       " 2.0  1.0  -1.82062\n",
       " 2.0  2.0  -2.83872\n",
       " 3.0  1.0  -1.86913\n",
       " 3.0  2.0  -1.50121"
      ]
     },
     "metadata": {},
     "output_type": "display_data"
    },
    {
     "data": {
      "text/plain": [
       "6×4 Matrix{Float64}:\n",
       " 0.0779672   1.0548     0.366233  -1.42159\n",
       " 0.940961   -2.59507    0.367747   0.446513\n",
       " 1.17443    -0.299261  -1.64253   -1.24851\n",
       " 0.0150571  -0.123509   0.574206  -1.33367\n",
       " 1.60237    -0.602435   0.824673  -0.161014\n",
       " 0.30057     1.50224    1.0848    -1.56717"
      ]
     },
     "metadata": {},
     "output_type": "display_data"
    }
   ],
   "source": [
    "# Last year method\n",
    "\n",
    "struct data_panel\n",
    "    fid  # firm id\n",
    "    tid  # time id\n",
    "    y\n",
    "    x\n",
    "end\n",
    "\n",
    "\n",
    "function DGP_panel(; N::Int=10, T::Int=2, nofx::Int=1, α::Float64=0.5, \n",
    "                   β::Vector=[0.5], σₐ²::Float64=1.0, σₑ²::Float64=1.0, seed::Int=33668324) \n",
    "    \n",
    "    length(β) == nofx || throw(\"The length of β should equal nofx.\")\n",
    "\n",
    "    if seed == 33668324              # meaning no user-supplied seed\n",
    "        rng1 = Random.default_rng()  # inherit from global RNG\n",
    "    else     \n",
    "        rng1 = Xoshiro(seed)    # user-supplied RNG\n",
    "    end\n",
    "    \n",
    "    \n",
    "    firmid = repeat(1:N, inner=T)\n",
    "    timeid = repeat(1:T, outer=N)\n",
    "        αᵢ = repeat(randn(rng1, N)*sqrt(σₐ²), inner=T)  # or, repeat(rand(Normal(0, sqrt(σₐ²)), inner=T))\n",
    "    \n",
    "    x = rand(rng1, Normal(0,1), N*T, nofx)     # or, randn(N*T, nofx)\n",
    "    e = rand(rng1, Normal(0,sqrt(σₑ²)), N*T, 1)\n",
    "    y = αᵢ .+ x*β .+ e\n",
    "\n",
    "    return data_panel(firmid, timeid, y, x)\n",
    "end\n",
    "\n",
    "\n",
    "# example\n",
    "mybeta = ones(4)*0.6  # a vector of [0.6, 0.6, 0.6, 0.6]\n",
    "data2 = DGP_panel(N=3, T=2, nofx=4, β=mybeta)\n",
    "\n",
    "[data2.fid data2.tid data2.y] |> display\n",
    "data2.x |> display\n"
   ]
  },
  {
   "cell_type": "code",
   "execution_count": 3,
   "id": "ac7184ea",
   "metadata": {},
   "outputs": [
    {
     "data": {
      "text/html": [
       "<div><div style = \"float: left;\"><span>9×7 DataFrame</span></div><div style = \"clear: both;\"></div></div><div class = \"data-frame\" style = \"overflow-x: scroll;\"><table class = \"data-frame\" style = \"margin-bottom: 6px;\"><thead><tr class = \"header\"><th class = \"rowNumber\" style = \"font-weight: bold; text-align: right;\">Row</th><th style = \"text-align: left;\">i</th><th style = \"text-align: left;\">t</th><th style = \"text-align: left;\">α</th><th style = \"text-align: left;\">x1</th><th style = \"text-align: left;\">x2</th><th style = \"text-align: left;\">x3</th><th style = \"text-align: left;\">y</th></tr><tr class = \"subheader headerLastRow\"><th class = \"rowNumber\" style = \"font-weight: bold; text-align: right;\"></th><th title = \"Int64\" style = \"text-align: left;\">Int64</th><th title = \"Int64\" style = \"text-align: left;\">Int64</th><th title = \"Float64\" style = \"text-align: left;\">Float64</th><th title = \"Float64\" style = \"text-align: left;\">Float64</th><th title = \"Float64\" style = \"text-align: left;\">Float64</th><th title = \"Float64\" style = \"text-align: left;\">Float64</th><th title = \"Float64\" style = \"text-align: left;\">Float64</th></tr></thead><tbody><tr><td class = \"rowNumber\" style = \"font-weight: bold; text-align: right;\">1</td><td style = \"text-align: right;\">1</td><td style = \"text-align: right;\">1</td><td style = \"text-align: right;\">1.17278</td><td style = \"text-align: right;\">3.50229</td><td style = \"text-align: right;\">1.10456</td><td style = \"text-align: right;\">2.12491</td><td style = \"text-align: right;\">14.2757</td></tr><tr><td class = \"rowNumber\" style = \"font-weight: bold; text-align: right;\">2</td><td style = \"text-align: right;\">1</td><td style = \"text-align: right;\">2</td><td style = \"text-align: right;\">1.17278</td><td style = \"text-align: right;\">0.438134</td><td style = \"text-align: right;\">1.02918</td><td style = \"text-align: right;\">-0.604016</td><td style = \"text-align: right;\">3.12878</td></tr><tr><td class = \"rowNumber\" style = \"font-weight: bold; text-align: right;\">3</td><td style = \"text-align: right;\">1</td><td style = \"text-align: right;\">3</td><td style = \"text-align: right;\">1.17278</td><td style = \"text-align: right;\">1.14354</td><td style = \"text-align: right;\">1.96659</td><td style = \"text-align: right;\">4.70922</td><td style = \"text-align: right;\">17.2432</td></tr><tr><td class = \"rowNumber\" style = \"font-weight: bold; text-align: right;\">4</td><td style = \"text-align: right;\">2</td><td style = \"text-align: right;\">1</td><td style = \"text-align: right;\">0.556965</td><td style = \"text-align: right;\">0.436107</td><td style = \"text-align: right;\">2.22181</td><td style = \"text-align: right;\">-0.419217</td><td style = \"text-align: right;\">7.15047</td></tr><tr><td class = \"rowNumber\" style = \"font-weight: bold; text-align: right;\">5</td><td style = \"text-align: right;\">2</td><td style = \"text-align: right;\">2</td><td style = \"text-align: right;\">0.556965</td><td style = \"text-align: right;\">3.49719</td><td style = \"text-align: right;\">5.20911</td><td style = \"text-align: right;\">3.91478</td><td style = \"text-align: right;\">25.8002</td></tr><tr><td class = \"rowNumber\" style = \"font-weight: bold; text-align: right;\">6</td><td style = \"text-align: right;\">2</td><td style = \"text-align: right;\">3</td><td style = \"text-align: right;\">0.556965</td><td style = \"text-align: right;\">5.83108</td><td style = \"text-align: right;\">0.566272</td><td style = \"text-align: right;\">0.0830876</td><td style = \"text-align: right;\">14.5937</td></tr><tr><td class = \"rowNumber\" style = \"font-weight: bold; text-align: right;\">7</td><td style = \"text-align: right;\">3</td><td style = \"text-align: right;\">1</td><td style = \"text-align: right;\">-1.99704</td><td style = \"text-align: right;\">2.92286</td><td style = \"text-align: right;\">2.19069</td><td style = \"text-align: right;\">-3.56224</td><td style = \"text-align: right;\">0.874304</td></tr><tr><td class = \"rowNumber\" style = \"font-weight: bold; text-align: right;\">8</td><td style = \"text-align: right;\">3</td><td style = \"text-align: right;\">2</td><td style = \"text-align: right;\">-1.99704</td><td style = \"text-align: right;\">1.52934</td><td style = \"text-align: right;\">1.56495</td><td style = \"text-align: right;\">1.8718</td><td style = \"text-align: right;\">6.79833</td></tr><tr><td class = \"rowNumber\" style = \"font-weight: bold; text-align: right;\">9</td><td style = \"text-align: right;\">3</td><td style = \"text-align: right;\">3</td><td style = \"text-align: right;\">-1.99704</td><td style = \"text-align: right;\">2.87007</td><td style = \"text-align: right;\">2.64036</td><td style = \"text-align: right;\">2.2615</td><td style = \"text-align: right;\">13.0043</td></tr></tbody></table></div>"
      ],
      "text/latex": [
       "\\begin{tabular}{r|ccccccc}\n",
       "\t& i & t & α & x1 & x2 & x3 & y\\\\\n",
       "\t\\hline\n",
       "\t& Int64 & Int64 & Float64 & Float64 & Float64 & Float64 & Float64\\\\\n",
       "\t\\hline\n",
       "\t1 & 1 & 1 & 1.17278 & 3.50229 & 1.10456 & 2.12491 & 14.2757 \\\\\n",
       "\t2 & 1 & 2 & 1.17278 & 0.438134 & 1.02918 & -0.604016 & 3.12878 \\\\\n",
       "\t3 & 1 & 3 & 1.17278 & 1.14354 & 1.96659 & 4.70922 & 17.2432 \\\\\n",
       "\t4 & 2 & 1 & 0.556965 & 0.436107 & 2.22181 & -0.419217 & 7.15047 \\\\\n",
       "\t5 & 2 & 2 & 0.556965 & 3.49719 & 5.20911 & 3.91478 & 25.8002 \\\\\n",
       "\t6 & 2 & 3 & 0.556965 & 5.83108 & 0.566272 & 0.0830876 & 14.5937 \\\\\n",
       "\t7 & 3 & 1 & -1.99704 & 2.92286 & 2.19069 & -3.56224 & 0.874304 \\\\\n",
       "\t8 & 3 & 2 & -1.99704 & 1.52934 & 1.56495 & 1.8718 & 6.79833 \\\\\n",
       "\t9 & 3 & 3 & -1.99704 & 2.87007 & 2.64036 & 2.2615 & 13.0043 \\\\\n",
       "\\end{tabular}\n"
      ],
      "text/plain": [
       "\u001b[1m9×7 DataFrame\u001b[0m\n",
       "\u001b[1m Row \u001b[0m│\u001b[1m i     \u001b[0m\u001b[1m t     \u001b[0m\u001b[1m α         \u001b[0m\u001b[1m x1       \u001b[0m\u001b[1m x2       \u001b[0m\u001b[1m x3         \u001b[0m\u001b[1m y         \u001b[0m\n",
       "     │\u001b[90m Int64 \u001b[0m\u001b[90m Int64 \u001b[0m\u001b[90m Float64   \u001b[0m\u001b[90m Float64  \u001b[0m\u001b[90m Float64  \u001b[0m\u001b[90m Float64    \u001b[0m\u001b[90m Float64   \u001b[0m\n",
       "─────┼────────────────────────────────────────────────────────────────────\n",
       "   1 │     1      1   1.17278   3.50229   1.10456    2.12491    14.2757\n",
       "   2 │     1      2   1.17278   0.438134  1.02918   -0.604016    3.12878\n",
       "   3 │     1      3   1.17278   1.14354   1.96659    4.70922    17.2432\n",
       "   4 │     2      1   0.556965  0.436107  2.22181   -0.419217    7.15047\n",
       "   5 │     2      2   0.556965  3.49719   5.20911    3.91478    25.8002\n",
       "   6 │     2      3   0.556965  5.83108   0.566272   0.0830876  14.5937\n",
       "   7 │     3      1  -1.99704   2.92286   2.19069   -3.56224     0.874304\n",
       "   8 │     3      2  -1.99704   1.52934   1.56495    1.8718      6.79833\n",
       "   9 │     3      3  -1.99704   2.87007   2.64036    2.2615     13.0043"
      ]
     },
     "execution_count": 3,
     "metadata": {},
     "output_type": "execute_result"
    }
   ],
   "source": [
    "# 曾勁松\n",
    "\n",
    "rng = MersenneTwister(1234)\n",
    "A=Normal(2,sqrt(3))\n",
    "function f(β,σ2,σ2_α,nofX,N,T)\n",
    "    ϵ_it=rand(Normal(0,sqrt(σ2)),(N*T,1))\n",
    "    α_i=repeat(rand(Normal(0,sqrt(σ2_α)),(N,1)), inner=(T,1))\n",
    "    x_it=rand(rng,A,(N*T,nofX))#從N(2,3)中抽樣出x\n",
    "    β=fill(β,(nofX,1))\n",
    "    y_it=α_i+x_it*β+ϵ_it\n",
    "    i=repeat(1:N, inner=(T,1))\n",
    "    t=repeat(1:T,N)\n",
    "    dy=DataFrame(y=vec(y_it), x1=x_it[:,1])\n",
    "    dx=DataFrame(x_it,:auto)\n",
    "    dit=DataFrame(i=vec(i),t=vec(t),α=vec(α_i), x1=x_it[:,1])\n",
    "    return innerjoin(dit,dx,dy,on=:x1)\n",
    "end\n",
    "df = f(2,3,1,3,3,3)"
   ]
  },
  {
   "cell_type": "markdown",
   "id": "3771046d",
   "metadata": {},
   "source": [
    "Control Flow : https://docs.julialang.org/en/v1/manual/control-flow/ \n",
    " - In the expression a `&&` b, the subexpression b is only evaluated if a evaluates to true.\n",
    " - In the expression a `||` b, the subexpression b is only evaluated if a evaluates to false."
   ]
  },
  {
   "cell_type": "code",
   "execution_count": 54,
   "id": "9d2fe8fb",
   "metadata": {},
   "outputs": [
    {
     "data": {
      "text/plain": [
       "12×2 Matrix{Float64}:\n",
       " -0.445132   -0.640003\n",
       " -0.160366   -0.400925\n",
       " -0.0438909   0.3287\n",
       "  0.118579   -0.653552\n",
       "  1.16653     0.0509771\n",
       "  0.676893    0.00435148\n",
       "  2.33208     0.259782\n",
       "  0.317683    1.79712\n",
       " -0.624953   -1.91713\n",
       "  0.372931   -0.424095\n",
       "  0.278377    0.688705\n",
       " -0.121375   -1.29128"
      ]
     },
     "metadata": {},
     "output_type": "display_data"
    },
    {
     "data": {
      "text/plain": [
       "12×1 Matrix{Float64}:\n",
       " -3.1261535339024156\n",
       " -0.27588132136541776\n",
       "  3.5495468116783453\n",
       "  0.5938085549447303\n",
       " -0.1893032161343995\n",
       "  1.5838936437356477\n",
       "  6.123655439918991\n",
       "  2.796525467366466\n",
       " -9.604030421235173\n",
       " -1.1080666549001703\n",
       "  2.2673847330490524\n",
       " -1.4940480000357397"
      ]
     },
     "metadata": {},
     "output_type": "display_data"
    }
   ],
   "source": [
    "# 曾政夫\n",
    "\n",
    "struct pair\n",
    "    x\n",
    "    y\n",
    "end\n",
    "\n",
    "function f(beta::Vector,var,var_a,nofX,N,T)\n",
    "    \n",
    "    length(beta) == nofX || throw(\"The length of beta should equal nofx.\")\n",
    "    typeof(beta) == Vector{Float64} || throw(\"The length of beta should be Vector{Float64}\")\n",
    "    \n",
    "    epsilon=rand(Normal(0,sqrt(var)),(N*T,1))\n",
    "    x=randn(N*T,nofX)\n",
    "    a=rand(Normal(0,sqrt(var_a)),N)\n",
    "    alpha=repeat(a ,inner=T)\n",
    "    y=x*beta.+alpha.+epsilon\n",
    "    return pair(x, y)\n",
    "end\n",
    "\n",
    "β = [2]\n",
    "β = [2.0, 3.0]\n",
    "data = f(β, 4, 5, length(β), 3, 4)\n",
    "data.x |> display\n",
    "data.y |> display"
   ]
  },
  {
   "cell_type": "code",
   "execution_count": null,
   "id": "a73b11a9",
   "metadata": {},
   "outputs": [],
   "source": [
    "# warning: beta should vector as well not Real, length(beta) = nofX, X is (N*T × nofX) matrix \n",
    "function Panel_Data(; beta::Real, sigma_squared::Real, sigma_squared_alpha::Real, nofX::Int, N::Int, T::Int) #😍😕\n",
    "    sigma=sqrt(sigma_squared)\n",
    "    sigma_alpha=sqrt(sigma_squared_alpha)\n",
    "\n",
    "    alpha=rand(Normal(0, sigma_alpha),N)  #or alpha= randn(N) .* sigma_alpha\n",
    "    \n",
    "    alpha_tiled = repeat(alpha, outer=[1, T]) # 得到(N x T)的矩陣\n",
    "    \n",
    "    X = randn(N, T, nofX)  # N x T x nofX array😕\n",
    "    \n",
    "    errors = randn(N, T) .* sigma\n",
    "    \n",
    "    \n",
    "    Y= alpha_tiled .+ beta.*X .+errors\n",
    "    # correct: Y = alpha_tiled .+ sum([X[:, :, i]*beta[i] for i=axes(X, 3)]) .+ errors😕\n",
    "    \n",
    "    \n",
    "    return Y, X\n",
    "    \n",
    "end\n",
    "Y, X = Panel_Data(beta=1.0, sigma_squared=1.0, sigma_squared_alpha=0.5, nofX=3, N=10, T=5);"
   ]
  },
  {
   "cell_type": "markdown",
   "id": "074e1ad9",
   "metadata": {},
   "source": [
    "### julia syntax\n",
    "- 可以的話將程式碼包成函數(function)\n",
    "- 函數以及變數的命名盡量明確(ex: `cdf(x)` `draw_data(x)`-而不是`f(x)`, `g(x)`)\n",
    "- struct 命名以大寫分隔\n",
    "```julia\n",
    "struct PanelModel\n",
    "    data\n",
    "    index\n",
    "end\n",
    "```"
   ]
  }
 ],
 "metadata": {
  "kernelspec": {
   "display_name": "Julia 1.7.2",
   "language": "julia",
   "name": "julia-1.7"
  },
  "language_info": {
   "file_extension": ".jl",
   "mimetype": "application/julia",
   "name": "julia",
   "version": "1.7.2"
  }
 },
 "nbformat": 4,
 "nbformat_minor": 5
}
