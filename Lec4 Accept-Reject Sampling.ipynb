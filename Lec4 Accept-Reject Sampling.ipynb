{
 "cells": [
  {
   "cell_type": "markdown",
   "id": "8ab52cfa",
   "metadata": {},
   "source": [
    "# Accept-Reject Sampling\n",
    "\n",
    "No notes. See the video."
   ]
  },
  {
   "cell_type": "markdown",
   "id": "82c097f5",
   "metadata": {},
   "source": [
    "![rejection_sampling](rejection_sampling1.png)"
   ]
  },
  {
   "cell_type": "markdown",
   "id": "b779d942",
   "metadata": {},
   "source": [
    "Let f(x) be the density.\n",
    "\n",
    "if y1<f(x1), accpet x1.\n",
    "\n",
    "if y1>f(x1), reject x1.\n"
   ]
  },
  {
   "cell_type": "markdown",
   "id": "daac2016",
   "metadata": {},
   "source": [
    "Note that choosing the proposal distribution as uniform distribution is usually not efficient.\n",
    "\n",
    "Below we will use different proposal distirbution g(x), which is not uniformly distributed."
   ]
  },
  {
   "cell_type": "markdown",
   "id": "5357c63d",
   "metadata": {},
   "source": [
    "![rejection_sampling2_1](rejection_sampling2_1.png)"
   ]
  },
  {
   "cell_type": "markdown",
   "id": "f9bcbbb0",
   "metadata": {},
   "source": [
    "By definition of m, you can find m must larger than 1."
   ]
  },
  {
   "cell_type": "markdown",
   "id": "51bab55d",
   "metadata": {},
   "source": [
    "![rejection_sampling2_2](rejection_sampling2_2.png)"
   ]
  },
  {
   "cell_type": "markdown",
   "id": "ada7245d",
   "metadata": {},
   "source": [
    "![rejection_sampling2_3](rejection_sampling2_3.png)"
   ]
  },
  {
   "cell_type": "markdown",
   "id": "ef4546e8",
   "metadata": {},
   "source": [
    "$\\frac{f(x_1)}{mg(x_1)}$ is the acceptance rate for x1."
   ]
  },
  {
   "cell_type": "markdown",
   "id": "6ba66ea2",
   "metadata": {},
   "source": [
    "A summary of the accept-reject sampling methods\n",
    "\n",
    "- good: independent samples\n",
    "- bad: independent samples, so we do not use the information fully during the sampling. That is, if in some area the density is high, we should draw more from there.\n",
    "- bad: For some empirical distribution f(x), it has irregular shape, or it is high dimensions. Then sometimes the M is difficult to find, or that the M would be very large. A large M would result in very inefficient sampling.\n",
    "  - the cure is the MCMC methods."
   ]
  }
 ],
 "metadata": {
  "kernelspec": {
   "display_name": "Julia 1.7.2",
   "language": "julia",
   "name": "julia-1.7"
  },
  "language_info": {
   "file_extension": ".jl",
   "mimetype": "application/julia",
   "name": "julia",
   "version": "1.7.2"
  },
  "toc": {
   "base_numbering": 1,
   "nav_menu": {},
   "number_sections": true,
   "sideBar": true,
   "skip_h1_title": false,
   "title_cell": "Table of Contents",
   "title_sidebar": "Contents",
   "toc_cell": false,
   "toc_position": {},
   "toc_section_display": true,
   "toc_window_display": false
  }
 },
 "nbformat": 4,
 "nbformat_minor": 5
}
