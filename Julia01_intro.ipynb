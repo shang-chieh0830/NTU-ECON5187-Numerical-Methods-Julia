{
 "cells": [
  {
   "cell_type": "markdown",
   "id": "5e0c8424",
   "metadata": {},
   "source": [
    "# Julia01_intro"
   ]
  },
  {
   "cell_type": "markdown",
   "id": "63a06e20",
   "metadata": {},
   "source": [
    "## Installing packages"
   ]
  },
  {
   "cell_type": "markdown",
   "id": "b6416a5a",
   "metadata": {},
   "source": [
    "Packages can be easily installed from the REPL. Let’s install, for example, the Linear Algebra package. Simply do:"
   ]
  },
  {
   "cell_type": "code",
   "execution_count": 6,
   "id": "15b34669",
   "metadata": {},
   "outputs": [
    {
     "name": "stderr",
     "output_type": "stream",
     "text": [
      "\u001b[32m\u001b[1m   Resolving\u001b[22m\u001b[39m package versions...\n",
      "\u001b[32m\u001b[1m  No Changes\u001b[22m\u001b[39m to `~/.julia/environments/v1.7/Project.toml`\n",
      "\u001b[32m\u001b[1m  No Changes\u001b[22m\u001b[39m to `~/.julia/environments/v1.7/Manifest.toml`\n"
     ]
    }
   ],
   "source": [
    "import Pkg; Pkg.add(\"LinearAlgebra\")\n",
    "\n",
    "#install package"
   ]
  },
  {
   "cell_type": "code",
   "execution_count": null,
   "id": "8bb644f4",
   "metadata": {},
   "outputs": [],
   "source": [
    "using Pkg; Pkg.add(\"LinearAlgebra\")\n",
    "\n",
    "#this is another way to install package"
   ]
  },
  {
   "cell_type": "markdown",
   "id": "e25ab1fe",
   "metadata": {},
   "source": [
    "For using the packages in our projects, we need to include them with a using statement:"
   ]
  },
  {
   "cell_type": "code",
   "execution_count": 5,
   "id": "93139394",
   "metadata": {},
   "outputs": [],
   "source": [
    "using LinearAlgebra\n",
    "\n",
    "#call package"
   ]
  },
  {
   "cell_type": "markdown",
   "id": "8823ead0",
   "metadata": {},
   "source": [
    "在Julia中，下載package的快捷鍵是 `]` \n",
    "\n",
    "則只要接著輸入： `add \"package_name\"` 即可\n",
    "\n",
    "Press backspace when you are done with installing packages."
   ]
  },
  {
   "cell_type": "markdown",
   "id": "56e4f12f",
   "metadata": {},
   "source": [
    "## Basic Variable Type"
   ]
  },
  {
   "cell_type": "code",
   "execution_count": 47,
   "id": "59832a70",
   "metadata": {},
   "outputs": [
    {
     "data": {
      "text/plain": [
       "Int64"
      ]
     },
     "execution_count": 47,
     "metadata": {},
     "output_type": "execute_result"
    }
   ],
   "source": [
    "a=1+1\n",
    "typeof(a)"
   ]
  },
  {
   "cell_type": "code",
   "execution_count": 48,
   "id": "e0f65e7c",
   "metadata": {},
   "outputs": [
    {
     "data": {
      "text/plain": [
       "String"
      ]
     },
     "execution_count": 48,
     "metadata": {},
     "output_type": "execute_result"
    }
   ],
   "source": [
    "a=\"Hello\"\n",
    "typeof(a)"
   ]
  },
  {
   "cell_type": "markdown",
   "id": "9599d0df",
   "metadata": {},
   "source": [
    "### Conversion of Integer to Float"
   ]
  },
  {
   "cell_type": "markdown",
   "id": "b98ebec3",
   "metadata": {},
   "source": [
    "We can convert an integers to floats with different kinds of precisions, using functions like `Float64`, `Float32` and `Float16` which correspond to double, single, and half precision numbers."
   ]
  },
  {
   "cell_type": "code",
   "execution_count": 52,
   "id": "282adc2f",
   "metadata": {},
   "outputs": [
    {
     "data": {
      "text/plain": [
       "2.0"
      ]
     },
     "execution_count": 52,
     "metadata": {},
     "output_type": "execute_result"
    }
   ],
   "source": [
    "Float64(2) # double precision"
   ]
  },
  {
   "cell_type": "code",
   "execution_count": 53,
   "id": "fe3670f7",
   "metadata": {},
   "outputs": [
    {
     "data": {
      "text/plain": [
       "2.0f0"
      ]
     },
     "execution_count": 53,
     "metadata": {},
     "output_type": "execute_result"
    }
   ],
   "source": [
    "Float32(2) # single-precision"
   ]
  },
  {
   "cell_type": "code",
   "execution_count": 54,
   "id": "6af961d3",
   "metadata": {},
   "outputs": [
    {
     "data": {
      "text/plain": [
       "Float16(2.0)"
      ]
     },
     "execution_count": 54,
     "metadata": {},
     "output_type": "execute_result"
    }
   ],
   "source": [
    "Float16(2) # half-precision"
   ]
  },
  {
   "cell_type": "markdown",
   "id": "459aff28",
   "metadata": {},
   "source": [
    "### Conversion of Float to Integer"
   ]
  },
  {
   "cell_type": "code",
   "execution_count": 55,
   "id": "38eff031",
   "metadata": {},
   "outputs": [
    {
     "data": {
      "text/plain": [
       "2"
      ]
     },
     "execution_count": 55,
     "metadata": {},
     "output_type": "execute_result"
    }
   ],
   "source": [
    "Int64(2.0)"
   ]
  },
  {
   "cell_type": "code",
   "execution_count": 56,
   "id": "e10c7f1f",
   "metadata": {},
   "outputs": [
    {
     "ename": "LoadError",
     "evalue": "InexactError: Int64(2.4)",
     "output_type": "error",
     "traceback": [
      "InexactError: Int64(2.4)",
      "",
      "Stacktrace:",
      " [1] Int64(x::Float64)",
      "   @ Base ./float.jl:812",
      " [2] top-level scope",
      "   @ In[56]:1"
     ]
    }
   ],
   "source": [
    "Int64(2.4)"
   ]
  },
  {
   "cell_type": "code",
   "execution_count": 57,
   "id": "caae2968",
   "metadata": {},
   "outputs": [
    {
     "data": {
      "text/plain": [
       "2"
      ]
     },
     "execution_count": 57,
     "metadata": {},
     "output_type": "execute_result"
    }
   ],
   "source": [
    "floor(Int64,2.4)"
   ]
  },
  {
   "cell_type": "code",
   "execution_count": 58,
   "id": "adbbf87e",
   "metadata": {},
   "outputs": [
    {
     "data": {
      "text/plain": [
       "3"
      ]
     },
     "execution_count": 58,
     "metadata": {},
     "output_type": "execute_result"
    }
   ],
   "source": [
    "ceil(Int64,2.4)"
   ]
  },
  {
   "cell_type": "code",
   "execution_count": 59,
   "id": "106e965d",
   "metadata": {},
   "outputs": [
    {
     "data": {
      "text/plain": [
       "2"
      ]
     },
     "execution_count": 59,
     "metadata": {},
     "output_type": "execute_result"
    }
   ],
   "source": [
    "round(Int64,2.4)"
   ]
  },
  {
   "cell_type": "markdown",
   "id": "2154f31a",
   "metadata": {},
   "source": [
    "### Integer Division"
   ]
  },
  {
   "cell_type": "markdown",
   "id": "f01f135f",
   "metadata": {},
   "source": [
    "By default, dividing two integers could return a float.\n",
    "\n",
    "If we are interested in the integer (or Euclidean) division, \n",
    "\n",
    "the div function (or ÷, whose Unicode symbol can be obtained with \\div) returns the quotient, \n",
    "\n",
    "while for the remainder we have the rem function, or %.\n",
    "\n"
   ]
  },
  {
   "cell_type": "code",
   "execution_count": 61,
   "id": "cab9ea7d",
   "metadata": {},
   "outputs": [
    {
     "data": {
      "text/plain": [
       "0.5"
      ]
     },
     "execution_count": 61,
     "metadata": {},
     "output_type": "execute_result"
    }
   ],
   "source": [
    "a=1/2"
   ]
  },
  {
   "cell_type": "markdown",
   "id": "57620a35",
   "metadata": {},
   "source": [
    "`div(x,y)`  x/y, truncated to an integer."
   ]
  },
  {
   "cell_type": "code",
   "execution_count": 63,
   "id": "73c65390",
   "metadata": {},
   "outputs": [
    {
     "data": {
      "text/plain": [
       "3"
      ]
     },
     "execution_count": 63,
     "metadata": {},
     "output_type": "execute_result"
    }
   ],
   "source": [
    "div(10,3) #取商"
   ]
  },
  {
   "cell_type": "code",
   "execution_count": 66,
   "id": "51eab57c",
   "metadata": {},
   "outputs": [
    {
     "data": {
      "text/plain": [
       "3"
      ]
     },
     "execution_count": 66,
     "metadata": {},
     "output_type": "execute_result"
    }
   ],
   "source": [
    "÷(10,3) #取商"
   ]
  },
  {
   "cell_type": "markdown",
   "id": "0b2a0bf6",
   "metadata": {},
   "source": [
    "`rem(x,y)` computes the remainder of x/y"
   ]
  },
  {
   "cell_type": "code",
   "execution_count": 67,
   "id": "d6c6906f",
   "metadata": {},
   "outputs": [
    {
     "data": {
      "text/plain": [
       "1"
      ]
     },
     "execution_count": 67,
     "metadata": {},
     "output_type": "execute_result"
    }
   ],
   "source": [
    "rem(10,3) #取餘"
   ]
  },
  {
   "cell_type": "code",
   "execution_count": 68,
   "id": "54c29247",
   "metadata": {},
   "outputs": [
    {
     "data": {
      "text/plain": [
       "1"
      ]
     },
     "execution_count": 68,
     "metadata": {},
     "output_type": "execute_result"
    }
   ],
   "source": [
    "10%3"
   ]
  },
  {
   "cell_type": "markdown",
   "id": "3836b90c",
   "metadata": {},
   "source": [
    "### Integer vs Float"
   ]
  },
  {
   "cell_type": "code",
   "execution_count": 69,
   "id": "d3ce3594",
   "metadata": {},
   "outputs": [
    {
     "data": {
      "text/plain": [
       "2"
      ]
     },
     "execution_count": 69,
     "metadata": {},
     "output_type": "execute_result"
    }
   ],
   "source": [
    "a=2"
   ]
  },
  {
   "cell_type": "code",
   "execution_count": 70,
   "id": "db89e9eb",
   "metadata": {},
   "outputs": [
    {
     "data": {
      "text/plain": [
       "Int64"
      ]
     },
     "execution_count": 70,
     "metadata": {},
     "output_type": "execute_result"
    }
   ],
   "source": [
    "typeof(a)  #getting an Int64 by default."
   ]
  },
  {
   "cell_type": "code",
   "execution_count": 71,
   "id": "ecc141b6",
   "metadata": {},
   "outputs": [
    {
     "data": {
      "text/plain": [
       "Inf"
      ]
     },
     "execution_count": 71,
     "metadata": {},
     "output_type": "execute_result"
    }
   ],
   "source": [
    "a=1/2^64"
   ]
  },
  {
   "cell_type": "code",
   "execution_count": 72,
   "id": "c056e667",
   "metadata": {},
   "outputs": [
    {
     "data": {
      "text/plain": [
       "0"
      ]
     },
     "execution_count": 72,
     "metadata": {},
     "output_type": "execute_result"
    }
   ],
   "source": [
    "2^64"
   ]
  },
  {
   "cell_type": "markdown",
   "id": "b4c5968e",
   "metadata": {},
   "source": [
    "Two things just happened. \n",
    "\n",
    "In the first place, an Int64 will overflow past 2^{64}, \n",
    "\n",
    "and the default overflow value is 0."
   ]
  },
  {
   "cell_type": "code",
   "execution_count": 73,
   "id": "fcc4dff1",
   "metadata": {},
   "outputs": [
    {
     "data": {
      "text/plain": [
       "5.421010862427522e-20"
      ]
     },
     "execution_count": 73,
     "metadata": {},
     "output_type": "execute_result"
    }
   ],
   "source": [
    "1/2.0^64"
   ]
  },
  {
   "cell_type": "code",
   "execution_count": 74,
   "id": "527d85cc",
   "metadata": {},
   "outputs": [
    {
     "data": {
      "text/plain": [
       "5.421010862427522e-20"
      ]
     },
     "execution_count": 74,
     "metadata": {},
     "output_type": "execute_result"
    }
   ],
   "source": [
    "(1/2)^64"
   ]
  },
  {
   "cell_type": "code",
   "execution_count": 75,
   "id": "24152865",
   "metadata": {},
   "outputs": [
    {
     "data": {
      "text/plain": [
       "Inf"
      ]
     },
     "execution_count": 75,
     "metadata": {},
     "output_type": "execute_result"
    }
   ],
   "source": [
    "1.0/2^64"
   ]
  },
  {
   "cell_type": "markdown",
   "id": "599d79b9",
   "metadata": {},
   "source": [
    "### Logical Operators"
   ]
  },
  {
   "cell_type": "markdown",
   "id": "f7529b7f",
   "metadata": {},
   "source": [
    "- not: `!`\n",
    "- and: `&&`\n",
    "- or:  `||`"
   ]
  },
  {
   "cell_type": "markdown",
   "id": "e0830b86",
   "metadata": {},
   "source": [
    "Importantly, `&&` and `||` are **short-circuited**"
   ]
  },
  {
   "cell_type": "code",
   "execution_count": null,
   "id": "c3fdf72a",
   "metadata": {},
   "outputs": [],
   "source": [
    "if a>0 && expensive_computation(b)>0\n",
    "    do_something()\n",
    "end"
   ]
  },
  {
   "cell_type": "markdown",
   "id": "a3babb8d",
   "metadata": {},
   "source": [
    "In this way, we avoid performing the expensive computation \n",
    "\n",
    "if it’s not necessary (when a>0 returns false)."
   ]
  },
  {
   "cell_type": "markdown",
   "id": "692c6767",
   "metadata": {},
   "source": [
    "`||` is **short-circuited** means that you won’t get a nasty error when doing something like"
   ]
  },
  {
   "cell_type": "code",
   "execution_count": null,
   "id": "9686baa2",
   "metadata": {},
   "outputs": [],
   "source": [
    "if @isdefined(ge) && ge>0\n",
    "    print(\"ge exists and is greater than 0\")\n",
    "end"
   ]
  },
  {
   "cell_type": "markdown",
   "id": "c4a23409",
   "metadata": {},
   "source": [
    "because trying to assess whether an undefined variable is greater than zero is usually not permitted in any programming language. \n",
    "\n",
    "If the variable is not defined, the second condition won’t be checked."
   ]
  },
  {
   "cell_type": "markdown",
   "id": "0cb39a2b",
   "metadata": {},
   "source": [
    "As for the `or` operator, the fact that it is **short-circuited** means that it will return true \n",
    "\n",
    "if the first expression is true without the need to evaluate the second expression. \n",
    "\n",
    "This can also lead to performance gains."
   ]
  },
  {
   "cell_type": "code",
   "execution_count": null,
   "id": "16948487",
   "metadata": {},
   "outputs": [],
   "source": [
    "if 3 > 2 || expensive_computation(b) > 0\n",
    "    do_something()\n",
    "end"
   ]
  },
  {
   "cell_type": "markdown",
   "id": "1a8da18a",
   "metadata": {},
   "source": [
    "The `expensive_computation` function won’t be called, as the first expression returnes true."
   ]
  },
  {
   "cell_type": "markdown",
   "id": "df503c9f",
   "metadata": {},
   "source": [
    "### Logical to Number"
   ]
  },
  {
   "cell_type": "markdown",
   "id": "0b343296",
   "metadata": {},
   "source": [
    "In Julia, `Bool` is a subtype of `Integer`. \n",
    "\n",
    "`true` equals 1, while `false` equals zero. \n",
    "\n",
    "In particular, we can do numerical operations on `Bool` types without the need of any type conversion."
   ]
  },
  {
   "cell_type": "code",
   "execution_count": 78,
   "id": "0f100365",
   "metadata": {},
   "outputs": [
    {
     "data": {
      "text/plain": [
       "2"
      ]
     },
     "execution_count": 78,
     "metadata": {},
     "output_type": "execute_result"
    }
   ],
   "source": [
    "true+true"
   ]
  },
  {
   "cell_type": "markdown",
   "id": "9287a6eb",
   "metadata": {},
   "source": [
    "### Strings and Chars"
   ]
  },
  {
   "cell_type": "markdown",
   "id": "bc90bbd9",
   "metadata": {},
   "source": [
    "`Strings` are initialized with `\"` \n",
    "while `chars` use `'`."
   ]
  },
  {
   "cell_type": "code",
   "execution_count": 79,
   "id": "1af69f80",
   "metadata": {},
   "outputs": [
    {
     "data": {
      "text/plain": [
       "\"Hello\""
      ]
     },
     "execution_count": 79,
     "metadata": {},
     "output_type": "execute_result"
    }
   ],
   "source": [
    "\"Hello\" #string"
   ]
  },
  {
   "cell_type": "code",
   "execution_count": 80,
   "id": "d618e7ec",
   "metadata": {},
   "outputs": [
    {
     "data": {
      "text/plain": [
       "'H': ASCII/Unicode U+0048 (category Lu: Letter, uppercase)"
      ]
     },
     "execution_count": 80,
     "metadata": {},
     "output_type": "execute_result"
    }
   ],
   "source": [
    "'H' #char"
   ]
  },
  {
   "cell_type": "code",
   "execution_count": 81,
   "id": "092541e4",
   "metadata": {},
   "outputs": [
    {
     "ename": "LoadError",
     "evalue": "syntax: character literal contains multiple characters",
     "output_type": "error",
     "traceback": [
      "syntax: character literal contains multiple characters",
      "",
      "Stacktrace:",
      " [1] top-level scope",
      "   @ In[81]:1"
     ]
    }
   ],
   "source": [
    "'Hello' # error!"
   ]
  },
  {
   "cell_type": "markdown",
   "id": "23b20fba",
   "metadata": {},
   "source": [
    "### Concatenate Strings"
   ]
  },
  {
   "cell_type": "markdown",
   "id": "981f4c94",
   "metadata": {},
   "source": [
    "you can use the `*` operator and the `string` function."
   ]
  },
  {
   "cell_type": "code",
   "execution_count": 82,
   "id": "a85e6c51",
   "metadata": {},
   "outputs": [
    {
     "data": {
      "text/plain": [
       "\"Hello worid\""
      ]
     },
     "execution_count": 82,
     "metadata": {},
     "output_type": "execute_result"
    }
   ],
   "source": [
    "\"Hello \" * \"wor\" * \"id\""
   ]
  },
  {
   "cell_type": "code",
   "execution_count": 83,
   "id": "31899e31",
   "metadata": {},
   "outputs": [
    {
     "data": {
      "text/plain": [
       "\"Hello  world\""
      ]
     },
     "execution_count": 83,
     "metadata": {},
     "output_type": "execute_result"
    }
   ],
   "source": [
    "string(\"Hello \", \" \",\"world\")"
   ]
  },
  {
   "cell_type": "markdown",
   "id": "b3b6a3c5",
   "metadata": {},
   "source": [
    "### Convert Number to String"
   ]
  },
  {
   "cell_type": "markdown",
   "id": "820a7c63",
   "metadata": {},
   "source": [
    "- using the `string` function.\n",
    "- using string interpolation.\n",
    "- using the classic C-style `Printf` package to format the output."
   ]
  },
  {
   "cell_type": "code",
   "execution_count": 84,
   "id": "935a2c9f",
   "metadata": {},
   "outputs": [
    {
     "data": {
      "text/plain": [
       "\"0.14285714285714285\""
      ]
     },
     "execution_count": 84,
     "metadata": {},
     "output_type": "execute_result"
    }
   ],
   "source": [
    "string(1/7)"
   ]
  },
  {
   "cell_type": "code",
   "execution_count": 85,
   "id": "ed335e01",
   "metadata": {},
   "outputs": [
    {
     "data": {
      "text/plain": [
       "\"0.14285714285714285\""
      ]
     },
     "execution_count": 85,
     "metadata": {},
     "output_type": "execute_result"
    }
   ],
   "source": [
    "\"$(1/7)\""
   ]
  },
  {
   "cell_type": "code",
   "execution_count": 98,
   "id": "9c2c5af0",
   "metadata": {},
   "outputs": [
    {
     "name": "stderr",
     "output_type": "stream",
     "text": [
      "\u001b[32m\u001b[1m   Resolving\u001b[22m\u001b[39m package versions...\n",
      "\u001b[32m\u001b[1m  No Changes\u001b[22m\u001b[39m to `~/.julia/environments/v1.7/Project.toml`\n",
      "\u001b[32m\u001b[1m  No Changes\u001b[22m\u001b[39m to `~/.julia/environments/v1.7/Manifest.toml`\n"
     ]
    }
   ],
   "source": [
    "using Pkg; Pkg.add(\"Printf\")"
   ]
  },
  {
   "cell_type": "code",
   "execution_count": 95,
   "id": "bce58620",
   "metadata": {},
   "outputs": [],
   "source": [
    "using Printf"
   ]
  },
  {
   "cell_type": "code",
   "execution_count": 104,
   "id": "25d5c9ec",
   "metadata": {},
   "outputs": [
    {
     "data": {
      "text/plain": [
       "\"0.1429\""
      ]
     },
     "execution_count": 104,
     "metadata": {},
     "output_type": "execute_result"
    }
   ],
   "source": [
    "@sprintf(\"%6.4f\",1/7)"
   ]
  },
  {
   "cell_type": "markdown",
   "id": "b4e21b66",
   "metadata": {},
   "source": [
    "### Concatenate a number to a string\n",
    "\n"
   ]
  },
  {
   "cell_type": "markdown",
   "id": "a1d27e69",
   "metadata": {},
   "source": [
    "- Using the string function"
   ]
  },
  {
   "cell_type": "code",
   "execution_count": 100,
   "id": "ebd24ff4",
   "metadata": {},
   "outputs": [
    {
     "data": {
      "text/plain": [
       "\"In ancient Babylon they approximated pi to 25/8, which is 3.125\""
      ]
     },
     "execution_count": 100,
     "metadata": {},
     "output_type": "execute_result"
    }
   ],
   "source": [
    "string(\"In ancient Babylon they approximated pi to 25/8, which is \", 25/8)"
   ]
  },
  {
   "cell_type": "markdown",
   "id": "67c712f0",
   "metadata": {},
   "source": [
    "- Using string interpolation"
   ]
  },
  {
   "cell_type": "code",
   "execution_count": 101,
   "id": "ef8dfccf",
   "metadata": {},
   "outputs": [
    {
     "data": {
      "text/plain": [
       "\"In ancient Babylon they approximated pi to 25/8, which is 3.125\""
      ]
     },
     "execution_count": 101,
     "metadata": {},
     "output_type": "execute_result"
    }
   ],
   "source": [
    "\"In ancient Babylon they approximated pi to 25/8, which is $(25/8)\"\n"
   ]
  },
  {
   "cell_type": "markdown",
   "id": "11510fa1",
   "metadata": {},
   "source": [
    "With string interpolation, \n",
    "\n",
    "the expression between parenthesis we’ll be evaluated (which in this case returns a Float), \n",
    "\n",
    "and then converted to a string."
   ]
  },
  {
   "cell_type": "code",
   "execution_count": 102,
   "id": "f2bb139f",
   "metadata": {},
   "outputs": [
    {
     "data": {
      "text/plain": [
       "\"Our model has a R^2 of 0.94, rmse of 1.5, and mse of 1.1\""
      ]
     },
     "execution_count": 102,
     "metadata": {},
     "output_type": "execute_result"
    }
   ],
   "source": [
    "rmse = 1.5; mse = 1.1; R2 = 0.94\n",
    "\"Our model has a R^2 of $(R2), rmse of $(rmse), and mse of $(mse)\""
   ]
  },
  {
   "cell_type": "markdown",
   "id": "b25e27c7",
   "metadata": {},
   "source": [
    "- Using the Printf package"
   ]
  },
  {
   "cell_type": "markdown",
   "id": "1c3885c2",
   "metadata": {},
   "source": [
    "In case you need to control the number of digits in the output, \n",
    "\n",
    "or use scientific notation, \n",
    "\n",
    "you can use the classic, C-style, Printf package, \n",
    "\n",
    "which contains the `@sprintf` macro that returns a string."
   ]
  },
  {
   "cell_type": "code",
   "execution_count": 103,
   "id": "5936b845",
   "metadata": {},
   "outputs": [
    {
     "data": {
      "text/plain": [
       "\"Archimedes approximated pi to 22/7, which is 3.1429...\""
      ]
     },
     "execution_count": 103,
     "metadata": {},
     "output_type": "execute_result"
    }
   ],
   "source": [
    "using Printf\n",
    "str = @sprintf(\"Archimedes approximated pi to 22/7, which is %.4f...\", 22/7)\n"
   ]
  },
  {
   "cell_type": "markdown",
   "id": "bd19025a",
   "metadata": {},
   "source": [
    "|format|description       |example  |\n",
    "|-----|-----------------|--------|\n",
    "|%.4f  |4 decimal digits  |100.1429 |\n",
    "|%.4e  |Scientific notation with 4 digits|1.4286e-05|"
   ]
  },
  {
   "cell_type": "markdown",
   "id": "7c8bb3db",
   "metadata": {},
   "source": [
    "## For loops"
   ]
  },
  {
   "cell_type": "markdown",
   "id": "b2ed457d",
   "metadata": {},
   "source": [
    "### Simple For Loop"
   ]
  },
  {
   "cell_type": "code",
   "execution_count": null,
   "id": "20cca956",
   "metadata": {},
   "outputs": [],
   "source": [
    "for iterator in range\n",
    "    execute_statements(iterator)\n",
    "end"
   ]
  },
  {
   "cell_type": "code",
   "execution_count": 10,
   "id": "7b85cbfa",
   "metadata": {},
   "outputs": [
    {
     "data": {
      "text/plain": [
       "1.6449240668982423"
      ]
     },
     "execution_count": 10,
     "metadata": {},
     "output_type": "execute_result"
    }
   ],
   "source": [
    "## evaluate the sum of the first 100,000 terms of the quadratic series.\n",
    "\n",
    "x=0\n",
    "for k in 1:100000   # 1+2+3+4+...+100000\n",
    "    x=x+(1/k)^2\n",
    "end\n",
    "\n",
    "x"
   ]
  },
  {
   "cell_type": "code",
   "execution_count": 9,
   "id": "c4a35419",
   "metadata": {},
   "outputs": [
    {
     "data": {
      "text/plain": [
       "1.0143319914679227"
      ]
     },
     "execution_count": 9,
     "metadata": {},
     "output_type": "execute_result"
    }
   ],
   "source": [
    "x=0\n",
    "for k in 1:10:100000   # 1+11+21+31+...+100000\n",
    "    x=x+(1/k)^2\n",
    "end\n",
    "\n",
    "x"
   ]
  },
  {
   "cell_type": "markdown",
   "id": "191e0875",
   "metadata": {},
   "source": [
    "### Nested For Loops"
   ]
  },
  {
   "cell_type": "code",
   "execution_count": 12,
   "id": "0bce5e78",
   "metadata": {},
   "outputs": [
    {
     "name": "stdout",
     "output_type": "stream",
     "text": [
      "i=1 j=1\n",
      "i=1 j=2\n",
      "i=1 j=3\n",
      "i=2 j=1\n",
      "i=2 j=2\n",
      "i=2 j=3\n",
      "i=3 j=1\n",
      "i=3 j=2\n",
      "i=3 j=3\n"
     ]
    }
   ],
   "source": [
    "for i in 1:3\n",
    "    for j in 1:3\n",
    "        print(\"i=\", i, \" j=\", j, \"\\n\")\n",
    "    end\n",
    "end"
   ]
  },
  {
   "cell_type": "code",
   "execution_count": 13,
   "id": "8170e541",
   "metadata": {},
   "outputs": [
    {
     "name": "stdout",
     "output_type": "stream",
     "text": [
      "i=1 j=1\n",
      "i=1 j=2\n",
      "i=1 j=3\n",
      "i=2 j=1\n",
      "i=2 j=2\n",
      "i=2 j=3\n",
      "i=3 j=1\n",
      "i=3 j=2\n",
      "i=3 j=3\n"
     ]
    }
   ],
   "source": [
    "for i in 1:3, j in 1:3\n",
    "    print(\"i=\", i, \" j=\", j,\"\\n\")\n",
    "end"
   ]
  },
  {
   "cell_type": "markdown",
   "id": "ab4538fe",
   "metadata": {},
   "source": [
    "Click [Here](https://docs.julialang.org/en/v1/manual/unicode-input/) to check Julia unicode symbols."
   ]
  },
  {
   "cell_type": "code",
   "execution_count": null,
   "id": "01972761",
   "metadata": {},
   "outputs": [],
   "source": [
    "Press \\in + tab to get ∈\n",
    "Press \\pi + tab to get π\n",
    "Press \\alpha + tab to get α\n",
    "Press \\beta + tab to get β\n",
    "Press \\lambda + tab to get λ"
   ]
  },
  {
   "cell_type": "code",
   "execution_count": 14,
   "id": "b56e9bf4",
   "metadata": {},
   "outputs": [
    {
     "name": "stdout",
     "output_type": "stream",
     "text": [
      "i=1 j=1\n",
      "i=1 j=2\n",
      "i=1 j=3\n",
      "i=2 j=1\n",
      "i=2 j=2\n",
      "i=2 j=3\n",
      "i=3 j=1\n",
      "i=3 j=2\n",
      "i=3 j=3\n"
     ]
    }
   ],
   "source": [
    "for i ∈ 1:3, j ∈ 1:3\n",
    "    print(\"i=\", i, \" j=\", j, \"\\n\")\n",
    "end"
   ]
  },
  {
   "cell_type": "markdown",
   "id": "c013c38b",
   "metadata": {},
   "source": [
    "### Break and Continue Statement"
   ]
  },
  {
   "cell_type": "markdown",
   "id": "208dafa7",
   "metadata": {},
   "source": [
    "we could interrupt the computations\n",
    "\n",
    "if some convergence criteria is met.\n",
    "\n"
   ]
  },
  {
   "cell_type": "code",
   "execution_count": 107,
   "id": "a09efbc7",
   "metadata": {},
   "outputs": [
    {
     "data": {
      "text/plain": [
       "1.6449240668982423"
      ]
     },
     "execution_count": 107,
     "metadata": {},
     "output_type": "execute_result"
    }
   ],
   "source": [
    "x=0\n",
    "for k in 1:100000\n",
    "    term=(1/k)^2\n",
    "    x=x+term\n",
    "    if (abs(term)< 1e-10) break end\n",
    "end\n",
    "\n",
    "x"
   ]
  },
  {
   "cell_type": "code",
   "execution_count": 110,
   "id": "c5c143b7",
   "metadata": {},
   "outputs": [
    {
     "ename": "LoadError",
     "evalue": "UndefVarError: term not defined",
     "output_type": "error",
     "traceback": [
      "UndefVarError: term not defined",
      "",
      "Stacktrace:",
      " [1] top-level scope",
      "   @ ./In[110]:5"
     ]
    }
   ],
   "source": [
    "# This can avoud using break end\n",
    "\n",
    "x=0\n",
    "iter = 0\n",
    "while ( iter == 0 || abs(term) < 1e-10) && (iter < 100000)\n",
    "    term = (1/k)^2\n",
    "    x = x + term\n",
    "    iter = iter + 1\n",
    "end"
   ]
  },
  {
   "cell_type": "code",
   "execution_count": 114,
   "id": "ccbc6480",
   "metadata": {},
   "outputs": [
    {
     "ename": "LoadError",
     "evalue": "cannot assign a value to variable Base.sum from module Main",
     "output_type": "error",
     "traceback": [
      "cannot assign a value to variable Base.sum from module Main",
      "",
      "Stacktrace:",
      " [1] top-level scope",
      "   @ In[114]:2"
     ]
    }
   ],
   "source": [
    "numbers = randn(100)\n",
    "sum = 0\n",
    "for k in numbers\n",
    "    if (k==0) continue end\n",
    "    sum = sum + 1/k\n",
    "end\n",
    "\n",
    "# avoid summing 1/0, as that would result in Inf"
   ]
  },
  {
   "cell_type": "code",
   "execution_count": 117,
   "id": "5592bbe6",
   "metadata": {},
   "outputs": [
    {
     "ename": "LoadError",
     "evalue": "cannot assign a value to variable Base.sum from module Main",
     "output_type": "error",
     "traceback": [
      "cannot assign a value to variable Base.sum from module Main",
      "",
      "Stacktrace:",
      " [1] top-level scope",
      "   @ In[117]:3"
     ]
    }
   ],
   "source": [
    "# avoid using continue\n",
    "numbers = randn(100)\n",
    "sum = 0\n",
    "for k in numbers\n",
    "    if (k != 0)\n",
    "        sum = sum + 1/k\n",
    "    end\n",
    "end\n"
   ]
  },
  {
   "cell_type": "markdown",
   "id": "eeeb8ada",
   "metadata": {},
   "source": [
    "### While loop"
   ]
  },
  {
   "cell_type": "code",
   "execution_count": 115,
   "id": "5cb53cb1",
   "metadata": {},
   "outputs": [],
   "source": [
    "k=0\n",
    "while k<11\n",
    "    k=k+1\n",
    "end"
   ]
  },
  {
   "cell_type": "code",
   "execution_count": 116,
   "id": "efbb1458",
   "metadata": {},
   "outputs": [
    {
     "name": "stdout",
     "output_type": "stream",
     "text": [
      "k=1 k=2 k=3 k=4 k=5 k=6 k=7 k=8 k=9 k=10 k=11 "
     ]
    }
   ],
   "source": [
    "k=0\n",
    "while k<11\n",
    "    k=k+1\n",
    "    print(\"k=\", k, \" \")\n",
    "end"
   ]
  },
  {
   "cell_type": "markdown",
   "id": "29791c17",
   "metadata": {},
   "source": [
    "## Functions"
   ]
  },
  {
   "cell_type": "markdown",
   "id": "b3bd82b5",
   "metadata": {},
   "source": [
    "### Defining a function"
   ]
  },
  {
   "cell_type": "markdown",
   "id": "3c4e9ceb",
   "metadata": {},
   "source": [
    " $\\zeta(s)=\\sum_{n=1}^\\infty 1/n^s$\n",
    " \n",
    " \n",
    " $Riemann  Zeta  function$"
   ]
  },
  {
   "cell_type": "code",
   "execution_count": 21,
   "id": "4f466678",
   "metadata": {},
   "outputs": [
    {
     "data": {
      "text/plain": [
       "sum_zeta (generic function with 1 method)"
      ]
     },
     "execution_count": 21,
     "metadata": {},
     "output_type": "execute_result"
    }
   ],
   "source": [
    "function sum_zeta(s,nterms)\n",
    "    x=0\n",
    "    for n in 1:nterms\n",
    "        x=x+(1/n)^s\n",
    "    end\n",
    "    return x\n",
    "end"
   ]
  },
  {
   "cell_type": "code",
   "execution_count": 22,
   "id": "62eb612a",
   "metadata": {},
   "outputs": [
    {
     "data": {
      "text/plain": [
       "1.6449240668982423"
      ]
     },
     "execution_count": 22,
     "metadata": {},
     "output_type": "execute_result"
    }
   ],
   "source": [
    "sum_zeta(2,100000)"
   ]
  },
  {
   "cell_type": "markdown",
   "id": "b9c198c4",
   "metadata": {},
   "source": [
    "### One-line functions"
   ]
  },
  {
   "cell_type": "code",
   "execution_count": 23,
   "id": "0950f434",
   "metadata": {},
   "outputs": [
    {
     "data": {
      "text/plain": [
       "sum_zeta (generic function with 1 method)"
      ]
     },
     "execution_count": 23,
     "metadata": {},
     "output_type": "execute_result"
    }
   ],
   "source": [
    "sum_zeta(s, nterms)=sum(1/n^s for n=1:nterms)"
   ]
  },
  {
   "cell_type": "code",
   "execution_count": 24,
   "id": "62d28ed5",
   "metadata": {},
   "outputs": [
    {
     "data": {
      "text/plain": [
       "1.6449240668982423"
      ]
     },
     "execution_count": 24,
     "metadata": {},
     "output_type": "execute_result"
    }
   ],
   "source": [
    "sum_zeta(2,100000)"
   ]
  },
  {
   "cell_type": "code",
   "execution_count": 25,
   "id": "2e5bc3dd",
   "metadata": {},
   "outputs": [
    {
     "data": {
      "text/plain": [
       "f (generic function with 1 method)"
      ]
     },
     "execution_count": 25,
     "metadata": {},
     "output_type": "execute_result"
    }
   ],
   "source": [
    "f(x)=1+x^2  #exactly the math expression"
   ]
  },
  {
   "cell_type": "code",
   "execution_count": 26,
   "id": "c543a418",
   "metadata": {},
   "outputs": [
    {
     "data": {
      "text/plain": [
       "10"
      ]
     },
     "execution_count": 26,
     "metadata": {},
     "output_type": "execute_result"
    }
   ],
   "source": [
    "f(3)"
   ]
  },
  {
   "cell_type": "code",
   "execution_count": 27,
   "id": "b886683b",
   "metadata": {},
   "outputs": [
    {
     "data": {
      "text/plain": [
       "f (generic function with 1 method)"
      ]
     },
     "execution_count": 27,
     "metadata": {},
     "output_type": "execute_result"
    }
   ],
   "source": [
    "function f(x)\n",
    "    return 1+x^2\n",
    "end"
   ]
  },
  {
   "cell_type": "markdown",
   "id": "27e84d0c",
   "metadata": {},
   "source": [
    "###  Functions with optional and keyword arguments"
   ]
  },
  {
   "cell_type": "code",
   "execution_count": 124,
   "id": "935a5c68",
   "metadata": {},
   "outputs": [
    {
     "data": {
      "text/plain": [
       "1.6448340718480652"
      ]
     },
     "execution_count": 124,
     "metadata": {},
     "output_type": "execute_result"
    }
   ],
   "source": [
    "# optional arguments: nterms=10000\n",
    "\n",
    "sum_zeta(s, nterms=10000) = sum(1/n^s for n=1:nterms)\n",
    "\n",
    "sum_zeta(2)  # returns 1.6449240668982423"
   ]
  },
  {
   "cell_type": "markdown",
   "id": "b87bae05",
   "metadata": {},
   "source": [
    "To make things even easier for the caller, \n",
    "\n",
    "a function can be designed to accept arguments \n",
    "\n",
    "which are identified by name rather than their position. \n",
    "\n",
    "Such arguments are known as keyword arguments, \n",
    "\n",
    "and their syntax is very similar to optional arguments, \n",
    "\n",
    "the only difference being that they are placed after a semicolon in the function definition.\n",
    "\n",
    "In the present example, we could make nterms a keyword argument:"
   ]
  },
  {
   "cell_type": "code",
   "execution_count": 125,
   "id": "82722ef9",
   "metadata": {},
   "outputs": [
    {
     "data": {
      "text/plain": [
       "1.64493306684877"
      ]
     },
     "execution_count": 125,
     "metadata": {},
     "output_type": "execute_result"
    }
   ],
   "source": [
    "# keyword arguments\n",
    "\n",
    "sum_zeta(s; nterms=10000) = sum(1/n^s for n=1:nterms)\n",
    "\n",
    "sum_zeta(2)  # returns 1.6449240668982423\n",
    "sum_zeta(2, nterms = 1e6)  # returns 1.64493306684877"
   ]
  },
  {
   "cell_type": "markdown",
   "id": "5f57caee",
   "metadata": {},
   "source": [
    "### Functions with multiple outputs"
   ]
  },
  {
   "cell_type": "code",
   "execution_count": 127,
   "id": "c9e87108",
   "metadata": {},
   "outputs": [
    {
     "data": {
      "text/plain": [
       "(7.0685834705770345, 9.42477796076938)"
      ]
     },
     "execution_count": 127,
     "metadata": {},
     "output_type": "execute_result"
    }
   ],
   "source": [
    "function circle(r)\n",
    "    area = π * r^2\n",
    "    circumference = 2π * r\n",
    "    return area, circumference\n",
    "end\n",
    "\n",
    "a, c = circle(1.5) #returning a tuple (tuple is immutable)"
   ]
  },
  {
   "cell_type": "code",
   "execution_count": 128,
   "id": "9fac082a",
   "metadata": {},
   "outputs": [
    {
     "data": {
      "text/plain": [
       "(7.0685834705770345, 9.42477796076938)"
      ]
     },
     "execution_count": 128,
     "metadata": {},
     "output_type": "execute_result"
    }
   ],
   "source": [
    "shape = circle(1.5)     # returns (7.0685834705770345, 2.356194490192345)\n",
    "shape[1]                # 7.0685834705770345\n",
    "shape[2]                # 2.356194490192345\n",
    "a, c = shape            # destructures the tuple as in the original"
   ]
  },
  {
   "cell_type": "markdown",
   "id": "16799d20",
   "metadata": {},
   "source": [
    "### Functions which modify their input (! notation)\n",
    "\n"
   ]
  },
  {
   "cell_type": "code",
   "execution_count": 130,
   "id": "948af285",
   "metadata": {},
   "outputs": [],
   "source": [
    "function add_one!(x)\n",
    "    x .= x .+ 1\n",
    "end\n",
    "\n",
    "x = [1,2,3]\n",
    "add_one!(x);    # x is now [2,3,4]\n",
    "\n"
   ]
  },
  {
   "cell_type": "markdown",
   "id": "879eb64b",
   "metadata": {},
   "source": [
    "not every type of variable can modified by a function\n",
    "\n",
    "when passed as an input: the variable has to be mutable. \n",
    "\n",
    "For example, Arrays are mutable"
   ]
  },
  {
   "cell_type": "markdown",
   "id": "a6b477fb",
   "metadata": {},
   "source": [
    "###  Anonymous functions"
   ]
  },
  {
   "cell_type": "code",
   "execution_count": 133,
   "id": "ddf21e9d",
   "metadata": {},
   "outputs": [
    {
     "data": {
      "text/plain": [
       "secant (generic function with 1 method)"
      ]
     },
     "execution_count": 133,
     "metadata": {},
     "output_type": "execute_result"
    }
   ],
   "source": [
    "#the following code finds the root of a given function f\n",
    "\n",
    "function secant(f,a,b,rtol,maxIters)\n",
    "    iter = 0\n",
    "    while abs(b-a) > rtol*abs(b) && iter < maxIters\n",
    "        c,a = a,b\n",
    "        b = b + (b-c)/(f(c)/f(b)-1)\n",
    "        iter = iter + 1\n",
    "    end\n",
    "    return b\n",
    "end"
   ]
  },
  {
   "cell_type": "code",
   "execution_count": 134,
   "id": "ad78e747",
   "metadata": {},
   "outputs": [
    {
     "data": {
      "text/plain": [
       "1.6180339887498947"
      ]
     },
     "execution_count": 134,
     "metadata": {},
     "output_type": "execute_result"
    }
   ],
   "source": [
    "φ = secant( x-> x^2 - x - 1, 1, 2, 1e-15, 10 )"
   ]
  },
  {
   "cell_type": "markdown",
   "id": "b9cbb6b9",
   "metadata": {},
   "source": [
    "### Storing and calling functions in a separate file"
   ]
  },
  {
   "cell_type": "markdown",
   "id": "2f4caae1",
   "metadata": {},
   "source": [
    "In order to put our functions in a separate file, \n",
    "\n",
    "we first create a new `myFunctions.jl` file, \n",
    "\n",
    "where we only add our functions:"
   ]
  },
  {
   "cell_type": "code",
   "execution_count": 137,
   "id": "11ce174b",
   "metadata": {},
   "outputs": [
    {
     "data": {
      "text/plain": [
       "sum_series (generic function with 1 method)"
      ]
     },
     "execution_count": 137,
     "metadata": {},
     "output_type": "execute_result"
    }
   ],
   "source": [
    "function sum_series(n)\n",
    "    x = 0\n",
    "    for k in 1:n\n",
    "        x = x + (1/k)^2\n",
    "    end\n",
    "    return x\n",
    "end\n",
    "\n"
   ]
  },
  {
   "cell_type": "markdown",
   "id": "e8858fe5",
   "metadata": {},
   "source": [
    "then we can call this from another file by using the `include` keyword."
   ]
  },
  {
   "cell_type": "code",
   "execution_count": 138,
   "id": "4a1c0647",
   "metadata": {},
   "outputs": [
    {
     "data": {
      "text/plain": [
       "sum_series (generic function with 1 method)"
      ]
     },
     "execution_count": 138,
     "metadata": {},
     "output_type": "execute_result"
    }
   ],
   "source": [
    "include(\"myFunctions.jl\")"
   ]
  },
  {
   "cell_type": "markdown",
   "id": "e2297c61",
   "metadata": {},
   "source": [
    "we have another file called `test_myFunctions.jl`\n",
    "\n",
    "with the following content:"
   ]
  },
  {
   "cell_type": "code",
   "execution_count": 140,
   "id": "0918487f",
   "metadata": {},
   "outputs": [
    {
     "data": {
      "text/plain": [
       "1.6449240668982423"
      ]
     },
     "execution_count": 140,
     "metadata": {},
     "output_type": "execute_result"
    }
   ],
   "source": [
    "include(\"myFunctions.jl\")\n",
    "x = sum_series(100000)"
   ]
  },
  {
   "cell_type": "markdown",
   "id": "6cb57ad3",
   "metadata": {},
   "source": [
    "then we can call the file `test_myFunctions.jl` as well."
   ]
  },
  {
   "cell_type": "code",
   "execution_count": 139,
   "id": "8c2a1a14",
   "metadata": {},
   "outputs": [
    {
     "data": {
      "text/plain": [
       "1.6449240668982423"
      ]
     },
     "execution_count": 139,
     "metadata": {},
     "output_type": "execute_result"
    }
   ],
   "source": [
    "include(\"test_myFunctions.jl\")"
   ]
  },
  {
   "cell_type": "markdown",
   "id": "8d1da73b",
   "metadata": {},
   "source": [
    "## Arrays, Vectors and Matrices"
   ]
  },
  {
   "cell_type": "markdown",
   "id": "ac1e076d",
   "metadata": {},
   "source": [
    "### Direct Input"
   ]
  },
  {
   "cell_type": "code",
   "execution_count": 28,
   "id": "0609a5ff",
   "metadata": {},
   "outputs": [
    {
     "data": {
      "text/plain": [
       "3×3 Matrix{Int64}:\n",
       " 1  2  3\n",
       " 1  2  4\n",
       " 2  2  2"
      ]
     },
     "execution_count": 28,
     "metadata": {},
     "output_type": "execute_result"
    }
   ],
   "source": [
    "A=[1 2 3; 1 2 4; 2 2 2 ]"
   ]
  },
  {
   "cell_type": "code",
   "execution_count": 29,
   "id": "80aead4e",
   "metadata": {},
   "outputs": [
    {
     "data": {
      "text/plain": [
       "3×3 Matrix{Int64}:\n",
       " 1  2  3\n",
       " 1  2  4\n",
       " 2  2  2"
      ]
     },
     "execution_count": 29,
     "metadata": {},
     "output_type": "execute_result"
    }
   ],
   "source": [
    "A=[1 2 3;\n",
    "   1 2 4;\n",
    "   2 2 2]"
   ]
  },
  {
   "cell_type": "code",
   "execution_count": 31,
   "id": "1aca79da",
   "metadata": {},
   "outputs": [
    {
     "data": {
      "text/plain": [
       "3×3 Matrix{Int64}:\n",
       " 1  2  3\n",
       " 1  2  4\n",
       " 2  2  2"
      ]
     },
     "execution_count": 31,
     "metadata": {},
     "output_type": "execute_result"
    }
   ],
   "source": [
    "A=[1 2 3\n",
    "   1 2 4\n",
    "   2 2 2]"
   ]
  },
  {
   "cell_type": "code",
   "execution_count": 30,
   "id": "91b72087",
   "metadata": {},
   "outputs": [
    {
     "data": {
      "text/plain": [
       "1×3 Matrix{Float64}:\n",
       " 4.0  5.0  6.0"
      ]
     },
     "execution_count": 30,
     "metadata": {},
     "output_type": "execute_result"
    }
   ],
   "source": [
    "b1=[4.0, 5, 6] #3-elt vector\n",
    "b1=[4.0; 5; 6] #3-elt vector\n",
    "m1=[4.0 5 6]   #1x3 matrix"
   ]
  },
  {
   "cell_type": "code",
   "execution_count": 1,
   "id": "99e5daf2",
   "metadata": {},
   "outputs": [
    {
     "data": {
      "text/plain": [
       "4-element Vector{Any}:\n",
       "  \"Hello\"\n",
       " 1\n",
       " 2\n",
       " 3"
      ]
     },
     "execution_count": 1,
     "metadata": {},
     "output_type": "execute_result"
    }
   ],
   "source": [
    "A=[\"Hello\", 1, 2, 3]"
   ]
  },
  {
   "cell_type": "markdown",
   "id": "df610de1",
   "metadata": {},
   "source": [
    "## Array Comprehensions"
   ]
  },
  {
   "cell_type": "code",
   "execution_count": 32,
   "id": "f2d7e8bc",
   "metadata": {},
   "outputs": [
    {
     "data": {
      "text/plain": [
       "1.6449240668982281"
      ]
     },
     "execution_count": 32,
     "metadata": {},
     "output_type": "execute_result"
    }
   ],
   "source": [
    "v=[1/n^2 for n=1:100000]\n",
    "x=sum(v)"
   ]
  },
  {
   "cell_type": "code",
   "execution_count": 33,
   "id": "9c4115f5",
   "metadata": {},
   "outputs": [
    {
     "data": {
      "text/plain": [
       "1×4 Matrix{Int64}:\n",
       " 1  4  9  16"
      ]
     },
     "execution_count": 33,
     "metadata": {},
     "output_type": "execute_result"
    }
   ],
   "source": [
    "v=[1 4 9 16]"
   ]
  },
  {
   "cell_type": "code",
   "execution_count": null,
   "id": "17d3badd",
   "metadata": {},
   "outputs": [],
   "source": []
  },
  {
   "cell_type": "markdown",
   "id": "e31878df",
   "metadata": {},
   "source": [
    "When using parenthesis instead of the square brackets, \n",
    "\n",
    "Julia will produce a slightly different object: \n",
    "\n",
    "a generator. \n",
    "\n",
    "Generators can be iterated to produce the required values when needed.\n",
    "\n"
   ]
  },
  {
   "cell_type": "code",
   "execution_count": 2,
   "id": "6118a73f",
   "metadata": {},
   "outputs": [
    {
     "data": {
      "text/plain": [
       "1.6449240668982423"
      ]
     },
     "execution_count": 2,
     "metadata": {},
     "output_type": "execute_result"
    }
   ],
   "source": [
    "gen = (1/n^2 for n=1:100000)\n",
    "x = sum(gen)"
   ]
  },
  {
   "cell_type": "markdown",
   "id": "12896869",
   "metadata": {},
   "source": [
    "### Undefined (undef) Arrays"
   ]
  },
  {
   "cell_type": "code",
   "execution_count": 3,
   "id": "2c19c10f",
   "metadata": {},
   "outputs": [
    {
     "data": {
      "text/plain": [
       "5-element Vector{Float64}:\n",
       " 2.2421727692e-314\n",
       " 2.242172785e-314\n",
       " 2.242172801e-314\n",
       " 2.2421728167e-314\n",
       " 2.242874801e-314"
      ]
     },
     "execution_count": 3,
     "metadata": {},
     "output_type": "execute_result"
    }
   ],
   "source": [
    "n = 5\n",
    "A1 = Array{Float64}(undef,n,n)          # 5×5 Matrix{Float64}\n",
    "A2 = Matrix{Float64}(undef,n,n)         # 5×5 Matrix{Float64}\n",
    "\n",
    "V1 = Array{Float64}(undef,n)            # 5-element Vector{Float64}\n",
    "V2 = Vector{Float64}(undef,n)           # 5-element Vector{Float64}\n"
   ]
  },
  {
   "cell_type": "code",
   "execution_count": 4,
   "id": "25c4ab24",
   "metadata": {},
   "outputs": [
    {
     "data": {
      "text/plain": [
       "5-element Vector{Any}:\n",
       " #undef\n",
       " #undef\n",
       " #undef\n",
       " #undef\n",
       " #undef"
      ]
     },
     "execution_count": 4,
     "metadata": {},
     "output_type": "execute_result"
    }
   ],
   "source": [
    "A = Array{String}(undef,n)\n",
    "A = Array{Any}(undef,n)"
   ]
  },
  {
   "cell_type": "markdown",
   "id": "7f132864",
   "metadata": {},
   "source": [
    "### Empty Arrays"
   ]
  },
  {
   "cell_type": "code",
   "execution_count": 5,
   "id": "c7405a4e",
   "metadata": {},
   "outputs": [
    {
     "data": {
      "text/plain": [
       "Float64[]"
      ]
     },
     "execution_count": 5,
     "metadata": {},
     "output_type": "execute_result"
    }
   ],
   "source": [
    "v = Array{Float64}(undef,0)\n",
    "\n",
    "#equivalently\n",
    "v = Float64[]"
   ]
  },
  {
   "cell_type": "code",
   "execution_count": 7,
   "id": "9357d952",
   "metadata": {},
   "outputs": [
    {
     "data": {
      "text/plain": [
       "Any[]"
      ]
     },
     "execution_count": 7,
     "metadata": {},
     "output_type": "execute_result"
    }
   ],
   "source": [
    "v = []    \n",
    "# Same as Any[], and you can't change this type easily later (gotcha!)"
   ]
  },
  {
   "cell_type": "markdown",
   "id": "8a6fd7e5",
   "metadata": {},
   "source": [
    "### Initializing Special Kind of Arrays"
   ]
  },
  {
   "cell_type": "code",
   "execution_count": 9,
   "id": "56623f10",
   "metadata": {},
   "outputs": [
    {
     "data": {
      "text/plain": [
       "8×9 Matrix{Float64}:\n",
       " 1.0  1.0  1.0  1.0  1.0  1.0  1.0  1.0  1.0\n",
       " 1.0  1.0  1.0  1.0  1.0  1.0  1.0  1.0  1.0\n",
       " 1.0  1.0  1.0  1.0  1.0  1.0  1.0  1.0  1.0\n",
       " 1.0  1.0  1.0  1.0  1.0  1.0  1.0  1.0  1.0\n",
       " 1.0  1.0  1.0  1.0  1.0  1.0  1.0  1.0  1.0\n",
       " 1.0  1.0  1.0  1.0  1.0  1.0  1.0  1.0  1.0\n",
       " 1.0  1.0  1.0  1.0  1.0  1.0  1.0  1.0  1.0\n",
       " 1.0  1.0  1.0  1.0  1.0  1.0  1.0  1.0  1.0"
      ]
     },
     "execution_count": 9,
     "metadata": {},
     "output_type": "execute_result"
    }
   ],
   "source": [
    "A = zeros(8,9)\n",
    "B = ones(8,9)"
   ]
  },
  {
   "cell_type": "code",
   "execution_count": 10,
   "id": "87ad5767",
   "metadata": {},
   "outputs": [
    {
     "data": {
      "text/plain": [
       "6×6 Matrix{Float64}:\n",
       " 0.374532    0.935627   0.333787   0.129198  0.511899   0.433578\n",
       " 0.00663131  0.975375   0.0974613  0.324806  0.998135   0.230685\n",
       " 0.116451    0.408779   0.0168342  0.522805  0.468803   0.820298\n",
       " 0.891309    0.240661   0.288815   0.58787   0.0368627  0.679665\n",
       " 0.811252    0.0128873  0.168234   0.849058  0.946258   0.352248\n",
       " 0.418045    0.515145   0.0752789  0.470108  0.60111    0.665447"
      ]
     },
     "execution_count": 10,
     "metadata": {},
     "output_type": "execute_result"
    }
   ],
   "source": [
    "C = rand(6,6)"
   ]
  },
  {
   "cell_type": "code",
   "execution_count": 16,
   "id": "3f9a201f",
   "metadata": {},
   "outputs": [
    {
     "data": {
      "text/plain": [
       "2×2 Matrix{Float64}:\n",
       " 5.96519   0.885278\n",
       " 0.745939  5.82005"
      ]
     },
     "execution_count": 16,
     "metadata": {},
     "output_type": "execute_result"
    }
   ],
   "source": [
    "using LinearAlgebra\n",
    "M = 5I + rand(2,2)  # I is identity matrix\n",
    "\n"
   ]
  },
  {
   "cell_type": "markdown",
   "id": "f80c25be",
   "metadata": {},
   "source": [
    "reshape(A, dims): \n",
    "\n",
    "Create an array with the same data as the given array, but with different dimensions. \n",
    "\n",
    "An implementation for a particular type of array may choose whether the data is copied or shared."
   ]
  },
  {
   "cell_type": "code",
   "execution_count": 17,
   "id": "dcd16e35",
   "metadata": {
    "scrolled": true
   },
   "outputs": [
    {
     "data": {
      "text/plain": [
       "4-element Vector{Int64}:\n",
       "  1\n",
       "  4\n",
       "  9\n",
       " 16"
      ]
     },
     "execution_count": 17,
     "metadata": {},
     "output_type": "execute_result"
    }
   ],
   "source": [
    "v=[m^2 for m=1:4]"
   ]
  },
  {
   "cell_type": "code",
   "execution_count": 18,
   "id": "22d3b4e2",
   "metadata": {},
   "outputs": [
    {
     "data": {
      "text/plain": [
       "4×1 Matrix{Int64}:\n",
       "  1\n",
       "  4\n",
       "  9\n",
       " 16"
      ]
     },
     "execution_count": 18,
     "metadata": {},
     "output_type": "execute_result"
    }
   ],
   "source": [
    "reshape(v, length(v),1)"
   ]
  },
  {
   "cell_type": "markdown",
   "id": "ba91c429",
   "metadata": {},
   "source": [
    "### Arrays Functions and the Dot Operator"
   ]
  },
  {
   "cell_type": "code",
   "execution_count": 38,
   "id": "7703dc64",
   "metadata": {},
   "outputs": [
    {
     "data": {
      "text/plain": [
       "4-element Vector{Int64}:\n",
       "  1\n",
       "  4\n",
       "  9\n",
       " 16"
      ]
     },
     "execution_count": 38,
     "metadata": {},
     "output_type": "execute_result"
    }
   ],
   "source": [
    "v=[m^2 for m=1:4]"
   ]
  },
  {
   "cell_type": "code",
   "execution_count": 36,
   "id": "86cec1df",
   "metadata": {},
   "outputs": [
    {
     "data": {
      "text/plain": [
       "10"
      ]
     },
     "execution_count": 36,
     "metadata": {},
     "output_type": "execute_result"
    }
   ],
   "source": [
    "f(x)=1+x^2\n",
    "f(3)"
   ]
  },
  {
   "cell_type": "code",
   "execution_count": 40,
   "id": "de99de62",
   "metadata": {},
   "outputs": [],
   "source": [
    "# f(v) will result in error"
   ]
  },
  {
   "cell_type": "code",
   "execution_count": 41,
   "id": "5a050633",
   "metadata": {},
   "outputs": [
    {
     "data": {
      "text/plain": [
       "4-element Vector{Int64}:\n",
       "   2\n",
       "  17\n",
       "  82\n",
       " 257"
      ]
     },
     "execution_count": 41,
     "metadata": {},
     "output_type": "execute_result"
    }
   ],
   "source": [
    "f.(v) # use the dot operator to do component-wise operations"
   ]
  },
  {
   "cell_type": "code",
   "execution_count": 19,
   "id": "efd0c92b",
   "metadata": {},
   "outputs": [
    {
     "data": {
      "text/plain": [
       "30-element Vector{Float64}:\n",
       " 18.383886633134814\n",
       "  8.55770151410267\n",
       "  5.11671431742654\n",
       "  3.353333929033819\n",
       "  2.3082162000107957\n",
       "  1.6431863658206738\n",
       "  1.2015046969739323\n",
       "  0.8989201052199165\n",
       "  0.6862922515493683\n",
       "  0.5335238620487099\n",
       "  0.4215523758362779\n",
       "  0.3379828220140857\n",
       "  0.27457210010524075\n",
       "  ⋮\n",
       "  0.09779758771871808\n",
       "  0.08466293343637193\n",
       "  0.07375096045763396\n",
       "  0.0646159000414539\n",
       "  0.056913991216668146\n",
       "  0.05037752063018935\n",
       "  0.0447960758761785\n",
       "  0.04000285371284216\n",
       "  0.035864552856086473\n",
       "  0.03227383743757451\n",
       "  0.029143663711431032\n",
       "  0.026402970924539096"
      ]
     },
     "execution_count": 19,
     "metadata": {},
     "output_type": "execute_result"
    }
   ],
   "source": [
    "f(x)=3x^3/(1+x^2)\n",
    "x=[2π/n for n=1:30]\n",
    "y=f.(x)"
   ]
  },
  {
   "cell_type": "code",
   "execution_count": 20,
   "id": "aee643cb",
   "metadata": {},
   "outputs": [
    {
     "data": {
      "text/plain": [
       "30-element Vector{Float64}:\n",
       " -2.4492935982947064e-16\n",
       "  1.2246467991473532e-16\n",
       "  0.8660254037844387\n",
       "  1.0\n",
       "  0.9510565162951535\n",
       "  0.8660254037844386\n",
       "  0.7818314824680298\n",
       "  0.7071067811865475\n",
       "  0.6427876096865393\n",
       "  0.5877852522924731\n",
       "  0.5406408174555976\n",
       "  0.49999999999999994\n",
       "  0.4647231720437685\n",
       "  ⋮\n",
       "  0.32469946920468346\n",
       "  0.3090169943749474\n",
       "  0.2947551744109042\n",
       "  0.28173255684142967\n",
       "  0.2697967711570243\n",
       "  0.25881904510252074\n",
       "  0.2486898871648548\n",
       "  0.23931566428755774\n",
       "  0.23061587074244017\n",
       "  0.2225209339563144\n",
       "  0.21497044021102407\n",
       "  0.20791169081775931"
      ]
     },
     "execution_count": 20,
     "metadata": {},
     "output_type": "execute_result"
    }
   ],
   "source": [
    "y=sin.(x)"
   ]
  },
  {
   "cell_type": "code",
   "execution_count": 21,
   "id": "ffa68459",
   "metadata": {},
   "outputs": [
    {
     "data": {
      "text/plain": [
       "30-element Vector{Float64}:\n",
       "     -4.828671033653536e6\n",
       " -18039.263768983117\n",
       "   -610.7857528421777\n",
       "    -40.50500091388652\n",
       "      0.12239075156841928\n",
       "      3.0788623155395416\n",
       "      2.5165970179806223\n",
       "      1.8406756088311296\n",
       "      1.3594357907060943\n",
       "      1.0347659706787375\n",
       "      0.812285884726568\n",
       "      0.6550760528496817\n",
       "      0.5403678534183181\n",
       "      ⋮\n",
       "      0.23029553231945027\n",
       "      0.20638290794502417\n",
       "      0.1861052313390679\n",
       "      0.16874585207464307\n",
       "      0.15375911701431397\n",
       "      0.14072317776024484\n",
       "      0.12930739401638117\n",
       "      0.1192493881563927\n",
       "      0.11033861036842828\n",
       "      0.10240437795375669\n",
       "      0.09530704253783058\n",
       "      0.08893137900051265"
      ]
     },
     "execution_count": 21,
     "metadata": {},
     "output_type": "execute_result"
    }
   ],
   "source": [
    "y=2x.^2+3x.^5-2x.^8\n",
    "\n",
    "#equivalently\n",
    "y = @. 2x^2 + 3x^5 - 2x^8"
   ]
  },
  {
   "cell_type": "markdown",
   "id": "669fe8f0",
   "metadata": {},
   "source": [
    "### Array Indexing and Slicing"
   ]
  },
  {
   "cell_type": "code",
   "execution_count": 25,
   "id": "00bcf42a",
   "metadata": {},
   "outputs": [
    {
     "data": {
      "text/plain": [
       "0.6550600885623967"
      ]
     },
     "execution_count": 25,
     "metadata": {},
     "output_type": "execute_result"
    }
   ],
   "source": [
    "#Getting the First and Last Elements of an Array\n",
    "A = rand(6)\n",
    "A[begin]\n",
    "A[end]"
   ]
  },
  {
   "cell_type": "code",
   "execution_count": 26,
   "id": "0b2869bb",
   "metadata": {},
   "outputs": [
    {
     "data": {
      "text/plain": [
       "3×3 Matrix{Float64}:\n",
       " 0.546931  0.437958  0.136723\n",
       " 0.267931  0.906242  0.930061\n",
       " 0.405945  0.139214  0.880401"
      ]
     },
     "execution_count": 26,
     "metadata": {},
     "output_type": "execute_result"
    }
   ],
   "source": [
    "#Array slicing\n",
    "\n",
    "A = rand(6,6)                   # 6×6 Matrix{Float64}\n",
    "B = A[begin:2:end,begin:2:end]  # 3×3 Matrix{Float64}\n",
    "C = A[1:2:5,1:2:5]              # Same as B\n",
    "\n",
    "\n",
    "#extract the odd indices in both dimensions from a 6x6 matrix"
   ]
  },
  {
   "cell_type": "code",
   "execution_count": 39,
   "id": "ae272778",
   "metadata": {},
   "outputs": [
    {
     "data": {
      "text/plain": [
       "14-element view(::Vector{Float64}, [4, 11, 13, 14, 15, 16, 18, 20, 23, 24, 25, 26, 27, 36]) with eltype Float64:\n",
       " 0.0\n",
       " 0.0\n",
       " 0.0\n",
       " 0.0\n",
       " 0.0\n",
       " 0.0\n",
       " 0.0\n",
       " 0.0\n",
       " 0.0\n",
       " 0.0\n",
       " 0.0\n",
       " 0.0\n",
       " 0.0\n",
       " 0.0"
      ]
     },
     "execution_count": 39,
     "metadata": {},
     "output_type": "execute_result"
    }
   ],
   "source": [
    "#Logical Indexing\n",
    "\n",
    "A = rand(6,6)\n",
    "A[ A .< 0.5 ] .= 0"
   ]
  },
  {
   "cell_type": "code",
   "execution_count": 43,
   "id": "663423f5",
   "metadata": {},
   "outputs": [
    {
     "name": "stdout",
     "output_type": "stream",
     "text": [
      "i=1 A[i]=0.9396607664183484\n",
      "i=2 A[i]=0.06519835134888474\n",
      "i=3 A[i]=0.5194982688443012\n",
      "i=4 A[i]=0.5646422721796814\n",
      "i=5 A[i]=0.3165955046362062\n",
      "i=6 A[i]=0.8746148965351791\n"
     ]
    }
   ],
   "source": [
    "#Iterating over an Array\n",
    "\n",
    "A = rand(6)\n",
    "\n",
    "for i ∈ eachindex(A)\n",
    "    println(string(\"i=$(i) A[i]=$(A[i])\"))\n",
    "end"
   ]
  },
  {
   "cell_type": "code",
   "execution_count": 44,
   "id": "dc39f9f6",
   "metadata": {},
   "outputs": [
    {
     "name": "stdout",
     "output_type": "stream",
     "text": [
      "i=1 j=1 A[i,j]=0.7589050316671616\n",
      "i=1 j=2 A[i,j]=0.2715284440568917\n",
      "i=1 j=3 A[i,j]=0.08046459458857358\n",
      "i=1 j=4 A[i,j]=0.1874029352919171\n",
      "i=1 j=5 A[i,j]=0.11548720496227072\n",
      "i=1 j=6 A[i,j]=0.28524058796665386\n",
      "i=2 j=1 A[i,j]=0.7918079393396654\n",
      "i=2 j=2 A[i,j]=0.994804200492013\n",
      "i=2 j=3 A[i,j]=0.8570134533731139\n",
      "i=2 j=4 A[i,j]=0.7887167835402186\n",
      "i=2 j=5 A[i,j]=0.8693429546121599\n",
      "i=2 j=6 A[i,j]=0.20764182342502036\n",
      "i=3 j=1 A[i,j]=0.1789378017744615\n",
      "i=3 j=2 A[i,j]=0.6348187869159236\n",
      "i=3 j=3 A[i,j]=0.4079413875412127\n",
      "i=3 j=4 A[i,j]=0.33869734560543685\n",
      "i=3 j=5 A[i,j]=0.7903684288930819\n",
      "i=3 j=6 A[i,j]=0.99569100667861\n",
      "i=4 j=1 A[i,j]=0.2859057732224768\n",
      "i=4 j=2 A[i,j]=0.7108309731033983\n",
      "i=4 j=3 A[i,j]=0.42387365349689154\n",
      "i=4 j=4 A[i,j]=0.2873249618061282\n",
      "i=4 j=5 A[i,j]=0.033734317058262575\n",
      "i=4 j=6 A[i,j]=0.43359140627338444\n",
      "i=5 j=1 A[i,j]=0.839888955590691\n",
      "i=5 j=2 A[i,j]=0.5588561327741542\n",
      "i=5 j=3 A[i,j]=0.9302212347361206\n",
      "i=5 j=4 A[i,j]=0.9544408076707857\n",
      "i=5 j=5 A[i,j]=0.9568394275093488\n",
      "i=5 j=6 A[i,j]=0.7473435300217445\n",
      "i=6 j=1 A[i,j]=0.5984862947160037\n",
      "i=6 j=2 A[i,j]=0.17208695409213193\n",
      "i=6 j=3 A[i,j]=0.5644628081857481\n",
      "i=6 j=4 A[i,j]=0.38979658068692014\n",
      "i=6 j=5 A[i,j]=0.3688770081699666\n",
      "i=6 j=6 A[i,j]=0.23918891337368198\n"
     ]
    }
   ],
   "source": [
    "A = rand(6,6)\n",
    "for i ∈ 1:size(A,1), j ∈ 1:size(A,2)\n",
    "    println(string(\"i=$(i) j=$(j) A[i,j]=$(A[i,j])\"))\n",
    "end\n"
   ]
  },
  {
   "cell_type": "code",
   "execution_count": 45,
   "id": "9a122ae4",
   "metadata": {},
   "outputs": [
    {
     "name": "stdout",
     "output_type": "stream",
     "text": [
      "i=1 j=1 A[i,j]=0.946929154710519\n",
      "i=1 j=2 A[i,j]=0.5392428660948878\n",
      "i=1 j=3 A[i,j]=0.06929211708383087\n",
      "i=1 j=4 A[i,j]=0.41952862330883656\n",
      "i=1 j=5 A[i,j]=0.7561952988939874\n",
      "i=1 j=6 A[i,j]=0.7611772324103708\n",
      "i=2 j=1 A[i,j]=0.5942050170335118\n",
      "i=2 j=2 A[i,j]=0.9095290933474657\n",
      "i=2 j=3 A[i,j]=0.9724581073247426\n",
      "i=2 j=4 A[i,j]=0.3251550838952696\n",
      "i=2 j=5 A[i,j]=0.6547646038482829\n",
      "i=2 j=6 A[i,j]=0.6115211551345126\n",
      "i=3 j=1 A[i,j]=0.6890959016399616\n",
      "i=3 j=2 A[i,j]=0.2801898492084315\n",
      "i=3 j=3 A[i,j]=0.5287606198333604\n",
      "i=3 j=4 A[i,j]=0.9392166904363235\n",
      "i=3 j=5 A[i,j]=0.5291064438603276\n",
      "i=3 j=6 A[i,j]=0.5067635913543151\n",
      "i=4 j=1 A[i,j]=0.8878342925169779\n",
      "i=4 j=2 A[i,j]=0.5060978291500887\n",
      "i=4 j=3 A[i,j]=0.5695655050528173\n",
      "i=4 j=4 A[i,j]=0.8942749359637817\n",
      "i=4 j=5 A[i,j]=0.7739665838829417\n",
      "i=4 j=6 A[i,j]=0.5209437260881647\n",
      "i=5 j=1 A[i,j]=0.558884580515848\n",
      "i=5 j=2 A[i,j]=0.49527066317499946\n",
      "i=5 j=3 A[i,j]=0.3580310634153947\n",
      "i=5 j=4 A[i,j]=0.7446024240739765\n",
      "i=5 j=5 A[i,j]=0.5599012344063413\n",
      "i=5 j=6 A[i,j]=0.8921334368716423\n",
      "i=6 j=1 A[i,j]=0.4063529556437736\n",
      "i=6 j=2 A[i,j]=0.970777304884483\n",
      "i=6 j=3 A[i,j]=0.6355148821226354\n",
      "i=6 j=4 A[i,j]=0.8542890376149168\n",
      "i=6 j=5 A[i,j]=0.011057826386069114\n",
      "i=6 j=6 A[i,j]=0.09501214483974119\n"
     ]
    }
   ],
   "source": [
    "A = rand(6,6)\n",
    "for i ∈ axes(A,1), j ∈ axes(A,2)\n",
    "    println(string(\"i=$(i) j=$(j) A[i,j]=$(A[i,j])\"))\n",
    "end"
   ]
  },
  {
   "cell_type": "markdown",
   "id": "4b196f3f",
   "metadata": {},
   "source": [
    "- `firstindex(A,dim)`\n",
    "- `lastindex(A,dim)`\n",
    "- `similar(Array{Float64}, axes(A))` to allocate an array with the same indices as A."
   ]
  },
  {
   "cell_type": "markdown",
   "id": "18ff7c0c",
   "metadata": {},
   "source": [
    "### Array Operations"
   ]
  },
  {
   "cell_type": "code",
   "execution_count": 59,
   "id": "3ec3021e",
   "metadata": {},
   "outputs": [
    {
     "data": {
      "text/plain": [
       "2×2 Matrix{Float64}:\n",
       " 0.1  0.2\n",
       " 0.3  0.4"
      ]
     },
     "execution_count": 59,
     "metadata": {},
     "output_type": "execute_result"
    }
   ],
   "source": [
    "A=[1 2\n",
    "   3 4]\n",
    "B=[0.1 0.2\n",
    "   0.3 0.4]"
   ]
  },
  {
   "cell_type": "code",
   "execution_count": 45,
   "id": "df528268",
   "metadata": {},
   "outputs": [
    {
     "data": {
      "text/plain": [
       "2×2 Matrix{Float64}:\n",
       " 0.7  1.0\n",
       " 1.5  2.2"
      ]
     },
     "execution_count": 45,
     "metadata": {},
     "output_type": "execute_result"
    }
   ],
   "source": [
    "A*B"
   ]
  },
  {
   "cell_type": "code",
   "execution_count": 46,
   "id": "c0cc384b",
   "metadata": {},
   "outputs": [
    {
     "data": {
      "text/plain": [
       "2×2 Matrix{Float64}:\n",
       " 0.1  0.4\n",
       " 0.9  1.6"
      ]
     },
     "execution_count": 46,
     "metadata": {},
     "output_type": "execute_result"
    }
   ],
   "source": [
    "A.*B # elt-wise operations"
   ]
  },
  {
   "cell_type": "code",
   "execution_count": 52,
   "id": "4e9e741a",
   "metadata": {},
   "outputs": [
    {
     "data": {
      "text/plain": [
       "252.27145329935905"
      ]
     },
     "execution_count": 52,
     "metadata": {},
     "output_type": "execute_result"
    }
   ],
   "source": [
    "# dot product\n",
    "\n",
    "v=rand(1000)\n",
    "w=rand(1000)\n",
    "z=dot(v,w)\n",
    "\n",
    "#equivalently\n",
    "z=v'w"
   ]
  },
  {
   "cell_type": "markdown",
   "id": "d606c5be",
   "metadata": {},
   "source": [
    "1xN matrices are not the same as N-element vectors."
   ]
  },
  {
   "cell_type": "code",
   "execution_count": 60,
   "id": "e4adb27b",
   "metadata": {},
   "outputs": [
    {
     "ename": "LoadError",
     "evalue": "DimensionMismatch(\"arguments must have the same number of rows\")",
     "output_type": "error",
     "traceback": [
      "DimensionMismatch(\"arguments must have the same number of rows\")",
      "",
      "Stacktrace:",
      " [1] \\(F::LU{Float64, Matrix{Float64}}, B::Vector{Float64})",
      "   @ LinearAlgebra /Applications/Julia-1.7.app/Contents/Resources/julia/share/julia/stdlib/v1.7/LinearAlgebra/src/LinearAlgebra.jl:430",
      " [2] \\(A::Matrix{Int64}, B::Vector{Float64})",
      "   @ LinearAlgebra /Applications/Julia-1.7.app/Contents/Resources/julia/share/julia/stdlib/v1.7/LinearAlgebra/src/generic.jl:1142",
      " [3] top-level scope",
      "   @ In[60]:5"
     ]
    }
   ],
   "source": [
    "b1 = [4.0, 5, 6]                # 3-element Vector{Float64}\n",
    "b2 = [4.0; 5; 6]                # 3-element Vector{Float64}\n",
    "m1 = [4.0 5 6]                  # 1×3 Matrix{Float64}\n",
    "\n",
    "x=A\\b1                          # Solves A*x=b\n",
    "x=A\\b2                          # Solves A*x=b  \n",
    "# x=A\\m1                          # Error!!"
   ]
  },
  {
   "cell_type": "markdown",
   "id": "6d92d2f8",
   "metadata": {},
   "source": [
    "### Resizing and Concatenating Arrays"
   ]
  },
  {
   "cell_type": "code",
   "execution_count": 62,
   "id": "794bf935",
   "metadata": {},
   "outputs": [
    {
     "data": {
      "text/plain": [
       "3.0"
      ]
     },
     "execution_count": 62,
     "metadata": {},
     "output_type": "execute_result"
    }
   ],
   "source": [
    "A = Float64[]       # Equivalent to A=Array{Float64}(undef,0)\n",
    "push!(A, 4)         # Adds the number 4 at the end of the array\n",
    "push!(A, 3)         # Adds the number 3 at the end of the array\n",
    "v = pop!(A)         # Returns 3 and removes it from A"
   ]
  },
  {
   "cell_type": "markdown",
   "id": "a39b9ca4",
   "metadata": {},
   "source": [
    "`pushfirst!`, and `popfirst!` which work on the beginning of the array \n",
    "\n",
    "as opposed to the end. \n",
    "\n",
    "Additionally, the function `splice!(A,i)` and `deleteat!(A,i)` \n",
    "\n",
    "will incorporates (resp. delete) an element at a given position i.\n",
    "\n"
   ]
  },
  {
   "cell_type": "markdown",
   "id": "97a3f6dd",
   "metadata": {},
   "source": [
    "we can resort to `hcat`, `vcat`, and `cat` functions, \n",
    "\n",
    "to concatenate in the horizontal, vertical, \n",
    "\n",
    "or along any given dimension."
   ]
  },
  {
   "cell_type": "code",
   "execution_count": 63,
   "id": "617a88fd",
   "metadata": {},
   "outputs": [
    {
     "data": {
      "text/plain": [
       "1×6 Matrix{Int64}:\n",
       " 4  5  6  6  7  8"
      ]
     },
     "execution_count": 63,
     "metadata": {},
     "output_type": "execute_result"
    }
   ],
   "source": [
    "A = [4 5 6] \n",
    "B = [6 7 8] \n",
    "\n",
    "M1 = vcat(A, B)\n",
    "\n",
    "\n",
    "M2 = hcat(A, B)\n"
   ]
  },
  {
   "cell_type": "code",
   "execution_count": 64,
   "id": "d5a4f5d0",
   "metadata": {},
   "outputs": [
    {
     "data": {
      "text/plain": [
       "1×3×2 Array{Int64, 3}:\n",
       "[:, :, 1] =\n",
       " 4  5  6\n",
       "\n",
       "[:, :, 2] =\n",
       " 6  7  8"
      ]
     },
     "execution_count": 64,
     "metadata": {},
     "output_type": "execute_result"
    }
   ],
   "source": [
    "M1 = cat(A, B, dims=1)\n",
    "M2 = cat(A, B, dims=2)\n",
    "M3 = cat(A, B, dims=3)"
   ]
  },
  {
   "cell_type": "code",
   "execution_count": 67,
   "id": "b50025f7",
   "metadata": {},
   "outputs": [
    {
     "data": {
      "text/plain": [
       "1×6 Matrix{Int64}:\n",
       " 4  5  6  6  7  8"
      ]
     },
     "execution_count": 67,
     "metadata": {},
     "output_type": "execute_result"
    }
   ],
   "source": [
    "### Concatenating Matrices\n",
    "\n",
    "M1 = [A; B]\n",
    "\n",
    "M2 = [A B]"
   ]
  },
  {
   "cell_type": "markdown",
   "id": "2bb341f5",
   "metadata": {},
   "source": [
    "## Data Structures"
   ]
  }
 ],
 "metadata": {
  "kernelspec": {
   "display_name": "Julia 1.7.2",
   "language": "julia",
   "name": "julia-1.7"
  },
  "language_info": {
   "file_extension": ".jl",
   "mimetype": "application/julia",
   "name": "julia",
   "version": "1.7.2"
  }
 },
 "nbformat": 4,
 "nbformat_minor": 5
}
